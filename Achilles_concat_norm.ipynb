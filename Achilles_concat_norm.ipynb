{
 "cells": [
  {
   "cell_type": "markdown",
   "id": "9e707a22",
   "metadata": {},
   "source": [
    "## Aim: use scVI to integrate Achilles tendon data"
   ]
  },
  {
   "cell_type": "code",
   "execution_count": null,
   "id": "086de8eb",
   "metadata": {},
   "outputs": [],
   "source": [
    "# Import dependencies\n",
    "%matplotlib inline\n",
    "import os\n",
    "import numpy as np\n",
    "import pandas as pd\n",
    "import scanpy as sc\n",
    "import scanpy.external as sce\n",
    "import seaborn as sns\n",
    "import anndata\n",
    "import matplotlib.pyplot as plt\n",
    "import yaml\n",
    "\n",
    "# Print date and time:\n",
    "import datetime\n",
    "e = datetime.datetime.now()\n",
    "print (\"Current date and time = %s\" % e)\n",
    "\n",
    "# Set other settings\n",
    "sc.settings.verbosity = 3 # verbosity: errors (0), warnings (1), info (2), hints (3)\n",
    "sc.logging.print_versions()\n",
    "sc.set_figure_params(dpi=150, fontsize=10, dpi_save=600)"
   ]
  },
  {
   "cell_type": "code",
   "execution_count": null,
   "id": "bb3c0494",
   "metadata": {},
   "outputs": [],
   "source": [
    "# set a working directory\n",
    "wdir = '/project/tendonhca/ccohen/chromium/analysis/20240221_achilles_python'\n",
    "os.chdir( wdir )\n",
    "\n",
    "# create an output directory with today's date and time\n",
    "year = e.strftime(\"%Y\")\n",
    "month = e.strftime(\"%m\")\n",
    "day = e.strftime(\"%d\")\n",
    "hour = e.strftime('%H')\n",
    "minute = e.strftime('%M')\n",
    "dmyt = f'{year}{month}{day}_{hour}-{minute}'\n",
    "directory = f'{dmyt}_concat_norm.dir'\n",
    "\n",
    "# folder structures\n",
    "RESULTS_FOLDERNAME = f'{directory}/results/'\n",
    "FIGURES_FOLDERNAME = f'{directory}/figures/'\n",
    "\n",
    "if not os.path.exists(RESULTS_FOLDERNAME):\n",
    "    os.makedirs(RESULTS_FOLDERNAME)\n",
    "if not os.path.exists(FIGURES_FOLDERNAME):\n",
    "    os.makedirs(FIGURES_FOLDERNAME)\n",
    "    \n",
    "# Set folder for saving figures into\n",
    "sc.settings.figdir = FIGURES_FOLDERNAME\n",
    "\n",
    "directory"
   ]
  },
  {
   "cell_type": "code",
   "execution_count": null,
   "id": "7e9e2db2",
   "metadata": {},
   "outputs": [],
   "source": [
    "# read in the yaml file \n",
    "ini = yaml.safe_load(open('concat_norm.yaml'))\n",
    "print(yaml.safe_dump(ini))\n",
    "\n",
    "# list items in the data directory\n",
    "os.listdir(ini['datadir'])"
   ]
  },
  {
   "cell_type": "markdown",
   "id": "5e322aba",
   "metadata": {},
   "source": [
    "Read in the objects as a dictionary"
   ]
  },
  {
   "cell_type": "code",
   "execution_count": null,
   "id": "18113f1b",
   "metadata": {},
   "outputs": [],
   "source": [
    "adata_dict = {}\n",
    "for file in os.listdir(ini['datadir']):\n",
    "    name = file.replace('.h5ad', '')\n",
    "    print(name)\n",
    "    file_path = os.path.join(ini['datadir'], file)\n",
    "    # print(file_path)\n",
    "    adata = sc.read_h5ad(file_path)\n",
    "    adata_dict[name] = adata\n",
    "adata_dict"
   ]
  },
  {
   "cell_type": "code",
   "execution_count": null,
   "id": "ee407d1d",
   "metadata": {},
   "outputs": [],
   "source": [
    "# plot the individual umaps (sanity check that conversion has been performed correctly)\n",
    "if not os.path.exists(os.path.join(FIGURES_FOLDERNAME, \"umap_individual\")):\n",
    "    os.makedirs(os.path.join(FIGURES_FOLDERNAME, \"umap_individual\"))\n",
    "for key, adata in adata_dict.items():\n",
    "    print(key)\n",
    "    #savename = f'{key}.png'\n",
    "    sc.pl.umap(adata, color = 'seurat_clusters', save = f'_individual/umap_{key}.png', title = key)"
   ]
  },
  {
   "cell_type": "code",
   "execution_count": null,
   "id": "d771e7bc",
   "metadata": {},
   "outputs": [],
   "source": [
    "# plot the individual pcas\n",
    "if not os.path.exists(os.path.join(FIGURES_FOLDERNAME, \"pca_individual\")):\n",
    "    os.makedirs(os.path.join(FIGURES_FOLDERNAME, \"pca_individual\"))\n",
    "for key, adata in adata_dict.items():\n",
    "    print(key)\n",
    "    sc.pl.pca(adata, color = 'seurat_clusters', save = f'_individual/pca_{key}.png', title = key)"
   ]
  },
  {
   "cell_type": "code",
   "execution_count": null,
   "id": "c5c47938",
   "metadata": {},
   "outputs": [],
   "source": [
    "# check the matrices of one object in adata_dit\n",
    "print(adata_dict['MSK0785-Ach-MB'].X.max(axis = None))\n",
    "print(adata_dict['MSK0785-Ach-MB'].layers['counts'].max(axis = None))\n",
    "print(adata_dict['MSK0785-Ach-MB'].layers['soupX'].max(axis = None))\n",
    "# X is currently counts"
   ]
  },
  {
   "cell_type": "code",
   "execution_count": null,
   "id": "cf7f7359",
   "metadata": {},
   "outputs": [],
   "source": [
    "# concatenate the adata_dict\n",
    "\n",
    "def concat_filtered_adatafiles(filtered_adata_dict):\n",
    "    # Extract the values (anndata objects) from the dictionary\n",
    "    adata_list = list(filtered_adata_dict.values())\n",
    "    \n",
    "    # Concatenate the anndata objects\n",
    "    adata_concat = anndata.concat(\n",
    "        adata_list,\n",
    "        join='outer',\n",
    "        index_unique=None      # Optional: specify a custom index unique function\n",
    "    )\n",
    "    \n",
    "    return adata_concat"
   ]
  },
  {
   "cell_type": "code",
   "execution_count": null,
   "id": "ac51c195",
   "metadata": {},
   "outputs": [],
   "source": [
    "adata_concat = concat_filtered_adatafiles(adata_dict)\n",
    "adata_concat"
   ]
  },
  {
   "cell_type": "code",
   "execution_count": null,
   "id": "08bd5289",
   "metadata": {},
   "outputs": [],
   "source": [
    "# make names unique\n",
    "adata_concat.obs_names_make_unique()\n",
    "adata_concat.obs"
   ]
  },
  {
   "cell_type": "code",
   "execution_count": null,
   "id": "bd98bd9f",
   "metadata": {},
   "outputs": [],
   "source": [
    "#check the layers\n",
    "print(adata_concat.X[0:50,0:50].todense())\n",
    "print(adata_concat.layers['counts'][0:50,0:50].todense())\n",
    "print(adata_concat.layers['logcounts'][0:50,0:50].todense())"
   ]
  },
  {
   "cell_type": "code",
   "execution_count": null,
   "id": "6261c706",
   "metadata": {},
   "outputs": [],
   "source": [
    "# remove existing pca and umap from the concatenated object\n",
    "del adata_concat.obsm['pca'], adata_concat.obsm['umap']"
   ]
  },
  {
   "cell_type": "code",
   "execution_count": null,
   "id": "3d7ac580",
   "metadata": {},
   "outputs": [],
   "source": [
    "# remove the previously calculated lognorm layer\n",
    "del adata_concat.layers['logcounts']"
   ]
  },
  {
   "cell_type": "code",
   "execution_count": null,
   "id": "588236a8",
   "metadata": {},
   "outputs": [],
   "source": [
    "# add a column in the metadata for patient + sequencing date\n",
    "adata_concat.obs['patient.seqbatch'] = adata_concat.obs[['patient', 'sequencing_date']].agg('_'.join, axis = 1)"
   ]
  },
  {
   "cell_type": "code",
   "execution_count": null,
   "id": "59d70237",
   "metadata": {},
   "outputs": [],
   "source": [
    "adata_concat.obs.columns"
   ]
  },
  {
   "cell_type": "code",
   "execution_count": null,
   "id": "22c831b7",
   "metadata": {},
   "outputs": [],
   "source": [
    "# remove surplus obs columns\n",
    "adata_concat.obs.drop(columns=['subsets_mito_sum',\n",
    "       'subsets_mito_detected', 'decontX_clusters', 'scDblFinder.cluster',\n",
    "       'scDblFinder.score', 'scDblFinder.weighted',\n",
    "       'scDblFinder.difficulty', 'scDblFinder.cxds_score',\n",
    "       'scDblFinder.mostLikelyOrigin', 'scDblFinder.originAmbiguous',\n",
    "       'patient.seqbatch', 'n_genes'], inplace=True)"
   ]
  },
  {
   "cell_type": "code",
   "execution_count": null,
   "id": "465f30de",
   "metadata": {},
   "outputs": [],
   "source": [
    "# if required, set X to be the soupX matrix\n",
    "# for downstream scVI, then leave X as counts\n",
    "# adata_concat.X = adata_concat.layers['soupX'].copy()"
   ]
  },
  {
   "cell_type": "code",
   "execution_count": null,
   "id": "d5d14847",
   "metadata": {},
   "outputs": [],
   "source": [
    "# filter out lowly expressed genes (from Alina)\n",
    "sc.pp.filter_genes(adata_concat, min_counts=30, inplace=True)\n",
    "sc.pp.filter_cells(adata_concat, min_genes=200)"
   ]
  },
  {
   "cell_type": "code",
   "execution_count": null,
   "id": "97ccf032",
   "metadata": {},
   "outputs": [],
   "source": [
    "adata_concat"
   ]
  },
  {
   "cell_type": "code",
   "execution_count": null,
   "id": "b47225ac",
   "metadata": {},
   "outputs": [],
   "source": [
    "# calculate hvg\n",
    "sc.pp.highly_variable_genes(adata_concat, \n",
    "                            n_top_genes= ini['variable_genes']['n_genes'], \n",
    "                            flavor=ini['variable_genes']['flavor'], \n",
    "                            batch_key=ini['variable_genes']['batch'], \n",
    "                            subset = False)"
   ]
  },
  {
   "cell_type": "code",
   "execution_count": null,
   "id": "11eb0f9d",
   "metadata": {},
   "outputs": [],
   "source": [
    "# plot hvg\n",
    "sc.pl.highly_variable_genes(adata_concat)"
   ]
  },
  {
   "cell_type": "code",
   "execution_count": null,
   "id": "4fc7febd",
   "metadata": {},
   "outputs": [],
   "source": [
    "# check how many batches each gene was variable in\n",
    "\n",
    "n_batches = adata_concat.var[\"highly_variable_nbatches\"].value_counts()\n",
    "ax = n_batches.plot(kind=\"bar\")\n",
    "n_batches"
   ]
  },
  {
   "cell_type": "code",
   "execution_count": null,
   "id": "f06e0ba6",
   "metadata": {},
   "outputs": [],
   "source": [
    "# plot_dispersions_by_parameter\n",
    "def plot_dispersions_by_parameter(adata, countslayers, splitparameter, log_scale=False):\n",
    "    num_rows = 1\n",
    "    num_cols = 2\n",
    "\n",
    "    fig, axes = plt.subplots(num_rows, num_cols, figsize=(10, 5))\n",
    "    \n",
    "    for idx, layer in enumerate(countslayers):\n",
    "        for batch in adata.obs[splitparameter].cat.categories:  # these are the library batches\n",
    "            adata_batch = adata[adata.obs[splitparameter] == batch, :] # this selects the cells in one batch\n",
    "            mean_counts = np.mean(adata_batch.layers[layer].toarray(), axis=0) \n",
    "                # convert the count matrix to an array and calc the mean of each column (for each gene)\n",
    "            variance = np.var(adata_batch.layers[layer].toarray(), axis=0) \n",
    "                # calc the variance of each column the count matrix (for each gene)\n",
    "            coefficient_of_variation = (np.sqrt(variance) / mean_counts) * 100\n",
    "\n",
    "            ax = axes[idx]\n",
    "            ax.scatter(mean_counts, coefficient_of_variation, # make scatter plot\n",
    "                       label=f'Batch {batch}', edgecolors='none')\n",
    "\n",
    "            ax.set_xlabel('Mean Counts')\n",
    "            ax.set_ylabel('Coefficient of Variation (%)')\n",
    "            if log_scale:\n",
    "                ax.set_xscale('log')\n",
    "                ax.set_yscale('log')\n",
    "                ax.set_xlabel('Log Mean Counts')\n",
    "                ax.set_ylabel('Log CV')\n",
    "            ax.set_title(f'Mean-CV Plot ({layer})')\n",
    "            ax.legend()\n",
    "\n",
    "        plt.tight_layout()\n",
    "        plt.show()"
   ]
  },
  {
   "cell_type": "code",
   "execution_count": null,
   "id": "f0423e63",
   "metadata": {},
   "outputs": [],
   "source": [
    "plot_dispersions_by_parameter(adata_concat, ['counts'], 'sample', log_scale=True)"
   ]
  },
  {
   "cell_type": "code",
   "execution_count": null,
   "id": "ec565012",
   "metadata": {},
   "outputs": [],
   "source": [
    "# normalise using delta method\n",
    "sc.pp.normalize_total(adata_concat, target_sum=None, inplace=True)\n",
    "sc.pp.log1p(adata_concat)\n",
    "print(adata_concat.X[0:10, 0:10])"
   ]
  },
  {
   "cell_type": "code",
   "execution_count": null,
   "id": "da6ee071",
   "metadata": {},
   "outputs": [],
   "source": [
    "# use the log1PF layer as X\n",
    "adata_concat.layers[\"log1p_norm\"] = adata_concat.X.copy()"
   ]
  },
  {
   "cell_type": "code",
   "execution_count": null,
   "id": "fe7011ce",
   "metadata": {},
   "outputs": [],
   "source": [
    "# scale the data\n",
    "sc.pp.scale(adata_concat) # scale the data in X\n",
    "print(adata_concat.X[0:5,0:5])"
   ]
  },
  {
   "cell_type": "code",
   "execution_count": null,
   "id": "091d12cd",
   "metadata": {},
   "outputs": [],
   "source": [
    "# save the scaled data as a new layer\n",
    "adata_concat.layers['scaled'] = adata_concat.X.copy()"
   ]
  },
  {
   "cell_type": "code",
   "execution_count": null,
   "id": "1224a48f",
   "metadata": {},
   "outputs": [],
   "source": [
    "# calculate PCA\n",
    "sc.pp.pca(adata_concat, n_comps=40, svd_solver=\"arpack\")"
   ]
  },
  {
   "cell_type": "code",
   "execution_count": null,
   "id": "056bffdb",
   "metadata": {},
   "outputs": [],
   "source": [
    "#plot PCA loadings\n",
    "sc.pl.pca_loadings(adata_concat, components='1,2,3,4,5,6,7,8')"
   ]
  },
  {
   "cell_type": "code",
   "execution_count": null,
   "id": "152b23ab",
   "metadata": {},
   "outputs": [],
   "source": [
    "# plot the PCA\n",
    "sc.pl.pca(adata_concat, color=['sample', 'sex', 'age', 'sum', 'microanatomical_site', 'patient', 'sequencing_date'],\n",
    "          ncols=2, wspace=0.7,\n",
    "          frameon=False)"
   ]
  },
  {
   "cell_type": "code",
   "execution_count": null,
   "id": "78427095",
   "metadata": {},
   "outputs": [],
   "source": [
    "# elbow plot\n",
    "sc.pl.pca_variance_ratio(adata_concat, n_pcs=40, log=True)"
   ]
  },
  {
   "cell_type": "code",
   "execution_count": null,
   "id": "8b0c1d70",
   "metadata": {},
   "outputs": [],
   "source": [
    "# calculate neighbours and umap\n",
    "sc.pp.neighbors(adata_concat, use_rep='X_pca', n_neighbors=15, n_pcs=ini['neighbours']['n_pcs'])\n",
    "# n_neighbours is 15 by default, this will affect the granularity of the nn graph\n",
    "# using 20 PCs to match Harmony\n",
    "sc.tl.umap(adata_concat)"
   ]
  },
  {
   "cell_type": "code",
   "execution_count": null,
   "id": "37ebb516",
   "metadata": {},
   "outputs": [],
   "source": [
    "sc.pl.umap(adata_concat, color=['sex', 'age', 'sum', 'microanatomical_site', 'patient', 'sequencing_date'],\n",
    "           ncols=2, wspace=0.5, save='_unintegrated.png', frameon=False)"
   ]
  },
  {
   "cell_type": "code",
   "execution_count": null,
   "id": "6d261b61",
   "metadata": {},
   "outputs": [],
   "source": [
    "sc.pl.umap(adata_concat, color='sample',\n",
    "           ncols=2, wspace=0.5, save='_unintegrated_sample.svg', frameon=False)"
   ]
  },
  {
   "cell_type": "code",
   "execution_count": null,
   "id": "9fd71b32",
   "metadata": {},
   "outputs": [],
   "source": [
    "adata_concat"
   ]
  },
  {
   "cell_type": "code",
   "execution_count": null,
   "id": "5a0e6720",
   "metadata": {},
   "outputs": [],
   "source": [
    "# save the concatenated object\n",
    "path = os.path.join(RESULTS_FOLDERNAME, 'merged_normalised.h5ad')\n",
    "adata_concat.write(path)\n"
   ]
  },
  {
   "cell_type": "code",
   "execution_count": null,
   "id": "821c7c37",
   "metadata": {},
   "outputs": [],
   "source": [
    "# for testing, subset the object to only 2 samples\n",
    "adata_subset = adata_concat[(adata_concat.obs['sample'] == 'MSK0785-Ach-MB') |\n",
    "              (adata_concat.obs['sample'] == 'MSK1250-Ach-MB2') ]\n",
    "adata_subset"
   ]
  },
  {
   "cell_type": "code",
   "execution_count": null,
   "id": "f3143ca4",
   "metadata": {},
   "outputs": [],
   "source": [
    "# save the object\n",
    "adata_subset.write(os.path.join(RESULTS_FOLDERNAME, 'Achilles_subset.h5ad'))"
   ]
  }
 ],
 "metadata": {
  "kernelspec": {
   "display_name": "Python 3 (ipykernel)",
   "language": "python",
   "name": "python3"
  },
  "language_info": {
   "codemirror_mode": {
    "name": "ipython",
    "version": 3
   },
   "file_extension": ".py",
   "mimetype": "text/x-python",
   "name": "python",
   "nbconvert_exporter": "python",
   "pygments_lexer": "ipython3",
   "version": "3.11.3"
  }
 },
 "nbformat": 4,
 "nbformat_minor": 5
}
