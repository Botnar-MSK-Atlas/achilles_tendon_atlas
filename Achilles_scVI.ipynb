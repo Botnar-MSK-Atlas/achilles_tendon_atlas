{
 "cells": [
  {
   "cell_type": "code",
   "execution_count": null,
   "id": "50f2052b",
   "metadata": {},
   "outputs": [],
   "source": [
    "# Import dependencies\n",
    "%matplotlib inline\n",
    "import os\n",
    "import numpy as np\n",
    "import pandas as pd\n",
    "import scanpy as sc\n",
    "import scanpy.external as sce\n",
    "import seaborn as sns\n",
    "import anndata\n",
    "import matplotlib.pyplot as plt\n",
    "import yaml\n",
    "import scvi\n",
    "import ray\n",
    "import hyperopt\n",
    "from ray import tune\n",
    "from scvi import autotune\n",
    "\n",
    "# Print date and time:\n",
    "import datetime\n",
    "e = datetime.datetime.now()\n",
    "print (\"Current date and time = %s\" % e)\n",
    "\n",
    "# Set other settings\n",
    "sc.settings.verbosity = 3 # verbosity: errors (0), warnings (1), info (2), hints (3)\n",
    "sc.logging.print_versions()\n",
    "sc.set_figure_params(dpi=150, fontsize=10, dpi_save=600)"
   ]
  },
  {
   "cell_type": "code",
   "execution_count": null,
   "id": "bf5f93f9",
   "metadata": {},
   "outputs": [],
   "source": [
    "# set a working directory\n",
    "wdir = '/project/tendonhca/ccohen/chromium/analysis/20240221_achilles_python'\n",
    "os.chdir( wdir )\n",
    "\n",
    "# create an output directory with today's date and time\n",
    "year = e.strftime(\"%Y\")\n",
    "month = e.strftime(\"%m\")\n",
    "day = e.strftime(\"%d\")\n",
    "hour = e.strftime('%H')\n",
    "minute = e.strftime('%M')\n",
    "dmyt = f'{year}{month}{day}_{hour}-{minute}'\n",
    "directory = f'{dmyt}_integration-scvi.dir'\n",
    "\n",
    "# folder structures\n",
    "RESULTS_FOLDERNAME = f'{directory}/results/'\n",
    "FIGURES_FOLDERNAME = f'{directory}/figures/'\n",
    "\n",
    "if not os.path.exists(RESULTS_FOLDERNAME):\n",
    "    os.makedirs(RESULTS_FOLDERNAME)\n",
    "if not os.path.exists(FIGURES_FOLDERNAME):\n",
    "    os.makedirs(FIGURES_FOLDERNAME)\n",
    "    \n",
    "# Set folder for saving figures into\n",
    "sc.settings.figdir = FIGURES_FOLDERNAME\n",
    "\n",
    "print(directory)"
   ]
  },
  {
   "cell_type": "code",
   "execution_count": null,
   "id": "fc038487",
   "metadata": {},
   "outputs": [],
   "source": [
    "# Read in the yml file\n",
    "ini = yaml.safe_load(open('integration-scvi.yaml'))\n",
    "print(yaml.safe_dump(ini))"
   ]
  },
  {
   "cell_type": "markdown",
   "id": "3237bbcd",
   "metadata": {},
   "source": [
    "Read in the concatenated object.\n",
    "In the concat_norm script, normalisation and dim reduction was performed but this is not actually needed here because we will start again from the raw counts. \n",
    "The only question is whether to work on the whole object or to subset to hvg (and if so how many)"
   ]
  },
  {
   "cell_type": "code",
   "execution_count": null,
   "id": "d30e3d60",
   "metadata": {},
   "outputs": [],
   "source": [
    "wdir"
   ]
  },
  {
   "cell_type": "code",
   "execution_count": null,
   "id": "bea7efe0",
   "metadata": {},
   "outputs": [],
   "source": [
    "# path = os.path.join(wdir, 'concat_norm/results/merged_normalised.h5ad')\n",
    "# For testing use the subsetted object with only 3 samples in it\n",
    "path = os.path.join(wdir, ini['datadir'], 'results/Achilles_subset.h5ad')\n",
    "path"
   ]
  },
  {
   "cell_type": "code",
   "execution_count": null,
   "id": "d9fadbc3",
   "metadata": {},
   "outputs": [],
   "source": [
    "print('Reading adata object')"
   ]
  },
  {
   "cell_type": "code",
   "execution_count": null,
   "id": "5213d2b2",
   "metadata": {},
   "outputs": [],
   "source": [
    "# This will be the unintegrated reference data\n",
    "# NB for some integration methods, here the data is subsetted to only hvg (see Alina's tutorial)\n",
    "adata_ref = sc.read_h5ad(path)\n",
    "adata_ref"
   ]
  },
  {
   "cell_type": "code",
   "execution_count": null,
   "id": "fa152976",
   "metadata": {},
   "outputs": [],
   "source": [
    "print('Adata object read successfully')"
   ]
  },
  {
   "cell_type": "code",
   "execution_count": null,
   "id": "81ea35ae",
   "metadata": {},
   "outputs": [],
   "source": [
    "# scvi works with raw counts\n",
    "adata_ref.X = adata_ref.layers['counts'].copy()"
   ]
  },
  {
   "cell_type": "code",
   "execution_count": null,
   "id": "ca5961dc",
   "metadata": {},
   "outputs": [],
   "source": [
    "# make a new object to perform the integration\n",
    "adata_scvi = adata_ref.copy()\n"
   ]
  },
  {
   "cell_type": "code",
   "execution_count": null,
   "id": "9aab85b9",
   "metadata": {},
   "outputs": [],
   "source": [
    "# take a snapshot\n",
    "adata_scvi.raw = adata_scvi"
   ]
  },
  {
   "cell_type": "code",
   "execution_count": null,
   "id": "7d84fdce",
   "metadata": {},
   "outputs": [],
   "source": [
    "# subset to hvg TODO Add parameter for this to be optional\n",
    "adata_scvi = adata_scvi[:, adata_scvi.var.highly_variable].copy()\n",
    "adata_scvi\n"
   ]
  },
  {
   "cell_type": "code",
   "execution_count": null,
   "id": "e4e3fa6a",
   "metadata": {},
   "outputs": [],
   "source": [
    "# Optimise the scVI model\n",
    "\n",
    "model_cls = scvi.model.SCVI\n",
    "model_cls.setup_anndata(adata_scvi, layer=\"counts\", \n",
    "                        batch_key='patient.seqbatch')\n",
    "\n",
    "scvi_tuner = autotune.ModelTuner(model_cls)\n",
    "scvi_tuner.info()"
   ]
  },
  {
   "cell_type": "code",
   "execution_count": null,
   "id": "052b89a3",
   "metadata": {},
   "outputs": [],
   "source": [
    "search_space = {\n",
    "    \"n_latent\": tune.choice([10, 30, 50]),\n",
    "    \"n_hidden\": tune.choice([60, 128, 256]),\n",
    "    \"n_layers\": tune.choice([1, 2, 3]),\n",
    "    \"lr\": tune.loguniform(1e-4, 1e-2),\n",
    "    \"gene_likelihood\": tune.choice([\"nb\", \"zinb\"])\n",
    "}"
   ]
  },
  {
   "cell_type": "code",
   "execution_count": null,
   "id": "6b3834df",
   "metadata": {},
   "outputs": [],
   "source": [
    "ray.init(log_to_driver=False)"
   ]
  },
  {
   "cell_type": "code",
   "execution_count": null,
   "id": "ae05dfc6",
   "metadata": {},
   "outputs": [],
   "source": [
    "results = scvi_tuner.fit(\n",
    "    adata,\n",
    "    metric=\"validation_loss\",\n",
    "    search_space=search_space,\n",
    "    searcher='hyperopt',\n",
    "    num_samples=100,\n",
    "    max_epochs=30,\n",
    "    resources={\"gpu\": 1},\n",
    ")"
   ]
  },
  {
   "cell_type": "code",
   "execution_count": null,
   "id": "222c7c20",
   "metadata": {},
   "outputs": [],
   "source": [
    "print(results.model_kwargs)\n",
    "print(results.train_kwargs)"
   ]
  },
  {
   "cell_type": "code",
   "execution_count": null,
   "id": "41e55dd1",
   "metadata": {},
   "outputs": [],
   "source": [
    "best_vl = 10000\n",
    "best_i = 0\n",
    "for i, res in enumerate(results.results):\n",
    "    vl = res.metrics['validation_loss']\n",
    "\n",
    "    if vl < best_vl:\n",
    "        best_vl = vl\n",
    "        best_i = i\n",
    "        \n",
    "results.results[best_i]"
   ]
  },
  {
   "cell_type": "code",
   "execution_count": null,
   "id": "6bf165e4",
   "metadata": {},
   "outputs": [],
   "source": [
    "ray.shutdown()"
   ]
  },
  {
   "cell_type": "code",
   "execution_count": null,
   "id": "e7c3b9fb",
   "metadata": {},
   "outputs": [],
   "source": []
  },
  {
   "cell_type": "code",
   "execution_count": null,
   "id": "7c77a786",
   "metadata": {},
   "outputs": [],
   "source": [
    "print('Set up the adata object')"
   ]
  },
  {
   "cell_type": "code",
   "execution_count": null,
   "id": "fdd3d2e3",
   "metadata": {},
   "outputs": [],
   "source": [
    "# set up the adata object\n",
    "scvi.model.SCVI.setup_anndata(adata_scvi,\n",
    "                              layer = 'counts',\n",
    "                              batch_key = \"patient.seqbatch\"\n",
    "                             )"
   ]
  },
  {
   "cell_type": "code",
   "execution_count": null,
   "id": "f8fb3ee2",
   "metadata": {},
   "outputs": [],
   "source": [
    "print('Set up the scVI model')"
   ]
  },
  {
   "cell_type": "code",
   "execution_count": null,
   "id": "3db3b7c1",
   "metadata": {},
   "outputs": [],
   "source": [
    "# set up the scVI model\n",
    "# specify the parameters according to the ray optimisation\n",
    "vae = scvi.model.SCVI(adata_scvi,\n",
    "                      n_latent = 14,  \n",
    "                      n_hidden = 256, \n",
    "                      n_layers =  1, \n",
    "                      dropout_rate = 0.1,\n",
    "                      dispersion = 'gene-batch',\n",
    "                     gene_likelihood='zinb')\n",
    "\n",
    "vae"
   ]
  },
  {
   "cell_type": "code",
   "execution_count": null,
   "id": "de5cfd0b",
   "metadata": {},
   "outputs": [],
   "source": [
    " vae.view_anndata_setup(adata_scvi) # check the set up looks as expected"
   ]
  },
  {
   "cell_type": "code",
   "execution_count": null,
   "id": "6152c9ab",
   "metadata": {},
   "outputs": [],
   "source": [
    "# calculate the number of epochs needed which varies according to the cell number\n",
    "max_epochs_scvi = np.min([round((20000 / adata_ref.n_obs) * 400), 400])\n",
    "max_epochs_scvi"
   ]
  },
  {
   "cell_type": "code",
   "execution_count": null,
   "id": "b72e31a5",
   "metadata": {},
   "outputs": [],
   "source": [
    "print('Run the scVI training')"
   ]
  },
  {
   "cell_type": "code",
   "execution_count": null,
   "id": "03348f9f",
   "metadata": {},
   "outputs": [],
   "source": [
    "# run the training (need the GPU queue here)\n",
    "# %%time # will print the amount of CPU/GPU time taken for this chunk\n",
    "vae.train(max_epochs = max_epochs_scvi, train_size = 0.9, validation_size = 0.1, \n",
    "          # use_gpu=True, \n",
    "          accelerator='gpu', \n",
    "          check_val_every_n_epoch=1,\n",
    "          early_stopping=True,\n",
    "          early_stopping_patience=10,\n",
    "          early_stopping_monitor=\"elbo_validation\",\n",
    "         )"
   ]
  },
  {
   "cell_type": "code",
   "execution_count": null,
   "id": "c17b3b5c",
   "metadata": {},
   "outputs": [],
   "source": [
    "print('Training completed')"
   ]
  },
  {
   "cell_type": "code",
   "execution_count": null,
   "id": "d17cb4fc",
   "metadata": {},
   "outputs": [],
   "source": [
    "# visualise the results of the training\n",
    "train_test_results = vae.history[\"elbo_train\"]\n",
    "train_test_results[\"elbo_validation\"] = vae.history[\"elbo_validation\"]\n",
    "train_test_results.iloc[10:].plot(logy=True)  # exclude first 10 epochs\n",
    "plt.show()\n"
   ]
  },
  {
   "cell_type": "code",
   "execution_count": null,
   "id": "5d636450",
   "metadata": {},
   "outputs": [],
   "source": [
    "# save the trained model\n",
    "vae.save(os.path.join(RESULTS_FOLDERNAME, \"HVG_Sample_25614101GenebatchZinb/\"), overwrite=True)"
   ]
  },
  {
   "cell_type": "code",
   "execution_count": null,
   "id": "4a80970f",
   "metadata": {},
   "outputs": [],
   "source": [
    "# Extract latent representation embeddings from your trained model \n",
    "# Use those to calculate the neighbours and UMAPs. Plot UMAPs of batch and ct markers.\n",
    "adata_scvi.obsm[\"X_scVI\"] = vae.get_latent_representation()\n",
    "sc.pp.neighbors(adata_scvi, use_rep=\"X_scVI\", metric='correlation')\n",
    "sc.tl.umap(adata_scvi)\n",
    "sc.pl.umap(adata_scvi, color=\"sample\")\n",
    "sc.pl.umap(adata_scvi, color=[]\"sample\", \"age\", \"sex\"], \n",
    "           ncols=3, wspace=0.3,\n",
    "           frameon=False)"
   ]
  },
  {
   "cell_type": "code",
   "execution_count": null,
   "id": "ef0b08a3",
   "metadata": {},
   "outputs": [],
   "source": [
    "# plot the UMAP before integration\n",
    "sc.pl.umap(adata_ref, color=\"sample\")\n",
    "sc.pl.umap(adata_ref, color=[]\"sample\", \"age\", \"sex\"], \n",
    "           ncols=3, wspace=0.3,\n",
    "           frameon=False)"
   ]
  },
  {
   "cell_type": "code",
   "execution_count": null,
   "id": "0b5093cc",
   "metadata": {},
   "outputs": [],
   "source": [
    "# save the object\n",
    "adata_scvi.write(os.path.join(RESULTS_FOLDERNAME, 'Achilles_scVI.h5ad'))"
   ]
  },
  {
   "cell_type": "code",
   "execution_count": null,
   "id": "5f9699f1",
   "metadata": {},
   "outputs": [],
   "source": [
    "print (\"script completed\")"
   ]
  }
 ],
 "metadata": {
  "kernelspec": {
   "display_name": "Python 3 (ipykernel)",
   "language": "python",
   "name": "python3"
  },
  "language_info": {
   "codemirror_mode": {
    "name": "ipython",
    "version": 3
   },
   "file_extension": ".py",
   "mimetype": "text/x-python",
   "name": "python",
   "nbconvert_exporter": "python",
   "pygments_lexer": "ipython3",
   "version": "3.11.3"
  }
 },
 "nbformat": 4,
 "nbformat_minor": 5
}
