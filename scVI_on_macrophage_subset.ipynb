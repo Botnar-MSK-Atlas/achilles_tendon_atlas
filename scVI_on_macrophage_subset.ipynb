{
 "cells": [
  {
   "cell_type": "markdown",
   "id": "b984a9d2-3bf1-488a-bcb2-12a44150d7f2",
   "metadata": {},
   "source": [
    "Aim: subset the macrophages and re-integrate with scVI"
   ]
  },
  {
   "cell_type": "code",
   "execution_count": null,
   "id": "be45a8af-710f-48b5-ae5a-6b5b556f3710",
   "metadata": {},
   "outputs": [],
   "source": []
  },
  {
   "cell_type": "code",
   "execution_count": 1,
   "id": "14b5d6cf-8bef-4b2d-953a-ea29eb99c2e0",
   "metadata": {},
   "outputs": [
    {
     "name": "stderr",
     "output_type": "stream",
     "text": [
      "/media/prom/apc1/ccohen/mamba_installation/conda/envs/scvi_env/lib/python3.9/site-packages/scvi/_settings.py:63: UserWarning: Since v1.0.0, scvi-tools no longer uses a random seed by default. Run `scvi.settings.seed = 0` to reproduce results from previous versions.\n",
      "  self.seed = seed\n",
      "/media/prom/apc1/ccohen/mamba_installation/conda/envs/scvi_env/lib/python3.9/site-packages/scvi/_settings.py:70: UserWarning: Setting `dl_pin_memory_gpu_training` is deprecated in v1.0 and will be removed in v1.1. Please pass in `pin_memory` to the data loaders instead.\n",
      "  self.dl_pin_memory_gpu_training = (\n",
      "/media/prom/apc1/ccohen/mamba_installation/conda/envs/scvi_env/lib/python3.9/site-packages/flax/struct.py:132: FutureWarning: jax.tree_util.register_keypaths is deprecated, and will be removed in a future release. Please use `register_pytree_with_keys()` instead.\n",
      "  jax.tree_util.register_keypaths(data_clz, keypaths)\n",
      "/media/prom/apc1/ccohen/mamba_installation/conda/envs/scvi_env/lib/python3.9/site-packages/flax/struct.py:132: FutureWarning: jax.tree_util.register_keypaths is deprecated, and will be removed in a future release. Please use `register_pytree_with_keys()` instead.\n",
      "  jax.tree_util.register_keypaths(data_clz, keypaths)\n"
     ]
    },
    {
     "name": "stdout",
     "output_type": "stream",
     "text": [
      "Current date and time = 2024-12-12 15:37:05.931709\n",
      "-----\n",
      "anndata     0.9.1\n",
      "scanpy      1.9.3\n",
      "-----\n",
      "PIL                         9.4.0\n",
      "absl                        NA\n",
      "aiohttp                     3.9.5\n",
      "aiosignal                   1.3.1\n",
      "annotated_types             0.5.0\n",
      "anyio                       NA\n",
      "arrow                       1.2.3\n",
      "asttokens                   NA\n",
      "async_timeout               4.0.3\n",
      "attr                        23.1.0\n",
      "attrs                       23.1.0\n",
      "babel                       2.14.0\n",
      "backcall                    0.2.0\n",
      "backoff                     2.2.1\n",
      "brotli                      NA\n",
      "bs4                         4.12.2\n",
      "certifi                     2024.07.04\n",
      "cffi                        1.15.1\n",
      "charset_normalizer          3.2.0\n",
      "chex                        0.1.83\n",
      "click                       8.1.5\n",
      "cloudpickle                 3.0.0\n",
      "colorama                    0.4.6\n",
      "comm                        0.1.3\n",
      "contextlib2                 NA\n",
      "croniter                    NA\n",
      "cycler                      0.10.0\n",
      "cython_runtime              NA\n",
      "cytoolz                     0.12.3\n",
      "dask                        2024.5.1\n",
      "dateutil                    2.8.2\n",
      "debugpy                     1.6.7\n",
      "decorator                   5.1.1\n",
      "deepdiff                    6.3.1\n",
      "defusedxml                  0.7.1\n",
      "dill                        0.3.8\n",
      "docrep                      0.3.2\n",
      "dot_parser                  NA\n",
      "executing                   1.2.0\n",
      "fastapi                     0.103.2\n",
      "fastjsonschema              NA\n",
      "filelock                    3.12.2\n",
      "flax                        0.6.1\n",
      "fqdn                        NA\n",
      "frozenlist                  1.4.1\n",
      "fsspec                      2023.6.0\n",
      "future                      0.18.3\n",
      "gmpy2                       2.1.2\n",
      "google                      NA\n",
      "h5py                        3.9.0\n",
      "html5lib                    1.1\n",
      "hyperopt                    0.2.7\n",
      "idna                        3.4\n",
      "igraph                      0.10.5\n",
      "importlib_resources         NA\n",
      "ipykernel                   6.24.0\n",
      "ipywidgets                  8.1.3\n",
      "isoduration                 NA\n",
      "jax                         0.4.13\n",
      "jaxlib                      0.4.12\n",
      "jedi                        0.18.2\n",
      "jinja2                      3.1.2\n",
      "joblib                      1.3.0\n",
      "json5                       0.9.25\n",
      "jsonpointer                 3.0.0\n",
      "jsonschema                  4.18.3\n",
      "jsonschema_specifications   NA\n",
      "jupyter_events              0.10.0\n",
      "jupyter_server              2.14.1\n",
      "jupyterlab_server           2.27.2\n",
      "kiwisolver                  1.4.4\n",
      "leidenalg                   0.10.0\n",
      "lightning                   2.0.8\n",
      "lightning_cloud             NA\n",
      "lightning_fabric            2.0.4\n",
      "lightning_utilities         0.9.0\n",
      "llvmlite                    0.40.1\n",
      "lz4                         4.3.3\n",
      "markupsafe                  2.1.3\n",
      "matplotlib                  3.7.2\n",
      "matplotlib_inline           0.1.6\n",
      "ml_collections              NA\n",
      "ml_dtypes                   0.2.0\n",
      "mpl_toolkits                NA\n",
      "mpmath                      1.3.0\n",
      "msgpack                     1.0.5\n",
      "mudata                      0.2.3\n",
      "multidict                   6.0.5\n",
      "multipart                   0.0.6\n",
      "multipledispatch            0.6.0\n",
      "natsort                     8.4.0\n",
      "nbformat                    5.10.4\n",
      "networkx                    3.1\n",
      "numba                       0.57.1\n",
      "numexpr                     2.10.0\n",
      "numpy                       1.24.4\n",
      "numpyro                     0.12.1\n",
      "nvfuser                     NA\n",
      "opt_einsum                  v3.3.0\n",
      "optax                       0.1.5\n",
      "ordered_set                 4.1.0\n",
      "orjson                      3.9.2\n",
      "overrides                   NA\n",
      "packaging                   23.1\n",
      "pandas                      2.2.2\n",
      "parso                       0.8.3\n",
      "past                        0.18.3\n",
      "patsy                       0.5.3\n",
      "pexpect                     4.8.0\n",
      "pickleshare                 0.7.5\n",
      "pkg_resources               NA\n",
      "platformdirs                3.8.1\n",
      "prometheus_client           NA\n",
      "prompt_toolkit              3.0.39\n",
      "psutil                      5.9.5\n",
      "ptyprocess                  0.7.0\n",
      "pure_eval                   0.2.2\n",
      "py4j                        0.10.9.7\n",
      "pyarrow                     16.1.0\n",
      "pydantic                    2.8.2\n",
      "pydantic_core               2.20.1\n",
      "pydev_ipython               NA\n",
      "pydevconsole                NA\n",
      "pydevd                      2.9.5\n",
      "pydevd_file_utils           NA\n",
      "pydevd_plugins              NA\n",
      "pydevd_tracing              NA\n",
      "pydot                       1.4.2\n",
      "pygments                    2.15.1\n",
      "pyparsing                   3.0.9\n",
      "pyro                        1.8.4+9ed468d\n",
      "pythonjsonlogger            NA\n",
      "pytorch_lightning           2.0.4\n",
      "pytz                        2023.3\n",
      "ray                         2.7.0\n",
      "referencing                 NA\n",
      "requests                    2.31.0\n",
      "rfc3339_validator           0.1.4\n",
      "rfc3986_validator           0.1.1\n",
      "rich                        NA\n",
      "rpds                        NA\n",
      "scipy                       1.11.1\n",
      "scvi                        1.0.2\n",
      "seaborn                     0.12.2\n",
      "send2trash                  NA\n",
      "session_info                1.0.0\n",
      "setproctitle                1.2.2\n",
      "six                         1.16.0\n",
      "sklearn                     1.3.0\n",
      "sniffio                     1.3.0\n",
      "socks                       1.7.1\n",
      "soupsieve                   2.3.2.post1\n",
      "sparse                      0.14.0\n",
      "stack_data                  0.6.2\n",
      "starlette                   0.27.0\n",
      "statsmodels                 0.14.0\n",
      "sympy                       1.12\n",
      "tblib                       3.0.0\n",
      "texttable                   1.6.7\n",
      "threadpoolctl               3.2.0\n",
      "tlz                         0.12.3\n",
      "tomli                       2.0.1\n",
      "toolz                       0.12.0\n",
      "torch                       2.0.1\n",
      "torchmetrics                0.11.4\n",
      "torchvision                 0.15.2\n",
      "tornado                     6.3.2\n",
      "tqdm                        4.65.0\n",
      "traitlets                   5.9.0\n",
      "typing_extensions           NA\n",
      "uri_template                NA\n",
      "urllib3                     1.26.15\n",
      "uvicorn                     0.22.0\n",
      "uvloop                      0.19.0\n",
      "watchfiles                  0.22.0\n",
      "wcwidth                     0.2.6\n",
      "webcolors                   24.6.0\n",
      "webencodings                0.5.1\n",
      "websocket                   1.6.1\n",
      "websockets                  11.0.3\n",
      "xarray                      2023.6.0\n",
      "yaml                        6.0\n",
      "yarl                        1.9.4\n",
      "zipp                        NA\n",
      "zmq                         25.1.0\n",
      "zoneinfo                    NA\n",
      "-----\n",
      "IPython             8.14.0\n",
      "jupyter_client      8.3.0\n",
      "jupyter_core        5.3.1\n",
      "jupyterlab          4.2.3\n",
      "notebook            7.2.1\n",
      "-----\n",
      "Python 3.9.16 | packaged by conda-forge | (main, Feb  1 2023, 21:39:03) [GCC 11.3.0]\n",
      "Linux-6.8.0-48-generic-x86_64-with-glibc2.35\n",
      "-----\n",
      "Session information updated at 2024-12-12 15:37\n"
     ]
    }
   ],
   "source": [
    "# Import dependencies\n",
    "%matplotlib inline\n",
    "import os\n",
    "import numpy as np\n",
    "import pandas as pd\n",
    "import scanpy as sc\n",
    "import scanpy.external as sce\n",
    "import seaborn as sns\n",
    "import anndata\n",
    "import matplotlib.pyplot as plt\n",
    "import yaml\n",
    "import scvi\n",
    "import ray\n",
    "import hyperopt\n",
    "from ray import tune\n",
    "from scvi import autotune\n",
    "\n",
    "# Print date and time:\n",
    "import datetime\n",
    "e = datetime.datetime.now()\n",
    "print (\"Current date and time = %s\" % e)\n",
    "\n",
    "# Set other settings\n",
    "sc.settings.verbosity = 3 # verbosity: errors (0), warnings (1), info (2), hints (3)\n",
    "sc.logging.print_versions()\n",
    "sc.set_figure_params(dpi=150, fontsize=10, dpi_save=600)"
   ]
  },
  {
   "cell_type": "code",
   "execution_count": 2,
   "id": "f993e8a0-c5ef-4ed8-86a6-dc6d5f82b75c",
   "metadata": {},
   "outputs": [
    {
     "name": "stdout",
     "output_type": "stream",
     "text": [
      "20241212_15-37_scVI_on_macrophage_subset.dir\n"
     ]
    }
   ],
   "source": [
    "# set a working directory\n",
    "wdir = '/media/prom/apc1/ccohen/chromium/analysis/20240711_Achilles/'\n",
    "os.chdir( wdir )\n",
    "\n",
    "# create an output directory with today's date and time\n",
    "year = e.strftime(\"%Y\")\n",
    "month = e.strftime(\"%m\")\n",
    "day = e.strftime(\"%d\")\n",
    "hour = e.strftime('%H')\n",
    "minute = e.strftime('%M')\n",
    "dmyt = f'{year}{month}{day}_{hour}-{minute}'\n",
    "directory = f'{dmyt}_scVI_on_macrophage_subset.dir'\n",
    "\n",
    "# folder structures\n",
    "RESULTS_FOLDERNAME = f'{directory}/results/'\n",
    "FIGURES_FOLDERNAME = f'{directory}/figures/'\n",
    "\n",
    "if not os.path.exists(RESULTS_FOLDERNAME):\n",
    "    os.makedirs(RESULTS_FOLDERNAME)\n",
    "if not os.path.exists(FIGURES_FOLDERNAME):\n",
    "    os.makedirs(FIGURES_FOLDERNAME)\n",
    "    \n",
    "# Set folder for saving figures into\n",
    "sc.settings.figdir = FIGURES_FOLDERNAME\n",
    "\n",
    "print(directory)"
   ]
  },
  {
   "cell_type": "code",
   "execution_count": 3,
   "id": "0b51e32a-4333-4f52-aebe-275c8a89e1dd",
   "metadata": {},
   "outputs": [
    {
     "data": {
      "text/plain": [
       "'/media/prom/apc1/ccohen/chromium/analysis/20240711_Achilles/data/integrated_objects/20240926_13-58_convert-objects.dir/Achilles_integrated_annotated.h5ad'"
      ]
     },
     "execution_count": 3,
     "metadata": {},
     "output_type": "execute_result"
    }
   ],
   "source": [
    "path = os.path.join(wdir, 'data/integrated_objects/20240926_13-58_convert-objects.dir/Achilles_integrated_annotated.h5ad')\n",
    "path"
   ]
  },
  {
   "cell_type": "markdown",
   "id": "43ca2651-ea75-45b1-ba1a-f63d29672fbb",
   "metadata": {},
   "source": [
    "### Read in adata object\n",
    "This Achilles data object has been integrated using scVI, then taken back into R and annotated."
   ]
  },
  {
   "cell_type": "code",
   "execution_count": 4,
   "id": "e9fe0bb1-9c85-4f64-bc63-5b841aba97a8",
   "metadata": {},
   "outputs": [
    {
     "data": {
      "text/plain": [
       "AnnData object with n_obs × n_vars = 67668 × 61552\n",
       "    obs: 'orig.ident', 'nCount_RNA', 'nFeature_RNA', 'sample', 'sum', 'detected', 'subsets_mito_sum', 'subsets_mito_detected', 'subsets_mito_percent', 'total', 'log10GenesPerUMI', 'patient', 'age', 'sex', 'ethnicity', 'surgical_procedure', 'disease_status', 'anatomical_site', 'affected_side', 'time_to_freezing', 'sequencing_date', 'microanatomical_site', 'seurat_clusters', 'decontX_contamination', 'decontX_clusters', 'sizeFactor', 'scDblFinder.cluster', 'scDblFinder.class', 'scDblFinder.score', 'scDblFinder.weighted', 'scDblFinder.difficulty', 'scDblFinder.cxds_score', 'scDblFinder.mostLikelyOrigin', 'scDblFinder.originAmbiguous', 'nCount_decontXcounts', 'nFeature_decontXcounts', 'nCount_soupX', 'nFeature_soupX', 'patient.seqbatch', 'louvain_soupX_snn_res.0.1', 'louvain_soupX_snn_res.0.2', 'louvain_soupX_snn_res.0.3', 'louvain_soupX_snn_res.0.4', 'louvain_soupX_snn_res.0.5', 'louvain_soupX_snn_res.0.6', 'louvain_soupX_snn_res.0.7', 'louvain_soupX_snn_res.0.8', 'louvain_soupX_snn_res.0.9', 'louvain_soupX_snn_res.1', 'louvain_X_scVI_snn_res.0.1', 'louvain_X_scVI_snn_res.0.2', 'louvain_X_scVI_snn_res.0.3', 'louvain_X_scVI_snn_res.0.4', 'louvain_X_scVI_snn_res.0.5', 'louvain_X_scVI_snn_res.0.6', 'leiden_X_scVI_snn_res.0.1', 'leiden_X_scVI_snn_res.0.2', 'leiden_X_scVI_snn_res.0.3', 'leiden_X_scVI_snn_res.0.4', 'leiden_X_scVI_snn_res.0.5', 'leiden_X_scVI_snn_res.0.6', 'cell_annotation_harmony_0.1', 'cell_annotation_harmony_0.2', 'percent.ribo', 'cell_annotation_scVI_0.2', 'cell_annotation_scVI_0.3'\n",
       "    var: 'rownames(so)'\n",
       "    obsm: 'pca'\n",
       "    layers: 'counts', 'logcounts', 'soupX'"
      ]
     },
     "execution_count": 4,
     "metadata": {},
     "output_type": "execute_result"
    }
   ],
   "source": [
    "adata = sc.read_h5ad(path)\n",
    "adata"
   ]
  },
  {
   "cell_type": "code",
   "execution_count": 5,
   "id": "691f3bbb-54e8-4aa1-b6e9-aaec9cc84cfc",
   "metadata": {},
   "outputs": [],
   "source": [
    "# scvi works with raw counts\n",
    "adata.X = adata.layers['counts'].copy()"
   ]
  },
  {
   "cell_type": "code",
   "execution_count": 6,
   "id": "7eca5dfa-6541-4ae1-8539-0fc7d33c0fda",
   "metadata": {},
   "outputs": [
    {
     "data": {
      "text/plain": [
       "AnnData object with n_obs × n_vars = 4820 × 61552\n",
       "    obs: 'orig.ident', 'nCount_RNA', 'nFeature_RNA', 'sample', 'sum', 'detected', 'subsets_mito_sum', 'subsets_mito_detected', 'subsets_mito_percent', 'total', 'log10GenesPerUMI', 'patient', 'age', 'sex', 'ethnicity', 'surgical_procedure', 'disease_status', 'anatomical_site', 'affected_side', 'time_to_freezing', 'sequencing_date', 'microanatomical_site', 'seurat_clusters', 'decontX_contamination', 'decontX_clusters', 'sizeFactor', 'scDblFinder.cluster', 'scDblFinder.class', 'scDblFinder.score', 'scDblFinder.weighted', 'scDblFinder.difficulty', 'scDblFinder.cxds_score', 'scDblFinder.mostLikelyOrigin', 'scDblFinder.originAmbiguous', 'nCount_decontXcounts', 'nFeature_decontXcounts', 'nCount_soupX', 'nFeature_soupX', 'patient.seqbatch', 'louvain_soupX_snn_res.0.1', 'louvain_soupX_snn_res.0.2', 'louvain_soupX_snn_res.0.3', 'louvain_soupX_snn_res.0.4', 'louvain_soupX_snn_res.0.5', 'louvain_soupX_snn_res.0.6', 'louvain_soupX_snn_res.0.7', 'louvain_soupX_snn_res.0.8', 'louvain_soupX_snn_res.0.9', 'louvain_soupX_snn_res.1', 'louvain_X_scVI_snn_res.0.1', 'louvain_X_scVI_snn_res.0.2', 'louvain_X_scVI_snn_res.0.3', 'louvain_X_scVI_snn_res.0.4', 'louvain_X_scVI_snn_res.0.5', 'louvain_X_scVI_snn_res.0.6', 'leiden_X_scVI_snn_res.0.1', 'leiden_X_scVI_snn_res.0.2', 'leiden_X_scVI_snn_res.0.3', 'leiden_X_scVI_snn_res.0.4', 'leiden_X_scVI_snn_res.0.5', 'leiden_X_scVI_snn_res.0.6', 'cell_annotation_harmony_0.1', 'cell_annotation_harmony_0.2', 'percent.ribo', 'cell_annotation_scVI_0.2', 'cell_annotation_scVI_0.3'\n",
       "    var: 'rownames(so)'\n",
       "    obsm: 'pca'\n",
       "    layers: 'counts', 'logcounts', 'soupX'"
      ]
     },
     "execution_count": 6,
     "metadata": {},
     "output_type": "execute_result"
    }
   ],
   "source": [
    "# subset to macrophages\n",
    "fibroblasts = ['Macrophages']\n",
    "adata_mac = adata[adata.obs['cell_annotation_scVI_0.2'].isin(fibroblasts)].copy()\n",
    "adata_mac"
   ]
  },
  {
   "cell_type": "code",
   "execution_count": 7,
   "id": "c4d3aa51-d8c7-465f-9d9f-e5472a799b72",
   "metadata": {},
   "outputs": [
    {
     "data": {
      "text/plain": [
       "MSK0785-Ach-Enth_AATTTCCAGGTTACCT    Macrophages\n",
       "MSK0785-Ach-Enth_ACTCCCAGTACCAATC    Macrophages\n",
       "MSK0785-Ach-Enth_AGAACCTTCCACTGGG    Macrophages\n",
       "MSK0785-Ach-Enth_AGGATAACATCCGAGC    Macrophages\n",
       "MSK0785-Ach-Enth_AGGCCACGTAACAGTA    Macrophages\n",
       "                                        ...     \n",
       "MSK1691-ACH-MTJ_TTTACCAGTACACGTT     Macrophages\n",
       "MSK1691-ACH-MTJ_TTTACTGGTCGTCATA     Macrophages\n",
       "MSK1691-ACH-MTJ_TTTCGATGTGACTGAG     Macrophages\n",
       "MSK1691-ACH-MTJ_TTTCGATGTGTCTTCC     Macrophages\n",
       "MSK1691-ACH-MTJ_TTTGTTGGTAGGGAGG     Macrophages\n",
       "Name: cell_annotation_scVI_0.2, Length: 4820, dtype: category\n",
       "Categories (1, object): ['Macrophages']"
      ]
     },
     "execution_count": 7,
     "metadata": {},
     "output_type": "execute_result"
    }
   ],
   "source": [
    "adata_mac.obs['cell_annotation_scVI_0.2']"
   ]
  },
  {
   "cell_type": "code",
   "execution_count": 8,
   "id": "aa0c07ab-337b-4f86-9e01-cb7e4c00c678",
   "metadata": {},
   "outputs": [],
   "source": [
    "adata_mac.obs_names_make_unique()"
   ]
  },
  {
   "cell_type": "code",
   "execution_count": 10,
   "id": "619fc119-18bf-4ff4-8138-0a537a2503ee",
   "metadata": {},
   "outputs": [
    {
     "name": "stdout",
     "output_type": "stream",
     "text": [
      "If you pass `n_top_genes`, all cutoffs are ignored.\n",
      "extracting highly variable genes\n",
      "--> added\n",
      "    'highly_variable', boolean vector (adata.var)\n",
      "    'highly_variable_rank', float vector (adata.var)\n",
      "    'means', float vector (adata.var)\n",
      "    'variances', float vector (adata.var)\n",
      "    'variances_norm', float vector (adata.var)\n"
     ]
    }
   ],
   "source": [
    "# calculate 2000 hvg and subset to those genes\n",
    "sc.pp.highly_variable_genes(adata_mac, \n",
    "                            n_top_genes= 2000, \n",
    "                            flavor='seurat_v3', \n",
    "                            batch_key='patient.seqbatch',\n",
    "                            subset = True, \n",
    "                           span=1) # increase from default of 0.3 to avoid error"
   ]
  },
  {
   "cell_type": "code",
   "execution_count": 11,
   "id": "93540e11-17d7-44d0-b859-829eaf0ff655",
   "metadata": {},
   "outputs": [
    {
     "data": {
      "text/plain": [
       "AnnData object with n_obs × n_vars = 4820 × 2000\n",
       "    obs: 'orig.ident', 'nCount_RNA', 'nFeature_RNA', 'sample', 'sum', 'detected', 'subsets_mito_sum', 'subsets_mito_detected', 'subsets_mito_percent', 'total', 'log10GenesPerUMI', 'patient', 'age', 'sex', 'ethnicity', 'surgical_procedure', 'disease_status', 'anatomical_site', 'affected_side', 'time_to_freezing', 'sequencing_date', 'microanatomical_site', 'seurat_clusters', 'decontX_contamination', 'decontX_clusters', 'sizeFactor', 'scDblFinder.cluster', 'scDblFinder.class', 'scDblFinder.score', 'scDblFinder.weighted', 'scDblFinder.difficulty', 'scDblFinder.cxds_score', 'scDblFinder.mostLikelyOrigin', 'scDblFinder.originAmbiguous', 'nCount_decontXcounts', 'nFeature_decontXcounts', 'nCount_soupX', 'nFeature_soupX', 'patient.seqbatch', 'louvain_soupX_snn_res.0.1', 'louvain_soupX_snn_res.0.2', 'louvain_soupX_snn_res.0.3', 'louvain_soupX_snn_res.0.4', 'louvain_soupX_snn_res.0.5', 'louvain_soupX_snn_res.0.6', 'louvain_soupX_snn_res.0.7', 'louvain_soupX_snn_res.0.8', 'louvain_soupX_snn_res.0.9', 'louvain_soupX_snn_res.1', 'louvain_X_scVI_snn_res.0.1', 'louvain_X_scVI_snn_res.0.2', 'louvain_X_scVI_snn_res.0.3', 'louvain_X_scVI_snn_res.0.4', 'louvain_X_scVI_snn_res.0.5', 'louvain_X_scVI_snn_res.0.6', 'leiden_X_scVI_snn_res.0.1', 'leiden_X_scVI_snn_res.0.2', 'leiden_X_scVI_snn_res.0.3', 'leiden_X_scVI_snn_res.0.4', 'leiden_X_scVI_snn_res.0.5', 'leiden_X_scVI_snn_res.0.6', 'cell_annotation_harmony_0.1', 'cell_annotation_harmony_0.2', 'percent.ribo', 'cell_annotation_scVI_0.2', 'cell_annotation_scVI_0.3'\n",
       "    var: 'rownames(so)', 'highly_variable', 'highly_variable_rank', 'means', 'variances', 'variances_norm', 'highly_variable_nbatches'\n",
       "    uns: 'hvg'\n",
       "    obsm: 'pca'\n",
       "    layers: 'counts', 'logcounts', 'soupX'"
      ]
     },
     "execution_count": 11,
     "metadata": {},
     "output_type": "execute_result"
    }
   ],
   "source": [
    "adata_mac"
   ]
  },
  {
   "cell_type": "markdown",
   "id": "14b6b655-5a79-40ec-a514-bab78458d64b",
   "metadata": {},
   "source": [
    "### Optimise the scVI model using ray"
   ]
  },
  {
   "cell_type": "code",
   "execution_count": 12,
   "id": "dd5ee224-aed7-4342-8008-15da0513867d",
   "metadata": {},
   "outputs": [
    {
     "name": "stderr",
     "output_type": "stream",
     "text": [
      "/media/prom/apc1/ccohen/mamba_installation/conda/envs/scvi_env/lib/python3.9/site-packages/scvi/data/fields/_layer_field.py:101: UserWarning: Training will be faster when sparse matrix is formatted as CSR. It is safe to cast before model initialization.\n",
      "  _verify_and_correct_data_format(adata, self.attr_name, self.attr_key)\n"
     ]
    },
    {
     "data": {
      "text/html": [
       "<pre style=\"white-space:pre;overflow-x:auto;line-height:normal;font-family:Menlo,'DejaVu Sans Mono',consolas,'Courier New',monospace\">ModelTuner registry for SCVI\n",
       "</pre>\n"
      ],
      "text/plain": [
       "ModelTuner registry for SCVI\n"
      ]
     },
     "metadata": {},
     "output_type": "display_data"
    },
    {
     "data": {
      "text/html": [
       "<pre style=\"white-space:pre;overflow-x:auto;line-height:normal;font-family:Menlo,'DejaVu Sans Mono',consolas,'Courier New',monospace\"><span style=\"font-style: italic\">                  Tunable hyperparameters                  </span>\n",
       "┏━━━━━━━━━━━━━━━━━━━━━━━━━━┳━━━━━━━━━━━━━━━┳━━━━━━━━━━━━━━┓\n",
       "┃<span style=\"font-weight: bold\">      Hyperparameter      </span>┃<span style=\"font-weight: bold\"> Default value </span>┃<span style=\"font-weight: bold\">    Source    </span>┃\n",
       "┡━━━━━━━━━━━━━━━━━━━━━━━━━━╇━━━━━━━━━━━━━━━╇━━━━━━━━━━━━━━┩\n",
       "│<span style=\"color: #0087ff; text-decoration-color: #0087ff\">         n_hidden         </span>│<span style=\"color: #af00d7; text-decoration-color: #af00d7\">      128      </span>│<span style=\"color: #008000; text-decoration-color: #008000\">     VAE      </span>│\n",
       "│<span style=\"color: #0087ff; text-decoration-color: #0087ff\">         n_latent         </span>│<span style=\"color: #af00d7; text-decoration-color: #af00d7\">      10       </span>│<span style=\"color: #008000; text-decoration-color: #008000\">     VAE      </span>│\n",
       "│<span style=\"color: #0087ff; text-decoration-color: #0087ff\">         n_layers         </span>│<span style=\"color: #af00d7; text-decoration-color: #af00d7\">       1       </span>│<span style=\"color: #008000; text-decoration-color: #008000\">     VAE      </span>│\n",
       "│<span style=\"color: #0087ff; text-decoration-color: #0087ff\">       dropout_rate       </span>│<span style=\"color: #af00d7; text-decoration-color: #af00d7\">      0.1      </span>│<span style=\"color: #008000; text-decoration-color: #008000\">     VAE      </span>│\n",
       "│<span style=\"color: #0087ff; text-decoration-color: #0087ff\">        dispersion        </span>│<span style=\"color: #af00d7; text-decoration-color: #af00d7\">     gene      </span>│<span style=\"color: #008000; text-decoration-color: #008000\">     VAE      </span>│\n",
       "│<span style=\"color: #0087ff; text-decoration-color: #0087ff\">     gene_likelihood      </span>│<span style=\"color: #af00d7; text-decoration-color: #af00d7\">     zinb      </span>│<span style=\"color: #008000; text-decoration-color: #008000\">     VAE      </span>│\n",
       "│<span style=\"color: #0087ff; text-decoration-color: #0087ff\">   latent_distribution    </span>│<span style=\"color: #af00d7; text-decoration-color: #af00d7\">    normal     </span>│<span style=\"color: #008000; text-decoration-color: #008000\">     VAE      </span>│\n",
       "│<span style=\"color: #0087ff; text-decoration-color: #0087ff\">    encode_covariates     </span>│<span style=\"color: #af00d7; text-decoration-color: #af00d7\">     False     </span>│<span style=\"color: #008000; text-decoration-color: #008000\">     VAE      </span>│\n",
       "│<span style=\"color: #0087ff; text-decoration-color: #0087ff\"> deeply_inject_covariates </span>│<span style=\"color: #af00d7; text-decoration-color: #af00d7\">     True      </span>│<span style=\"color: #008000; text-decoration-color: #008000\">     VAE      </span>│\n",
       "│<span style=\"color: #0087ff; text-decoration-color: #0087ff\">      use_batch_norm      </span>│<span style=\"color: #af00d7; text-decoration-color: #af00d7\">     both      </span>│<span style=\"color: #008000; text-decoration-color: #008000\">     VAE      </span>│\n",
       "│<span style=\"color: #0087ff; text-decoration-color: #0087ff\">      use_layer_norm      </span>│<span style=\"color: #af00d7; text-decoration-color: #af00d7\">     none      </span>│<span style=\"color: #008000; text-decoration-color: #008000\">     VAE      </span>│\n",
       "│<span style=\"color: #0087ff; text-decoration-color: #0087ff\">        optimizer         </span>│<span style=\"color: #af00d7; text-decoration-color: #af00d7\">     Adam      </span>│<span style=\"color: #008000; text-decoration-color: #008000\"> TrainingPlan </span>│\n",
       "│<span style=\"color: #0087ff; text-decoration-color: #0087ff\">            lr            </span>│<span style=\"color: #af00d7; text-decoration-color: #af00d7\">     0.001     </span>│<span style=\"color: #008000; text-decoration-color: #008000\"> TrainingPlan </span>│\n",
       "│<span style=\"color: #0087ff; text-decoration-color: #0087ff\">       weight_decay       </span>│<span style=\"color: #af00d7; text-decoration-color: #af00d7\">     1e-06     </span>│<span style=\"color: #008000; text-decoration-color: #008000\"> TrainingPlan </span>│\n",
       "│<span style=\"color: #0087ff; text-decoration-color: #0087ff\">           eps            </span>│<span style=\"color: #af00d7; text-decoration-color: #af00d7\">     0.01      </span>│<span style=\"color: #008000; text-decoration-color: #008000\"> TrainingPlan </span>│\n",
       "│<span style=\"color: #0087ff; text-decoration-color: #0087ff\">    n_steps_kl_warmup     </span>│<span style=\"color: #af00d7; text-decoration-color: #af00d7\">     None      </span>│<span style=\"color: #008000; text-decoration-color: #008000\"> TrainingPlan </span>│\n",
       "│<span style=\"color: #0087ff; text-decoration-color: #0087ff\">    n_epochs_kl_warmup    </span>│<span style=\"color: #af00d7; text-decoration-color: #af00d7\">      400      </span>│<span style=\"color: #008000; text-decoration-color: #008000\"> TrainingPlan </span>│\n",
       "│<span style=\"color: #0087ff; text-decoration-color: #0087ff\">   reduce_lr_on_plateau   </span>│<span style=\"color: #af00d7; text-decoration-color: #af00d7\">     False     </span>│<span style=\"color: #008000; text-decoration-color: #008000\"> TrainingPlan </span>│\n",
       "│<span style=\"color: #0087ff; text-decoration-color: #0087ff\">        lr_factor         </span>│<span style=\"color: #af00d7; text-decoration-color: #af00d7\">      0.6      </span>│<span style=\"color: #008000; text-decoration-color: #008000\"> TrainingPlan </span>│\n",
       "│<span style=\"color: #0087ff; text-decoration-color: #0087ff\">       lr_patience        </span>│<span style=\"color: #af00d7; text-decoration-color: #af00d7\">      30       </span>│<span style=\"color: #008000; text-decoration-color: #008000\"> TrainingPlan </span>│\n",
       "│<span style=\"color: #0087ff; text-decoration-color: #0087ff\">       lr_threshold       </span>│<span style=\"color: #af00d7; text-decoration-color: #af00d7\">      0.0      </span>│<span style=\"color: #008000; text-decoration-color: #008000\"> TrainingPlan </span>│\n",
       "│<span style=\"color: #0087ff; text-decoration-color: #0087ff\">          lr_min          </span>│<span style=\"color: #af00d7; text-decoration-color: #af00d7\">       0       </span>│<span style=\"color: #008000; text-decoration-color: #008000\"> TrainingPlan </span>│\n",
       "│<span style=\"color: #0087ff; text-decoration-color: #0087ff\">      max_kl_weight       </span>│<span style=\"color: #af00d7; text-decoration-color: #af00d7\">      1.0      </span>│<span style=\"color: #008000; text-decoration-color: #008000\"> TrainingPlan </span>│\n",
       "│<span style=\"color: #0087ff; text-decoration-color: #0087ff\">      min_kl_weight       </span>│<span style=\"color: #af00d7; text-decoration-color: #af00d7\">      0.0      </span>│<span style=\"color: #008000; text-decoration-color: #008000\"> TrainingPlan </span>│\n",
       "└──────────────────────────┴───────────────┴──────────────┘\n",
       "</pre>\n"
      ],
      "text/plain": [
       "\u001b[3m                  Tunable hyperparameters                  \u001b[0m\n",
       "┏━━━━━━━━━━━━━━━━━━━━━━━━━━┳━━━━━━━━━━━━━━━┳━━━━━━━━━━━━━━┓\n",
       "┃\u001b[1m \u001b[0m\u001b[1m     Hyperparameter     \u001b[0m\u001b[1m \u001b[0m┃\u001b[1m \u001b[0m\u001b[1mDefault value\u001b[0m\u001b[1m \u001b[0m┃\u001b[1m \u001b[0m\u001b[1m   Source   \u001b[0m\u001b[1m \u001b[0m┃\n",
       "┡━━━━━━━━━━━━━━━━━━━━━━━━━━╇━━━━━━━━━━━━━━━╇━━━━━━━━━━━━━━┩\n",
       "│\u001b[38;5;33m \u001b[0m\u001b[38;5;33m        n_hidden        \u001b[0m\u001b[38;5;33m \u001b[0m│\u001b[38;5;128m \u001b[0m\u001b[38;5;128m     128     \u001b[0m\u001b[38;5;128m \u001b[0m│\u001b[32m \u001b[0m\u001b[32m    VAE     \u001b[0m\u001b[32m \u001b[0m│\n",
       "│\u001b[38;5;33m \u001b[0m\u001b[38;5;33m        n_latent        \u001b[0m\u001b[38;5;33m \u001b[0m│\u001b[38;5;128m \u001b[0m\u001b[38;5;128m     10      \u001b[0m\u001b[38;5;128m \u001b[0m│\u001b[32m \u001b[0m\u001b[32m    VAE     \u001b[0m\u001b[32m \u001b[0m│\n",
       "│\u001b[38;5;33m \u001b[0m\u001b[38;5;33m        n_layers        \u001b[0m\u001b[38;5;33m \u001b[0m│\u001b[38;5;128m \u001b[0m\u001b[38;5;128m      1      \u001b[0m\u001b[38;5;128m \u001b[0m│\u001b[32m \u001b[0m\u001b[32m    VAE     \u001b[0m\u001b[32m \u001b[0m│\n",
       "│\u001b[38;5;33m \u001b[0m\u001b[38;5;33m      dropout_rate      \u001b[0m\u001b[38;5;33m \u001b[0m│\u001b[38;5;128m \u001b[0m\u001b[38;5;128m     0.1     \u001b[0m\u001b[38;5;128m \u001b[0m│\u001b[32m \u001b[0m\u001b[32m    VAE     \u001b[0m\u001b[32m \u001b[0m│\n",
       "│\u001b[38;5;33m \u001b[0m\u001b[38;5;33m       dispersion       \u001b[0m\u001b[38;5;33m \u001b[0m│\u001b[38;5;128m \u001b[0m\u001b[38;5;128m    gene     \u001b[0m\u001b[38;5;128m \u001b[0m│\u001b[32m \u001b[0m\u001b[32m    VAE     \u001b[0m\u001b[32m \u001b[0m│\n",
       "│\u001b[38;5;33m \u001b[0m\u001b[38;5;33m    gene_likelihood     \u001b[0m\u001b[38;5;33m \u001b[0m│\u001b[38;5;128m \u001b[0m\u001b[38;5;128m    zinb     \u001b[0m\u001b[38;5;128m \u001b[0m│\u001b[32m \u001b[0m\u001b[32m    VAE     \u001b[0m\u001b[32m \u001b[0m│\n",
       "│\u001b[38;5;33m \u001b[0m\u001b[38;5;33m  latent_distribution   \u001b[0m\u001b[38;5;33m \u001b[0m│\u001b[38;5;128m \u001b[0m\u001b[38;5;128m   normal    \u001b[0m\u001b[38;5;128m \u001b[0m│\u001b[32m \u001b[0m\u001b[32m    VAE     \u001b[0m\u001b[32m \u001b[0m│\n",
       "│\u001b[38;5;33m \u001b[0m\u001b[38;5;33m   encode_covariates    \u001b[0m\u001b[38;5;33m \u001b[0m│\u001b[38;5;128m \u001b[0m\u001b[38;5;128m    False    \u001b[0m\u001b[38;5;128m \u001b[0m│\u001b[32m \u001b[0m\u001b[32m    VAE     \u001b[0m\u001b[32m \u001b[0m│\n",
       "│\u001b[38;5;33m \u001b[0m\u001b[38;5;33mdeeply_inject_covariates\u001b[0m\u001b[38;5;33m \u001b[0m│\u001b[38;5;128m \u001b[0m\u001b[38;5;128m    True     \u001b[0m\u001b[38;5;128m \u001b[0m│\u001b[32m \u001b[0m\u001b[32m    VAE     \u001b[0m\u001b[32m \u001b[0m│\n",
       "│\u001b[38;5;33m \u001b[0m\u001b[38;5;33m     use_batch_norm     \u001b[0m\u001b[38;5;33m \u001b[0m│\u001b[38;5;128m \u001b[0m\u001b[38;5;128m    both     \u001b[0m\u001b[38;5;128m \u001b[0m│\u001b[32m \u001b[0m\u001b[32m    VAE     \u001b[0m\u001b[32m \u001b[0m│\n",
       "│\u001b[38;5;33m \u001b[0m\u001b[38;5;33m     use_layer_norm     \u001b[0m\u001b[38;5;33m \u001b[0m│\u001b[38;5;128m \u001b[0m\u001b[38;5;128m    none     \u001b[0m\u001b[38;5;128m \u001b[0m│\u001b[32m \u001b[0m\u001b[32m    VAE     \u001b[0m\u001b[32m \u001b[0m│\n",
       "│\u001b[38;5;33m \u001b[0m\u001b[38;5;33m       optimizer        \u001b[0m\u001b[38;5;33m \u001b[0m│\u001b[38;5;128m \u001b[0m\u001b[38;5;128m    Adam     \u001b[0m\u001b[38;5;128m \u001b[0m│\u001b[32m \u001b[0m\u001b[32mTrainingPlan\u001b[0m\u001b[32m \u001b[0m│\n",
       "│\u001b[38;5;33m \u001b[0m\u001b[38;5;33m           lr           \u001b[0m\u001b[38;5;33m \u001b[0m│\u001b[38;5;128m \u001b[0m\u001b[38;5;128m    0.001    \u001b[0m\u001b[38;5;128m \u001b[0m│\u001b[32m \u001b[0m\u001b[32mTrainingPlan\u001b[0m\u001b[32m \u001b[0m│\n",
       "│\u001b[38;5;33m \u001b[0m\u001b[38;5;33m      weight_decay      \u001b[0m\u001b[38;5;33m \u001b[0m│\u001b[38;5;128m \u001b[0m\u001b[38;5;128m    1e-06    \u001b[0m\u001b[38;5;128m \u001b[0m│\u001b[32m \u001b[0m\u001b[32mTrainingPlan\u001b[0m\u001b[32m \u001b[0m│\n",
       "│\u001b[38;5;33m \u001b[0m\u001b[38;5;33m          eps           \u001b[0m\u001b[38;5;33m \u001b[0m│\u001b[38;5;128m \u001b[0m\u001b[38;5;128m    0.01     \u001b[0m\u001b[38;5;128m \u001b[0m│\u001b[32m \u001b[0m\u001b[32mTrainingPlan\u001b[0m\u001b[32m \u001b[0m│\n",
       "│\u001b[38;5;33m \u001b[0m\u001b[38;5;33m   n_steps_kl_warmup    \u001b[0m\u001b[38;5;33m \u001b[0m│\u001b[38;5;128m \u001b[0m\u001b[38;5;128m    None     \u001b[0m\u001b[38;5;128m \u001b[0m│\u001b[32m \u001b[0m\u001b[32mTrainingPlan\u001b[0m\u001b[32m \u001b[0m│\n",
       "│\u001b[38;5;33m \u001b[0m\u001b[38;5;33m   n_epochs_kl_warmup   \u001b[0m\u001b[38;5;33m \u001b[0m│\u001b[38;5;128m \u001b[0m\u001b[38;5;128m     400     \u001b[0m\u001b[38;5;128m \u001b[0m│\u001b[32m \u001b[0m\u001b[32mTrainingPlan\u001b[0m\u001b[32m \u001b[0m│\n",
       "│\u001b[38;5;33m \u001b[0m\u001b[38;5;33m  reduce_lr_on_plateau  \u001b[0m\u001b[38;5;33m \u001b[0m│\u001b[38;5;128m \u001b[0m\u001b[38;5;128m    False    \u001b[0m\u001b[38;5;128m \u001b[0m│\u001b[32m \u001b[0m\u001b[32mTrainingPlan\u001b[0m\u001b[32m \u001b[0m│\n",
       "│\u001b[38;5;33m \u001b[0m\u001b[38;5;33m       lr_factor        \u001b[0m\u001b[38;5;33m \u001b[0m│\u001b[38;5;128m \u001b[0m\u001b[38;5;128m     0.6     \u001b[0m\u001b[38;5;128m \u001b[0m│\u001b[32m \u001b[0m\u001b[32mTrainingPlan\u001b[0m\u001b[32m \u001b[0m│\n",
       "│\u001b[38;5;33m \u001b[0m\u001b[38;5;33m      lr_patience       \u001b[0m\u001b[38;5;33m \u001b[0m│\u001b[38;5;128m \u001b[0m\u001b[38;5;128m     30      \u001b[0m\u001b[38;5;128m \u001b[0m│\u001b[32m \u001b[0m\u001b[32mTrainingPlan\u001b[0m\u001b[32m \u001b[0m│\n",
       "│\u001b[38;5;33m \u001b[0m\u001b[38;5;33m      lr_threshold      \u001b[0m\u001b[38;5;33m \u001b[0m│\u001b[38;5;128m \u001b[0m\u001b[38;5;128m     0.0     \u001b[0m\u001b[38;5;128m \u001b[0m│\u001b[32m \u001b[0m\u001b[32mTrainingPlan\u001b[0m\u001b[32m \u001b[0m│\n",
       "│\u001b[38;5;33m \u001b[0m\u001b[38;5;33m         lr_min         \u001b[0m\u001b[38;5;33m \u001b[0m│\u001b[38;5;128m \u001b[0m\u001b[38;5;128m      0      \u001b[0m\u001b[38;5;128m \u001b[0m│\u001b[32m \u001b[0m\u001b[32mTrainingPlan\u001b[0m\u001b[32m \u001b[0m│\n",
       "│\u001b[38;5;33m \u001b[0m\u001b[38;5;33m     max_kl_weight      \u001b[0m\u001b[38;5;33m \u001b[0m│\u001b[38;5;128m \u001b[0m\u001b[38;5;128m     1.0     \u001b[0m\u001b[38;5;128m \u001b[0m│\u001b[32m \u001b[0m\u001b[32mTrainingPlan\u001b[0m\u001b[32m \u001b[0m│\n",
       "│\u001b[38;5;33m \u001b[0m\u001b[38;5;33m     min_kl_weight      \u001b[0m\u001b[38;5;33m \u001b[0m│\u001b[38;5;128m \u001b[0m\u001b[38;5;128m     0.0     \u001b[0m\u001b[38;5;128m \u001b[0m│\u001b[32m \u001b[0m\u001b[32mTrainingPlan\u001b[0m\u001b[32m \u001b[0m│\n",
       "└──────────────────────────┴───────────────┴──────────────┘\n"
      ]
     },
     "metadata": {},
     "output_type": "display_data"
    },
    {
     "data": {
      "text/html": [
       "<pre style=\"white-space:pre;overflow-x:auto;line-height:normal;font-family:Menlo,'DejaVu Sans Mono',consolas,'Courier New',monospace\"><span style=\"font-style: italic\">       Available metrics        </span>\n",
       "┏━━━━━━━━━━━━━━━━━┳━━━━━━━━━━━━┓\n",
       "┃<span style=\"font-weight: bold\">     Metric      </span>┃<span style=\"font-weight: bold\">    Mode    </span>┃\n",
       "┡━━━━━━━━━━━━━━━━━╇━━━━━━━━━━━━┩\n",
       "│<span style=\"color: #0087ff; text-decoration-color: #0087ff\"> validation_loss </span>│<span style=\"color: #af00d7; text-decoration-color: #af00d7\">    min     </span>│\n",
       "└─────────────────┴────────────┘\n",
       "</pre>\n"
      ],
      "text/plain": [
       "\u001b[3m       Available metrics        \u001b[0m\n",
       "┏━━━━━━━━━━━━━━━━━┳━━━━━━━━━━━━┓\n",
       "┃\u001b[1m \u001b[0m\u001b[1m    Metric     \u001b[0m\u001b[1m \u001b[0m┃\u001b[1m \u001b[0m\u001b[1m   Mode   \u001b[0m\u001b[1m \u001b[0m┃\n",
       "┡━━━━━━━━━━━━━━━━━╇━━━━━━━━━━━━┩\n",
       "│\u001b[38;5;33m \u001b[0m\u001b[38;5;33mvalidation_loss\u001b[0m\u001b[38;5;33m \u001b[0m│\u001b[38;5;128m \u001b[0m\u001b[38;5;128m   min    \u001b[0m\u001b[38;5;128m \u001b[0m│\n",
       "└─────────────────┴────────────┘\n"
      ]
     },
     "metadata": {},
     "output_type": "display_data"
    },
    {
     "data": {
      "text/html": [
       "<pre style=\"white-space:pre;overflow-x:auto;line-height:normal;font-family:Menlo,'DejaVu Sans Mono',consolas,'Courier New',monospace\"><span style=\"font-style: italic\">                         Default search space                         </span>\n",
       "┏━━━━━━━━━━━━━━━━┳━━━━━━━━━━━━━━━━━┳━━━━━━━━━━━━━┳━━━━━━━━━━━━━━━━━━━┓\n",
       "┃<span style=\"font-weight: bold\"> Hyperparameter </span>┃<span style=\"font-weight: bold\"> Sample function </span>┃<span style=\"font-weight: bold\">  Arguments  </span>┃<span style=\"font-weight: bold\"> Keyword arguments </span>┃\n",
       "┡━━━━━━━━━━━━━━━━╇━━━━━━━━━━━━━━━━━╇━━━━━━━━━━━━━╇━━━━━━━━━━━━━━━━━━━┩\n",
       "│<span style=\"color: #0087ff; text-decoration-color: #0087ff\">    n_hidden    </span>│<span style=\"color: #af00d7; text-decoration-color: #af00d7\">     choice      </span>│<span style=\"color: #008000; text-decoration-color: #008000\"> [[64, 128]] </span>│<span style=\"color: #ff8700; text-decoration-color: #ff8700\">        {}         </span>│\n",
       "└────────────────┴─────────────────┴─────────────┴───────────────────┘\n",
       "</pre>\n"
      ],
      "text/plain": [
       "\u001b[3m                         Default search space                         \u001b[0m\n",
       "┏━━━━━━━━━━━━━━━━┳━━━━━━━━━━━━━━━━━┳━━━━━━━━━━━━━┳━━━━━━━━━━━━━━━━━━━┓\n",
       "┃\u001b[1m \u001b[0m\u001b[1mHyperparameter\u001b[0m\u001b[1m \u001b[0m┃\u001b[1m \u001b[0m\u001b[1mSample function\u001b[0m\u001b[1m \u001b[0m┃\u001b[1m \u001b[0m\u001b[1m Arguments \u001b[0m\u001b[1m \u001b[0m┃\u001b[1m \u001b[0m\u001b[1mKeyword arguments\u001b[0m\u001b[1m \u001b[0m┃\n",
       "┡━━━━━━━━━━━━━━━━╇━━━━━━━━━━━━━━━━━╇━━━━━━━━━━━━━╇━━━━━━━━━━━━━━━━━━━┩\n",
       "│\u001b[38;5;33m \u001b[0m\u001b[38;5;33m   n_hidden   \u001b[0m\u001b[38;5;33m \u001b[0m│\u001b[38;5;128m \u001b[0m\u001b[38;5;128m    choice     \u001b[0m\u001b[38;5;128m \u001b[0m│\u001b[32m \u001b[0m\u001b[32m[[64, 128]]\u001b[0m\u001b[32m \u001b[0m│\u001b[38;5;208m \u001b[0m\u001b[38;5;208m       {}        \u001b[0m\u001b[38;5;208m \u001b[0m│\n",
       "└────────────────┴─────────────────┴─────────────┴───────────────────┘\n"
      ]
     },
     "metadata": {},
     "output_type": "display_data"
    }
   ],
   "source": [
    "# set up the object and view the available paramaters that can be tuned\n",
    "\n",
    "model_cls = scvi.model.SCVI\n",
    "model_cls.setup_anndata(adata_mac, layer=\"counts\", \n",
    "                        batch_key='patient.seqbatch')\n",
    "\n",
    "scvi_tuner = autotune.ModelTuner(model_cls)\n",
    "scvi_tuner.info()"
   ]
  },
  {
   "cell_type": "code",
   "execution_count": 13,
   "id": "02fedb24-8f0b-4b50-87af-1114b9608693",
   "metadata": {},
   "outputs": [],
   "source": [
    "# specify which variables will be tested\n",
    "search_space = {\n",
    "    \"n_latent\": tune.choice([10, 30, 50]),\n",
    "    \"n_hidden\": tune.choice([60, 128, 256]),\n",
    "    \"n_layers\": tune.choice([1, 2, 3]),\n",
    "    \"lr\": tune.loguniform(1e-4, 1e-2),\n",
    "    \"gene_likelihood\": tune.choice([\"nb\", \"zinb\"])\n",
    "}"
   ]
  },
  {
   "cell_type": "code",
   "execution_count": 14,
   "id": "c75e6fe7-8788-4a28-9556-8273343deb51",
   "metadata": {},
   "outputs": [
    {
     "name": "stderr",
     "output_type": "stream",
     "text": [
      "2024-12-12 15:41:19,781\tINFO worker.py:1633 -- Started a local Ray instance. View the dashboard at \u001b[1m\u001b[32m127.0.0.1:8265 \u001b[39m\u001b[22m\n"
     ]
    },
    {
     "data": {
      "application/vnd.jupyter.widget-view+json": {
       "model_id": "1072ff80f2494c4cb2b1e3eacccea905",
       "version_major": 2,
       "version_minor": 0
      },
      "text/html": [
       "<div class=\"lm-Widget p-Widget lm-Panel p-Panel jp-Cell-outputWrapper\">\n",
       "    <div style=\"margin-left: 50px;display: flex;flex-direction: row;align-items: center\">\n",
       "        <div class=\"jp-RenderedHTMLCommon\" style=\"display: flex; flex-direction: row;\">\n",
       "  <svg viewBox=\"0 0 567 224\" fill=\"none\" xmlns=\"http://www.w3.org/2000/svg\" style=\"height: 3em;\">\n",
       "    <g clip-path=\"url(#clip0_4338_178347)\">\n",
       "        <path d=\"M341.29 165.561H355.29L330.13 129.051C345.63 123.991 354.21 112.051 354.21 94.2307C354.21 71.3707 338.72 58.1807 311.88 58.1807H271V165.561H283.27V131.661H311.8C314.25 131.661 316.71 131.501 319.01 131.351L341.25 165.561H341.29ZM283.29 119.851V70.0007H311.82C331.3 70.0007 342.34 78.2907 342.34 94.5507C342.34 111.271 331.34 119.861 311.82 119.861L283.29 119.851ZM451.4 138.411L463.4 165.561H476.74L428.74 58.1807H416L367.83 165.561H380.83L392.83 138.411H451.4ZM446.19 126.601H398L422 72.1407L446.24 126.601H446.19ZM526.11 128.741L566.91 58.1807H554.35L519.99 114.181L485.17 58.1807H472.44L514.01 129.181V165.541H526.13V128.741H526.11Z\" fill=\"var(--jp-ui-font-color0)\"/>\n",
       "        <path d=\"M82.35 104.44C84.0187 97.8827 87.8248 92.0678 93.1671 87.9146C98.5094 83.7614 105.083 81.5067 111.85 81.5067C118.617 81.5067 125.191 83.7614 130.533 87.9146C135.875 92.0678 139.681 97.8827 141.35 104.44H163.75C164.476 101.562 165.622 98.8057 167.15 96.2605L127.45 56.5605C121.071 60.3522 113.526 61.6823 106.235 60.3005C98.9443 58.9187 92.4094 54.9203 87.8602 49.0574C83.3109 43.1946 81.0609 35.8714 81.5332 28.4656C82.0056 21.0599 85.1679 14.0819 90.4252 8.8446C95.6824 3.60726 102.672 0.471508 110.08 0.0272655C117.487 -0.416977 124.802 1.86091 130.647 6.4324C136.493 11.0039 140.467 17.5539 141.821 24.8501C143.175 32.1463 141.816 39.6859 138 46.0505L177.69 85.7505C182.31 82.9877 187.58 81.4995 192.962 81.4375C198.345 81.3755 203.648 82.742 208.33 85.3976C213.012 88.0532 216.907 91.9029 219.616 96.5544C222.326 101.206 223.753 106.492 223.753 111.875C223.753 117.258 222.326 122.545 219.616 127.197C216.907 131.848 213.012 135.698 208.33 138.353C203.648 141.009 198.345 142.375 192.962 142.313C187.58 142.251 182.31 140.763 177.69 138L138 177.7C141.808 184.071 143.155 191.614 141.79 198.91C140.424 206.205 136.44 212.75 130.585 217.313C124.731 221.875 117.412 224.141 110.004 223.683C102.596 223.226 95.6103 220.077 90.3621 214.828C85.1139 209.58 81.9647 202.595 81.5072 195.187C81.0497 187.779 83.3154 180.459 87.878 174.605C92.4405 168.751 98.9853 164.766 106.281 163.401C113.576 162.035 121.119 163.383 127.49 167.19L167.19 127.49C165.664 124.941 164.518 122.182 163.79 119.3H141.39C139.721 125.858 135.915 131.673 130.573 135.826C125.231 139.98 118.657 142.234 111.89 142.234C105.123 142.234 98.5494 139.98 93.2071 135.826C87.8648 131.673 84.0587 125.858 82.39 119.3H60C58.1878 126.495 53.8086 132.78 47.6863 136.971C41.5641 141.163 34.1211 142.972 26.7579 142.059C19.3947 141.146 12.6191 137.574 7.70605 132.014C2.79302 126.454 0.0813599 119.29 0.0813599 111.87C0.0813599 104.451 2.79302 97.2871 7.70605 91.7272C12.6191 86.1673 19.3947 82.5947 26.7579 81.6817C34.1211 80.7686 41.5641 82.5781 47.6863 86.7696C53.8086 90.9611 58.1878 97.2456 60 104.44H82.35ZM100.86 204.32C103.407 206.868 106.759 208.453 110.345 208.806C113.93 209.159 117.527 208.258 120.522 206.256C123.517 204.254 125.725 201.276 126.771 197.828C127.816 194.38 127.633 190.677 126.253 187.349C124.874 184.021 122.383 181.274 119.205 179.577C116.027 177.88 112.359 177.337 108.826 178.042C105.293 178.746 102.113 180.654 99.8291 183.44C97.5451 186.226 96.2979 189.718 96.3 193.32C96.2985 195.364 96.7006 197.388 97.4831 199.275C98.2656 201.163 99.4132 202.877 100.86 204.32ZM204.32 122.88C206.868 120.333 208.453 116.981 208.806 113.396C209.159 109.811 208.258 106.214 206.256 103.219C204.254 100.223 201.275 98.0151 197.827 96.97C194.38 95.9249 190.676 96.1077 187.348 97.4873C184.02 98.8669 181.274 101.358 179.577 104.536C177.879 107.714 177.337 111.382 178.041 114.915C178.746 118.448 180.653 121.627 183.439 123.911C186.226 126.195 189.717 127.443 193.32 127.44C195.364 127.443 197.388 127.042 199.275 126.259C201.163 125.476 202.878 124.328 204.32 122.88ZM122.88 19.4205C120.333 16.8729 116.981 15.2876 113.395 14.9347C109.81 14.5817 106.213 15.483 103.218 17.4849C100.223 19.4868 98.0146 22.4654 96.9696 25.9131C95.9245 29.3608 96.1073 33.0642 97.4869 36.3922C98.8665 39.7202 101.358 42.4668 104.535 44.1639C107.713 45.861 111.381 46.4036 114.914 45.6992C118.447 44.9949 121.627 43.0871 123.911 40.301C126.195 37.515 127.442 34.0231 127.44 30.4205C127.44 28.3772 127.038 26.3539 126.255 24.4664C125.473 22.5788 124.326 20.8642 122.88 19.4205ZM19.42 100.86C16.8725 103.408 15.2872 106.76 14.9342 110.345C14.5813 113.93 15.4826 117.527 17.4844 120.522C19.4863 123.518 22.4649 125.726 25.9127 126.771C29.3604 127.816 33.0638 127.633 36.3918 126.254C39.7198 124.874 42.4664 122.383 44.1635 119.205C45.8606 116.027 46.4032 112.359 45.6988 108.826C44.9944 105.293 43.0866 102.114 40.3006 99.8296C37.5145 97.5455 34.0227 96.2983 30.42 96.3005C26.2938 96.3018 22.337 97.9421 19.42 100.86ZM100.86 100.86C98.3125 103.408 96.7272 106.76 96.3742 110.345C96.0213 113.93 96.9226 117.527 98.9244 120.522C100.926 123.518 103.905 125.726 107.353 126.771C110.8 127.816 114.504 127.633 117.832 126.254C121.16 124.874 123.906 122.383 125.604 119.205C127.301 116.027 127.843 112.359 127.139 108.826C126.434 105.293 124.527 102.114 121.741 99.8296C118.955 97.5455 115.463 96.2983 111.86 96.3005C109.817 96.299 107.793 96.701 105.905 97.4835C104.018 98.2661 102.303 99.4136 100.86 100.86Z\" fill=\"#00AEEF\"/>\n",
       "    </g>\n",
       "    <defs>\n",
       "        <clipPath id=\"clip0_4338_178347\">\n",
       "            <rect width=\"566.93\" height=\"223.75\" fill=\"white\"/>\n",
       "        </clipPath>\n",
       "    </defs>\n",
       "  </svg>\n",
       "</div>\n",
       "\n",
       "        <table class=\"jp-RenderedHTMLCommon\" style=\"border-collapse: collapse;color: var(--jp-ui-font-color1);font-size: var(--jp-ui-font-size1);\">\n",
       "    <tr>\n",
       "        <td style=\"text-align: left\"><b>Python version:</b></td>\n",
       "        <td style=\"text-align: left\"><b>3.9.16</b></td>\n",
       "    </tr>\n",
       "    <tr>\n",
       "        <td style=\"text-align: left\"><b>Ray version:</b></td>\n",
       "        <td style=\"text-align: left\"><b>2.7.0</b></td>\n",
       "    </tr>\n",
       "    <tr>\n",
       "    <td style=\"text-align: left\"><b>Dashboard:</b></td>\n",
       "    <td style=\"text-align: left\"><b><a href=\"http://127.0.0.1:8265\" target=\"_blank\">http://127.0.0.1:8265</a></b></td>\n",
       "</tr>\n",
       "\n",
       "</table>\n",
       "\n",
       "    </div>\n",
       "</div>\n"
      ],
      "text/plain": [
       "RayContext(dashboard_url='127.0.0.1:8265', python_version='3.9.16', ray_version='2.7.0', ray_commit='b4bba4717f5ba04ee25580fe8f88eed63ef0c5dc', protocol_version=None)"
      ]
     },
     "execution_count": 14,
     "metadata": {},
     "output_type": "execute_result"
    }
   ],
   "source": [
    "ray.init(log_to_driver=False)"
   ]
  },
  {
   "cell_type": "code",
   "execution_count": 15,
   "id": "a37731f4-a52b-4748-bf3b-4c3d1513edac",
   "metadata": {},
   "outputs": [
    {
     "data": {
      "text/html": [
       "<div class=\"tuneStatus\">\n",
       "  <div style=\"display: flex;flex-direction: row\">\n",
       "    <div style=\"display: flex;flex-direction: column;\">\n",
       "      <h3>Tune Status</h3>\n",
       "      <table>\n",
       "<tbody>\n",
       "<tr><td>Current time:</td><td>2024-12-12 15:43:15</td></tr>\n",
       "<tr><td>Running for: </td><td>00:01:50.48        </td></tr>\n",
       "<tr><td>Memory:      </td><td>178.5/503.5 GiB    </td></tr>\n",
       "</tbody>\n",
       "</table>\n",
       "    </div>\n",
       "    <div class=\"vDivider\"></div>\n",
       "    <div class=\"systemInfo\">\n",
       "      <h3>System Info</h3>\n",
       "      Using AsyncHyperBand: num_stopped=86<br>Bracket: Iter 64.000: None | Iter 32.000: None | Iter 16.000: -846.4057922363281 | Iter 8.000: -857.9407653808594 | Iter 4.000: -888.1440734863281 | Iter 2.000: -975.8074340820312 | Iter 1.000: -1142.0203857421875<br>Logical resource usage: 0/128 CPUs, 1.0/2 GPUs (0.0/1.0 accelerator_type:RTX)\n",
       "    </div>\n",
       "    \n",
       "  </div>\n",
       "  <div class=\"hDivider\"></div>\n",
       "  <div class=\"trialStatus\">\n",
       "    <h3>Trial Status</h3>\n",
       "    <table>\n",
       "<thead>\n",
       "<tr><th>Trial name         </th><th>status    </th><th>loc                 </th><th style=\"text-align: right;\">  n_latent</th><th style=\"text-align: right;\">  n_hidden</th><th style=\"text-align: right;\">  n_layers</th><th style=\"text-align: right;\">         lr</th><th>gene_likelihood  </th><th style=\"text-align: right;\">  validation_loss</th></tr>\n",
       "</thead>\n",
       "<tbody>\n",
       "<tr><td>_trainable_cf761e3f</td><td>TERMINATED</td><td>163.1.64.158:2378036</td><td style=\"text-align: right;\">        50</td><td style=\"text-align: right;\">       128</td><td style=\"text-align: right;\">         1</td><td style=\"text-align: right;\">0.00979872 </td><td>zinb             </td><td style=\"text-align: right;\">          865.706</td></tr>\n",
       "<tr><td>_trainable_ed222435</td><td>TERMINATED</td><td>163.1.64.158:2378954</td><td style=\"text-align: right;\">        30</td><td style=\"text-align: right;\">        60</td><td style=\"text-align: right;\">         1</td><td style=\"text-align: right;\">0.00231722 </td><td>nb               </td><td style=\"text-align: right;\">          943.954</td></tr>\n",
       "<tr><td>_trainable_2714cbc6</td><td>TERMINATED</td><td>163.1.64.158:2378954</td><td style=\"text-align: right;\">        30</td><td style=\"text-align: right;\">        60</td><td style=\"text-align: right;\">         2</td><td style=\"text-align: right;\">0.00102887 </td><td>nb               </td><td style=\"text-align: right;\">         1208.12 </td></tr>\n",
       "<tr><td>_trainable_e903f6ec</td><td>TERMINATED</td><td>163.1.64.158:2378954</td><td style=\"text-align: right;\">        50</td><td style=\"text-align: right;\">        60</td><td style=\"text-align: right;\">         1</td><td style=\"text-align: right;\">0.000154048</td><td>nb               </td><td style=\"text-align: right;\">         1375    </td></tr>\n",
       "<tr><td>_trainable_4f64b756</td><td>TERMINATED</td><td>163.1.64.158:2378954</td><td style=\"text-align: right;\">        10</td><td style=\"text-align: right;\">       128</td><td style=\"text-align: right;\">         3</td><td style=\"text-align: right;\">0.00327881 </td><td>nb               </td><td style=\"text-align: right;\">         1062.26 </td></tr>\n",
       "<tr><td>_trainable_f371c47d</td><td>TERMINATED</td><td>163.1.64.158:2378954</td><td style=\"text-align: right;\">        30</td><td style=\"text-align: right;\">       128</td><td style=\"text-align: right;\">         1</td><td style=\"text-align: right;\">0.000113229</td><td>zinb             </td><td style=\"text-align: right;\">         1338.62 </td></tr>\n",
       "<tr><td>_trainable_820cc498</td><td>TERMINATED</td><td>163.1.64.158:2378954</td><td style=\"text-align: right;\">        50</td><td style=\"text-align: right;\">       128</td><td style=\"text-align: right;\">         3</td><td style=\"text-align: right;\">0.000852409</td><td>nb               </td><td style=\"text-align: right;\">         1383.13 </td></tr>\n",
       "<tr><td>_trainable_cf4bee98</td><td>TERMINATED</td><td>163.1.64.158:2378954</td><td style=\"text-align: right;\">        50</td><td style=\"text-align: right;\">       256</td><td style=\"text-align: right;\">         2</td><td style=\"text-align: right;\">0.00383197 </td><td>zinb             </td><td style=\"text-align: right;\">          853.862</td></tr>\n",
       "<tr><td>_trainable_35b3f20d</td><td>TERMINATED</td><td>163.1.64.158:2378036</td><td style=\"text-align: right;\">        10</td><td style=\"text-align: right;\">       128</td><td style=\"text-align: right;\">         1</td><td style=\"text-align: right;\">0.00627208 </td><td>zinb             </td><td style=\"text-align: right;\">          849.956</td></tr>\n",
       "<tr><td>_trainable_e18a46bd</td><td>TERMINATED</td><td>163.1.64.158:2378036</td><td style=\"text-align: right;\">        50</td><td style=\"text-align: right;\">       128</td><td style=\"text-align: right;\">         1</td><td style=\"text-align: right;\">0.00338517 </td><td>zinb             </td><td style=\"text-align: right;\">          867.936</td></tr>\n",
       "<tr><td>_trainable_b11a8627</td><td>TERMINATED</td><td>163.1.64.158:2378954</td><td style=\"text-align: right;\">        10</td><td style=\"text-align: right;\">       256</td><td style=\"text-align: right;\">         2</td><td style=\"text-align: right;\">0.00454719 </td><td>nb               </td><td style=\"text-align: right;\">          852.032</td></tr>\n",
       "<tr><td>_trainable_e175a2f4</td><td>TERMINATED</td><td>163.1.64.158:2378036</td><td style=\"text-align: right;\">        10</td><td style=\"text-align: right;\">        60</td><td style=\"text-align: right;\">         2</td><td style=\"text-align: right;\">0.0018831  </td><td>nb               </td><td style=\"text-align: right;\">         1250.82 </td></tr>\n",
       "<tr><td>_trainable_43ebd2ee</td><td>TERMINATED</td><td>163.1.64.158:2378036</td><td style=\"text-align: right;\">        30</td><td style=\"text-align: right;\">       256</td><td style=\"text-align: right;\">         2</td><td style=\"text-align: right;\">0.00410425 </td><td>zinb             </td><td style=\"text-align: right;\">          838.426</td></tr>\n",
       "<tr><td>_trainable_35c47da7</td><td>TERMINATED</td><td>163.1.64.158:2378954</td><td style=\"text-align: right;\">        50</td><td style=\"text-align: right;\">       256</td><td style=\"text-align: right;\">         1</td><td style=\"text-align: right;\">0.00229172 </td><td>nb               </td><td style=\"text-align: right;\">          971.513</td></tr>\n",
       "<tr><td>_trainable_fcb55e67</td><td>TERMINATED</td><td>163.1.64.158:2378954</td><td style=\"text-align: right;\">        30</td><td style=\"text-align: right;\">        60</td><td style=\"text-align: right;\">         2</td><td style=\"text-align: right;\">0.000921894</td><td>zinb             </td><td style=\"text-align: right;\">         1285.05 </td></tr>\n",
       "<tr><td>_trainable_c3a7ea63</td><td>TERMINATED</td><td>163.1.64.158:2378954</td><td style=\"text-align: right;\">        10</td><td style=\"text-align: right;\">       256</td><td style=\"text-align: right;\">         2</td><td style=\"text-align: right;\">0.000174142</td><td>nb               </td><td style=\"text-align: right;\">         1400.73 </td></tr>\n",
       "<tr><td>_trainable_9cd3519b</td><td>TERMINATED</td><td>163.1.64.158:2378954</td><td style=\"text-align: right;\">        50</td><td style=\"text-align: right;\">       128</td><td style=\"text-align: right;\">         3</td><td style=\"text-align: right;\">0.00542406 </td><td>nb               </td><td style=\"text-align: right;\">         2254.3  </td></tr>\n",
       "<tr><td>_trainable_8b039412</td><td>TERMINATED</td><td>163.1.64.158:2378954</td><td style=\"text-align: right;\">        30</td><td style=\"text-align: right;\">       128</td><td style=\"text-align: right;\">         3</td><td style=\"text-align: right;\">0.00130658 </td><td>zinb             </td><td style=\"text-align: right;\">         1065.03 </td></tr>\n",
       "<tr><td>_trainable_a3a765c7</td><td>TERMINATED</td><td>163.1.64.158:2378036</td><td style=\"text-align: right;\">        10</td><td style=\"text-align: right;\">       256</td><td style=\"text-align: right;\">         3</td><td style=\"text-align: right;\">0.000539462</td><td>zinb             </td><td style=\"text-align: right;\">         1325.46 </td></tr>\n",
       "<tr><td>_trainable_22344811</td><td>TERMINATED</td><td>163.1.64.158:2378036</td><td style=\"text-align: right;\">        50</td><td style=\"text-align: right;\">       256</td><td style=\"text-align: right;\">         3</td><td style=\"text-align: right;\">0.000112644</td><td>zinb             </td><td style=\"text-align: right;\">         1368.34 </td></tr>\n",
       "<tr><td>_trainable_dae7b802</td><td>TERMINATED</td><td>163.1.64.158:2378954</td><td style=\"text-align: right;\">        10</td><td style=\"text-align: right;\">       256</td><td style=\"text-align: right;\">         1</td><td style=\"text-align: right;\">0.00976234 </td><td>zinb             </td><td style=\"text-align: right;\">         1413.84 </td></tr>\n",
       "<tr><td>_trainable_97a1d8d5</td><td>TERMINATED</td><td>163.1.64.158:2378954</td><td style=\"text-align: right;\">        30</td><td style=\"text-align: right;\">       256</td><td style=\"text-align: right;\">         2</td><td style=\"text-align: right;\">0.00698565 </td><td>zinb             </td><td style=\"text-align: right;\">         1037.04 </td></tr>\n",
       "<tr><td>_trainable_a09c2f24</td><td>TERMINATED</td><td>163.1.64.158:2378036</td><td style=\"text-align: right;\">        30</td><td style=\"text-align: right;\">       128</td><td style=\"text-align: right;\">         1</td><td style=\"text-align: right;\">0.000403118</td><td>zinb             </td><td style=\"text-align: right;\">         1136.98 </td></tr>\n",
       "<tr><td>_trainable_830820b0</td><td>TERMINATED</td><td>163.1.64.158:2378036</td><td style=\"text-align: right;\">        10</td><td style=\"text-align: right;\">       256</td><td style=\"text-align: right;\">         2</td><td style=\"text-align: right;\">0.00695942 </td><td>zinb             </td><td style=\"text-align: right;\">         1623.25 </td></tr>\n",
       "<tr><td>_trainable_ff726b50</td><td>TERMINATED</td><td>163.1.64.158:2378954</td><td style=\"text-align: right;\">        30</td><td style=\"text-align: right;\">       128</td><td style=\"text-align: right;\">         1</td><td style=\"text-align: right;\">0.00658719 </td><td>zinb             </td><td style=\"text-align: right;\">          843.671</td></tr>\n",
       "<tr><td>_trainable_a35484aa</td><td>TERMINATED</td><td>163.1.64.158:2378036</td><td style=\"text-align: right;\">        10</td><td style=\"text-align: right;\">       128</td><td style=\"text-align: right;\">         2</td><td style=\"text-align: right;\">0.00165289 </td><td>zinb             </td><td style=\"text-align: right;\">         1043.32 </td></tr>\n",
       "<tr><td>_trainable_d3be105a</td><td>TERMINATED</td><td>163.1.64.158:2378036</td><td style=\"text-align: right;\">        10</td><td style=\"text-align: right;\">       256</td><td style=\"text-align: right;\">         1</td><td style=\"text-align: right;\">0.00979409 </td><td>zinb             </td><td style=\"text-align: right;\">          861.307</td></tr>\n",
       "<tr><td>_trainable_57a02602</td><td>TERMINATED</td><td>163.1.64.158:2378036</td><td style=\"text-align: right;\">        30</td><td style=\"text-align: right;\">       256</td><td style=\"text-align: right;\">         2</td><td style=\"text-align: right;\">0.00266987 </td><td>zinb             </td><td style=\"text-align: right;\">          904.109</td></tr>\n",
       "<tr><td>_trainable_8c9bbc1d</td><td>TERMINATED</td><td>163.1.64.158:2378036</td><td style=\"text-align: right;\">        10</td><td style=\"text-align: right;\">       128</td><td style=\"text-align: right;\">         1</td><td style=\"text-align: right;\">0.00971639 </td><td>zinb             </td><td style=\"text-align: right;\">          855.185</td></tr>\n",
       "<tr><td>_trainable_5f39f826</td><td>TERMINATED</td><td>163.1.64.158:2378954</td><td style=\"text-align: right;\">        30</td><td style=\"text-align: right;\">       128</td><td style=\"text-align: right;\">         2</td><td style=\"text-align: right;\">0.00505578 </td><td>zinb             </td><td style=\"text-align: right;\">          846.635</td></tr>\n",
       "<tr><td>_trainable_5135b762</td><td>TERMINATED</td><td>163.1.64.158:2378036</td><td style=\"text-align: right;\">        30</td><td style=\"text-align: right;\">        60</td><td style=\"text-align: right;\">         1</td><td style=\"text-align: right;\">0.000504954</td><td>zinb             </td><td style=\"text-align: right;\">         1230.71 </td></tr>\n",
       "<tr><td>_trainable_3dac4f13</td><td>TERMINATED</td><td>163.1.64.158:2378036</td><td style=\"text-align: right;\">        30</td><td style=\"text-align: right;\">       256</td><td style=\"text-align: right;\">         1</td><td style=\"text-align: right;\">0.00731505 </td><td>zinb             </td><td style=\"text-align: right;\">         1824.22 </td></tr>\n",
       "<tr><td>_trainable_9284d886</td><td>TERMINATED</td><td>163.1.64.158:2378036</td><td style=\"text-align: right;\">        30</td><td style=\"text-align: right;\">        60</td><td style=\"text-align: right;\">         2</td><td style=\"text-align: right;\">0.00279066 </td><td>zinb             </td><td style=\"text-align: right;\">         1001.78 </td></tr>\n",
       "<tr><td>_trainable_d4d522d0</td><td>TERMINATED</td><td>163.1.64.158:2378036</td><td style=\"text-align: right;\">        30</td><td style=\"text-align: right;\">       128</td><td style=\"text-align: right;\">         1</td><td style=\"text-align: right;\">0.00123975 </td><td>zinb             </td><td style=\"text-align: right;\">          979.319</td></tr>\n",
       "<tr><td>_trainable_64be6505</td><td>TERMINATED</td><td>163.1.64.158:2378036</td><td style=\"text-align: right;\">        30</td><td style=\"text-align: right;\">        60</td><td style=\"text-align: right;\">         2</td><td style=\"text-align: right;\">0.000290298</td><td>zinb             </td><td style=\"text-align: right;\">         1328.41 </td></tr>\n",
       "<tr><td>_trainable_21e3f8e2</td><td>TERMINATED</td><td>163.1.64.158:2378036</td><td style=\"text-align: right;\">        30</td><td style=\"text-align: right;\">       128</td><td style=\"text-align: right;\">         1</td><td style=\"text-align: right;\">0.00383168 </td><td>zinb             </td><td style=\"text-align: right;\">          837.709</td></tr>\n",
       "<tr><td>_trainable_9f4aefc8</td><td>TERMINATED</td><td>163.1.64.158:2378954</td><td style=\"text-align: right;\">        30</td><td style=\"text-align: right;\">       256</td><td style=\"text-align: right;\">         3</td><td style=\"text-align: right;\">0.00216355 </td><td>zinb             </td><td style=\"text-align: right;\">         1024.75 </td></tr>\n",
       "<tr><td>_trainable_0d41fa4e</td><td>TERMINATED</td><td>163.1.64.158:2378954</td><td style=\"text-align: right;\">        30</td><td style=\"text-align: right;\">       128</td><td style=\"text-align: right;\">         1</td><td style=\"text-align: right;\">0.000727336</td><td>nb               </td><td style=\"text-align: right;\">         1043.34 </td></tr>\n",
       "<tr><td>_trainable_3c18cc55</td><td>TERMINATED</td><td>163.1.64.158:2378954</td><td style=\"text-align: right;\">        30</td><td style=\"text-align: right;\">       128</td><td style=\"text-align: right;\">         2</td><td style=\"text-align: right;\">0.00155794 </td><td>zinb             </td><td style=\"text-align: right;\">         1297.7  </td></tr>\n",
       "<tr><td>_trainable_1a50d52a</td><td>TERMINATED</td><td>163.1.64.158:2378036</td><td style=\"text-align: right;\">        30</td><td style=\"text-align: right;\">        60</td><td style=\"text-align: right;\">         1</td><td style=\"text-align: right;\">0.00830851 </td><td>zinb             </td><td style=\"text-align: right;\">          843.676</td></tr>\n",
       "<tr><td>_trainable_c17a2a39</td><td>TERMINATED</td><td>163.1.64.158:2378954</td><td style=\"text-align: right;\">        30</td><td style=\"text-align: right;\">       256</td><td style=\"text-align: right;\">         2</td><td style=\"text-align: right;\">0.00415988 </td><td>nb               </td><td style=\"text-align: right;\">         1557.99 </td></tr>\n",
       "<tr><td>_trainable_9a1e9807</td><td>TERMINATED</td><td>163.1.64.158:2378954</td><td style=\"text-align: right;\">        50</td><td style=\"text-align: right;\">       128</td><td style=\"text-align: right;\">         3</td><td style=\"text-align: right;\">0.00328062 </td><td>zinb             </td><td style=\"text-align: right;\">         1027.26 </td></tr>\n",
       "<tr><td>_trainable_fe3bc640</td><td>TERMINATED</td><td>163.1.64.158:2378954</td><td style=\"text-align: right;\">        30</td><td style=\"text-align: right;\">       256</td><td style=\"text-align: right;\">         1</td><td style=\"text-align: right;\">0.00120567 </td><td>nb               </td><td style=\"text-align: right;\">         1018.59 </td></tr>\n",
       "<tr><td>_trainable_33a6a7a5</td><td>TERMINATED</td><td>163.1.64.158:2378954</td><td style=\"text-align: right;\">        30</td><td style=\"text-align: right;\">        60</td><td style=\"text-align: right;\">         2</td><td style=\"text-align: right;\">0.00274549 </td><td>zinb             </td><td style=\"text-align: right;\">         1042.42 </td></tr>\n",
       "<tr><td>_trainable_e4398edd</td><td>TERMINATED</td><td>163.1.64.158:2378954</td><td style=\"text-align: right;\">        50</td><td style=\"text-align: right;\">       128</td><td style=\"text-align: right;\">         1</td><td style=\"text-align: right;\">0.00380518 </td><td>zinb             </td><td style=\"text-align: right;\">          845.343</td></tr>\n",
       "<tr><td>_trainable_39ee4c58</td><td>TERMINATED</td><td>163.1.64.158:2378036</td><td style=\"text-align: right;\">        30</td><td style=\"text-align: right;\">       256</td><td style=\"text-align: right;\">         2</td><td style=\"text-align: right;\">0.00541721 </td><td>nb               </td><td style=\"text-align: right;\">         4132.86 </td></tr>\n",
       "<tr><td>_trainable_71b46754</td><td>TERMINATED</td><td>163.1.64.158:2378036</td><td style=\"text-align: right;\">        50</td><td style=\"text-align: right;\">       128</td><td style=\"text-align: right;\">         3</td><td style=\"text-align: right;\">0.00198734 </td><td>zinb             </td><td style=\"text-align: right;\">         1049.03 </td></tr>\n",
       "<tr><td>_trainable_aea3a515</td><td>TERMINATED</td><td>163.1.64.158:2378036</td><td style=\"text-align: right;\">        30</td><td style=\"text-align: right;\">       256</td><td style=\"text-align: right;\">         2</td><td style=\"text-align: right;\">0.000215294</td><td>nb               </td><td style=\"text-align: right;\">         1444.85 </td></tr>\n",
       "<tr><td>_trainable_4b9654ce</td><td>TERMINATED</td><td>163.1.64.158:2378036</td><td style=\"text-align: right;\">        30</td><td style=\"text-align: right;\">        60</td><td style=\"text-align: right;\">         1</td><td style=\"text-align: right;\">0.000839554</td><td>zinb             </td><td style=\"text-align: right;\">         1074.13 </td></tr>\n",
       "<tr><td>_trainable_84dee510</td><td>TERMINATED</td><td>163.1.64.158:2378036</td><td style=\"text-align: right;\">        50</td><td style=\"text-align: right;\">       128</td><td style=\"text-align: right;\">         3</td><td style=\"text-align: right;\">0.000651327</td><td>zinb             </td><td style=\"text-align: right;\">         1271.38 </td></tr>\n",
       "<tr><td>_trainable_9f9a6808</td><td>TERMINATED</td><td>163.1.64.158:2378036</td><td style=\"text-align: right;\">        30</td><td style=\"text-align: right;\">       256</td><td style=\"text-align: right;\">         2</td><td style=\"text-align: right;\">0.00145354 </td><td>nb               </td><td style=\"text-align: right;\">         1305.02 </td></tr>\n",
       "<tr><td>_trainable_bcace564</td><td>TERMINATED</td><td>163.1.64.158:2378954</td><td style=\"text-align: right;\">        30</td><td style=\"text-align: right;\">       128</td><td style=\"text-align: right;\">         1</td><td style=\"text-align: right;\">0.00111488 </td><td>zinb             </td><td style=\"text-align: right;\">          937.505</td></tr>\n",
       "<tr><td>_trainable_e54b5a0a</td><td>TERMINATED</td><td>163.1.64.158:2378036</td><td style=\"text-align: right;\">        50</td><td style=\"text-align: right;\">       256</td><td style=\"text-align: right;\">         2</td><td style=\"text-align: right;\">0.0046389  </td><td>zinb             </td><td style=\"text-align: right;\">         1461.31 </td></tr>\n",
       "<tr><td>_trainable_9b4ddfe9</td><td>TERMINATED</td><td>163.1.64.158:2378036</td><td style=\"text-align: right;\">        30</td><td style=\"text-align: right;\">       128</td><td style=\"text-align: right;\">         1</td><td style=\"text-align: right;\">0.00173866 </td><td>zinb             </td><td style=\"text-align: right;\">          914.932</td></tr>\n",
       "<tr><td>_trainable_00e923db</td><td>TERMINATED</td><td>163.1.64.158:2378954</td><td style=\"text-align: right;\">        10</td><td style=\"text-align: right;\">       256</td><td style=\"text-align: right;\">         3</td><td style=\"text-align: right;\">0.0081096  </td><td>nb               </td><td style=\"text-align: right;\">         1069.92 </td></tr>\n",
       "<tr><td>_trainable_8020c5b3</td><td>TERMINATED</td><td>163.1.64.158:2378036</td><td style=\"text-align: right;\">        30</td><td style=\"text-align: right;\">        60</td><td style=\"text-align: right;\">         2</td><td style=\"text-align: right;\">0.00373348 </td><td>zinb             </td><td style=\"text-align: right;\">          888.777</td></tr>\n",
       "<tr><td>_trainable_c2645fd9</td><td>TERMINATED</td><td>163.1.64.158:2378954</td><td style=\"text-align: right;\">        30</td><td style=\"text-align: right;\">       128</td><td style=\"text-align: right;\">         1</td><td style=\"text-align: right;\">0.00588083 </td><td>zinb             </td><td style=\"text-align: right;\">          858.691</td></tr>\n",
       "<tr><td>_trainable_135dcf9b</td><td>TERMINATED</td><td>163.1.64.158:2378036</td><td style=\"text-align: right;\">        10</td><td style=\"text-align: right;\">       256</td><td style=\"text-align: right;\">         2</td><td style=\"text-align: right;\">0.00248736 </td><td>zinb             </td><td style=\"text-align: right;\">          885.181</td></tr>\n",
       "<tr><td>_trainable_b5ad20d5</td><td>TERMINATED</td><td>163.1.64.158:2378036</td><td style=\"text-align: right;\">        50</td><td style=\"text-align: right;\">       128</td><td style=\"text-align: right;\">         3</td><td style=\"text-align: right;\">0.00310165 </td><td>zinb             </td><td style=\"text-align: right;\">         1016.1  </td></tr>\n",
       "<tr><td>_trainable_0e949d56</td><td>TERMINATED</td><td>163.1.64.158:2378954</td><td style=\"text-align: right;\">        30</td><td style=\"text-align: right;\">       256</td><td style=\"text-align: right;\">         1</td><td style=\"text-align: right;\">0.000336716</td><td>nb               </td><td style=\"text-align: right;\">         1221.54 </td></tr>\n",
       "<tr><td>_trainable_73b2f7bb</td><td>TERMINATED</td><td>163.1.64.158:2378954</td><td style=\"text-align: right;\">        10</td><td style=\"text-align: right;\">        60</td><td style=\"text-align: right;\">         2</td><td style=\"text-align: right;\">0.0010224  </td><td>zinb             </td><td style=\"text-align: right;\">         1239.99 </td></tr>\n",
       "<tr><td>_trainable_705950cb</td><td>TERMINATED</td><td>163.1.64.158:2378036</td><td style=\"text-align: right;\">        30</td><td style=\"text-align: right;\">       128</td><td style=\"text-align: right;\">         1</td><td style=\"text-align: right;\">0.00843154 </td><td>zinb             </td><td style=\"text-align: right;\">          864.728</td></tr>\n",
       "<tr><td>_trainable_d0c21fab</td><td>TERMINATED</td><td>163.1.64.158:2378954</td><td style=\"text-align: right;\">        30</td><td style=\"text-align: right;\">       256</td><td style=\"text-align: right;\">         2</td><td style=\"text-align: right;\">0.00222789 </td><td>zinb             </td><td style=\"text-align: right;\">         1008.07 </td></tr>\n",
       "<tr><td>_trainable_d42b8e20</td><td>TERMINATED</td><td>163.1.64.158:2378954</td><td style=\"text-align: right;\">        50</td><td style=\"text-align: right;\">       256</td><td style=\"text-align: right;\">         1</td><td style=\"text-align: right;\">0.00187091 </td><td>zinb             </td><td style=\"text-align: right;\">          919.723</td></tr>\n",
       "<tr><td>_trainable_8a2a192c</td><td>TERMINATED</td><td>163.1.64.158:2378954</td><td style=\"text-align: right;\">        10</td><td style=\"text-align: right;\">       128</td><td style=\"text-align: right;\">         3</td><td style=\"text-align: right;\">0.00449217 </td><td>nb               </td><td style=\"text-align: right;\">          995.374</td></tr>\n",
       "<tr><td>_trainable_acea496b</td><td>TERMINATED</td><td>163.1.64.158:2378036</td><td style=\"text-align: right;\">        30</td><td style=\"text-align: right;\">       128</td><td style=\"text-align: right;\">         1</td><td style=\"text-align: right;\">0.00673966 </td><td>zinb             </td><td style=\"text-align: right;\">          848.107</td></tr>\n",
       "<tr><td>_trainable_150c7969</td><td>TERMINATED</td><td>163.1.64.158:2378954</td><td style=\"text-align: right;\">        30</td><td style=\"text-align: right;\">       128</td><td style=\"text-align: right;\">         1</td><td style=\"text-align: right;\">0.00590513 </td><td>zinb             </td><td style=\"text-align: right;\">          848.635</td></tr>\n",
       "<tr><td>_trainable_90f7e5f1</td><td>TERMINATED</td><td>163.1.64.158:2378036</td><td style=\"text-align: right;\">        30</td><td style=\"text-align: right;\">       128</td><td style=\"text-align: right;\">         1</td><td style=\"text-align: right;\">0.00359285 </td><td>zinb             </td><td style=\"text-align: right;\">          837.844</td></tr>\n",
       "<tr><td>_trainable_62477080</td><td>TERMINATED</td><td>163.1.64.158:2378954</td><td style=\"text-align: right;\">        30</td><td style=\"text-align: right;\">       128</td><td style=\"text-align: right;\">         1</td><td style=\"text-align: right;\">0.000100334</td><td>zinb             </td><td style=\"text-align: right;\">         1348.06 </td></tr>\n",
       "<tr><td>_trainable_f674687f</td><td>TERMINATED</td><td>163.1.64.158:2378954</td><td style=\"text-align: right;\">        30</td><td style=\"text-align: right;\">       128</td><td style=\"text-align: right;\">         1</td><td style=\"text-align: right;\">0.00948562 </td><td>zinb             </td><td style=\"text-align: right;\">          868.282</td></tr>\n",
       "<tr><td>_trainable_21a7458a</td><td>TERMINATED</td><td>163.1.64.158:2378954</td><td style=\"text-align: right;\">        30</td><td style=\"text-align: right;\">       128</td><td style=\"text-align: right;\">         1</td><td style=\"text-align: right;\">0.00491191 </td><td>zinb             </td><td style=\"text-align: right;\">          905.371</td></tr>\n",
       "<tr><td>_trainable_f0cdcfd1</td><td>TERMINATED</td><td>163.1.64.158:2378036</td><td style=\"text-align: right;\">        30</td><td style=\"text-align: right;\">       128</td><td style=\"text-align: right;\">         1</td><td style=\"text-align: right;\">0.00301336 </td><td>zinb             </td><td style=\"text-align: right;\">          899.797</td></tr>\n",
       "<tr><td>_trainable_c31d0c9f</td><td>TERMINATED</td><td>163.1.64.158:2378954</td><td style=\"text-align: right;\">        30</td><td style=\"text-align: right;\">       128</td><td style=\"text-align: right;\">         1</td><td style=\"text-align: right;\">0.00145674 </td><td>zinb             </td><td style=\"text-align: right;\">         1000.65 </td></tr>\n",
       "<tr><td>_trainable_b61c1722</td><td>TERMINATED</td><td>163.1.64.158:2378954</td><td style=\"text-align: right;\">        30</td><td style=\"text-align: right;\">       128</td><td style=\"text-align: right;\">         1</td><td style=\"text-align: right;\">0.00404694 </td><td>zinb             </td><td style=\"text-align: right;\">          895.299</td></tr>\n",
       "<tr><td>_trainable_5e858c9d</td><td>TERMINATED</td><td>163.1.64.158:2378036</td><td style=\"text-align: right;\">        30</td><td style=\"text-align: right;\">       128</td><td style=\"text-align: right;\">         1</td><td style=\"text-align: right;\">0.00341456 </td><td>zinb             </td><td style=\"text-align: right;\">          897.318</td></tr>\n",
       "<tr><td>_trainable_89572dc1</td><td>TERMINATED</td><td>163.1.64.158:2378954</td><td style=\"text-align: right;\">        30</td><td style=\"text-align: right;\">        60</td><td style=\"text-align: right;\">         2</td><td style=\"text-align: right;\">0.00251734 </td><td>zinb             </td><td style=\"text-align: right;\">         1184.22 </td></tr>\n",
       "<tr><td>_trainable_4ecdeadd</td><td>TERMINATED</td><td>163.1.64.158:2378036</td><td style=\"text-align: right;\">        30</td><td style=\"text-align: right;\">       256</td><td style=\"text-align: right;\">         1</td><td style=\"text-align: right;\">0.000898902</td><td>zinb             </td><td style=\"text-align: right;\">          997.366</td></tr>\n",
       "<tr><td>_trainable_b4e4b2ce</td><td>TERMINATED</td><td>163.1.64.158:2378954</td><td style=\"text-align: right;\">        30</td><td style=\"text-align: right;\">       128</td><td style=\"text-align: right;\">         2</td><td style=\"text-align: right;\">0.00350803 </td><td>zinb             </td><td style=\"text-align: right;\">          996.955</td></tr>\n",
       "<tr><td>_trainable_f03d4180</td><td>TERMINATED</td><td>163.1.64.158:2378036</td><td style=\"text-align: right;\">        10</td><td style=\"text-align: right;\">       256</td><td style=\"text-align: right;\">         1</td><td style=\"text-align: right;\">0.00202526 </td><td>zinb             </td><td style=\"text-align: right;\">          903.936</td></tr>\n",
       "<tr><td>_trainable_401f1938</td><td>TERMINATED</td><td>163.1.64.158:2378954</td><td style=\"text-align: right;\">        30</td><td style=\"text-align: right;\">       128</td><td style=\"text-align: right;\">         3</td><td style=\"text-align: right;\">0.00767777 </td><td>zinb             </td><td style=\"text-align: right;\">         1016.53 </td></tr>\n",
       "<tr><td>_trainable_ef72e471</td><td>TERMINATED</td><td>163.1.64.158:2378954</td><td style=\"text-align: right;\">        50</td><td style=\"text-align: right;\">        60</td><td style=\"text-align: right;\">         2</td><td style=\"text-align: right;\">0.00137355 </td><td>nb               </td><td style=\"text-align: right;\">         1350.48 </td></tr>\n",
       "<tr><td>_trainable_e726d740</td><td>TERMINATED</td><td>163.1.64.158:2378036</td><td style=\"text-align: right;\">        30</td><td style=\"text-align: right;\">       128</td><td style=\"text-align: right;\">         1</td><td style=\"text-align: right;\">0.00623627 </td><td>zinb             </td><td style=\"text-align: right;\">          896.489</td></tr>\n",
       "<tr><td>_trainable_3ec44afa</td><td>TERMINATED</td><td>163.1.64.158:2378954</td><td style=\"text-align: right;\">        30</td><td style=\"text-align: right;\">       256</td><td style=\"text-align: right;\">         1</td><td style=\"text-align: right;\">0.000475573</td><td>zinb             </td><td style=\"text-align: right;\">          998.378</td></tr>\n",
       "<tr><td>_trainable_c5183a18</td><td>TERMINATED</td><td>163.1.64.158:2378954</td><td style=\"text-align: right;\">        30</td><td style=\"text-align: right;\">       128</td><td style=\"text-align: right;\">         2</td><td style=\"text-align: right;\">0.000774508</td><td>zinb             </td><td style=\"text-align: right;\">         1300.49 </td></tr>\n",
       "<tr><td>_trainable_8a67abab</td><td>TERMINATED</td><td>163.1.64.158:2378954</td><td style=\"text-align: right;\">        10</td><td style=\"text-align: right;\">       256</td><td style=\"text-align: right;\">         1</td><td style=\"text-align: right;\">0.00538401 </td><td>nb               </td><td style=\"text-align: right;\">          907.967</td></tr>\n",
       "<tr><td>_trainable_a074d1c0</td><td>TERMINATED</td><td>163.1.64.158:2378036</td><td style=\"text-align: right;\">        50</td><td style=\"text-align: right;\">       128</td><td style=\"text-align: right;\">         3</td><td style=\"text-align: right;\">0.000618131</td><td>zinb             </td><td style=\"text-align: right;\">         1337.06 </td></tr>\n",
       "<tr><td>_trainable_9038345b</td><td>TERMINATED</td><td>163.1.64.158:2378036</td><td style=\"text-align: right;\">        30</td><td style=\"text-align: right;\">        60</td><td style=\"text-align: right;\">         2</td><td style=\"text-align: right;\">0.00426978 </td><td>zinb             </td><td style=\"text-align: right;\">          836.967</td></tr>\n",
       "<tr><td>_trainable_55aa8f20</td><td>TERMINATED</td><td>163.1.64.158:2378954</td><td style=\"text-align: right;\">        30</td><td style=\"text-align: right;\">       256</td><td style=\"text-align: right;\">         1</td><td style=\"text-align: right;\">0.00167673 </td><td>zinb             </td><td style=\"text-align: right;\">          898.035</td></tr>\n",
       "<tr><td>_trainable_a9a61f98</td><td>TERMINATED</td><td>163.1.64.158:2378954</td><td style=\"text-align: right;\">        30</td><td style=\"text-align: right;\">       128</td><td style=\"text-align: right;\">         2</td><td style=\"text-align: right;\">0.00236434 </td><td>zinb             </td><td style=\"text-align: right;\">         1179.46 </td></tr>\n",
       "<tr><td>_trainable_aa8901d1</td><td>TERMINATED</td><td>163.1.64.158:2378954</td><td style=\"text-align: right;\">        30</td><td style=\"text-align: right;\">       256</td><td style=\"text-align: right;\">         1</td><td style=\"text-align: right;\">0.00112966 </td><td>nb               </td><td style=\"text-align: right;\">         1002.32 </td></tr>\n",
       "<tr><td>_trainable_0ee3b427</td><td>TERMINATED</td><td>163.1.64.158:2378954</td><td style=\"text-align: right;\">        10</td><td style=\"text-align: right;\">       128</td><td style=\"text-align: right;\">         3</td><td style=\"text-align: right;\">0.00296639 </td><td>zinb             </td><td style=\"text-align: right;\">         1002.36 </td></tr>\n",
       "<tr><td>_trainable_81921cea</td><td>TERMINATED</td><td>163.1.64.158:2378954</td><td style=\"text-align: right;\">        50</td><td style=\"text-align: right;\">        60</td><td style=\"text-align: right;\">         2</td><td style=\"text-align: right;\">0.000149701</td><td>zinb             </td><td style=\"text-align: right;\">         1299.31 </td></tr>\n",
       "<tr><td>_trainable_0e9a7614</td><td>TERMINATED</td><td>163.1.64.158:2378954</td><td style=\"text-align: right;\">        30</td><td style=\"text-align: right;\">       128</td><td style=\"text-align: right;\">         1</td><td style=\"text-align: right;\">0.00481981 </td><td>zinb             </td><td style=\"text-align: right;\">          863.953</td></tr>\n",
       "<tr><td>_trainable_985ba9bc</td><td>TERMINATED</td><td>163.1.64.158:2378954</td><td style=\"text-align: right;\">        30</td><td style=\"text-align: right;\">       256</td><td style=\"text-align: right;\">         2</td><td style=\"text-align: right;\">0.00923647 </td><td>nb               </td><td style=\"text-align: right;\">        24156.3  </td></tr>\n",
       "<tr><td>_trainable_b63feeed</td><td>TERMINATED</td><td>163.1.64.158:2378954</td><td style=\"text-align: right;\">        30</td><td style=\"text-align: right;\">       128</td><td style=\"text-align: right;\">         1</td><td style=\"text-align: right;\">0.00273313 </td><td>zinb             </td><td style=\"text-align: right;\">          836.818</td></tr>\n",
       "<tr><td>_trainable_30e431bb</td><td>TERMINATED</td><td>163.1.64.158:2378036</td><td style=\"text-align: right;\">        10</td><td style=\"text-align: right;\">       256</td><td style=\"text-align: right;\">         1</td><td style=\"text-align: right;\">0.00396923 </td><td>zinb             </td><td style=\"text-align: right;\">         1335.96 </td></tr>\n",
       "<tr><td>_trainable_3b468c7f</td><td>TERMINATED</td><td>163.1.64.158:2378036</td><td style=\"text-align: right;\">        30</td><td style=\"text-align: right;\">        60</td><td style=\"text-align: right;\">         2</td><td style=\"text-align: right;\">0.00183233 </td><td>zinb             </td><td style=\"text-align: right;\">         1220.46 </td></tr>\n",
       "<tr><td>_trainable_b1f724fb</td><td>TERMINATED</td><td>163.1.64.158:2378036</td><td style=\"text-align: right;\">        50</td><td style=\"text-align: right;\">        60</td><td style=\"text-align: right;\">         3</td><td style=\"text-align: right;\">0.00720316 </td><td>zinb             </td><td style=\"text-align: right;\">          921.668</td></tr>\n",
       "<tr><td>_trainable_5982f1fc</td><td>TERMINATED</td><td>163.1.64.158:2378036</td><td style=\"text-align: right;\">        30</td><td style=\"text-align: right;\">        60</td><td style=\"text-align: right;\">         2</td><td style=\"text-align: right;\">0.00204247 </td><td>zinb             </td><td style=\"text-align: right;\">         1178.96 </td></tr>\n",
       "<tr><td>_trainable_666e857e</td><td>TERMINATED</td><td>163.1.64.158:2378036</td><td style=\"text-align: right;\">        30</td><td style=\"text-align: right;\">        60</td><td style=\"text-align: right;\">         1</td><td style=\"text-align: right;\">0.000261417</td><td>nb               </td><td style=\"text-align: right;\">         1389.83 </td></tr>\n",
       "</tbody>\n",
       "</table>\n",
       "  </div>\n",
       "</div>\n",
       "<style>\n",
       ".tuneStatus {\n",
       "  color: var(--jp-ui-font-color1);\n",
       "}\n",
       ".tuneStatus .systemInfo {\n",
       "  display: flex;\n",
       "  flex-direction: column;\n",
       "}\n",
       ".tuneStatus td {\n",
       "  white-space: nowrap;\n",
       "}\n",
       ".tuneStatus .trialStatus {\n",
       "  display: flex;\n",
       "  flex-direction: column;\n",
       "}\n",
       ".tuneStatus h3 {\n",
       "  font-weight: bold;\n",
       "}\n",
       ".tuneStatus .hDivider {\n",
       "  border-bottom-width: var(--jp-border-width);\n",
       "  border-bottom-color: var(--jp-border-color0);\n",
       "  border-bottom-style: solid;\n",
       "}\n",
       ".tuneStatus .vDivider {\n",
       "  border-left-width: var(--jp-border-width);\n",
       "  border-left-color: var(--jp-border-color0);\n",
       "  border-left-style: solid;\n",
       "  margin: 0.5em 1em 0.5em 1em;\n",
       "}\n",
       "</style>\n"
      ],
      "text/plain": [
       "<IPython.core.display.HTML object>"
      ]
     },
     "metadata": {},
     "output_type": "display_data"
    },
    {
     "name": "stderr",
     "output_type": "stream",
     "text": [
      "2024-12-12 15:41:25,059\tINFO tune.py:645 -- [output] This uses the legacy output and progress reporter, as Jupyter notebooks are not supported by the new engine, yet. For more information, please see https://github.com/ray-project/ray/issues/36949\n",
      "2024-12-12 15:43:15,583\tINFO tune.py:1143 -- Total run time: 110.52 seconds (110.43 seconds for the tuning loop).\n"
     ]
    }
   ],
   "source": [
    "# run the optimisation\n",
    "\n",
    "results = scvi_tuner.fit(\n",
    "    adata_mac,\n",
    "    metric=\"validation_loss\",\n",
    "    search_space=search_space,\n",
    "    searcher='hyperopt',\n",
    "    num_samples=100,\n",
    "    max_epochs=30,\n",
    "    resources={\"gpu\": 1}\n",
    ")"
   ]
  },
  {
   "cell_type": "markdown",
   "id": "447128f2-05d2-49d3-9d56-8e1ee83bafdb",
   "metadata": {},
   "source": [
    "We are looking for the parameters that give the lowest validation loss"
   ]
  },
  {
   "cell_type": "code",
   "execution_count": 16,
   "id": "71afdd06-f8e5-4973-bdf0-c6268c478a11",
   "metadata": {},
   "outputs": [
    {
     "name": "stdout",
     "output_type": "stream",
     "text": [
      "{'n_latent': 30, 'n_hidden': 128, 'n_layers': 1, 'gene_likelihood': 'zinb'}\n",
      "{'plan_kwargs': {'lr': 0.0027331339365348796}}\n"
     ]
    }
   ],
   "source": [
    "print(results.model_kwargs)\n",
    "print(results.train_kwargs)"
   ]
  },
  {
   "cell_type": "code",
   "execution_count": 17,
   "id": "42902532-676a-4ee7-815a-2642a38415bf",
   "metadata": {},
   "outputs": [
    {
     "data": {
      "text/html": [
       "<div>\n",
       "<style scoped>\n",
       "    .dataframe tbody tr th:only-of-type {\n",
       "        vertical-align: middle;\n",
       "    }\n",
       "\n",
       "    .dataframe tbody tr th {\n",
       "        vertical-align: top;\n",
       "    }\n",
       "\n",
       "    .dataframe thead th {\n",
       "        text-align: right;\n",
       "    }\n",
       "</style>\n",
       "<table border=\"1\" class=\"dataframe\">\n",
       "  <thead>\n",
       "    <tr style=\"text-align: right;\">\n",
       "      <th></th>\n",
       "      <th>index</th>\n",
       "      <th>validation_loss</th>\n",
       "      <th>timestamp</th>\n",
       "      <th>done</th>\n",
       "      <th>training_iteration</th>\n",
       "      <th>trial_id</th>\n",
       "      <th>date</th>\n",
       "      <th>time_this_iter_s</th>\n",
       "      <th>time_total_s</th>\n",
       "      <th>pid</th>\n",
       "      <th>...</th>\n",
       "      <th>node_ip</th>\n",
       "      <th>time_since_restore</th>\n",
       "      <th>iterations_since_restore</th>\n",
       "      <th>checkpoint_dir_name</th>\n",
       "      <th>config/n_latent</th>\n",
       "      <th>config/n_hidden</th>\n",
       "      <th>config/n_layers</th>\n",
       "      <th>config/lr</th>\n",
       "      <th>config/gene_likelihood</th>\n",
       "      <th>logdir</th>\n",
       "    </tr>\n",
       "  </thead>\n",
       "  <tbody>\n",
       "    <tr>\n",
       "      <th>0</th>\n",
       "      <td>94</td>\n",
       "      <td>836.817566</td>\n",
       "      <td>1734018195</td>\n",
       "      <td>False</td>\n",
       "      <td>30</td>\n",
       "      <td>b63feeed</td>\n",
       "      <td>2024-12-12_15-43-15</td>\n",
       "      <td>0.275792</td>\n",
       "      <td>8.682603</td>\n",
       "      <td>2378954</td>\n",
       "      <td>...</td>\n",
       "      <td>163.1.64.158</td>\n",
       "      <td>8.682603</td>\n",
       "      <td>30</td>\n",
       "      <td>None</td>\n",
       "      <td>30</td>\n",
       "      <td>128</td>\n",
       "      <td>1</td>\n",
       "      <td>0.002733</td>\n",
       "      <td>zinb</td>\n",
       "      <td>b63feeed</td>\n",
       "    </tr>\n",
       "    <tr>\n",
       "      <th>1</th>\n",
       "      <td>86</td>\n",
       "      <td>836.967407</td>\n",
       "      <td>1734018188</td>\n",
       "      <td>False</td>\n",
       "      <td>30</td>\n",
       "      <td>9038345b</td>\n",
       "      <td>2024-12-12_15-43-08</td>\n",
       "      <td>0.298193</td>\n",
       "      <td>9.513036</td>\n",
       "      <td>2378036</td>\n",
       "      <td>...</td>\n",
       "      <td>163.1.64.158</td>\n",
       "      <td>9.513036</td>\n",
       "      <td>30</td>\n",
       "      <td>None</td>\n",
       "      <td>30</td>\n",
       "      <td>60</td>\n",
       "      <td>2</td>\n",
       "      <td>0.004270</td>\n",
       "      <td>zinb</td>\n",
       "      <td>9038345b</td>\n",
       "    </tr>\n",
       "    <tr>\n",
       "      <th>2</th>\n",
       "      <td>35</td>\n",
       "      <td>837.709290</td>\n",
       "      <td>1734018140</td>\n",
       "      <td>False</td>\n",
       "      <td>30</td>\n",
       "      <td>21e3f8e2</td>\n",
       "      <td>2024-12-12_15-42-20</td>\n",
       "      <td>0.303023</td>\n",
       "      <td>8.319053</td>\n",
       "      <td>2378036</td>\n",
       "      <td>...</td>\n",
       "      <td>163.1.64.158</td>\n",
       "      <td>8.319053</td>\n",
       "      <td>30</td>\n",
       "      <td>None</td>\n",
       "      <td>30</td>\n",
       "      <td>128</td>\n",
       "      <td>1</td>\n",
       "      <td>0.003832</td>\n",
       "      <td>zinb</td>\n",
       "      <td>21e3f8e2</td>\n",
       "    </tr>\n",
       "    <tr>\n",
       "      <th>3</th>\n",
       "      <td>67</td>\n",
       "      <td>837.843994</td>\n",
       "      <td>1734018172</td>\n",
       "      <td>False</td>\n",
       "      <td>30</td>\n",
       "      <td>90f7e5f1</td>\n",
       "      <td>2024-12-12_15-42-52</td>\n",
       "      <td>0.271744</td>\n",
       "      <td>8.363425</td>\n",
       "      <td>2378036</td>\n",
       "      <td>...</td>\n",
       "      <td>163.1.64.158</td>\n",
       "      <td>8.363425</td>\n",
       "      <td>30</td>\n",
       "      <td>None</td>\n",
       "      <td>30</td>\n",
       "      <td>128</td>\n",
       "      <td>1</td>\n",
       "      <td>0.003593</td>\n",
       "      <td>zinb</td>\n",
       "      <td>90f7e5f1</td>\n",
       "    </tr>\n",
       "    <tr>\n",
       "      <th>4</th>\n",
       "      <td>12</td>\n",
       "      <td>838.426208</td>\n",
       "      <td>1734018118</td>\n",
       "      <td>False</td>\n",
       "      <td>30</td>\n",
       "      <td>43ebd2ee</td>\n",
       "      <td>2024-12-12_15-41-58</td>\n",
       "      <td>0.340179</td>\n",
       "      <td>9.351224</td>\n",
       "      <td>2378036</td>\n",
       "      <td>...</td>\n",
       "      <td>163.1.64.158</td>\n",
       "      <td>9.351224</td>\n",
       "      <td>30</td>\n",
       "      <td>None</td>\n",
       "      <td>30</td>\n",
       "      <td>256</td>\n",
       "      <td>2</td>\n",
       "      <td>0.004104</td>\n",
       "      <td>zinb</td>\n",
       "      <td>43ebd2ee</td>\n",
       "    </tr>\n",
       "    <tr>\n",
       "      <th>...</th>\n",
       "      <td>...</td>\n",
       "      <td>...</td>\n",
       "      <td>...</td>\n",
       "      <td>...</td>\n",
       "      <td>...</td>\n",
       "      <td>...</td>\n",
       "      <td>...</td>\n",
       "      <td>...</td>\n",
       "      <td>...</td>\n",
       "      <td>...</td>\n",
       "      <td>...</td>\n",
       "      <td>...</td>\n",
       "      <td>...</td>\n",
       "      <td>...</td>\n",
       "      <td>...</td>\n",
       "      <td>...</td>\n",
       "      <td>...</td>\n",
       "      <td>...</td>\n",
       "      <td>...</td>\n",
       "      <td>...</td>\n",
       "      <td>...</td>\n",
       "    </tr>\n",
       "    <tr>\n",
       "      <th>95</th>\n",
       "      <td>23</td>\n",
       "      <td>1623.249756</td>\n",
       "      <td>1734018120</td>\n",
       "      <td>True</td>\n",
       "      <td>1</td>\n",
       "      <td>830820b0</td>\n",
       "      <td>2024-12-12_15-42-00</td>\n",
       "      <td>0.385230</td>\n",
       "      <td>0.385230</td>\n",
       "      <td>2378036</td>\n",
       "      <td>...</td>\n",
       "      <td>163.1.64.158</td>\n",
       "      <td>0.385230</td>\n",
       "      <td>1</td>\n",
       "      <td>None</td>\n",
       "      <td>10</td>\n",
       "      <td>256</td>\n",
       "      <td>2</td>\n",
       "      <td>0.006959</td>\n",
       "      <td>zinb</td>\n",
       "      <td>830820b0</td>\n",
       "    </tr>\n",
       "    <tr>\n",
       "      <th>96</th>\n",
       "      <td>31</td>\n",
       "      <td>1824.221436</td>\n",
       "      <td>1734018130</td>\n",
       "      <td>True</td>\n",
       "      <td>1</td>\n",
       "      <td>3dac4f13</td>\n",
       "      <td>2024-12-12_15-42-10</td>\n",
       "      <td>0.330689</td>\n",
       "      <td>0.330689</td>\n",
       "      <td>2378036</td>\n",
       "      <td>...</td>\n",
       "      <td>163.1.64.158</td>\n",
       "      <td>0.330689</td>\n",
       "      <td>1</td>\n",
       "      <td>None</td>\n",
       "      <td>30</td>\n",
       "      <td>256</td>\n",
       "      <td>1</td>\n",
       "      <td>0.007315</td>\n",
       "      <td>zinb</td>\n",
       "      <td>3dac4f13</td>\n",
       "    </tr>\n",
       "    <tr>\n",
       "      <th>97</th>\n",
       "      <td>16</td>\n",
       "      <td>2254.298096</td>\n",
       "      <td>1734018118</td>\n",
       "      <td>True</td>\n",
       "      <td>1</td>\n",
       "      <td>9cd3519b</td>\n",
       "      <td>2024-12-12_15-41-58</td>\n",
       "      <td>0.391708</td>\n",
       "      <td>0.391708</td>\n",
       "      <td>2378954</td>\n",
       "      <td>...</td>\n",
       "      <td>163.1.64.158</td>\n",
       "      <td>0.391708</td>\n",
       "      <td>1</td>\n",
       "      <td>None</td>\n",
       "      <td>50</td>\n",
       "      <td>128</td>\n",
       "      <td>3</td>\n",
       "      <td>0.005424</td>\n",
       "      <td>nb</td>\n",
       "      <td>9cd3519b</td>\n",
       "    </tr>\n",
       "    <tr>\n",
       "      <th>98</th>\n",
       "      <td>45</td>\n",
       "      <td>4132.859375</td>\n",
       "      <td>1734018149</td>\n",
       "      <td>True</td>\n",
       "      <td>1</td>\n",
       "      <td>39ee4c58</td>\n",
       "      <td>2024-12-12_15-42-29</td>\n",
       "      <td>0.375099</td>\n",
       "      <td>0.375099</td>\n",
       "      <td>2378036</td>\n",
       "      <td>...</td>\n",
       "      <td>163.1.64.158</td>\n",
       "      <td>0.375099</td>\n",
       "      <td>1</td>\n",
       "      <td>None</td>\n",
       "      <td>30</td>\n",
       "      <td>256</td>\n",
       "      <td>2</td>\n",
       "      <td>0.005417</td>\n",
       "      <td>nb</td>\n",
       "      <td>39ee4c58</td>\n",
       "    </tr>\n",
       "    <tr>\n",
       "      <th>99</th>\n",
       "      <td>93</td>\n",
       "      <td>24156.296875</td>\n",
       "      <td>1734018186</td>\n",
       "      <td>True</td>\n",
       "      <td>2</td>\n",
       "      <td>985ba9bc</td>\n",
       "      <td>2024-12-12_15-43-06</td>\n",
       "      <td>0.331239</td>\n",
       "      <td>0.717977</td>\n",
       "      <td>2378954</td>\n",
       "      <td>...</td>\n",
       "      <td>163.1.64.158</td>\n",
       "      <td>0.717977</td>\n",
       "      <td>2</td>\n",
       "      <td>None</td>\n",
       "      <td>30</td>\n",
       "      <td>256</td>\n",
       "      <td>2</td>\n",
       "      <td>0.009236</td>\n",
       "      <td>nb</td>\n",
       "      <td>985ba9bc</td>\n",
       "    </tr>\n",
       "  </tbody>\n",
       "</table>\n",
       "<p>100 rows × 21 columns</p>\n",
       "</div>"
      ],
      "text/plain": [
       "    index  validation_loss   timestamp   done  training_iteration  trial_id  \\\n",
       "0      94       836.817566  1734018195  False                  30  b63feeed   \n",
       "1      86       836.967407  1734018188  False                  30  9038345b   \n",
       "2      35       837.709290  1734018140  False                  30  21e3f8e2   \n",
       "3      67       837.843994  1734018172  False                  30  90f7e5f1   \n",
       "4      12       838.426208  1734018118  False                  30  43ebd2ee   \n",
       "..    ...              ...         ...    ...                 ...       ...   \n",
       "95     23      1623.249756  1734018120   True                   1  830820b0   \n",
       "96     31      1824.221436  1734018130   True                   1  3dac4f13   \n",
       "97     16      2254.298096  1734018118   True                   1  9cd3519b   \n",
       "98     45      4132.859375  1734018149   True                   1  39ee4c58   \n",
       "99     93     24156.296875  1734018186   True                   2  985ba9bc   \n",
       "\n",
       "                   date  time_this_iter_s  time_total_s      pid  ...  \\\n",
       "0   2024-12-12_15-43-15          0.275792      8.682603  2378954  ...   \n",
       "1   2024-12-12_15-43-08          0.298193      9.513036  2378036  ...   \n",
       "2   2024-12-12_15-42-20          0.303023      8.319053  2378036  ...   \n",
       "3   2024-12-12_15-42-52          0.271744      8.363425  2378036  ...   \n",
       "4   2024-12-12_15-41-58          0.340179      9.351224  2378036  ...   \n",
       "..                  ...               ...           ...      ...  ...   \n",
       "95  2024-12-12_15-42-00          0.385230      0.385230  2378036  ...   \n",
       "96  2024-12-12_15-42-10          0.330689      0.330689  2378036  ...   \n",
       "97  2024-12-12_15-41-58          0.391708      0.391708  2378954  ...   \n",
       "98  2024-12-12_15-42-29          0.375099      0.375099  2378036  ...   \n",
       "99  2024-12-12_15-43-06          0.331239      0.717977  2378954  ...   \n",
       "\n",
       "         node_ip time_since_restore  iterations_since_restore  \\\n",
       "0   163.1.64.158           8.682603                        30   \n",
       "1   163.1.64.158           9.513036                        30   \n",
       "2   163.1.64.158           8.319053                        30   \n",
       "3   163.1.64.158           8.363425                        30   \n",
       "4   163.1.64.158           9.351224                        30   \n",
       "..           ...                ...                       ...   \n",
       "95  163.1.64.158           0.385230                         1   \n",
       "96  163.1.64.158           0.330689                         1   \n",
       "97  163.1.64.158           0.391708                         1   \n",
       "98  163.1.64.158           0.375099                         1   \n",
       "99  163.1.64.158           0.717977                         2   \n",
       "\n",
       "    checkpoint_dir_name config/n_latent  config/n_hidden  config/n_layers  \\\n",
       "0                  None              30              128                1   \n",
       "1                  None              30               60                2   \n",
       "2                  None              30              128                1   \n",
       "3                  None              30              128                1   \n",
       "4                  None              30              256                2   \n",
       "..                  ...             ...              ...              ...   \n",
       "95                 None              10              256                2   \n",
       "96                 None              30              256                1   \n",
       "97                 None              50              128                3   \n",
       "98                 None              30              256                2   \n",
       "99                 None              30              256                2   \n",
       "\n",
       "    config/lr  config/gene_likelihood    logdir  \n",
       "0    0.002733                    zinb  b63feeed  \n",
       "1    0.004270                    zinb  9038345b  \n",
       "2    0.003832                    zinb  21e3f8e2  \n",
       "3    0.003593                    zinb  90f7e5f1  \n",
       "4    0.004104                    zinb  43ebd2ee  \n",
       "..        ...                     ...       ...  \n",
       "95   0.006959                    zinb  830820b0  \n",
       "96   0.007315                    zinb  3dac4f13  \n",
       "97   0.005424                      nb  9cd3519b  \n",
       "98   0.005417                      nb  39ee4c58  \n",
       "99   0.009236                      nb  985ba9bc  \n",
       "\n",
       "[100 rows x 21 columns]"
      ]
     },
     "execution_count": 17,
     "metadata": {},
     "output_type": "execute_result"
    }
   ],
   "source": [
    "df = results.results.get_dataframe()\n",
    "df2 = df.sort_values(by = 'validation_loss').reset_index()\n",
    "df2"
   ]
  },
  {
   "cell_type": "code",
   "execution_count": 18,
   "id": "ced5b7df-529a-4f4f-901d-a9d6a913a781",
   "metadata": {},
   "outputs": [
    {
     "name": "stdout",
     "output_type": "stream",
     "text": [
      "Index of optimal parameters\n"
     ]
    },
    {
     "data": {
      "text/plain": [
       "94"
      ]
     },
     "execution_count": 18,
     "metadata": {},
     "output_type": "execute_result"
    }
   ],
   "source": [
    "print(\"Index of optimal parameters\")\n",
    "row_number = df2['index'][0]\n",
    "row_number"
   ]
  },
  {
   "cell_type": "code",
   "execution_count": 19,
   "id": "1aec946b-767c-4c6f-9b8a-97dbeb9ccd44",
   "metadata": {},
   "outputs": [
    {
     "name": "stdout",
     "output_type": "stream",
     "text": [
      "Optimal parameters\n"
     ]
    },
    {
     "data": {
      "text/plain": [
       "validation_loss                      836.817566\n",
       "timestamp                            1734018195\n",
       "done                                      False\n",
       "training_iteration                           30\n",
       "trial_id                               b63feeed\n",
       "date                        2024-12-12_15-43-15\n",
       "time_this_iter_s                       0.275792\n",
       "time_total_s                           8.682603\n",
       "pid                                     2378954\n",
       "hostname                            BRC-89SJ904\n",
       "node_ip                            163.1.64.158\n",
       "time_since_restore                     8.682603\n",
       "iterations_since_restore                     30\n",
       "checkpoint_dir_name                        None\n",
       "config/n_latent                              30\n",
       "config/n_hidden                             128\n",
       "config/n_layers                               1\n",
       "config/lr                              0.002733\n",
       "config/gene_likelihood                     zinb\n",
       "logdir                                 b63feeed\n",
       "Name: 94, dtype: object"
      ]
     },
     "execution_count": 19,
     "metadata": {},
     "output_type": "execute_result"
    }
   ],
   "source": [
    "print(\"Optimal parameters\")\n",
    "df.iloc[row_number]"
   ]
  },
  {
   "cell_type": "code",
   "execution_count": null,
   "id": "08285b61-f200-478d-9370-664bc1a677de",
   "metadata": {},
   "outputs": [],
   "source": [
    "ray.shutdown()"
   ]
  },
  {
   "cell_type": "markdown",
   "id": "406cf9f9-8b80-4fd6-b694-0b7d879ebb4f",
   "metadata": {},
   "source": [
    "### Run scVI using optimised parameters\n",
    "\n"
   ]
  },
  {
   "cell_type": "code",
   "execution_count": 20,
   "id": "aa654f34-584f-4931-998b-95d253d63383",
   "metadata": {},
   "outputs": [
    {
     "name": "stderr",
     "output_type": "stream",
     "text": [
      "/media/prom/apc1/ccohen/mamba_installation/conda/envs/scvi_env/lib/python3.9/site-packages/scvi/data/fields/_layer_field.py:101: UserWarning: Training will be faster when sparse matrix is formatted as CSR. It is safe to cast before model initialization.\n",
      "  _verify_and_correct_data_format(adata, self.attr_name, self.attr_key)\n"
     ]
    }
   ],
   "source": [
    "# set up the adata object\n",
    "scvi.model.SCVI.setup_anndata(adata_mac,\n",
    "                              layer = 'counts',\n",
    "                              batch_key = \"patient.seqbatch\"\n",
    "                             )"
   ]
  },
  {
   "cell_type": "code",
   "execution_count": 21,
   "id": "86149bbb-0728-4e6a-8801-ae16453ddf3c",
   "metadata": {},
   "outputs": [
    {
     "data": {
      "text/html": [
       "<pre style=\"white-space:pre;overflow-x:auto;line-height:normal;font-family:Menlo,'DejaVu Sans Mono',consolas,'Courier New',monospace\">SCVI Model with the following params: \n",
       "n_hidden: <span style=\"color: #008080; text-decoration-color: #008080; font-weight: bold\">128</span>, n_latent: <span style=\"color: #008080; text-decoration-color: #008080; font-weight: bold\">30</span>, n_layers: <span style=\"color: #008080; text-decoration-color: #008080; font-weight: bold\">1</span>, dropout_rate: <span style=\"color: #008080; text-decoration-color: #008080; font-weight: bold\">0.1</span>, dispersion: gene-batch, gene_likelihood: zinb, \n",
       "latent_distribution: normal\n",
       "Training status: Not Trained\n",
       "Model's adata is minified?: <span style=\"color: #ff0000; text-decoration-color: #ff0000; font-style: italic\">False</span>\n",
       "</pre>\n"
      ],
      "text/plain": [
       "SCVI Model with the following params: \n",
       "n_hidden: \u001b[1;36m128\u001b[0m, n_latent: \u001b[1;36m30\u001b[0m, n_layers: \u001b[1;36m1\u001b[0m, dropout_rate: \u001b[1;36m0.1\u001b[0m, dispersion: gene-batch, gene_likelihood: zinb, \n",
       "latent_distribution: normal\n",
       "Training status: Not Trained\n",
       "Model's adata is minified?: \u001b[3;91mFalse\u001b[0m\n"
      ]
     },
     "metadata": {},
     "output_type": "display_data"
    },
    {
     "data": {
      "text/plain": []
     },
     "execution_count": 21,
     "metadata": {},
     "output_type": "execute_result"
    }
   ],
   "source": [
    "# set up the scVI model\n",
    "# specify the parameters according to the ray optimisation\n",
    "vae = scvi.model.SCVI(adata_mac,\n",
    "                      n_latent = 30,  \n",
    "                      n_hidden = 128, \n",
    "                      n_layers =  1, \n",
    "                      dropout_rate = 0.1,\n",
    "                      dispersion = 'gene-batch',\n",
    "                     gene_likelihood='zinb')\n",
    "\n",
    "vae"
   ]
  },
  {
   "cell_type": "code",
   "execution_count": 22,
   "id": "0286a6c1-049d-4fb2-bd56-82ff07ae2765",
   "metadata": {},
   "outputs": [],
   "source": [
    "# add the parameter for lr\n",
    "kwargs = {'lr': 0.002733}"
   ]
  },
  {
   "cell_type": "code",
   "execution_count": 23,
   "id": "4f9ac202-19a7-42f1-bdfd-d602c8876d7e",
   "metadata": {},
   "outputs": [
    {
     "data": {
      "text/html": [
       "<pre style=\"white-space:pre;overflow-x:auto;line-height:normal;font-family:Menlo,'DejaVu Sans Mono',consolas,'Courier New',monospace\">Anndata setup with scvi-tools version <span style=\"color: #008080; text-decoration-color: #008080; font-weight: bold\">1.0</span>.<span style=\"color: #008080; text-decoration-color: #008080; font-weight: bold\">2</span>.\n",
       "</pre>\n"
      ],
      "text/plain": [
       "Anndata setup with scvi-tools version \u001b[1;36m1.0\u001b[0m.\u001b[1;36m2\u001b[0m.\n"
      ]
     },
     "metadata": {},
     "output_type": "display_data"
    },
    {
     "data": {
      "text/html": [
       "<pre style=\"white-space:pre;overflow-x:auto;line-height:normal;font-family:Menlo,'DejaVu Sans Mono',consolas,'Courier New',monospace\">\n",
       "</pre>\n"
      ],
      "text/plain": [
       "\n"
      ]
     },
     "metadata": {},
     "output_type": "display_data"
    },
    {
     "data": {
      "text/html": [
       "<pre style=\"white-space:pre;overflow-x:auto;line-height:normal;font-family:Menlo,'DejaVu Sans Mono',consolas,'Courier New',monospace\">Setup via `SCVI.setup_anndata` with arguments:\n",
       "</pre>\n"
      ],
      "text/plain": [
       "Setup via `SCVI.setup_anndata` with arguments:\n"
      ]
     },
     "metadata": {},
     "output_type": "display_data"
    },
    {
     "data": {
      "text/html": [
       "<pre style=\"white-space:pre;overflow-x:auto;line-height:normal;font-family:Menlo,'DejaVu Sans Mono',consolas,'Courier New',monospace\"><span style=\"font-weight: bold\">{</span>\n",
       "<span style=\"color: #7fbf7f; text-decoration-color: #7fbf7f\">│   </span><span style=\"color: #008000; text-decoration-color: #008000\">'layer'</span>: <span style=\"color: #008000; text-decoration-color: #008000\">'counts'</span>,\n",
       "<span style=\"color: #7fbf7f; text-decoration-color: #7fbf7f\">│   </span><span style=\"color: #008000; text-decoration-color: #008000\">'batch_key'</span>: <span style=\"color: #008000; text-decoration-color: #008000\">'patient.seqbatch'</span>,\n",
       "<span style=\"color: #7fbf7f; text-decoration-color: #7fbf7f\">│   </span><span style=\"color: #008000; text-decoration-color: #008000\">'labels_key'</span>: <span style=\"color: #800080; text-decoration-color: #800080; font-style: italic\">None</span>,\n",
       "<span style=\"color: #7fbf7f; text-decoration-color: #7fbf7f\">│   </span><span style=\"color: #008000; text-decoration-color: #008000\">'size_factor_key'</span>: <span style=\"color: #800080; text-decoration-color: #800080; font-style: italic\">None</span>,\n",
       "<span style=\"color: #7fbf7f; text-decoration-color: #7fbf7f\">│   </span><span style=\"color: #008000; text-decoration-color: #008000\">'categorical_covariate_keys'</span>: <span style=\"color: #800080; text-decoration-color: #800080; font-style: italic\">None</span>,\n",
       "<span style=\"color: #7fbf7f; text-decoration-color: #7fbf7f\">│   </span><span style=\"color: #008000; text-decoration-color: #008000\">'continuous_covariate_keys'</span>: <span style=\"color: #800080; text-decoration-color: #800080; font-style: italic\">None</span>\n",
       "<span style=\"font-weight: bold\">}</span>\n",
       "</pre>\n"
      ],
      "text/plain": [
       "\u001b[1m{\u001b[0m\n",
       "\u001b[2;32m│   \u001b[0m\u001b[32m'layer'\u001b[0m: \u001b[32m'counts'\u001b[0m,\n",
       "\u001b[2;32m│   \u001b[0m\u001b[32m'batch_key'\u001b[0m: \u001b[32m'patient.seqbatch'\u001b[0m,\n",
       "\u001b[2;32m│   \u001b[0m\u001b[32m'labels_key'\u001b[0m: \u001b[3;35mNone\u001b[0m,\n",
       "\u001b[2;32m│   \u001b[0m\u001b[32m'size_factor_key'\u001b[0m: \u001b[3;35mNone\u001b[0m,\n",
       "\u001b[2;32m│   \u001b[0m\u001b[32m'categorical_covariate_keys'\u001b[0m: \u001b[3;35mNone\u001b[0m,\n",
       "\u001b[2;32m│   \u001b[0m\u001b[32m'continuous_covariate_keys'\u001b[0m: \u001b[3;35mNone\u001b[0m\n",
       "\u001b[1m}\u001b[0m\n"
      ]
     },
     "metadata": {},
     "output_type": "display_data"
    },
    {
     "data": {
      "text/html": [
       "<pre style=\"white-space:pre;overflow-x:auto;line-height:normal;font-family:Menlo,'DejaVu Sans Mono',consolas,'Courier New',monospace\">\n",
       "</pre>\n"
      ],
      "text/plain": [
       "\n"
      ]
     },
     "metadata": {},
     "output_type": "display_data"
    },
    {
     "data": {
      "text/html": [
       "<pre style=\"white-space:pre;overflow-x:auto;line-height:normal;font-family:Menlo,'DejaVu Sans Mono',consolas,'Courier New',monospace\"><span style=\"font-style: italic\">         Summary Statistics         </span>\n",
       "┏━━━━━━━━━━━━━━━━━━━━━━━━━━┳━━━━━━━┓\n",
       "┃<span style=\"font-weight: bold\">     Summary Stat Key     </span>┃<span style=\"font-weight: bold\"> Value </span>┃\n",
       "┡━━━━━━━━━━━━━━━━━━━━━━━━━━╇━━━━━━━┩\n",
       "│<span style=\"color: #0087ff; text-decoration-color: #0087ff\">         n_batch          </span>│<span style=\"color: #af00d7; text-decoration-color: #af00d7\">   8   </span>│\n",
       "│<span style=\"color: #0087ff; text-decoration-color: #0087ff\">         n_cells          </span>│<span style=\"color: #af00d7; text-decoration-color: #af00d7\"> 4820  </span>│\n",
       "│<span style=\"color: #0087ff; text-decoration-color: #0087ff\"> n_extra_categorical_covs </span>│<span style=\"color: #af00d7; text-decoration-color: #af00d7\">   0   </span>│\n",
       "│<span style=\"color: #0087ff; text-decoration-color: #0087ff\"> n_extra_continuous_covs  </span>│<span style=\"color: #af00d7; text-decoration-color: #af00d7\">   0   </span>│\n",
       "│<span style=\"color: #0087ff; text-decoration-color: #0087ff\">         n_labels         </span>│<span style=\"color: #af00d7; text-decoration-color: #af00d7\">   1   </span>│\n",
       "│<span style=\"color: #0087ff; text-decoration-color: #0087ff\">          n_vars          </span>│<span style=\"color: #af00d7; text-decoration-color: #af00d7\"> 2000  </span>│\n",
       "└──────────────────────────┴───────┘\n",
       "</pre>\n"
      ],
      "text/plain": [
       "\u001b[3m         Summary Statistics         \u001b[0m\n",
       "┏━━━━━━━━━━━━━━━━━━━━━━━━━━┳━━━━━━━┓\n",
       "┃\u001b[1m \u001b[0m\u001b[1m    Summary Stat Key    \u001b[0m\u001b[1m \u001b[0m┃\u001b[1m \u001b[0m\u001b[1mValue\u001b[0m\u001b[1m \u001b[0m┃\n",
       "┡━━━━━━━━━━━━━━━━━━━━━━━━━━╇━━━━━━━┩\n",
       "│\u001b[38;5;33m \u001b[0m\u001b[38;5;33m        n_batch         \u001b[0m\u001b[38;5;33m \u001b[0m│\u001b[38;5;128m \u001b[0m\u001b[38;5;128m  8  \u001b[0m\u001b[38;5;128m \u001b[0m│\n",
       "│\u001b[38;5;33m \u001b[0m\u001b[38;5;33m        n_cells         \u001b[0m\u001b[38;5;33m \u001b[0m│\u001b[38;5;128m \u001b[0m\u001b[38;5;128m4820 \u001b[0m\u001b[38;5;128m \u001b[0m│\n",
       "│\u001b[38;5;33m \u001b[0m\u001b[38;5;33mn_extra_categorical_covs\u001b[0m\u001b[38;5;33m \u001b[0m│\u001b[38;5;128m \u001b[0m\u001b[38;5;128m  0  \u001b[0m\u001b[38;5;128m \u001b[0m│\n",
       "│\u001b[38;5;33m \u001b[0m\u001b[38;5;33mn_extra_continuous_covs \u001b[0m\u001b[38;5;33m \u001b[0m│\u001b[38;5;128m \u001b[0m\u001b[38;5;128m  0  \u001b[0m\u001b[38;5;128m \u001b[0m│\n",
       "│\u001b[38;5;33m \u001b[0m\u001b[38;5;33m        n_labels        \u001b[0m\u001b[38;5;33m \u001b[0m│\u001b[38;5;128m \u001b[0m\u001b[38;5;128m  1  \u001b[0m\u001b[38;5;128m \u001b[0m│\n",
       "│\u001b[38;5;33m \u001b[0m\u001b[38;5;33m         n_vars         \u001b[0m\u001b[38;5;33m \u001b[0m│\u001b[38;5;128m \u001b[0m\u001b[38;5;128m2000 \u001b[0m\u001b[38;5;128m \u001b[0m│\n",
       "└──────────────────────────┴───────┘\n"
      ]
     },
     "metadata": {},
     "output_type": "display_data"
    },
    {
     "data": {
      "text/html": [
       "<pre style=\"white-space:pre;overflow-x:auto;line-height:normal;font-family:Menlo,'DejaVu Sans Mono',consolas,'Courier New',monospace\"><span style=\"font-style: italic\">               Data Registry                </span>\n",
       "┏━━━━━━━━━━━━━━┳━━━━━━━━━━━━━━━━━━━━━━━━━━━┓\n",
       "┃<span style=\"font-weight: bold\"> Registry Key </span>┃<span style=\"font-weight: bold\">    scvi-tools Location    </span>┃\n",
       "┡━━━━━━━━━━━━━━╇━━━━━━━━━━━━━━━━━━━━━━━━━━━┩\n",
       "│<span style=\"color: #0087ff; text-decoration-color: #0087ff\">      X       </span>│<span style=\"color: #af00d7; text-decoration-color: #af00d7\">  adata.layers['counts']   </span>│\n",
       "│<span style=\"color: #0087ff; text-decoration-color: #0087ff\">    batch     </span>│<span style=\"color: #af00d7; text-decoration-color: #af00d7\"> adata.obs['_scvi_batch']  </span>│\n",
       "│<span style=\"color: #0087ff; text-decoration-color: #0087ff\">    labels    </span>│<span style=\"color: #af00d7; text-decoration-color: #af00d7\"> adata.obs['_scvi_labels'] </span>│\n",
       "└──────────────┴───────────────────────────┘\n",
       "</pre>\n"
      ],
      "text/plain": [
       "\u001b[3m               Data Registry                \u001b[0m\n",
       "┏━━━━━━━━━━━━━━┳━━━━━━━━━━━━━━━━━━━━━━━━━━━┓\n",
       "┃\u001b[1m \u001b[0m\u001b[1mRegistry Key\u001b[0m\u001b[1m \u001b[0m┃\u001b[1m \u001b[0m\u001b[1m   scvi-tools Location   \u001b[0m\u001b[1m \u001b[0m┃\n",
       "┡━━━━━━━━━━━━━━╇━━━━━━━━━━━━━━━━━━━━━━━━━━━┩\n",
       "│\u001b[38;5;33m \u001b[0m\u001b[38;5;33m     X      \u001b[0m\u001b[38;5;33m \u001b[0m│\u001b[38;5;128m \u001b[0m\u001b[38;5;128m adata.layers['counts']  \u001b[0m\u001b[38;5;128m \u001b[0m│\n",
       "│\u001b[38;5;33m \u001b[0m\u001b[38;5;33m   batch    \u001b[0m\u001b[38;5;33m \u001b[0m│\u001b[38;5;128m \u001b[0m\u001b[38;5;128madata.obs['_scvi_batch'] \u001b[0m\u001b[38;5;128m \u001b[0m│\n",
       "│\u001b[38;5;33m \u001b[0m\u001b[38;5;33m   labels   \u001b[0m\u001b[38;5;33m \u001b[0m│\u001b[38;5;128m \u001b[0m\u001b[38;5;128madata.obs['_scvi_labels']\u001b[0m\u001b[38;5;128m \u001b[0m│\n",
       "└──────────────┴───────────────────────────┘\n"
      ]
     },
     "metadata": {},
     "output_type": "display_data"
    },
    {
     "data": {
      "text/html": [
       "<pre style=\"white-space:pre;overflow-x:auto;line-height:normal;font-family:Menlo,'DejaVu Sans Mono',consolas,'Courier New',monospace\"><span style=\"font-style: italic\">                           batch State Registry                           </span>\n",
       "┏━━━━━━━━━━━━━━━━━━━━━━━━━━━━━━━┳━━━━━━━━━━━━━━━━━━┳━━━━━━━━━━━━━━━━━━━━━┓\n",
       "┃<span style=\"font-weight: bold\">        Source Location        </span>┃<span style=\"font-weight: bold\">    Categories    </span>┃<span style=\"font-weight: bold\"> scvi-tools Encoding </span>┃\n",
       "┡━━━━━━━━━━━━━━━━━━━━━━━━━━━━━━━╇━━━━━━━━━━━━━━━━━━╇━━━━━━━━━━━━━━━━━━━━━┩\n",
       "│<span style=\"color: #0087ff; text-decoration-color: #0087ff\"> adata.obs['patient.seqbatch'] </span>│<span style=\"color: #008000; text-decoration-color: #008000\"> MSK0785_11102021 </span>│<span style=\"color: #af00d7; text-decoration-color: #af00d7\">          0          </span>│\n",
       "│<span style=\"color: #0087ff; text-decoration-color: #0087ff\">                               </span>│<span style=\"color: #008000; text-decoration-color: #008000\"> MSK1250_11102021 </span>│<span style=\"color: #af00d7; text-decoration-color: #af00d7\">          1          </span>│\n",
       "│<span style=\"color: #0087ff; text-decoration-color: #0087ff\">                               </span>│<span style=\"color: #008000; text-decoration-color: #008000\"> MSK1250_20230822 </span>│<span style=\"color: #af00d7; text-decoration-color: #af00d7\">          2          </span>│\n",
       "│<span style=\"color: #0087ff; text-decoration-color: #0087ff\">                               </span>│<span style=\"color: #008000; text-decoration-color: #008000\"> MSK1284_11102021 </span>│<span style=\"color: #af00d7; text-decoration-color: #af00d7\">          3          </span>│\n",
       "│<span style=\"color: #0087ff; text-decoration-color: #0087ff\">                               </span>│<span style=\"color: #008000; text-decoration-color: #008000\"> MSK1556_20220808 </span>│<span style=\"color: #af00d7; text-decoration-color: #af00d7\">          4          </span>│\n",
       "│<span style=\"color: #0087ff; text-decoration-color: #0087ff\">                               </span>│<span style=\"color: #008000; text-decoration-color: #008000\"> MSK1556_20230822 </span>│<span style=\"color: #af00d7; text-decoration-color: #af00d7\">          5          </span>│\n",
       "│<span style=\"color: #0087ff; text-decoration-color: #0087ff\">                               </span>│<span style=\"color: #008000; text-decoration-color: #008000\"> MSK1687_20230822 </span>│<span style=\"color: #af00d7; text-decoration-color: #af00d7\">          6          </span>│\n",
       "│<span style=\"color: #0087ff; text-decoration-color: #0087ff\">                               </span>│<span style=\"color: #008000; text-decoration-color: #008000\"> MSK1691_20230822 </span>│<span style=\"color: #af00d7; text-decoration-color: #af00d7\">          7          </span>│\n",
       "└───────────────────────────────┴──────────────────┴─────────────────────┘\n",
       "</pre>\n"
      ],
      "text/plain": [
       "\u001b[3m                           batch State Registry                           \u001b[0m\n",
       "┏━━━━━━━━━━━━━━━━━━━━━━━━━━━━━━━┳━━━━━━━━━━━━━━━━━━┳━━━━━━━━━━━━━━━━━━━━━┓\n",
       "┃\u001b[1m \u001b[0m\u001b[1m       Source Location       \u001b[0m\u001b[1m \u001b[0m┃\u001b[1m \u001b[0m\u001b[1m   Categories   \u001b[0m\u001b[1m \u001b[0m┃\u001b[1m \u001b[0m\u001b[1mscvi-tools Encoding\u001b[0m\u001b[1m \u001b[0m┃\n",
       "┡━━━━━━━━━━━━━━━━━━━━━━━━━━━━━━━╇━━━━━━━━━━━━━━━━━━╇━━━━━━━━━━━━━━━━━━━━━┩\n",
       "│\u001b[38;5;33m \u001b[0m\u001b[38;5;33madata.obs['patient.seqbatch']\u001b[0m\u001b[38;5;33m \u001b[0m│\u001b[32m \u001b[0m\u001b[32mMSK0785_11102021\u001b[0m\u001b[32m \u001b[0m│\u001b[38;5;128m \u001b[0m\u001b[38;5;128m         0         \u001b[0m\u001b[38;5;128m \u001b[0m│\n",
       "│\u001b[38;5;33m \u001b[0m\u001b[38;5;33m                             \u001b[0m\u001b[38;5;33m \u001b[0m│\u001b[32m \u001b[0m\u001b[32mMSK1250_11102021\u001b[0m\u001b[32m \u001b[0m│\u001b[38;5;128m \u001b[0m\u001b[38;5;128m         1         \u001b[0m\u001b[38;5;128m \u001b[0m│\n",
       "│\u001b[38;5;33m \u001b[0m\u001b[38;5;33m                             \u001b[0m\u001b[38;5;33m \u001b[0m│\u001b[32m \u001b[0m\u001b[32mMSK1250_20230822\u001b[0m\u001b[32m \u001b[0m│\u001b[38;5;128m \u001b[0m\u001b[38;5;128m         2         \u001b[0m\u001b[38;5;128m \u001b[0m│\n",
       "│\u001b[38;5;33m \u001b[0m\u001b[38;5;33m                             \u001b[0m\u001b[38;5;33m \u001b[0m│\u001b[32m \u001b[0m\u001b[32mMSK1284_11102021\u001b[0m\u001b[32m \u001b[0m│\u001b[38;5;128m \u001b[0m\u001b[38;5;128m         3         \u001b[0m\u001b[38;5;128m \u001b[0m│\n",
       "│\u001b[38;5;33m \u001b[0m\u001b[38;5;33m                             \u001b[0m\u001b[38;5;33m \u001b[0m│\u001b[32m \u001b[0m\u001b[32mMSK1556_20220808\u001b[0m\u001b[32m \u001b[0m│\u001b[38;5;128m \u001b[0m\u001b[38;5;128m         4         \u001b[0m\u001b[38;5;128m \u001b[0m│\n",
       "│\u001b[38;5;33m \u001b[0m\u001b[38;5;33m                             \u001b[0m\u001b[38;5;33m \u001b[0m│\u001b[32m \u001b[0m\u001b[32mMSK1556_20230822\u001b[0m\u001b[32m \u001b[0m│\u001b[38;5;128m \u001b[0m\u001b[38;5;128m         5         \u001b[0m\u001b[38;5;128m \u001b[0m│\n",
       "│\u001b[38;5;33m \u001b[0m\u001b[38;5;33m                             \u001b[0m\u001b[38;5;33m \u001b[0m│\u001b[32m \u001b[0m\u001b[32mMSK1687_20230822\u001b[0m\u001b[32m \u001b[0m│\u001b[38;5;128m \u001b[0m\u001b[38;5;128m         6         \u001b[0m\u001b[38;5;128m \u001b[0m│\n",
       "│\u001b[38;5;33m \u001b[0m\u001b[38;5;33m                             \u001b[0m\u001b[38;5;33m \u001b[0m│\u001b[32m \u001b[0m\u001b[32mMSK1691_20230822\u001b[0m\u001b[32m \u001b[0m│\u001b[38;5;128m \u001b[0m\u001b[38;5;128m         7         \u001b[0m\u001b[38;5;128m \u001b[0m│\n",
       "└───────────────────────────────┴──────────────────┴─────────────────────┘\n"
      ]
     },
     "metadata": {},
     "output_type": "display_data"
    },
    {
     "data": {
      "text/html": [
       "<pre style=\"white-space:pre;overflow-x:auto;line-height:normal;font-family:Menlo,'DejaVu Sans Mono',consolas,'Courier New',monospace\"><span style=\"font-style: italic\">                     labels State Registry                      </span>\n",
       "┏━━━━━━━━━━━━━━━━━━━━━━━━━━━┳━━━━━━━━━━━━┳━━━━━━━━━━━━━━━━━━━━━┓\n",
       "┃<span style=\"font-weight: bold\">      Source Location      </span>┃<span style=\"font-weight: bold\"> Categories </span>┃<span style=\"font-weight: bold\"> scvi-tools Encoding </span>┃\n",
       "┡━━━━━━━━━━━━━━━━━━━━━━━━━━━╇━━━━━━━━━━━━╇━━━━━━━━━━━━━━━━━━━━━┩\n",
       "│<span style=\"color: #0087ff; text-decoration-color: #0087ff\"> adata.obs['_scvi_labels'] </span>│<span style=\"color: #008000; text-decoration-color: #008000\">     0      </span>│<span style=\"color: #af00d7; text-decoration-color: #af00d7\">          0          </span>│\n",
       "└───────────────────────────┴────────────┴─────────────────────┘\n",
       "</pre>\n"
      ],
      "text/plain": [
       "\u001b[3m                     labels State Registry                      \u001b[0m\n",
       "┏━━━━━━━━━━━━━━━━━━━━━━━━━━━┳━━━━━━━━━━━━┳━━━━━━━━━━━━━━━━━━━━━┓\n",
       "┃\u001b[1m \u001b[0m\u001b[1m     Source Location     \u001b[0m\u001b[1m \u001b[0m┃\u001b[1m \u001b[0m\u001b[1mCategories\u001b[0m\u001b[1m \u001b[0m┃\u001b[1m \u001b[0m\u001b[1mscvi-tools Encoding\u001b[0m\u001b[1m \u001b[0m┃\n",
       "┡━━━━━━━━━━━━━━━━━━━━━━━━━━━╇━━━━━━━━━━━━╇━━━━━━━━━━━━━━━━━━━━━┩\n",
       "│\u001b[38;5;33m \u001b[0m\u001b[38;5;33madata.obs['_scvi_labels']\u001b[0m\u001b[38;5;33m \u001b[0m│\u001b[32m \u001b[0m\u001b[32m    0     \u001b[0m\u001b[32m \u001b[0m│\u001b[38;5;128m \u001b[0m\u001b[38;5;128m         0         \u001b[0m\u001b[38;5;128m \u001b[0m│\n",
       "└───────────────────────────┴────────────┴─────────────────────┘\n"
      ]
     },
     "metadata": {},
     "output_type": "display_data"
    }
   ],
   "source": [
    " vae.view_anndata_setup(adata_mac) # check the set up looks as expected"
   ]
  },
  {
   "cell_type": "code",
   "execution_count": 24,
   "id": "0e3d4603-64e9-49ea-9712-afc8f7275b7c",
   "metadata": {},
   "outputs": [
    {
     "data": {
      "text/plain": [
       "400"
      ]
     },
     "execution_count": 24,
     "metadata": {},
     "output_type": "execute_result"
    }
   ],
   "source": [
    "# calculate the number of epochs needed which varies according to the cell number\n",
    "max_epochs_scvi = int(np.min([round((20000 / adata_mac.n_obs) * 400), 400])) # must be an integer\n",
    "max_epochs_scvi"
   ]
  },
  {
   "cell_type": "code",
   "execution_count": 25,
   "id": "cc5e3bb0-bca9-4c27-9657-1b883daf9779",
   "metadata": {},
   "outputs": [
    {
     "name": "stderr",
     "output_type": "stream",
     "text": [
      "GPU available: True (cuda), used: True\n",
      "TPU available: False, using: 0 TPU cores\n",
      "IPU available: False, using: 0 IPUs\n",
      "HPU available: False, using: 0 HPUs\n",
      "You are using a CUDA device ('NVIDIA RTX 6000 Ada Generation') that has Tensor Cores. To properly utilize them, you should set `torch.set_float32_matmul_precision('medium' | 'high')` which will trade-off precision for performance. For more details, read https://pytorch.org/docs/stable/generated/torch.set_float32_matmul_precision.html#torch.set_float32_matmul_precision\n",
      "LOCAL_RANK: 0 - CUDA_VISIBLE_DEVICES: [0,1]\n"
     ]
    },
    {
     "name": "stdout",
     "output_type": "stream",
     "text": [
      "Epoch 55/60:  92%|▉| 55/60 [00:15<00:01,  3.48it/s, v_num=1, train_loss_step=793\n",
      "Monitored metric elbo_validation did not improve in the last 10 records. Best score: 894.743. Signaling Trainer to stop.\n"
     ]
    }
   ],
   "source": [
    "# run the training (need the GPU queue here)\n",
    "# updated to 60 epochs due to overfitting\n",
    "vae.train(max_epochs = 60, \n",
    "          train_size = 0.9, \n",
    "          validation_size = 0.1, \n",
    "          accelerator='gpu', \n",
    "          check_val_every_n_epoch=1,\n",
    "          early_stopping=True,\n",
    "          early_stopping_patience=10,\n",
    "          early_stopping_monitor=\"elbo_validation\",\n",
    "          plan_kwargs = kwargs\n",
    "         )"
   ]
  },
  {
   "cell_type": "code",
   "execution_count": 26,
   "id": "0c865e5a-da3f-4dd5-99e0-6b51222c6d00",
   "metadata": {},
   "outputs": [
    {
     "data": {
      "image/png": "[encoded data removed]",
      "text/plain": [
       "<Figure size 600x600 with 1 Axes>"
      ]
     },
     "metadata": {
      "image/png": {
       "height": 548,
       "width": 603
      }
     },
     "output_type": "display_data"
    }
   ],
   "source": [
    "# visualise the results of the training\n",
    "train_test_results = vae.history[\"elbo_train\"]\n",
    "train_test_results[\"elbo_validation\"] = vae.history[\"elbo_validation\"]\n",
    "train_test_results.iloc[10:].plot(logy=True)  # exclude first 10 epochs\n",
    "plt.show()"
   ]
  },
  {
   "cell_type": "code",
   "execution_count": 27,
   "id": "820c246f-ec33-40b6-8e10-fcc33d73a30d",
   "metadata": {},
   "outputs": [
    {
     "data": {
      "image/png": "[encoded data removed]",
      "text/plain": [
       "<Figure size 600x600 with 1 Axes>"
      ]
     },
     "metadata": {
      "image/png": {
       "height": 520,
       "width": 565
      }
     },
     "output_type": "display_data"
    }
   ],
   "source": [
    "y = vae.history['reconstruction_loss_validation']['reconstruction_loss_validation'].min()\n",
    "plt.plot(vae.history['reconstruction_loss_train']['reconstruction_loss_train'], label='train')\n",
    "plt.plot(vae.history['reconstruction_loss_validation']['reconstruction_loss_validation'], label='validation')\n",
    "plt.axhline(y, c = 'k')\n",
    "plt.legend()\n",
    "plt.show()"
   ]
  },
  {
   "cell_type": "code",
   "execution_count": 28,
   "id": "4d125b32-9e30-4041-a530-c62004cf42f6",
   "metadata": {},
   "outputs": [],
   "source": [
    "# save the trained model\n",
    "# in file name use: sample, covariate, nepochs, n_hidden, n_latent, n_layers, dropout rate, dispersion, gene likelihood\n",
    "vae.save(os.path.join(RESULTS_FOLDERNAME, \"Ach_patient.seqbach_60_256_50_1_01_gene-batch_zinb/\"), overwrite=True)"
   ]
  },
  {
   "cell_type": "code",
   "execution_count": 29,
   "id": "0ba9a80e-cc11-475b-835c-f61921a079f4",
   "metadata": {},
   "outputs": [],
   "source": [
    "# Extract latent representation embeddings from your trained model \n",
    "adata_mac.obsm[\"X_scVI\"] = vae.get_latent_representation()"
   ]
  },
  {
   "cell_type": "code",
   "execution_count": 30,
   "id": "65edffab-2ab2-40c1-819d-735f1fa1233a",
   "metadata": {},
   "outputs": [],
   "source": [
    "# save the object\n",
    "adata_mac.write(os.path.join(RESULTS_FOLDERNAME, 'Achilles_scVI.h5ad'))"
   ]
  },
  {
   "cell_type": "code",
   "execution_count": 31,
   "id": "1baba8b1-a719-4b76-982e-0a2fd2f5fa0a",
   "metadata": {},
   "outputs": [],
   "source": [
    "# Save the scVI embeddings as numpy array\n",
    "filename = RESULTS_FOLDERNAME + \"scVI_embeddings\"\n",
    "np.save(filename, adata_mac.obsm['X_scVI'])"
   ]
  },
  {
   "cell_type": "code",
   "execution_count": 32,
   "id": "7fa3ed6f-0080-4775-807a-1732c3ff4457",
   "metadata": {},
   "outputs": [],
   "source": [
    "# Save the metadata\n",
    "filename = RESULTS_FOLDERNAME + \"Achilles_scVI_obs.txt\"\n",
    "adata_mac.obs.to_csv(filename, sep='\\t')"
   ]
  },
  {
   "cell_type": "code",
   "execution_count": null,
   "id": "241ccb32-62ba-4bad-a0c4-1bf699b1065e",
   "metadata": {},
   "outputs": [],
   "source": []
  }
 ],
 "metadata": {
  "kernelspec": {
   "display_name": "scvi_env",
   "language": "python",
   "name": "scvi_env"
  },
  "language_info": {
   "codemirror_mode": {
    "name": "ipython",
    "version": 3
   },
   "file_extension": ".py",
   "mimetype": "text/x-python",
   "name": "python",
   "nbconvert_exporter": "python",
   "pygments_lexer": "ipython3",
   "version": "3.9.16"
  }
 },
 "nbformat": 4,
 "nbformat_minor": 5
}
