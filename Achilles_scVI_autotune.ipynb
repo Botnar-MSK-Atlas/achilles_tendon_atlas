{
 "cells": [
  {
   "cell_type": "code",
   "execution_count": 27,
   "id": "50f2052b",
   "metadata": {},
   "outputs": [
    {
     "name": "stdout",
     "output_type": "stream",
     "text": [
      "Current date and time = 2024-07-26 11:14:55.086320\n",
      "-----\n",
      "anndata     0.9.1\n",
      "scanpy      1.9.3\n",
      "-----\n",
      "PIL                         9.4.0\n",
      "absl                        NA\n",
      "aiohttp                     3.9.5\n",
      "aiohttp_cors                0.7.0\n",
      "aiosignal                   1.3.1\n",
      "annotated_types             0.5.0\n",
      "anyio                       NA\n",
      "arrow                       1.2.3\n",
      "asttokens                   NA\n",
      "async_timeout               4.0.3\n",
      "attr                        23.1.0\n",
      "attrs                       23.1.0\n",
      "babel                       2.14.0\n",
      "backcall                    0.2.0\n",
      "backoff                     2.2.1\n",
      "brotli                      NA\n",
      "bs4                         4.12.2\n",
      "certifi                     2024.07.04\n",
      "cffi                        1.15.1\n",
      "charset_normalizer          3.2.0\n",
      "chex                        0.1.83\n",
      "click                       8.1.5\n",
      "cloudpickle                 3.0.0\n",
      "colorama                    0.4.6\n",
      "comm                        0.1.3\n",
      "contextlib2                 NA\n",
      "croniter                    NA\n",
      "cycler                      0.10.0\n",
      "cython_runtime              NA\n",
      "cytoolz                     0.12.3\n",
      "dask                        2024.5.1\n",
      "dateutil                    2.8.2\n",
      "debugpy                     1.6.7\n",
      "decorator                   5.1.1\n",
      "deepdiff                    6.3.1\n",
      "defusedxml                  0.7.1\n",
      "dill                        0.3.8\n",
      "docrep                      0.3.2\n",
      "dot_parser                  NA\n",
      "executing                   1.2.0\n",
      "fastapi                     0.103.2\n",
      "fastjsonschema              NA\n",
      "filelock                    3.12.2\n",
      "flax                        0.6.1\n",
      "fqdn                        NA\n",
      "frozenlist                  1.4.1\n",
      "fsspec                      2023.6.0\n",
      "future                      0.18.3\n",
      "gmpy2                       2.1.2\n",
      "google                      NA\n",
      "grpc                        1.65.1\n",
      "h5py                        3.9.0\n",
      "html5lib                    1.1\n",
      "hyperopt                    0.2.7\n",
      "idna                        3.4\n",
      "igraph                      0.10.5\n",
      "importlib_resources         NA\n",
      "ipykernel                   6.24.0\n",
      "ipywidgets                  8.1.3\n",
      "isoduration                 NA\n",
      "jax                         0.4.13\n",
      "jaxlib                      0.4.12\n",
      "jedi                        0.18.2\n",
      "jinja2                      3.1.2\n",
      "joblib                      1.3.0\n",
      "json5                       0.9.25\n",
      "jsonpointer                 3.0.0\n",
      "jsonschema                  4.18.3\n",
      "jsonschema_specifications   NA\n",
      "jupyter_events              0.10.0\n",
      "jupyter_server              2.14.1\n",
      "jupyterlab_server           2.27.2\n",
      "kiwisolver                  1.4.4\n",
      "leidenalg                   0.10.0\n",
      "lightning                   2.0.8\n",
      "lightning_cloud             NA\n",
      "lightning_fabric            2.0.4\n",
      "lightning_utilities         0.9.0\n",
      "llvmlite                    0.40.1\n",
      "lz4                         4.3.3\n",
      "markupsafe                  2.1.3\n",
      "matplotlib                  3.7.2\n",
      "matplotlib_inline           0.1.6\n",
      "ml_collections              NA\n",
      "ml_dtypes                   0.2.0\n",
      "mpl_toolkits                NA\n",
      "mpmath                      1.3.0\n",
      "msgpack                     1.0.5\n",
      "mudata                      0.2.3\n",
      "multidict                   6.0.5\n",
      "multipart                   0.0.6\n",
      "multipledispatch            0.6.0\n",
      "natsort                     8.4.0\n",
      "nbformat                    5.10.4\n",
      "networkx                    3.1\n",
      "numba                       0.57.1\n",
      "numexpr                     2.10.0\n",
      "numpy                       1.24.4\n",
      "numpyro                     0.12.1\n",
      "nvfuser                     NA\n",
      "opencensus                  NA\n",
      "opt_einsum                  v3.3.0\n",
      "optax                       0.1.5\n",
      "ordered_set                 4.1.0\n",
      "orjson                      3.9.2\n",
      "overrides                   NA\n",
      "packaging                   23.1\n",
      "pandas                      2.2.2\n",
      "parso                       0.8.3\n",
      "past                        0.18.3\n",
      "patsy                       0.5.3\n",
      "pexpect                     4.8.0\n",
      "pickleshare                 0.7.5\n",
      "pkg_resources               NA\n",
      "platformdirs                3.8.1\n",
      "prometheus_client           NA\n",
      "prompt_toolkit              3.0.39\n",
      "psutil                      5.9.5\n",
      "ptyprocess                  0.7.0\n",
      "pure_eval                   0.2.2\n",
      "py4j                        0.10.9.7\n",
      "pyarrow                     16.1.0\n",
      "pydantic                    2.8.2\n",
      "pydantic_core               2.20.1\n",
      "pydev_ipython               NA\n",
      "pydevconsole                NA\n",
      "pydevd                      2.9.5\n",
      "pydevd_file_utils           NA\n",
      "pydevd_plugins              NA\n",
      "pydevd_tracing              NA\n",
      "pydot                       1.4.2\n",
      "pygments                    2.15.1\n",
      "pyparsing                   3.0.9\n",
      "pyro                        1.8.4+9ed468d\n",
      "pythonjsonlogger            NA\n",
      "pytorch_lightning           2.0.4\n",
      "pytz                        2023.3\n",
      "ray                         2.7.0\n",
      "referencing                 NA\n",
      "requests                    2.31.0\n",
      "rfc3339_validator           0.1.4\n",
      "rfc3986_validator           0.1.1\n",
      "rich                        NA\n",
      "rpds                        NA\n",
      "scipy                       1.11.1\n",
      "scvi                        1.0.2\n",
      "seaborn                     0.12.2\n",
      "send2trash                  NA\n",
      "session_info                1.0.0\n",
      "setproctitle                1.2.2\n",
      "six                         1.16.0\n",
      "sklearn                     1.3.0\n",
      "sniffio                     1.3.0\n",
      "socks                       1.7.1\n",
      "soupsieve                   2.3.2.post1\n",
      "sparse                      0.14.0\n",
      "stack_data                  0.6.2\n",
      "starlette                   0.27.0\n",
      "statsmodels                 0.14.0\n",
      "sympy                       1.12\n",
      "tblib                       3.0.0\n",
      "tensorboardX                2.6.2.2\n",
      "texttable                   1.6.7\n",
      "threadpoolctl               3.2.0\n",
      "tlz                         0.12.3\n",
      "tomli                       2.0.1\n",
      "toolz                       0.12.0\n",
      "torch                       2.0.1\n",
      "torchmetrics                0.11.4\n",
      "torchvision                 0.15.2\n",
      "tornado                     6.3.2\n",
      "tqdm                        4.65.0\n",
      "traitlets                   5.9.0\n",
      "typing_extensions           NA\n",
      "uri_template                NA\n",
      "urllib3                     1.26.15\n",
      "uvicorn                     0.22.0\n",
      "uvloop                      0.19.0\n",
      "watchfiles                  0.22.0\n",
      "wcwidth                     0.2.6\n",
      "webcolors                   24.6.0\n",
      "webencodings                0.5.1\n",
      "websocket                   1.6.1\n",
      "websockets                  11.0.3\n",
      "xarray                      2023.6.0\n",
      "yaml                        6.0\n",
      "yarl                        1.9.4\n",
      "zipp                        NA\n",
      "zmq                         25.1.0\n",
      "zoneinfo                    NA\n",
      "-----\n",
      "IPython             8.14.0\n",
      "jupyter_client      8.3.0\n",
      "jupyter_core        5.3.1\n",
      "jupyterlab          4.2.3\n",
      "notebook            7.2.1\n",
      "-----\n",
      "Python 3.9.16 | packaged by conda-forge | (main, Feb  1 2023, 21:39:03) [GCC 11.3.0]\n",
      "Linux-6.5.0-41-generic-x86_64-with-glibc2.35\n",
      "-----\n",
      "Session information updated at 2024-07-26 11:14\n"
     ]
    }
   ],
   "source": [
    "# Import dependencies\n",
    "%matplotlib inline\n",
    "import os\n",
    "import numpy as np\n",
    "import pandas as pd\n",
    "import scanpy as sc\n",
    "import scanpy.external as sce\n",
    "import seaborn as sns\n",
    "import anndata\n",
    "import matplotlib.pyplot as plt\n",
    "import yaml\n",
    "import scvi\n",
    "import ray\n",
    "import hyperopt\n",
    "from ray import tune\n",
    "from scvi import autotune\n",
    "\n",
    "# Print date and time:\n",
    "import datetime\n",
    "e = datetime.datetime.now()\n",
    "print (\"Current date and time = %s\" % e)\n",
    "\n",
    "# Set other settings\n",
    "sc.settings.verbosity = 3 # verbosity: errors (0), warnings (1), info (2), hints (3)\n",
    "sc.logging.print_versions()\n",
    "sc.set_figure_params(dpi=150, fontsize=10, dpi_save=600)"
   ]
  },
  {
   "cell_type": "code",
   "execution_count": 28,
   "id": "bf5f93f9",
   "metadata": {},
   "outputs": [
    {
     "name": "stdout",
     "output_type": "stream",
     "text": [
      "20240726_11-14_integration-scvi.dir\n"
     ]
    }
   ],
   "source": [
    "# set a working directory\n",
    "wdir = '/media/prom/apc1/ccohen/chromium/analysis/20240711_Achilles/'\n",
    "os.chdir( wdir )\n",
    "\n",
    "# create an output directory with today's date and time\n",
    "year = e.strftime(\"%Y\")\n",
    "month = e.strftime(\"%m\")\n",
    "day = e.strftime(\"%d\")\n",
    "hour = e.strftime('%H')\n",
    "minute = e.strftime('%M')\n",
    "dmyt = f'{year}{month}{day}_{hour}-{minute}'\n",
    "directory = f'{dmyt}_integration-scvi.dir'\n",
    "\n",
    "# folder structures\n",
    "RESULTS_FOLDERNAME = f'{directory}/results/'\n",
    "FIGURES_FOLDERNAME = f'{directory}/figures/'\n",
    "\n",
    "if not os.path.exists(RESULTS_FOLDERNAME):\n",
    "    os.makedirs(RESULTS_FOLDERNAME)\n",
    "if not os.path.exists(FIGURES_FOLDERNAME):\n",
    "    os.makedirs(FIGURES_FOLDERNAME)\n",
    "    \n",
    "# Set folder for saving figures into\n",
    "sc.settings.figdir = FIGURES_FOLDERNAME\n",
    "\n",
    "print(directory)"
   ]
  },
  {
   "cell_type": "code",
   "execution_count": 29,
   "id": "fc038487",
   "metadata": {},
   "outputs": [
    {
     "name": "stdout",
     "output_type": "stream",
     "text": [
      "datadir: 20240722_13-47_concat_norm.dir\n",
      "neighbours:\n",
      "  n_pcs: 30\n",
      "variable_genes:\n",
      "  batch: patient.seqbatch\n",
      "  flavor: seurat\n",
      "  n_genes: 5000\n",
      "\n"
     ]
    }
   ],
   "source": [
    "# Read in the yml file\n",
    "ini = yaml.safe_load(open('integration-scvi.yaml'))\n",
    "print(yaml.safe_dump(ini))"
   ]
  },
  {
   "cell_type": "markdown",
   "id": "3237bbcd",
   "metadata": {},
   "source": [
    "Read in the concatenated object.\n",
    "In the concat_norm script, normalisation and dim reduction was performed but this is not actually needed here because we will start again from the raw counts. \n",
    "The only question is whether to work on the whole object or to subset to hvg (and if so how many)"
   ]
  },
  {
   "cell_type": "code",
   "execution_count": 30,
   "id": "d30e3d60",
   "metadata": {},
   "outputs": [
    {
     "data": {
      "text/plain": [
       "'/media/prom/apc1/ccohen/chromium/analysis/20240711_Achilles/'"
      ]
     },
     "execution_count": 30,
     "metadata": {},
     "output_type": "execute_result"
    }
   ],
   "source": [
    "wdir"
   ]
  },
  {
   "cell_type": "code",
   "execution_count": 31,
   "id": "bea7efe0",
   "metadata": {},
   "outputs": [
    {
     "data": {
      "text/plain": [
       "'/media/prom/apc1/ccohen/chromium/analysis/20240711_Achilles/20240722_13-47_concat_norm.dir/results/merged_normalised.h5ad'"
      ]
     },
     "execution_count": 31,
     "metadata": {},
     "output_type": "execute_result"
    }
   ],
   "source": [
    "# path = os.path.join(wdir, 'concat_norm/results/merged_normalised.h5ad')\n",
    "# For testing use the subsetted object with only 3 samples in it\n",
    "path = os.path.join(wdir, ini['datadir'], 'results/merged_normalised.h5ad')\n",
    "path"
   ]
  },
  {
   "cell_type": "code",
   "execution_count": 32,
   "id": "d9fadbc3",
   "metadata": {},
   "outputs": [
    {
     "name": "stdout",
     "output_type": "stream",
     "text": [
      "Reading adata object\n"
     ]
    }
   ],
   "source": [
    "print('Reading adata object')"
   ]
  },
  {
   "cell_type": "code",
   "execution_count": 33,
   "id": "5213d2b2",
   "metadata": {},
   "outputs": [
    {
     "data": {
      "text/plain": [
       "AnnData object with n_obs × n_vars = 69589 × 30639\n",
       "    obs: 'sample', 'sum', 'detected', 'subsets_mito_percent', 'total', 'log10GenesPerUMI', 'patient', 'age', 'sex', 'ethnicity', 'surgical_procedure', 'disease_status', 'anatomical_site', 'affected_side', 'time_to_freezing', 'sequencing_date', 'microanatomical_site', 'seurat_clusters', 'decontX_contamination', 'sizeFactor', 'scDblFinder.class', 'patient.seqbatch', 'n_genes'\n",
       "    var: 'n_counts', 'highly_variable', 'highly_variable_rank', 'means', 'variances', 'variances_norm', 'highly_variable_nbatches', 'mean', 'std'\n",
       "    uns: 'hvg', 'log1p', 'microanatomical_site_colors', 'neighbors', 'patient_colors', 'pca', 'sample_colors', 'sequencing_date_colors', 'sex_colors', 'umap'\n",
       "    obsm: 'X_pca', 'X_umap'\n",
       "    varm: 'PCs'\n",
       "    layers: 'counts', 'decontX', 'log1p_norm', 'scaled', 'soupX'\n",
       "    obsp: 'connectivities', 'distances'"
      ]
     },
     "execution_count": 33,
     "metadata": {},
     "output_type": "execute_result"
    }
   ],
   "source": [
    "# This will be the unintegrated reference data\n",
    "# NB for some integration methods, here the data is subsetted to only hvg (see Alina's tutorial)\n",
    "adata_ref = sc.read_h5ad(path)\n",
    "adata_ref"
   ]
  },
  {
   "cell_type": "code",
   "execution_count": 8,
   "id": "fa152976",
   "metadata": {},
   "outputs": [
    {
     "name": "stdout",
     "output_type": "stream",
     "text": [
      "Adata object read successfully\n"
     ]
    }
   ],
   "source": [
    "print('Adata object read successfully')"
   ]
  },
  {
   "cell_type": "code",
   "execution_count": 34,
   "id": "81ea35ae",
   "metadata": {},
   "outputs": [],
   "source": [
    "# scvi works with raw counts\n",
    "adata_ref.X = adata_ref.layers['counts'].copy()"
   ]
  },
  {
   "cell_type": "code",
   "execution_count": 35,
   "id": "ca5961dc",
   "metadata": {},
   "outputs": [],
   "source": [
    "# make a new object to perform the integration\n",
    "adata_scvi = adata_ref.copy()\n"
   ]
  },
  {
   "cell_type": "code",
   "execution_count": 36,
   "id": "9aab85b9",
   "metadata": {},
   "outputs": [],
   "source": [
    "# take a snapshot\n",
    "adata_scvi.raw = adata_scvi"
   ]
  },
  {
   "cell_type": "code",
   "execution_count": 37,
   "id": "7d84fdce",
   "metadata": {},
   "outputs": [
    {
     "data": {
      "text/plain": [
       "AnnData object with n_obs × n_vars = 69589 × 7000\n",
       "    obs: 'sample', 'sum', 'detected', 'subsets_mito_percent', 'total', 'log10GenesPerUMI', 'patient', 'age', 'sex', 'ethnicity', 'surgical_procedure', 'disease_status', 'anatomical_site', 'affected_side', 'time_to_freezing', 'sequencing_date', 'microanatomical_site', 'seurat_clusters', 'decontX_contamination', 'sizeFactor', 'scDblFinder.class', 'patient.seqbatch', 'n_genes'\n",
       "    var: 'n_counts', 'highly_variable', 'highly_variable_rank', 'means', 'variances', 'variances_norm', 'highly_variable_nbatches', 'mean', 'std'\n",
       "    uns: 'hvg', 'log1p', 'microanatomical_site_colors', 'neighbors', 'patient_colors', 'pca', 'sample_colors', 'sequencing_date_colors', 'sex_colors', 'umap'\n",
       "    obsm: 'X_pca', 'X_umap'\n",
       "    varm: 'PCs'\n",
       "    layers: 'counts', 'decontX', 'log1p_norm', 'scaled', 'soupX'\n",
       "    obsp: 'connectivities', 'distances'"
      ]
     },
     "execution_count": 37,
     "metadata": {},
     "output_type": "execute_result"
    }
   ],
   "source": [
    "# subset to hvg TODO Add parameter for this to be optional\n",
    "adata_scvi = adata_scvi[:, adata_scvi.var.highly_variable].copy()\n",
    "adata_scvi\n"
   ]
  },
  {
   "cell_type": "markdown",
   "id": "762de9a7",
   "metadata": {},
   "source": [
    "Optimise the scVI model using ray"
   ]
  },
  {
   "cell_type": "code",
   "execution_count": 38,
   "id": "e4e3fa6a",
   "metadata": {},
   "outputs": [
    {
     "data": {
      "text/html": [
       "<pre style=\"white-space:pre;overflow-x:auto;line-height:normal;font-family:Menlo,'DejaVu Sans Mono',consolas,'Courier New',monospace\">ModelTuner registry for SCVI\n",
       "</pre>\n"
      ],
      "text/plain": [
       "ModelTuner registry for SCVI\n"
      ]
     },
     "metadata": {},
     "output_type": "display_data"
    },
    {
     "data": {
      "text/html": [
       "<pre style=\"white-space:pre;overflow-x:auto;line-height:normal;font-family:Menlo,'DejaVu Sans Mono',consolas,'Courier New',monospace\"><span style=\"font-style: italic\">                  Tunable hyperparameters                  </span>\n",
       "┏━━━━━━━━━━━━━━━━━━━━━━━━━━┳━━━━━━━━━━━━━━━┳━━━━━━━━━━━━━━┓\n",
       "┃<span style=\"font-weight: bold\">      Hyperparameter      </span>┃<span style=\"font-weight: bold\"> Default value </span>┃<span style=\"font-weight: bold\">    Source    </span>┃\n",
       "┡━━━━━━━━━━━━━━━━━━━━━━━━━━╇━━━━━━━━━━━━━━━╇━━━━━━━━━━━━━━┩\n",
       "│<span style=\"color: #0087ff; text-decoration-color: #0087ff\">         n_hidden         </span>│<span style=\"color: #af00d7; text-decoration-color: #af00d7\">      128      </span>│<span style=\"color: #008000; text-decoration-color: #008000\">     VAE      </span>│\n",
       "│<span style=\"color: #0087ff; text-decoration-color: #0087ff\">         n_latent         </span>│<span style=\"color: #af00d7; text-decoration-color: #af00d7\">      10       </span>│<span style=\"color: #008000; text-decoration-color: #008000\">     VAE      </span>│\n",
       "│<span style=\"color: #0087ff; text-decoration-color: #0087ff\">         n_layers         </span>│<span style=\"color: #af00d7; text-decoration-color: #af00d7\">       1       </span>│<span style=\"color: #008000; text-decoration-color: #008000\">     VAE      </span>│\n",
       "│<span style=\"color: #0087ff; text-decoration-color: #0087ff\">       dropout_rate       </span>│<span style=\"color: #af00d7; text-decoration-color: #af00d7\">      0.1      </span>│<span style=\"color: #008000; text-decoration-color: #008000\">     VAE      </span>│\n",
       "│<span style=\"color: #0087ff; text-decoration-color: #0087ff\">        dispersion        </span>│<span style=\"color: #af00d7; text-decoration-color: #af00d7\">     gene      </span>│<span style=\"color: #008000; text-decoration-color: #008000\">     VAE      </span>│\n",
       "│<span style=\"color: #0087ff; text-decoration-color: #0087ff\">     gene_likelihood      </span>│<span style=\"color: #af00d7; text-decoration-color: #af00d7\">     zinb      </span>│<span style=\"color: #008000; text-decoration-color: #008000\">     VAE      </span>│\n",
       "│<span style=\"color: #0087ff; text-decoration-color: #0087ff\">   latent_distribution    </span>│<span style=\"color: #af00d7; text-decoration-color: #af00d7\">    normal     </span>│<span style=\"color: #008000; text-decoration-color: #008000\">     VAE      </span>│\n",
       "│<span style=\"color: #0087ff; text-decoration-color: #0087ff\">    encode_covariates     </span>│<span style=\"color: #af00d7; text-decoration-color: #af00d7\">     False     </span>│<span style=\"color: #008000; text-decoration-color: #008000\">     VAE      </span>│\n",
       "│<span style=\"color: #0087ff; text-decoration-color: #0087ff\"> deeply_inject_covariates </span>│<span style=\"color: #af00d7; text-decoration-color: #af00d7\">     True      </span>│<span style=\"color: #008000; text-decoration-color: #008000\">     VAE      </span>│\n",
       "│<span style=\"color: #0087ff; text-decoration-color: #0087ff\">      use_batch_norm      </span>│<span style=\"color: #af00d7; text-decoration-color: #af00d7\">     both      </span>│<span style=\"color: #008000; text-decoration-color: #008000\">     VAE      </span>│\n",
       "│<span style=\"color: #0087ff; text-decoration-color: #0087ff\">      use_layer_norm      </span>│<span style=\"color: #af00d7; text-decoration-color: #af00d7\">     none      </span>│<span style=\"color: #008000; text-decoration-color: #008000\">     VAE      </span>│\n",
       "│<span style=\"color: #0087ff; text-decoration-color: #0087ff\">        optimizer         </span>│<span style=\"color: #af00d7; text-decoration-color: #af00d7\">     Adam      </span>│<span style=\"color: #008000; text-decoration-color: #008000\"> TrainingPlan </span>│\n",
       "│<span style=\"color: #0087ff; text-decoration-color: #0087ff\">            lr            </span>│<span style=\"color: #af00d7; text-decoration-color: #af00d7\">     0.001     </span>│<span style=\"color: #008000; text-decoration-color: #008000\"> TrainingPlan </span>│\n",
       "│<span style=\"color: #0087ff; text-decoration-color: #0087ff\">       weight_decay       </span>│<span style=\"color: #af00d7; text-decoration-color: #af00d7\">     1e-06     </span>│<span style=\"color: #008000; text-decoration-color: #008000\"> TrainingPlan </span>│\n",
       "│<span style=\"color: #0087ff; text-decoration-color: #0087ff\">           eps            </span>│<span style=\"color: #af00d7; text-decoration-color: #af00d7\">     0.01      </span>│<span style=\"color: #008000; text-decoration-color: #008000\"> TrainingPlan </span>│\n",
       "│<span style=\"color: #0087ff; text-decoration-color: #0087ff\">    n_steps_kl_warmup     </span>│<span style=\"color: #af00d7; text-decoration-color: #af00d7\">     None      </span>│<span style=\"color: #008000; text-decoration-color: #008000\"> TrainingPlan </span>│\n",
       "│<span style=\"color: #0087ff; text-decoration-color: #0087ff\">    n_epochs_kl_warmup    </span>│<span style=\"color: #af00d7; text-decoration-color: #af00d7\">      400      </span>│<span style=\"color: #008000; text-decoration-color: #008000\"> TrainingPlan </span>│\n",
       "│<span style=\"color: #0087ff; text-decoration-color: #0087ff\">   reduce_lr_on_plateau   </span>│<span style=\"color: #af00d7; text-decoration-color: #af00d7\">     False     </span>│<span style=\"color: #008000; text-decoration-color: #008000\"> TrainingPlan </span>│\n",
       "│<span style=\"color: #0087ff; text-decoration-color: #0087ff\">        lr_factor         </span>│<span style=\"color: #af00d7; text-decoration-color: #af00d7\">      0.6      </span>│<span style=\"color: #008000; text-decoration-color: #008000\"> TrainingPlan </span>│\n",
       "│<span style=\"color: #0087ff; text-decoration-color: #0087ff\">       lr_patience        </span>│<span style=\"color: #af00d7; text-decoration-color: #af00d7\">      30       </span>│<span style=\"color: #008000; text-decoration-color: #008000\"> TrainingPlan </span>│\n",
       "│<span style=\"color: #0087ff; text-decoration-color: #0087ff\">       lr_threshold       </span>│<span style=\"color: #af00d7; text-decoration-color: #af00d7\">      0.0      </span>│<span style=\"color: #008000; text-decoration-color: #008000\"> TrainingPlan </span>│\n",
       "│<span style=\"color: #0087ff; text-decoration-color: #0087ff\">          lr_min          </span>│<span style=\"color: #af00d7; text-decoration-color: #af00d7\">       0       </span>│<span style=\"color: #008000; text-decoration-color: #008000\"> TrainingPlan </span>│\n",
       "│<span style=\"color: #0087ff; text-decoration-color: #0087ff\">      max_kl_weight       </span>│<span style=\"color: #af00d7; text-decoration-color: #af00d7\">      1.0      </span>│<span style=\"color: #008000; text-decoration-color: #008000\"> TrainingPlan </span>│\n",
       "│<span style=\"color: #0087ff; text-decoration-color: #0087ff\">      min_kl_weight       </span>│<span style=\"color: #af00d7; text-decoration-color: #af00d7\">      0.0      </span>│<span style=\"color: #008000; text-decoration-color: #008000\"> TrainingPlan </span>│\n",
       "└──────────────────────────┴───────────────┴──────────────┘\n",
       "</pre>\n"
      ],
      "text/plain": [
       "\u001b[3m                  Tunable hyperparameters                  \u001b[0m\n",
       "┏━━━━━━━━━━━━━━━━━━━━━━━━━━┳━━━━━━━━━━━━━━━┳━━━━━━━━━━━━━━┓\n",
       "┃\u001b[1m \u001b[0m\u001b[1m     Hyperparameter     \u001b[0m\u001b[1m \u001b[0m┃\u001b[1m \u001b[0m\u001b[1mDefault value\u001b[0m\u001b[1m \u001b[0m┃\u001b[1m \u001b[0m\u001b[1m   Source   \u001b[0m\u001b[1m \u001b[0m┃\n",
       "┡━━━━━━━━━━━━━━━━━━━━━━━━━━╇━━━━━━━━━━━━━━━╇━━━━━━━━━━━━━━┩\n",
       "│\u001b[38;5;33m \u001b[0m\u001b[38;5;33m        n_hidden        \u001b[0m\u001b[38;5;33m \u001b[0m│\u001b[38;5;128m \u001b[0m\u001b[38;5;128m     128     \u001b[0m\u001b[38;5;128m \u001b[0m│\u001b[32m \u001b[0m\u001b[32m    VAE     \u001b[0m\u001b[32m \u001b[0m│\n",
       "│\u001b[38;5;33m \u001b[0m\u001b[38;5;33m        n_latent        \u001b[0m\u001b[38;5;33m \u001b[0m│\u001b[38;5;128m \u001b[0m\u001b[38;5;128m     10      \u001b[0m\u001b[38;5;128m \u001b[0m│\u001b[32m \u001b[0m\u001b[32m    VAE     \u001b[0m\u001b[32m \u001b[0m│\n",
       "│\u001b[38;5;33m \u001b[0m\u001b[38;5;33m        n_layers        \u001b[0m\u001b[38;5;33m \u001b[0m│\u001b[38;5;128m \u001b[0m\u001b[38;5;128m      1      \u001b[0m\u001b[38;5;128m \u001b[0m│\u001b[32m \u001b[0m\u001b[32m    VAE     \u001b[0m\u001b[32m \u001b[0m│\n",
       "│\u001b[38;5;33m \u001b[0m\u001b[38;5;33m      dropout_rate      \u001b[0m\u001b[38;5;33m \u001b[0m│\u001b[38;5;128m \u001b[0m\u001b[38;5;128m     0.1     \u001b[0m\u001b[38;5;128m \u001b[0m│\u001b[32m \u001b[0m\u001b[32m    VAE     \u001b[0m\u001b[32m \u001b[0m│\n",
       "│\u001b[38;5;33m \u001b[0m\u001b[38;5;33m       dispersion       \u001b[0m\u001b[38;5;33m \u001b[0m│\u001b[38;5;128m \u001b[0m\u001b[38;5;128m    gene     \u001b[0m\u001b[38;5;128m \u001b[0m│\u001b[32m \u001b[0m\u001b[32m    VAE     \u001b[0m\u001b[32m \u001b[0m│\n",
       "│\u001b[38;5;33m \u001b[0m\u001b[38;5;33m    gene_likelihood     \u001b[0m\u001b[38;5;33m \u001b[0m│\u001b[38;5;128m \u001b[0m\u001b[38;5;128m    zinb     \u001b[0m\u001b[38;5;128m \u001b[0m│\u001b[32m \u001b[0m\u001b[32m    VAE     \u001b[0m\u001b[32m \u001b[0m│\n",
       "│\u001b[38;5;33m \u001b[0m\u001b[38;5;33m  latent_distribution   \u001b[0m\u001b[38;5;33m \u001b[0m│\u001b[38;5;128m \u001b[0m\u001b[38;5;128m   normal    \u001b[0m\u001b[38;5;128m \u001b[0m│\u001b[32m \u001b[0m\u001b[32m    VAE     \u001b[0m\u001b[32m \u001b[0m│\n",
       "│\u001b[38;5;33m \u001b[0m\u001b[38;5;33m   encode_covariates    \u001b[0m\u001b[38;5;33m \u001b[0m│\u001b[38;5;128m \u001b[0m\u001b[38;5;128m    False    \u001b[0m\u001b[38;5;128m \u001b[0m│\u001b[32m \u001b[0m\u001b[32m    VAE     \u001b[0m\u001b[32m \u001b[0m│\n",
       "│\u001b[38;5;33m \u001b[0m\u001b[38;5;33mdeeply_inject_covariates\u001b[0m\u001b[38;5;33m \u001b[0m│\u001b[38;5;128m \u001b[0m\u001b[38;5;128m    True     \u001b[0m\u001b[38;5;128m \u001b[0m│\u001b[32m \u001b[0m\u001b[32m    VAE     \u001b[0m\u001b[32m \u001b[0m│\n",
       "│\u001b[38;5;33m \u001b[0m\u001b[38;5;33m     use_batch_norm     \u001b[0m\u001b[38;5;33m \u001b[0m│\u001b[38;5;128m \u001b[0m\u001b[38;5;128m    both     \u001b[0m\u001b[38;5;128m \u001b[0m│\u001b[32m \u001b[0m\u001b[32m    VAE     \u001b[0m\u001b[32m \u001b[0m│\n",
       "│\u001b[38;5;33m \u001b[0m\u001b[38;5;33m     use_layer_norm     \u001b[0m\u001b[38;5;33m \u001b[0m│\u001b[38;5;128m \u001b[0m\u001b[38;5;128m    none     \u001b[0m\u001b[38;5;128m \u001b[0m│\u001b[32m \u001b[0m\u001b[32m    VAE     \u001b[0m\u001b[32m \u001b[0m│\n",
       "│\u001b[38;5;33m \u001b[0m\u001b[38;5;33m       optimizer        \u001b[0m\u001b[38;5;33m \u001b[0m│\u001b[38;5;128m \u001b[0m\u001b[38;5;128m    Adam     \u001b[0m\u001b[38;5;128m \u001b[0m│\u001b[32m \u001b[0m\u001b[32mTrainingPlan\u001b[0m\u001b[32m \u001b[0m│\n",
       "│\u001b[38;5;33m \u001b[0m\u001b[38;5;33m           lr           \u001b[0m\u001b[38;5;33m \u001b[0m│\u001b[38;5;128m \u001b[0m\u001b[38;5;128m    0.001    \u001b[0m\u001b[38;5;128m \u001b[0m│\u001b[32m \u001b[0m\u001b[32mTrainingPlan\u001b[0m\u001b[32m \u001b[0m│\n",
       "│\u001b[38;5;33m \u001b[0m\u001b[38;5;33m      weight_decay      \u001b[0m\u001b[38;5;33m \u001b[0m│\u001b[38;5;128m \u001b[0m\u001b[38;5;128m    1e-06    \u001b[0m\u001b[38;5;128m \u001b[0m│\u001b[32m \u001b[0m\u001b[32mTrainingPlan\u001b[0m\u001b[32m \u001b[0m│\n",
       "│\u001b[38;5;33m \u001b[0m\u001b[38;5;33m          eps           \u001b[0m\u001b[38;5;33m \u001b[0m│\u001b[38;5;128m \u001b[0m\u001b[38;5;128m    0.01     \u001b[0m\u001b[38;5;128m \u001b[0m│\u001b[32m \u001b[0m\u001b[32mTrainingPlan\u001b[0m\u001b[32m \u001b[0m│\n",
       "│\u001b[38;5;33m \u001b[0m\u001b[38;5;33m   n_steps_kl_warmup    \u001b[0m\u001b[38;5;33m \u001b[0m│\u001b[38;5;128m \u001b[0m\u001b[38;5;128m    None     \u001b[0m\u001b[38;5;128m \u001b[0m│\u001b[32m \u001b[0m\u001b[32mTrainingPlan\u001b[0m\u001b[32m \u001b[0m│\n",
       "│\u001b[38;5;33m \u001b[0m\u001b[38;5;33m   n_epochs_kl_warmup   \u001b[0m\u001b[38;5;33m \u001b[0m│\u001b[38;5;128m \u001b[0m\u001b[38;5;128m     400     \u001b[0m\u001b[38;5;128m \u001b[0m│\u001b[32m \u001b[0m\u001b[32mTrainingPlan\u001b[0m\u001b[32m \u001b[0m│\n",
       "│\u001b[38;5;33m \u001b[0m\u001b[38;5;33m  reduce_lr_on_plateau  \u001b[0m\u001b[38;5;33m \u001b[0m│\u001b[38;5;128m \u001b[0m\u001b[38;5;128m    False    \u001b[0m\u001b[38;5;128m \u001b[0m│\u001b[32m \u001b[0m\u001b[32mTrainingPlan\u001b[0m\u001b[32m \u001b[0m│\n",
       "│\u001b[38;5;33m \u001b[0m\u001b[38;5;33m       lr_factor        \u001b[0m\u001b[38;5;33m \u001b[0m│\u001b[38;5;128m \u001b[0m\u001b[38;5;128m     0.6     \u001b[0m\u001b[38;5;128m \u001b[0m│\u001b[32m \u001b[0m\u001b[32mTrainingPlan\u001b[0m\u001b[32m \u001b[0m│\n",
       "│\u001b[38;5;33m \u001b[0m\u001b[38;5;33m      lr_patience       \u001b[0m\u001b[38;5;33m \u001b[0m│\u001b[38;5;128m \u001b[0m\u001b[38;5;128m     30      \u001b[0m\u001b[38;5;128m \u001b[0m│\u001b[32m \u001b[0m\u001b[32mTrainingPlan\u001b[0m\u001b[32m \u001b[0m│\n",
       "│\u001b[38;5;33m \u001b[0m\u001b[38;5;33m      lr_threshold      \u001b[0m\u001b[38;5;33m \u001b[0m│\u001b[38;5;128m \u001b[0m\u001b[38;5;128m     0.0     \u001b[0m\u001b[38;5;128m \u001b[0m│\u001b[32m \u001b[0m\u001b[32mTrainingPlan\u001b[0m\u001b[32m \u001b[0m│\n",
       "│\u001b[38;5;33m \u001b[0m\u001b[38;5;33m         lr_min         \u001b[0m\u001b[38;5;33m \u001b[0m│\u001b[38;5;128m \u001b[0m\u001b[38;5;128m      0      \u001b[0m\u001b[38;5;128m \u001b[0m│\u001b[32m \u001b[0m\u001b[32mTrainingPlan\u001b[0m\u001b[32m \u001b[0m│\n",
       "│\u001b[38;5;33m \u001b[0m\u001b[38;5;33m     max_kl_weight      \u001b[0m\u001b[38;5;33m \u001b[0m│\u001b[38;5;128m \u001b[0m\u001b[38;5;128m     1.0     \u001b[0m\u001b[38;5;128m \u001b[0m│\u001b[32m \u001b[0m\u001b[32mTrainingPlan\u001b[0m\u001b[32m \u001b[0m│\n",
       "│\u001b[38;5;33m \u001b[0m\u001b[38;5;33m     min_kl_weight      \u001b[0m\u001b[38;5;33m \u001b[0m│\u001b[38;5;128m \u001b[0m\u001b[38;5;128m     0.0     \u001b[0m\u001b[38;5;128m \u001b[0m│\u001b[32m \u001b[0m\u001b[32mTrainingPlan\u001b[0m\u001b[32m \u001b[0m│\n",
       "└──────────────────────────┴───────────────┴──────────────┘\n"
      ]
     },
     "metadata": {},
     "output_type": "display_data"
    },
    {
     "data": {
      "text/html": [
       "<pre style=\"white-space:pre;overflow-x:auto;line-height:normal;font-family:Menlo,'DejaVu Sans Mono',consolas,'Courier New',monospace\"><span style=\"font-style: italic\">       Available metrics        </span>\n",
       "┏━━━━━━━━━━━━━━━━━┳━━━━━━━━━━━━┓\n",
       "┃<span style=\"font-weight: bold\">     Metric      </span>┃<span style=\"font-weight: bold\">    Mode    </span>┃\n",
       "┡━━━━━━━━━━━━━━━━━╇━━━━━━━━━━━━┩\n",
       "│<span style=\"color: #0087ff; text-decoration-color: #0087ff\"> validation_loss </span>│<span style=\"color: #af00d7; text-decoration-color: #af00d7\">    min     </span>│\n",
       "└─────────────────┴────────────┘\n",
       "</pre>\n"
      ],
      "text/plain": [
       "\u001b[3m       Available metrics        \u001b[0m\n",
       "┏━━━━━━━━━━━━━━━━━┳━━━━━━━━━━━━┓\n",
       "┃\u001b[1m \u001b[0m\u001b[1m    Metric     \u001b[0m\u001b[1m \u001b[0m┃\u001b[1m \u001b[0m\u001b[1m   Mode   \u001b[0m\u001b[1m \u001b[0m┃\n",
       "┡━━━━━━━━━━━━━━━━━╇━━━━━━━━━━━━┩\n",
       "│\u001b[38;5;33m \u001b[0m\u001b[38;5;33mvalidation_loss\u001b[0m\u001b[38;5;33m \u001b[0m│\u001b[38;5;128m \u001b[0m\u001b[38;5;128m   min    \u001b[0m\u001b[38;5;128m \u001b[0m│\n",
       "└─────────────────┴────────────┘\n"
      ]
     },
     "metadata": {},
     "output_type": "display_data"
    },
    {
     "data": {
      "text/html": [
       "<pre style=\"white-space:pre;overflow-x:auto;line-height:normal;font-family:Menlo,'DejaVu Sans Mono',consolas,'Courier New',monospace\"><span style=\"font-style: italic\">                         Default search space                         </span>\n",
       "┏━━━━━━━━━━━━━━━━┳━━━━━━━━━━━━━━━━━┳━━━━━━━━━━━━━┳━━━━━━━━━━━━━━━━━━━┓\n",
       "┃<span style=\"font-weight: bold\"> Hyperparameter </span>┃<span style=\"font-weight: bold\"> Sample function </span>┃<span style=\"font-weight: bold\">  Arguments  </span>┃<span style=\"font-weight: bold\"> Keyword arguments </span>┃\n",
       "┡━━━━━━━━━━━━━━━━╇━━━━━━━━━━━━━━━━━╇━━━━━━━━━━━━━╇━━━━━━━━━━━━━━━━━━━┩\n",
       "│<span style=\"color: #0087ff; text-decoration-color: #0087ff\">    n_hidden    </span>│<span style=\"color: #af00d7; text-decoration-color: #af00d7\">     choice      </span>│<span style=\"color: #008000; text-decoration-color: #008000\"> [[64, 128]] </span>│<span style=\"color: #ff8700; text-decoration-color: #ff8700\">        {}         </span>│\n",
       "└────────────────┴─────────────────┴─────────────┴───────────────────┘\n",
       "</pre>\n"
      ],
      "text/plain": [
       "\u001b[3m                         Default search space                         \u001b[0m\n",
       "┏━━━━━━━━━━━━━━━━┳━━━━━━━━━━━━━━━━━┳━━━━━━━━━━━━━┳━━━━━━━━━━━━━━━━━━━┓\n",
       "┃\u001b[1m \u001b[0m\u001b[1mHyperparameter\u001b[0m\u001b[1m \u001b[0m┃\u001b[1m \u001b[0m\u001b[1mSample function\u001b[0m\u001b[1m \u001b[0m┃\u001b[1m \u001b[0m\u001b[1m Arguments \u001b[0m\u001b[1m \u001b[0m┃\u001b[1m \u001b[0m\u001b[1mKeyword arguments\u001b[0m\u001b[1m \u001b[0m┃\n",
       "┡━━━━━━━━━━━━━━━━╇━━━━━━━━━━━━━━━━━╇━━━━━━━━━━━━━╇━━━━━━━━━━━━━━━━━━━┩\n",
       "│\u001b[38;5;33m \u001b[0m\u001b[38;5;33m   n_hidden   \u001b[0m\u001b[38;5;33m \u001b[0m│\u001b[38;5;128m \u001b[0m\u001b[38;5;128m    choice     \u001b[0m\u001b[38;5;128m \u001b[0m│\u001b[32m \u001b[0m\u001b[32m[[64, 128]]\u001b[0m\u001b[32m \u001b[0m│\u001b[38;5;208m \u001b[0m\u001b[38;5;208m       {}        \u001b[0m\u001b[38;5;208m \u001b[0m│\n",
       "└────────────────┴─────────────────┴─────────────┴───────────────────┘\n"
      ]
     },
     "metadata": {},
     "output_type": "display_data"
    }
   ],
   "source": [
    "# set up the object and view the available paramaters that can be tuned\n",
    "\n",
    "model_cls = scvi.model.SCVI\n",
    "model_cls.setup_anndata(adata_scvi, layer=\"counts\", \n",
    "                        batch_key='patient.seqbatch')\n",
    "\n",
    "scvi_tuner = autotune.ModelTuner(model_cls)\n",
    "scvi_tuner.info()"
   ]
  },
  {
   "cell_type": "code",
   "execution_count": 39,
   "id": "052b89a3",
   "metadata": {},
   "outputs": [],
   "source": [
    "# specify which variables will be tested\n",
    "search_space = {\n",
    "    \"n_latent\": tune.choice([10, 30, 50]),\n",
    "    \"n_hidden\": tune.choice([60, 128, 256]),\n",
    "    \"n_layers\": tune.choice([1, 2, 3]),\n",
    "    \"lr\": tune.loguniform(1e-4, 1e-2),\n",
    "    \"gene_likelihood\": tune.choice([\"nb\", \"zinb\"])\n",
    "}"
   ]
  },
  {
   "cell_type": "code",
   "execution_count": 41,
   "id": "6b3834df",
   "metadata": {},
   "outputs": [
    {
     "name": "stderr",
     "output_type": "stream",
     "text": [
      "2024-07-26 11:16:10,633\tINFO worker.py:1633 -- Started a local Ray instance. View the dashboard at \u001b[1m\u001b[32m127.0.0.1:8265 \u001b[39m\u001b[22m\n"
     ]
    },
    {
     "data": {
      "application/vnd.jupyter.widget-view+json": {
       "model_id": "398f9097994541e181b51d60b898ccfd",
       "version_major": 2,
       "version_minor": 0
      },
      "text/html": [
       "<div class=\"lm-Widget p-Widget lm-Panel p-Panel jp-Cell-outputWrapper\">\n",
       "    <div style=\"margin-left: 50px;display: flex;flex-direction: row;align-items: center\">\n",
       "        <div class=\"jp-RenderedHTMLCommon\" style=\"display: flex; flex-direction: row;\">\n",
       "  <svg viewBox=\"0 0 567 224\" fill=\"none\" xmlns=\"http://www.w3.org/2000/svg\" style=\"height: 3em;\">\n",
       "    <g clip-path=\"url(#clip0_4338_178347)\">\n",
       "        <path d=\"M341.29 165.561H355.29L330.13 129.051C345.63 123.991 354.21 112.051 354.21 94.2307C354.21 71.3707 338.72 58.1807 311.88 58.1807H271V165.561H283.27V131.661H311.8C314.25 131.661 316.71 131.501 319.01 131.351L341.25 165.561H341.29ZM283.29 119.851V70.0007H311.82C331.3 70.0007 342.34 78.2907 342.34 94.5507C342.34 111.271 331.34 119.861 311.82 119.861L283.29 119.851ZM451.4 138.411L463.4 165.561H476.74L428.74 58.1807H416L367.83 165.561H380.83L392.83 138.411H451.4ZM446.19 126.601H398L422 72.1407L446.24 126.601H446.19ZM526.11 128.741L566.91 58.1807H554.35L519.99 114.181L485.17 58.1807H472.44L514.01 129.181V165.541H526.13V128.741H526.11Z\" fill=\"var(--jp-ui-font-color0)\"/>\n",
       "        <path d=\"M82.35 104.44C84.0187 97.8827 87.8248 92.0678 93.1671 87.9146C98.5094 83.7614 105.083 81.5067 111.85 81.5067C118.617 81.5067 125.191 83.7614 130.533 87.9146C135.875 92.0678 139.681 97.8827 141.35 104.44H163.75C164.476 101.562 165.622 98.8057 167.15 96.2605L127.45 56.5605C121.071 60.3522 113.526 61.6823 106.235 60.3005C98.9443 58.9187 92.4094 54.9203 87.8602 49.0574C83.3109 43.1946 81.0609 35.8714 81.5332 28.4656C82.0056 21.0599 85.1679 14.0819 90.4252 8.8446C95.6824 3.60726 102.672 0.471508 110.08 0.0272655C117.487 -0.416977 124.802 1.86091 130.647 6.4324C136.493 11.0039 140.467 17.5539 141.821 24.8501C143.175 32.1463 141.816 39.6859 138 46.0505L177.69 85.7505C182.31 82.9877 187.58 81.4995 192.962 81.4375C198.345 81.3755 203.648 82.742 208.33 85.3976C213.012 88.0532 216.907 91.9029 219.616 96.5544C222.326 101.206 223.753 106.492 223.753 111.875C223.753 117.258 222.326 122.545 219.616 127.197C216.907 131.848 213.012 135.698 208.33 138.353C203.648 141.009 198.345 142.375 192.962 142.313C187.58 142.251 182.31 140.763 177.69 138L138 177.7C141.808 184.071 143.155 191.614 141.79 198.91C140.424 206.205 136.44 212.75 130.585 217.313C124.731 221.875 117.412 224.141 110.004 223.683C102.596 223.226 95.6103 220.077 90.3621 214.828C85.1139 209.58 81.9647 202.595 81.5072 195.187C81.0497 187.779 83.3154 180.459 87.878 174.605C92.4405 168.751 98.9853 164.766 106.281 163.401C113.576 162.035 121.119 163.383 127.49 167.19L167.19 127.49C165.664 124.941 164.518 122.182 163.79 119.3H141.39C139.721 125.858 135.915 131.673 130.573 135.826C125.231 139.98 118.657 142.234 111.89 142.234C105.123 142.234 98.5494 139.98 93.2071 135.826C87.8648 131.673 84.0587 125.858 82.39 119.3H60C58.1878 126.495 53.8086 132.78 47.6863 136.971C41.5641 141.163 34.1211 142.972 26.7579 142.059C19.3947 141.146 12.6191 137.574 7.70605 132.014C2.79302 126.454 0.0813599 119.29 0.0813599 111.87C0.0813599 104.451 2.79302 97.2871 7.70605 91.7272C12.6191 86.1673 19.3947 82.5947 26.7579 81.6817C34.1211 80.7686 41.5641 82.5781 47.6863 86.7696C53.8086 90.9611 58.1878 97.2456 60 104.44H82.35ZM100.86 204.32C103.407 206.868 106.759 208.453 110.345 208.806C113.93 209.159 117.527 208.258 120.522 206.256C123.517 204.254 125.725 201.276 126.771 197.828C127.816 194.38 127.633 190.677 126.253 187.349C124.874 184.021 122.383 181.274 119.205 179.577C116.027 177.88 112.359 177.337 108.826 178.042C105.293 178.746 102.113 180.654 99.8291 183.44C97.5451 186.226 96.2979 189.718 96.3 193.32C96.2985 195.364 96.7006 197.388 97.4831 199.275C98.2656 201.163 99.4132 202.877 100.86 204.32ZM204.32 122.88C206.868 120.333 208.453 116.981 208.806 113.396C209.159 109.811 208.258 106.214 206.256 103.219C204.254 100.223 201.275 98.0151 197.827 96.97C194.38 95.9249 190.676 96.1077 187.348 97.4873C184.02 98.8669 181.274 101.358 179.577 104.536C177.879 107.714 177.337 111.382 178.041 114.915C178.746 118.448 180.653 121.627 183.439 123.911C186.226 126.195 189.717 127.443 193.32 127.44C195.364 127.443 197.388 127.042 199.275 126.259C201.163 125.476 202.878 124.328 204.32 122.88ZM122.88 19.4205C120.333 16.8729 116.981 15.2876 113.395 14.9347C109.81 14.5817 106.213 15.483 103.218 17.4849C100.223 19.4868 98.0146 22.4654 96.9696 25.9131C95.9245 29.3608 96.1073 33.0642 97.4869 36.3922C98.8665 39.7202 101.358 42.4668 104.535 44.1639C107.713 45.861 111.381 46.4036 114.914 45.6992C118.447 44.9949 121.627 43.0871 123.911 40.301C126.195 37.515 127.442 34.0231 127.44 30.4205C127.44 28.3772 127.038 26.3539 126.255 24.4664C125.473 22.5788 124.326 20.8642 122.88 19.4205ZM19.42 100.86C16.8725 103.408 15.2872 106.76 14.9342 110.345C14.5813 113.93 15.4826 117.527 17.4844 120.522C19.4863 123.518 22.4649 125.726 25.9127 126.771C29.3604 127.816 33.0638 127.633 36.3918 126.254C39.7198 124.874 42.4664 122.383 44.1635 119.205C45.8606 116.027 46.4032 112.359 45.6988 108.826C44.9944 105.293 43.0866 102.114 40.3006 99.8296C37.5145 97.5455 34.0227 96.2983 30.42 96.3005C26.2938 96.3018 22.337 97.9421 19.42 100.86ZM100.86 100.86C98.3125 103.408 96.7272 106.76 96.3742 110.345C96.0213 113.93 96.9226 117.527 98.9244 120.522C100.926 123.518 103.905 125.726 107.353 126.771C110.8 127.816 114.504 127.633 117.832 126.254C121.16 124.874 123.906 122.383 125.604 119.205C127.301 116.027 127.843 112.359 127.139 108.826C126.434 105.293 124.527 102.114 121.741 99.8296C118.955 97.5455 115.463 96.2983 111.86 96.3005C109.817 96.299 107.793 96.701 105.905 97.4835C104.018 98.2661 102.303 99.4136 100.86 100.86Z\" fill=\"#00AEEF\"/>\n",
       "    </g>\n",
       "    <defs>\n",
       "        <clipPath id=\"clip0_4338_178347\">\n",
       "            <rect width=\"566.93\" height=\"223.75\" fill=\"white\"/>\n",
       "        </clipPath>\n",
       "    </defs>\n",
       "  </svg>\n",
       "</div>\n",
       "\n",
       "        <table class=\"jp-RenderedHTMLCommon\" style=\"border-collapse: collapse;color: var(--jp-ui-font-color1);font-size: var(--jp-ui-font-size1);\">\n",
       "    <tr>\n",
       "        <td style=\"text-align: left\"><b>Python version:</b></td>\n",
       "        <td style=\"text-align: left\"><b>3.9.16</b></td>\n",
       "    </tr>\n",
       "    <tr>\n",
       "        <td style=\"text-align: left\"><b>Ray version:</b></td>\n",
       "        <td style=\"text-align: left\"><b>2.7.0</b></td>\n",
       "    </tr>\n",
       "    <tr>\n",
       "    <td style=\"text-align: left\"><b>Dashboard:</b></td>\n",
       "    <td style=\"text-align: left\"><b><a href=\"http://127.0.0.1:8265\" target=\"_blank\">http://127.0.0.1:8265</a></b></td>\n",
       "</tr>\n",
       "\n",
       "</table>\n",
       "\n",
       "    </div>\n",
       "</div>\n"
      ],
      "text/plain": [
       "RayContext(dashboard_url='127.0.0.1:8265', python_version='3.9.16', ray_version='2.7.0', ray_commit='b4bba4717f5ba04ee25580fe8f88eed63ef0c5dc', protocol_version=None)"
      ]
     },
     "execution_count": 41,
     "metadata": {},
     "output_type": "execute_result"
    }
   ],
   "source": [
    "ray.init(log_to_driver=False)"
   ]
  },
  {
   "cell_type": "code",
   "execution_count": 42,
   "id": "5a0985c6",
   "metadata": {},
   "outputs": [
    {
     "name": "stdout",
     "output_type": "stream",
     "text": [
      "Performing parameter tuning\n"
     ]
    }
   ],
   "source": [
    "print(\"Performing parameter tuning\")"
   ]
  },
  {
   "cell_type": "code",
   "execution_count": 43,
   "id": "ae05dfc6",
   "metadata": {},
   "outputs": [
    {
     "data": {
      "text/html": [
       "<div class=\"tuneStatus\">\n",
       "  <div style=\"display: flex;flex-direction: row\">\n",
       "    <div style=\"display: flex;flex-direction: column;\">\n",
       "      <h3>Tune Status</h3>\n",
       "      <table>\n",
       "<tbody>\n",
       "<tr><td>Current time:</td><td>2024-07-26 11:35:50</td></tr>\n",
       "<tr><td>Running for: </td><td>00:19:31.81        </td></tr>\n",
       "<tr><td>Memory:      </td><td>96.8/503.5 GiB     </td></tr>\n",
       "</tbody>\n",
       "</table>\n",
       "    </div>\n",
       "    <div class=\"vDivider\"></div>\n",
       "    <div class=\"systemInfo\">\n",
       "      <h3>System Info</h3>\n",
       "      Using AsyncHyperBand: num_stopped=81<br>Bracket: Iter 64.000: None | Iter 32.000: None | Iter 16.000: -1503.65673828125 | Iter 8.000: -1507.095947265625 | Iter 4.000: -1517.8536376953125 | Iter 2.000: -1539.4642333984375 | Iter 1.000: -1581.4568481445312<br>Logical resource usage: 0/128 CPUs, 1.0/2 GPUs (0.0/1.0 accelerator_type:RTX)\n",
       "    </div>\n",
       "    \n",
       "  </div>\n",
       "  <div class=\"hDivider\"></div>\n",
       "  <div class=\"trialStatus\">\n",
       "    <h3>Trial Status</h3>\n",
       "    <table>\n",
       "<thead>\n",
       "<tr><th>Trial name         </th><th>status    </th><th>loc                 </th><th style=\"text-align: right;\">  n_latent</th><th style=\"text-align: right;\">  n_hidden</th><th style=\"text-align: right;\">  n_layers</th><th style=\"text-align: right;\">         lr</th><th>gene_likelihood  </th><th style=\"text-align: right;\">  validation_loss</th></tr>\n",
       "</thead>\n",
       "<tbody>\n",
       "<tr><td>_trainable_e4088a53</td><td>TERMINATED</td><td>163.1.64.158:3322867</td><td style=\"text-align: right;\">        50</td><td style=\"text-align: right;\">        60</td><td style=\"text-align: right;\">         1</td><td style=\"text-align: right;\">0.002586   </td><td>zinb             </td><td style=\"text-align: right;\">          1509.6 </td></tr>\n",
       "<tr><td>_trainable_49c3d8eb</td><td>TERMINATED</td><td>163.1.64.158:3323090</td><td style=\"text-align: right;\">        10</td><td style=\"text-align: right;\">       128</td><td style=\"text-align: right;\">         1</td><td style=\"text-align: right;\">0.00556295 </td><td>zinb             </td><td style=\"text-align: right;\">          1521.25</td></tr>\n",
       "<tr><td>_trainable_0b4c1abc</td><td>TERMINATED</td><td>163.1.64.158:3323090</td><td style=\"text-align: right;\">        50</td><td style=\"text-align: right;\">       256</td><td style=\"text-align: right;\">         1</td><td style=\"text-align: right;\">0.000571577</td><td>zinb             </td><td style=\"text-align: right;\">          1591.58</td></tr>\n",
       "<tr><td>_trainable_a674ea37</td><td>TERMINATED</td><td>163.1.64.158:3323090</td><td style=\"text-align: right;\">        10</td><td style=\"text-align: right;\">        60</td><td style=\"text-align: right;\">         1</td><td style=\"text-align: right;\">0.000554989</td><td>zinb             </td><td style=\"text-align: right;\">          1663.55</td></tr>\n",
       "<tr><td>_trainable_19a3a3f4</td><td>TERMINATED</td><td>163.1.64.158:3323090</td><td style=\"text-align: right;\">        10</td><td style=\"text-align: right;\">       128</td><td style=\"text-align: right;\">         3</td><td style=\"text-align: right;\">0.00339445 </td><td>zinb             </td><td style=\"text-align: right;\">          1552.57</td></tr>\n",
       "<tr><td>_trainable_292015d4</td><td>TERMINATED</td><td>163.1.64.158:3323090</td><td style=\"text-align: right;\">        30</td><td style=\"text-align: right;\">       256</td><td style=\"text-align: right;\">         1</td><td style=\"text-align: right;\">0.000104798</td><td>nb               </td><td style=\"text-align: right;\">          1770.82</td></tr>\n",
       "<tr><td>_trainable_83aab986</td><td>TERMINATED</td><td>163.1.64.158:3323090</td><td style=\"text-align: right;\">        50</td><td style=\"text-align: right;\">       128</td><td style=\"text-align: right;\">         2</td><td style=\"text-align: right;\">0.000105707</td><td>nb               </td><td style=\"text-align: right;\">          1882.56</td></tr>\n",
       "<tr><td>_trainable_69861ced</td><td>TERMINATED</td><td>163.1.64.158:3323090</td><td style=\"text-align: right;\">        10</td><td style=\"text-align: right;\">        60</td><td style=\"text-align: right;\">         1</td><td style=\"text-align: right;\">0.00391437 </td><td>nb               </td><td style=\"text-align: right;\">          1591.78</td></tr>\n",
       "<tr><td>_trainable_22a71d74</td><td>TERMINATED</td><td>163.1.64.158:3323090</td><td style=\"text-align: right;\">        50</td><td style=\"text-align: right;\">        60</td><td style=\"text-align: right;\">         3</td><td style=\"text-align: right;\">0.000191133</td><td>nb               </td><td style=\"text-align: right;\">          1894.65</td></tr>\n",
       "<tr><td>_trainable_44693976</td><td>TERMINATED</td><td>163.1.64.158:3323090</td><td style=\"text-align: right;\">        50</td><td style=\"text-align: right;\">       256</td><td style=\"text-align: right;\">         1</td><td style=\"text-align: right;\">0.00131464 </td><td>zinb             </td><td style=\"text-align: right;\">          1508.33</td></tr>\n",
       "<tr><td>_trainable_18e8334c</td><td>TERMINATED</td><td>163.1.64.158:3322867</td><td style=\"text-align: right;\">        50</td><td style=\"text-align: right;\">       256</td><td style=\"text-align: right;\">         1</td><td style=\"text-align: right;\">0.00130003 </td><td>nb               </td><td style=\"text-align: right;\">          1529.68</td></tr>\n",
       "<tr><td>_trainable_f3219512</td><td>TERMINATED</td><td>163.1.64.158:3322867</td><td style=\"text-align: right;\">        50</td><td style=\"text-align: right;\">        60</td><td style=\"text-align: right;\">         2</td><td style=\"text-align: right;\">0.00252586 </td><td>nb               </td><td style=\"text-align: right;\">          1615.81</td></tr>\n",
       "<tr><td>_trainable_a2f89470</td><td>TERMINATED</td><td>163.1.64.158:3322867</td><td style=\"text-align: right;\">        50</td><td style=\"text-align: right;\">       128</td><td style=\"text-align: right;\">         3</td><td style=\"text-align: right;\">0.00475395 </td><td>nb               </td><td style=\"text-align: right;\">          1606.45</td></tr>\n",
       "<tr><td>_trainable_6fe5e6dd</td><td>TERMINATED</td><td>163.1.64.158:3322867</td><td style=\"text-align: right;\">        50</td><td style=\"text-align: right;\">       256</td><td style=\"text-align: right;\">         2</td><td style=\"text-align: right;\">0.00131412 </td><td>zinb             </td><td style=\"text-align: right;\">          1502.51</td></tr>\n",
       "<tr><td>_trainable_9cf442d6</td><td>TERMINATED</td><td>163.1.64.158:3323090</td><td style=\"text-align: right;\">        10</td><td style=\"text-align: right;\">        60</td><td style=\"text-align: right;\">         1</td><td style=\"text-align: right;\">0.0032334  </td><td>zinb             </td><td style=\"text-align: right;\">          1552.22</td></tr>\n",
       "<tr><td>_trainable_7ca80cf0</td><td>TERMINATED</td><td>163.1.64.158:3323090</td><td style=\"text-align: right;\">        50</td><td style=\"text-align: right;\">       128</td><td style=\"text-align: right;\">         3</td><td style=\"text-align: right;\">0.00010694 </td><td>zinb             </td><td style=\"text-align: right;\">          1837.37</td></tr>\n",
       "<tr><td>_trainable_29c09392</td><td>TERMINATED</td><td>163.1.64.158:3323090</td><td style=\"text-align: right;\">        10</td><td style=\"text-align: right;\">        60</td><td style=\"text-align: right;\">         3</td><td style=\"text-align: right;\">0.000902413</td><td>nb               </td><td style=\"text-align: right;\">          1680.08</td></tr>\n",
       "<tr><td>_trainable_bdc98e09</td><td>TERMINATED</td><td>163.1.64.158:3323090</td><td style=\"text-align: right;\">        10</td><td style=\"text-align: right;\">        60</td><td style=\"text-align: right;\">         3</td><td style=\"text-align: right;\">0.0057022  </td><td>zinb             </td><td style=\"text-align: right;\">          1565.19</td></tr>\n",
       "<tr><td>_trainable_17086301</td><td>TERMINATED</td><td>163.1.64.158:3323090</td><td style=\"text-align: right;\">        10</td><td style=\"text-align: right;\">        60</td><td style=\"text-align: right;\">         1</td><td style=\"text-align: right;\">0.00335548 </td><td>nb               </td><td style=\"text-align: right;\">          1605.71</td></tr>\n",
       "<tr><td>_trainable_068386cf</td><td>TERMINATED</td><td>163.1.64.158:3323090</td><td style=\"text-align: right;\">        10</td><td style=\"text-align: right;\">        60</td><td style=\"text-align: right;\">         3</td><td style=\"text-align: right;\">0.00154395 </td><td>nb               </td><td style=\"text-align: right;\">          1638.41</td></tr>\n",
       "<tr><td>_trainable_b41bd007</td><td>TERMINATED</td><td>163.1.64.158:3323090</td><td style=\"text-align: right;\">        30</td><td style=\"text-align: right;\">       256</td><td style=\"text-align: right;\">         1</td><td style=\"text-align: right;\">0.0086185  </td><td>zinb             </td><td style=\"text-align: right;\">          1494.42</td></tr>\n",
       "<tr><td>_trainable_5d805b43</td><td>TERMINATED</td><td>163.1.64.158:3322867</td><td style=\"text-align: right;\">        30</td><td style=\"text-align: right;\">       256</td><td style=\"text-align: right;\">         1</td><td style=\"text-align: right;\">0.000349541</td><td>zinb             </td><td style=\"text-align: right;\">          1612.08</td></tr>\n",
       "<tr><td>_trainable_86f5cb35</td><td>TERMINATED</td><td>163.1.64.158:3322867</td><td style=\"text-align: right;\">        50</td><td style=\"text-align: right;\">       256</td><td style=\"text-align: right;\">         2</td><td style=\"text-align: right;\">0.00173429 </td><td>zinb             </td><td style=\"text-align: right;\">          1511.11</td></tr>\n",
       "<tr><td>_trainable_8ad85f67</td><td>TERMINATED</td><td>163.1.64.158:3322867</td><td style=\"text-align: right;\">        50</td><td style=\"text-align: right;\">       256</td><td style=\"text-align: right;\">         2</td><td style=\"text-align: right;\">0.000604226</td><td>zinb             </td><td style=\"text-align: right;\">          1550.79</td></tr>\n",
       "<tr><td>_trainable_51d02943</td><td>TERMINATED</td><td>163.1.64.158:3322867</td><td style=\"text-align: right;\">        50</td><td style=\"text-align: right;\">       256</td><td style=\"text-align: right;\">         2</td><td style=\"text-align: right;\">0.00103689 </td><td>zinb             </td><td style=\"text-align: right;\">          1555.71</td></tr>\n",
       "<tr><td>_trainable_12f3fa34</td><td>TERMINATED</td><td>163.1.64.158:3322867</td><td style=\"text-align: right;\">        30</td><td style=\"text-align: right;\">       256</td><td style=\"text-align: right;\">         2</td><td style=\"text-align: right;\">0.000279179</td><td>zinb             </td><td style=\"text-align: right;\">          1631.09</td></tr>\n",
       "<tr><td>_trainable_b1b87bd8</td><td>TERMINATED</td><td>163.1.64.158:3322867</td><td style=\"text-align: right;\">        50</td><td style=\"text-align: right;\">       256</td><td style=\"text-align: right;\">         2</td><td style=\"text-align: right;\">0.0019396  </td><td>zinb             </td><td style=\"text-align: right;\">          1553.79</td></tr>\n",
       "<tr><td>_trainable_516d2aad</td><td>TERMINATED</td><td>163.1.64.158:3322867</td><td style=\"text-align: right;\">        50</td><td style=\"text-align: right;\">       256</td><td style=\"text-align: right;\">         2</td><td style=\"text-align: right;\">0.000885478</td><td>zinb             </td><td style=\"text-align: right;\">          1592.1 </td></tr>\n",
       "<tr><td>_trainable_9a43d0d3</td><td>TERMINATED</td><td>163.1.64.158:3322867</td><td style=\"text-align: right;\">        50</td><td style=\"text-align: right;\">       256</td><td style=\"text-align: right;\">         2</td><td style=\"text-align: right;\">0.00207206 </td><td>zinb             </td><td style=\"text-align: right;\">          1525.92</td></tr>\n",
       "<tr><td>_trainable_27675fb0</td><td>TERMINATED</td><td>163.1.64.158:3323090</td><td style=\"text-align: right;\">        50</td><td style=\"text-align: right;\">       256</td><td style=\"text-align: right;\">         2</td><td style=\"text-align: right;\">0.0099048  </td><td>zinb             </td><td style=\"text-align: right;\">          1528.21</td></tr>\n",
       "<tr><td>_trainable_7811420c</td><td>TERMINATED</td><td>163.1.64.158:3322867</td><td style=\"text-align: right;\">        30</td><td style=\"text-align: right;\">       256</td><td style=\"text-align: right;\">         1</td><td style=\"text-align: right;\">0.00951745 </td><td>zinb             </td><td style=\"text-align: right;\">          1508.37</td></tr>\n",
       "<tr><td>_trainable_af32c9c3</td><td>TERMINATED</td><td>163.1.64.158:3323090</td><td style=\"text-align: right;\">        30</td><td style=\"text-align: right;\">       256</td><td style=\"text-align: right;\">         2</td><td style=\"text-align: right;\">0.00845835 </td><td>zinb             </td><td style=\"text-align: right;\">          1548.14</td></tr>\n",
       "<tr><td>_trainable_1815da5c</td><td>TERMINATED</td><td>163.1.64.158:3323090</td><td style=\"text-align: right;\">        30</td><td style=\"text-align: right;\">       256</td><td style=\"text-align: right;\">         1</td><td style=\"text-align: right;\">0.00593345 </td><td>zinb             </td><td style=\"text-align: right;\">          1495.33</td></tr>\n",
       "<tr><td>_trainable_c2442537</td><td>TERMINATED</td><td>163.1.64.158:3322867</td><td style=\"text-align: right;\">        30</td><td style=\"text-align: right;\">       128</td><td style=\"text-align: right;\">         1</td><td style=\"text-align: right;\">0.000165101</td><td>zinb             </td><td style=\"text-align: right;\">          1708.97</td></tr>\n",
       "<tr><td>_trainable_3b5803bf</td><td>TERMINATED</td><td>163.1.64.158:3322867</td><td style=\"text-align: right;\">        30</td><td style=\"text-align: right;\">       256</td><td style=\"text-align: right;\">         1</td><td style=\"text-align: right;\">0.000449183</td><td>zinb             </td><td style=\"text-align: right;\">          1597.76</td></tr>\n",
       "<tr><td>_trainable_d2f51e39</td><td>TERMINATED</td><td>163.1.64.158:3322867</td><td style=\"text-align: right;\">        30</td><td style=\"text-align: right;\">       128</td><td style=\"text-align: right;\">         2</td><td style=\"text-align: right;\">0.00695057 </td><td>zinb             </td><td style=\"text-align: right;\">          1526.23</td></tr>\n",
       "<tr><td>_trainable_78b9e24f</td><td>TERMINATED</td><td>163.1.64.158:3323090</td><td style=\"text-align: right;\">        30</td><td style=\"text-align: right;\">       256</td><td style=\"text-align: right;\">         1</td><td style=\"text-align: right;\">0.000648578</td><td>zinb             </td><td style=\"text-align: right;\">          1498.97</td></tr>\n",
       "<tr><td>_trainable_97e5c5de</td><td>TERMINATED</td><td>163.1.64.158:3322867</td><td style=\"text-align: right;\">        30</td><td style=\"text-align: right;\">       256</td><td style=\"text-align: right;\">         1</td><td style=\"text-align: right;\">0.00699481 </td><td>zinb             </td><td style=\"text-align: right;\">          1511.93</td></tr>\n",
       "<tr><td>_trainable_91f7554d</td><td>TERMINATED</td><td>163.1.64.158:3322867</td><td style=\"text-align: right;\">        30</td><td style=\"text-align: right;\">       128</td><td style=\"text-align: right;\">         1</td><td style=\"text-align: right;\">0.00450162 </td><td>zinb             </td><td style=\"text-align: right;\">          1503.99</td></tr>\n",
       "<tr><td>_trainable_6534eb23</td><td>TERMINATED</td><td>163.1.64.158:3323090</td><td style=\"text-align: right;\">        30</td><td style=\"text-align: right;\">       256</td><td style=\"text-align: right;\">         1</td><td style=\"text-align: right;\">0.00671161 </td><td>zinb             </td><td style=\"text-align: right;\">          1551.29</td></tr>\n",
       "<tr><td>_trainable_7674d99e</td><td>TERMINATED</td><td>163.1.64.158:3323090</td><td style=\"text-align: right;\">        30</td><td style=\"text-align: right;\">       256</td><td style=\"text-align: right;\">         1</td><td style=\"text-align: right;\">0.00260102 </td><td>zinb             </td><td style=\"text-align: right;\">          1522.99</td></tr>\n",
       "<tr><td>_trainable_4576d4e7</td><td>TERMINATED</td><td>163.1.64.158:3323090</td><td style=\"text-align: right;\">        30</td><td style=\"text-align: right;\">       256</td><td style=\"text-align: right;\">         1</td><td style=\"text-align: right;\">0.00523787 </td><td>zinb             </td><td style=\"text-align: right;\">          1506.42</td></tr>\n",
       "<tr><td>_trainable_8a280f5d</td><td>TERMINATED</td><td>163.1.64.158:3322867</td><td style=\"text-align: right;\">        30</td><td style=\"text-align: right;\">       128</td><td style=\"text-align: right;\">         1</td><td style=\"text-align: right;\">0.0025871  </td><td>nb               </td><td style=\"text-align: right;\">          1597.65</td></tr>\n",
       "<tr><td>_trainable_124ac88e</td><td>TERMINATED</td><td>163.1.64.158:3322867</td><td style=\"text-align: right;\">        30</td><td style=\"text-align: right;\">       256</td><td style=\"text-align: right;\">         1</td><td style=\"text-align: right;\">0.00394615 </td><td>zinb             </td><td style=\"text-align: right;\">          1505   </td></tr>\n",
       "<tr><td>_trainable_95781b30</td><td>TERMINATED</td><td>163.1.64.158:3323090</td><td style=\"text-align: right;\">        30</td><td style=\"text-align: right;\">       256</td><td style=\"text-align: right;\">         1</td><td style=\"text-align: right;\">0.0086913  </td><td>nb               </td><td style=\"text-align: right;\">          1510.66</td></tr>\n",
       "<tr><td>_trainable_336ce8ea</td><td>TERMINATED</td><td>163.1.64.158:3322867</td><td style=\"text-align: right;\">        30</td><td style=\"text-align: right;\">       128</td><td style=\"text-align: right;\">         1</td><td style=\"text-align: right;\">0.00620003 </td><td>zinb             </td><td style=\"text-align: right;\">          1510.6 </td></tr>\n",
       "<tr><td>_trainable_a7b62418</td><td>TERMINATED</td><td>163.1.64.158:3323090</td><td style=\"text-align: right;\">        30</td><td style=\"text-align: right;\">        60</td><td style=\"text-align: right;\">         3</td><td style=\"text-align: right;\">0.00300485 </td><td>zinb             </td><td style=\"text-align: right;\">          1584.33</td></tr>\n",
       "<tr><td>_trainable_55506f55</td><td>TERMINATED</td><td>163.1.64.158:3323090</td><td style=\"text-align: right;\">        10</td><td style=\"text-align: right;\">       256</td><td style=\"text-align: right;\">         1</td><td style=\"text-align: right;\">0.00762612 </td><td>nb               </td><td style=\"text-align: right;\">          1529.1 </td></tr>\n",
       "<tr><td>_trainable_44e57160</td><td>TERMINATED</td><td>163.1.64.158:3323090</td><td style=\"text-align: right;\">        30</td><td style=\"text-align: right;\">       256</td><td style=\"text-align: right;\">         1</td><td style=\"text-align: right;\">0.00411051 </td><td>zinb             </td><td style=\"text-align: right;\">          1514.45</td></tr>\n",
       "<tr><td>_trainable_4a45c8b0</td><td>TERMINATED</td><td>163.1.64.158:3322867</td><td style=\"text-align: right;\">        30</td><td style=\"text-align: right;\">        60</td><td style=\"text-align: right;\">         3</td><td style=\"text-align: right;\">0.00994701 </td><td>nb               </td><td style=\"text-align: right;\">          1590.95</td></tr>\n",
       "<tr><td>_trainable_061c731b</td><td>TERMINATED</td><td>163.1.64.158:3322867</td><td style=\"text-align: right;\">        10</td><td style=\"text-align: right;\">       128</td><td style=\"text-align: right;\">         1</td><td style=\"text-align: right;\">0.00216231 </td><td>zinb             </td><td style=\"text-align: right;\">          1550.73</td></tr>\n",
       "<tr><td>_trainable_bb6afcc8</td><td>TERMINATED</td><td>163.1.64.158:3322867</td><td style=\"text-align: right;\">        30</td><td style=\"text-align: right;\">       256</td><td style=\"text-align: right;\">         1</td><td style=\"text-align: right;\">0.005291   </td><td>zinb             </td><td style=\"text-align: right;\">          1505.58</td></tr>\n",
       "<tr><td>_trainable_36ac43e9</td><td>TERMINATED</td><td>163.1.64.158:3323090</td><td style=\"text-align: right;\">        10</td><td style=\"text-align: right;\">        60</td><td style=\"text-align: right;\">         3</td><td style=\"text-align: right;\">0.000773114</td><td>nb               </td><td style=\"text-align: right;\">          1684.55</td></tr>\n",
       "<tr><td>_trainable_9b7962f3</td><td>TERMINATED</td><td>163.1.64.158:3323090</td><td style=\"text-align: right;\">        30</td><td style=\"text-align: right;\">       256</td><td style=\"text-align: right;\">         1</td><td style=\"text-align: right;\">0.00123114 </td><td>zinb             </td><td style=\"text-align: right;\">          1499.73</td></tr>\n",
       "<tr><td>_trainable_256d9b86</td><td>TERMINATED</td><td>163.1.64.158:3322867</td><td style=\"text-align: right;\">        30</td><td style=\"text-align: right;\">       256</td><td style=\"text-align: right;\">         1</td><td style=\"text-align: right;\">0.000136145</td><td>zinb             </td><td style=\"text-align: right;\">          1674.06</td></tr>\n",
       "<tr><td>_trainable_bf980f22</td><td>TERMINATED</td><td>163.1.64.158:3322867</td><td style=\"text-align: right;\">        10</td><td style=\"text-align: right;\">        60</td><td style=\"text-align: right;\">         3</td><td style=\"text-align: right;\">0.00157205 </td><td>nb               </td><td style=\"text-align: right;\">          1635.59</td></tr>\n",
       "<tr><td>_trainable_0c3ab18c</td><td>TERMINATED</td><td>163.1.64.158:3322867</td><td style=\"text-align: right;\">        30</td><td style=\"text-align: right;\">       256</td><td style=\"text-align: right;\">         1</td><td style=\"text-align: right;\">0.000301604</td><td>zinb             </td><td style=\"text-align: right;\">          1630.98</td></tr>\n",
       "<tr><td>_trainable_c8d9fdc2</td><td>TERMINATED</td><td>163.1.64.158:3322867</td><td style=\"text-align: right;\">        30</td><td style=\"text-align: right;\">       128</td><td style=\"text-align: right;\">         1</td><td style=\"text-align: right;\">0.00288536 </td><td>zinb             </td><td style=\"text-align: right;\">          1504.21</td></tr>\n",
       "<tr><td>_trainable_7b394eb5</td><td>TERMINATED</td><td>163.1.64.158:3323090</td><td style=\"text-align: right;\">        10</td><td style=\"text-align: right;\">       256</td><td style=\"text-align: right;\">         3</td><td style=\"text-align: right;\">0.000473722</td><td>zinb             </td><td style=\"text-align: right;\">          1607.02</td></tr>\n",
       "<tr><td>_trainable_0d244c49</td><td>TERMINATED</td><td>163.1.64.158:3323090</td><td style=\"text-align: right;\">        30</td><td style=\"text-align: right;\">       256</td><td style=\"text-align: right;\">         1</td><td style=\"text-align: right;\">0.00477122 </td><td>nb               </td><td style=\"text-align: right;\">          1511.08</td></tr>\n",
       "<tr><td>_trainable_29d7afe9</td><td>TERMINATED</td><td>163.1.64.158:3323090</td><td style=\"text-align: right;\">        30</td><td style=\"text-align: right;\">        60</td><td style=\"text-align: right;\">         1</td><td style=\"text-align: right;\">0.0010635  </td><td>zinb             </td><td style=\"text-align: right;\">          1627.56</td></tr>\n",
       "<tr><td>_trainable_41f4ddd5</td><td>TERMINATED</td><td>163.1.64.158:3323090</td><td style=\"text-align: right;\">        50</td><td style=\"text-align: right;\">       256</td><td style=\"text-align: right;\">         3</td><td style=\"text-align: right;\">0.00358739 </td><td>zinb             </td><td style=\"text-align: right;\">          1547.74</td></tr>\n",
       "<tr><td>_trainable_183d5c76</td><td>TERMINATED</td><td>163.1.64.158:3323090</td><td style=\"text-align: right;\">        30</td><td style=\"text-align: right;\">       128</td><td style=\"text-align: right;\">         1</td><td style=\"text-align: right;\">0.00819747 </td><td>zinb             </td><td style=\"text-align: right;\">          1504.13</td></tr>\n",
       "<tr><td>_trainable_b1190ea6</td><td>TERMINATED</td><td>163.1.64.158:3322867</td><td style=\"text-align: right;\">        10</td><td style=\"text-align: right;\">       256</td><td style=\"text-align: right;\">         1</td><td style=\"text-align: right;\">0.00584421 </td><td>nb               </td><td style=\"text-align: right;\">          1547.88</td></tr>\n",
       "<tr><td>_trainable_6542ed00</td><td>TERMINATED</td><td>163.1.64.158:3322867</td><td style=\"text-align: right;\">        30</td><td style=\"text-align: right;\">       256</td><td style=\"text-align: right;\">         2</td><td style=\"text-align: right;\">0.00225379 </td><td>zinb             </td><td style=\"text-align: right;\">          1523.68</td></tr>\n",
       "<tr><td>_trainable_16a6cfc2</td><td>TERMINATED</td><td>163.1.64.158:3322867</td><td style=\"text-align: right;\">        30</td><td style=\"text-align: right;\">       256</td><td style=\"text-align: right;\">         1</td><td style=\"text-align: right;\">0.000741607</td><td>zinb             </td><td style=\"text-align: right;\">          1579.67</td></tr>\n",
       "<tr><td>_trainable_9c75bd51</td><td>TERMINATED</td><td>163.1.64.158:3322867</td><td style=\"text-align: right;\">        30</td><td style=\"text-align: right;\">       256</td><td style=\"text-align: right;\">         1</td><td style=\"text-align: right;\">0.000380179</td><td>zinb             </td><td style=\"text-align: right;\">          1614.98</td></tr>\n",
       "<tr><td>_trainable_9e82154a</td><td>TERMINATED</td><td>163.1.64.158:3322867</td><td style=\"text-align: right;\">        30</td><td style=\"text-align: right;\">       256</td><td style=\"text-align: right;\">         1</td><td style=\"text-align: right;\">0.000579567</td><td>zinb             </td><td style=\"text-align: right;\">          1587.5 </td></tr>\n",
       "<tr><td>_trainable_9809df39</td><td>TERMINATED</td><td>163.1.64.158:3322867</td><td style=\"text-align: right;\">        30</td><td style=\"text-align: right;\">       256</td><td style=\"text-align: right;\">         1</td><td style=\"text-align: right;\">0.000229719</td><td>zinb             </td><td style=\"text-align: right;\">          1644.32</td></tr>\n",
       "<tr><td>_trainable_e71539d7</td><td>TERMINATED</td><td>163.1.64.158:3322867</td><td style=\"text-align: right;\">        30</td><td style=\"text-align: right;\">       256</td><td style=\"text-align: right;\">         1</td><td style=\"text-align: right;\">0.00114256 </td><td>zinb             </td><td style=\"text-align: right;\">          1497.21</td></tr>\n",
       "<tr><td>_trainable_51cf7e35</td><td>TERMINATED</td><td>163.1.64.158:3323090</td><td style=\"text-align: right;\">        30</td><td style=\"text-align: right;\">       256</td><td style=\"text-align: right;\">         1</td><td style=\"text-align: right;\">0.000714091</td><td>zinb             </td><td style=\"text-align: right;\">          1498.52</td></tr>\n",
       "<tr><td>_trainable_aee787fc</td><td>TERMINATED</td><td>163.1.64.158:3322867</td><td style=\"text-align: right;\">        30</td><td style=\"text-align: right;\">       256</td><td style=\"text-align: right;\">         1</td><td style=\"text-align: right;\">0.000894612</td><td>zinb             </td><td style=\"text-align: right;\">          1586.42</td></tr>\n",
       "<tr><td>_trainable_42d2de45</td><td>TERMINATED</td><td>163.1.64.158:3322867</td><td style=\"text-align: right;\">        30</td><td style=\"text-align: right;\">       256</td><td style=\"text-align: right;\">         1</td><td style=\"text-align: right;\">0.00171996 </td><td>zinb             </td><td style=\"text-align: right;\">          1542.51</td></tr>\n",
       "<tr><td>_trainable_7d52c812</td><td>TERMINATED</td><td>163.1.64.158:3322867</td><td style=\"text-align: right;\">        50</td><td style=\"text-align: right;\">       256</td><td style=\"text-align: right;\">         1</td><td style=\"text-align: right;\">0.000224261</td><td>zinb             </td><td style=\"text-align: right;\">          1656.19</td></tr>\n",
       "<tr><td>_trainable_58c5d261</td><td>TERMINATED</td><td>163.1.64.158:3323090</td><td style=\"text-align: right;\">        30</td><td style=\"text-align: right;\">       256</td><td style=\"text-align: right;\">         1</td><td style=\"text-align: right;\">0.000129509</td><td>zinb             </td><td style=\"text-align: right;\">          1682.86</td></tr>\n",
       "<tr><td>_trainable_de5a2bfd</td><td>TERMINATED</td><td>163.1.64.158:3322867</td><td style=\"text-align: right;\">        30</td><td style=\"text-align: right;\">        60</td><td style=\"text-align: right;\">         2</td><td style=\"text-align: right;\">0.000493752</td><td>zinb             </td><td style=\"text-align: right;\">          1683.52</td></tr>\n",
       "<tr><td>_trainable_1ad84c2b</td><td>TERMINATED</td><td>163.1.64.158:3323090</td><td style=\"text-align: right;\">        30</td><td style=\"text-align: right;\">       256</td><td style=\"text-align: right;\">         1</td><td style=\"text-align: right;\">0.00361209 </td><td>zinb             </td><td style=\"text-align: right;\">          1501.49</td></tr>\n",
       "<tr><td>_trainable_83282c8e</td><td>TERMINATED</td><td>163.1.64.158:3322867</td><td style=\"text-align: right;\">        50</td><td style=\"text-align: right;\">       128</td><td style=\"text-align: right;\">         1</td><td style=\"text-align: right;\">0.00433496 </td><td>zinb             </td><td style=\"text-align: right;\">          1497.78</td></tr>\n",
       "<tr><td>_trainable_d781db3d</td><td>TERMINATED</td><td>163.1.64.158:3323090</td><td style=\"text-align: right;\">        30</td><td style=\"text-align: right;\">       256</td><td style=\"text-align: right;\">         3</td><td style=\"text-align: right;\">0.00111577 </td><td>zinb             </td><td style=\"text-align: right;\">          1587.31</td></tr>\n",
       "<tr><td>_trainable_ad079d13</td><td>TERMINATED</td><td>163.1.64.158:3322867</td><td style=\"text-align: right;\">        30</td><td style=\"text-align: right;\">       256</td><td style=\"text-align: right;\">         1</td><td style=\"text-align: right;\">0.00906997 </td><td>zinb             </td><td style=\"text-align: right;\">          1541.49</td></tr>\n",
       "<tr><td>_trainable_6da608d6</td><td>TERMINATED</td><td>163.1.64.158:3323090</td><td style=\"text-align: right;\">        10</td><td style=\"text-align: right;\">       256</td><td style=\"text-align: right;\">         2</td><td style=\"text-align: right;\">0.00148004 </td><td>zinb             </td><td style=\"text-align: right;\">          1549.43</td></tr>\n",
       "<tr><td>_trainable_05af1cf5</td><td>TERMINATED</td><td>163.1.64.158:3322867</td><td style=\"text-align: right;\">        30</td><td style=\"text-align: right;\">        60</td><td style=\"text-align: right;\">         1</td><td style=\"text-align: right;\">0.00191137 </td><td>nb               </td><td style=\"text-align: right;\">          1637.36</td></tr>\n",
       "<tr><td>_trainable_335628c0</td><td>TERMINATED</td><td>163.1.64.158:3322867</td><td style=\"text-align: right;\">        50</td><td style=\"text-align: right;\">       256</td><td style=\"text-align: right;\">         1</td><td style=\"text-align: right;\">0.00756733 </td><td>zinb             </td><td style=\"text-align: right;\">          1502.75</td></tr>\n",
       "<tr><td>_trainable_f43c782a</td><td>TERMINATED</td><td>163.1.64.158:3323090</td><td style=\"text-align: right;\">        30</td><td style=\"text-align: right;\">       128</td><td style=\"text-align: right;\">         1</td><td style=\"text-align: right;\">0.00615368 </td><td>zinb             </td><td style=\"text-align: right;\">          1522.3 </td></tr>\n",
       "<tr><td>_trainable_1c328168</td><td>TERMINATED</td><td>163.1.64.158:3323090</td><td style=\"text-align: right;\">        30</td><td style=\"text-align: right;\">       256</td><td style=\"text-align: right;\">         3</td><td style=\"text-align: right;\">0.00294864 </td><td>zinb             </td><td style=\"text-align: right;\">          1547.74</td></tr>\n",
       "<tr><td>_trainable_b528c04f</td><td>TERMINATED</td><td>163.1.64.158:3323090</td><td style=\"text-align: right;\">        10</td><td style=\"text-align: right;\">       256</td><td style=\"text-align: right;\">         2</td><td style=\"text-align: right;\">0.00485723 </td><td>nb               </td><td style=\"text-align: right;\">          1588.21</td></tr>\n",
       "<tr><td>_trainable_4c6c6525</td><td>TERMINATED</td><td>163.1.64.158:3323090</td><td style=\"text-align: right;\">        30</td><td style=\"text-align: right;\">        60</td><td style=\"text-align: right;\">         1</td><td style=\"text-align: right;\">0.00240297 </td><td>zinb             </td><td style=\"text-align: right;\">          1581.44</td></tr>\n",
       "<tr><td>_trainable_31f6f477</td><td>TERMINATED</td><td>163.1.64.158:3323090</td><td style=\"text-align: right;\">        30</td><td style=\"text-align: right;\">       256</td><td style=\"text-align: right;\">         1</td><td style=\"text-align: right;\">0.000325597</td><td>zinb             </td><td style=\"text-align: right;\">          1627.28</td></tr>\n",
       "<tr><td>_trainable_9a1e4328</td><td>TERMINATED</td><td>163.1.64.158:3323090</td><td style=\"text-align: right;\">        50</td><td style=\"text-align: right;\">       128</td><td style=\"text-align: right;\">         1</td><td style=\"text-align: right;\">0.00119053 </td><td>zinb             </td><td style=\"text-align: right;\">          1581.47</td></tr>\n",
       "<tr><td>_trainable_71ad939a</td><td>TERMINATED</td><td>163.1.64.158:3323090</td><td style=\"text-align: right;\">        30</td><td style=\"text-align: right;\">       256</td><td style=\"text-align: right;\">         3</td><td style=\"text-align: right;\">0.00139032 </td><td>nb               </td><td style=\"text-align: right;\">          1602.69</td></tr>\n",
       "<tr><td>_trainable_cccd7fa9</td><td>TERMINATED</td><td>163.1.64.158:3323090</td><td style=\"text-align: right;\">        30</td><td style=\"text-align: right;\">       256</td><td style=\"text-align: right;\">         1</td><td style=\"text-align: right;\">0.00325456 </td><td>zinb             </td><td style=\"text-align: right;\">          1502.46</td></tr>\n",
       "<tr><td>_trainable_0769422c</td><td>TERMINATED</td><td>163.1.64.158:3322867</td><td style=\"text-align: right;\">        10</td><td style=\"text-align: right;\">       256</td><td style=\"text-align: right;\">         2</td><td style=\"text-align: right;\">0.00775012 </td><td>zinb             </td><td style=\"text-align: right;\">          1528.04</td></tr>\n",
       "<tr><td>_trainable_d3d30e9b</td><td>TERMINATED</td><td>163.1.64.158:3322867</td><td style=\"text-align: right;\">        30</td><td style=\"text-align: right;\">        60</td><td style=\"text-align: right;\">         1</td><td style=\"text-align: right;\">0.000949635</td><td>zinb             </td><td style=\"text-align: right;\">          1636.66</td></tr>\n",
       "<tr><td>_trainable_cb518ac3</td><td>TERMINATED</td><td>163.1.64.158:3322867</td><td style=\"text-align: right;\">        30</td><td style=\"text-align: right;\">       256</td><td style=\"text-align: right;\">         1</td><td style=\"text-align: right;\">0.000401796</td><td>zinb             </td><td style=\"text-align: right;\">          1600.56</td></tr>\n",
       "<tr><td>_trainable_e8848d6e</td><td>TERMINATED</td><td>163.1.64.158:3322867</td><td style=\"text-align: right;\">        50</td><td style=\"text-align: right;\">       128</td><td style=\"text-align: right;\">         1</td><td style=\"text-align: right;\">0.000814852</td><td>nb               </td><td style=\"text-align: right;\">          1653.64</td></tr>\n",
       "<tr><td>_trainable_4bb203f5</td><td>TERMINATED</td><td>163.1.64.158:3322867</td><td style=\"text-align: right;\">        30</td><td style=\"text-align: right;\">       256</td><td style=\"text-align: right;\">         3</td><td style=\"text-align: right;\">0.00680606 </td><td>zinb             </td><td style=\"text-align: right;\">          1523.1 </td></tr>\n",
       "<tr><td>_trainable_bebab0a5</td><td>TERMINATED</td><td>163.1.64.158:3323090</td><td style=\"text-align: right;\">        10</td><td style=\"text-align: right;\">       256</td><td style=\"text-align: right;\">         1</td><td style=\"text-align: right;\">0.000664934</td><td>zinb             </td><td style=\"text-align: right;\">          1596.97</td></tr>\n",
       "<tr><td>_trainable_9c1de2e1</td><td>TERMINATED</td><td>163.1.64.158:3322867</td><td style=\"text-align: right;\">        30</td><td style=\"text-align: right;\">       256</td><td style=\"text-align: right;\">         2</td><td style=\"text-align: right;\">0.000255014</td><td>zinb             </td><td style=\"text-align: right;\">          1636.3 </td></tr>\n",
       "<tr><td>_trainable_9c86260a</td><td>TERMINATED</td><td>163.1.64.158:3323090</td><td style=\"text-align: right;\">        30</td><td style=\"text-align: right;\">        60</td><td style=\"text-align: right;\">         1</td><td style=\"text-align: right;\">0.00536062 </td><td>nb               </td><td style=\"text-align: right;\">          1606.76</td></tr>\n",
       "<tr><td>_trainable_dac51cb0</td><td>TERMINATED</td><td>163.1.64.158:3322867</td><td style=\"text-align: right;\">        30</td><td style=\"text-align: right;\">       256</td><td style=\"text-align: right;\">         1</td><td style=\"text-align: right;\">0.000172182</td><td>zinb             </td><td style=\"text-align: right;\">          1652.85</td></tr>\n",
       "</tbody>\n",
       "</table>\n",
       "  </div>\n",
       "</div>\n",
       "<style>\n",
       ".tuneStatus {\n",
       "  color: var(--jp-ui-font-color1);\n",
       "}\n",
       ".tuneStatus .systemInfo {\n",
       "  display: flex;\n",
       "  flex-direction: column;\n",
       "}\n",
       ".tuneStatus td {\n",
       "  white-space: nowrap;\n",
       "}\n",
       ".tuneStatus .trialStatus {\n",
       "  display: flex;\n",
       "  flex-direction: column;\n",
       "}\n",
       ".tuneStatus h3 {\n",
       "  font-weight: bold;\n",
       "}\n",
       ".tuneStatus .hDivider {\n",
       "  border-bottom-width: var(--jp-border-width);\n",
       "  border-bottom-color: var(--jp-border-color0);\n",
       "  border-bottom-style: solid;\n",
       "}\n",
       ".tuneStatus .vDivider {\n",
       "  border-left-width: var(--jp-border-width);\n",
       "  border-left-color: var(--jp-border-color0);\n",
       "  border-left-style: solid;\n",
       "  margin: 0.5em 1em 0.5em 1em;\n",
       "}\n",
       "</style>\n"
      ],
      "text/plain": [
       "<IPython.core.display.HTML object>"
      ]
     },
     "metadata": {},
     "output_type": "display_data"
    },
    {
     "name": "stderr",
     "output_type": "stream",
     "text": [
      "2024-07-26 11:16:18,298\tINFO tune.py:645 -- [output] This uses the legacy output and progress reporter, as Jupyter notebooks are not supported by the new engine, yet. For more information, please see https://github.com/ray-project/ray/issues/36949\n",
      "2024-07-26 11:35:50,130\tINFO tune.py:1143 -- Total run time: 1171.83 seconds (1171.79 seconds for the tuning loop).\n"
     ]
    }
   ],
   "source": [
    "# run the optimisation\n",
    "\n",
    "results = scvi_tuner.fit(\n",
    "    adata_scvi,\n",
    "    metric=\"validation_loss\",\n",
    "    search_space=search_space,\n",
    "    searcher='hyperopt',\n",
    "    num_samples=100,\n",
    "    max_epochs=30,\n",
    "    resources={\"gpu\": 1}\n",
    ")"
   ]
  },
  {
   "cell_type": "code",
   "execution_count": 18,
   "id": "9e411bff",
   "metadata": {},
   "outputs": [
    {
     "name": "stdout",
     "output_type": "stream",
     "text": [
      "Parameter tuning complete\n",
      "Results of parameter tuning\n"
     ]
    }
   ],
   "source": [
    "print(\"Parameter tuning complete\")\n",
    "print(\"Results of parameter tuning\")"
   ]
  },
  {
   "cell_type": "markdown",
   "id": "a58e7f3b-b630-47ee-86bb-d7148c2f6aed",
   "metadata": {},
   "source": [
    "We are looking for the parameters that give the lowest validation loss"
   ]
  },
  {
   "cell_type": "code",
   "execution_count": 19,
   "id": "222c7c20",
   "metadata": {},
   "outputs": [
    {
     "name": "stdout",
     "output_type": "stream",
     "text": [
      "{'n_latent': 30, 'n_hidden': 60, 'n_layers': 1, 'gene_likelihood': 'zinb'}\n",
      "{'plan_kwargs': {'lr': 0.0022991134682944915}}\n"
     ]
    }
   ],
   "source": [
    "print(results.model_kwargs)\n",
    "print(results.train_kwargs)"
   ]
  },
  {
   "cell_type": "code",
   "execution_count": 20,
   "id": "41e55dd1",
   "metadata": {},
   "outputs": [],
   "source": [
    "# find the best parameters\n",
    "# this loop goes through all the parameters and finds the index with the best result (lowest validation loss)\n",
    "best_vl = 10000\n",
    "best_i = 0\n",
    "for i, res in enumerate(results.results):\n",
    "    vl = res.metrics['validation_loss']\n",
    "\n",
    "    if vl < best_vl:\n",
    "        best_vl = vl\n",
    "        best_i = i\n",
    "\n"
   ]
  },
  {
   "cell_type": "code",
   "execution_count": 21,
   "id": "364b48bb",
   "metadata": {},
   "outputs": [
    {
     "name": "stdout",
     "output_type": "stream",
     "text": [
      "Index of optimal parameters\n"
     ]
    },
    {
     "data": {
      "text/plain": [
       "63"
      ]
     },
     "execution_count": 21,
     "metadata": {},
     "output_type": "execute_result"
    }
   ],
   "source": [
    "print(\"Index of optimal parameters\")\n",
    "best_i"
   ]
  },
  {
   "cell_type": "code",
   "execution_count": 22,
   "id": "3b8ea34f",
   "metadata": {},
   "outputs": [
    {
     "name": "stdout",
     "output_type": "stream",
     "text": [
      "Optimal parameters\n"
     ]
    },
    {
     "data": {
      "text/plain": [
       "Result(\n",
       "  metrics={'validation_loss': 1018.7122192382812},\n",
       "  path='/media/prom/apc1/ccohen/chromium/analysis/20240711_Achilles/ray/tune_scvi_2024-07-26-10:50:07/_trainable_29df8f7f_64_gene_likelihood=zinb,lr=0.0023,n_hidden=60,n_latent=30,n_layers=1_2024-07-26_10-50-41',\n",
       "  filesystem='local',\n",
       "  checkpoint=None\n",
       ")"
      ]
     },
     "execution_count": 22,
     "metadata": {},
     "output_type": "execute_result"
    }
   ],
   "source": [
    "print(\"Optimal parameters\")\n",
    "results.results[best_i]"
   ]
  },
  {
   "cell_type": "code",
   "execution_count": 40,
   "id": "6bf165e4",
   "metadata": {},
   "outputs": [],
   "source": [
    "ray.shutdown()"
   ]
  },
  {
   "cell_type": "code",
   "execution_count": null,
   "id": "5f9699f1",
   "metadata": {},
   "outputs": [],
   "source": [
    "print (\"script completed\")"
   ]
  }
 ],
 "metadata": {
  "kernelspec": {
   "display_name": "scvi_env",
   "language": "python",
   "name": "scvi_env"
  },
  "language_info": {
   "codemirror_mode": {
    "name": "ipython",
    "version": 3
   },
   "file_extension": ".py",
   "mimetype": "text/x-python",
   "name": "python",
   "nbconvert_exporter": "python",
   "pygments_lexer": "ipython3",
   "version": "3.9.16"
  }
 },
 "nbformat": 4,
 "nbformat_minor": 5
}
