{
 "cells": [
  {
   "cell_type": "markdown",
   "id": "b984a9d2-3bf1-488a-bcb2-12a44150d7f2",
   "metadata": {},
   "source": [
    "Aim: subset the Adipocytes and re-integrate with scVI"
   ]
  },
  {
   "cell_type": "code",
   "execution_count": null,
   "id": "be45a8af-710f-48b5-ae5a-6b5b556f3710",
   "metadata": {},
   "outputs": [],
   "source": []
  },
  {
   "cell_type": "code",
   "execution_count": 1,
   "id": "14b5d6cf-8bef-4b2d-953a-ea29eb99c2e0",
   "metadata": {},
   "outputs": [
    {
     "name": "stderr",
     "output_type": "stream",
     "text": [
      "/media/prom/apc1/ccohen/mamba_installation/conda/envs/scvi_env/lib/python3.9/site-packages/scvi/_settings.py:63: UserWarning: Since v1.0.0, scvi-tools no longer uses a random seed by default. Run `scvi.settings.seed = 0` to reproduce results from previous versions.\n",
      "  self.seed = seed\n",
      "/media/prom/apc1/ccohen/mamba_installation/conda/envs/scvi_env/lib/python3.9/site-packages/scvi/_settings.py:70: UserWarning: Setting `dl_pin_memory_gpu_training` is deprecated in v1.0 and will be removed in v1.1. Please pass in `pin_memory` to the data loaders instead.\n",
      "  self.dl_pin_memory_gpu_training = (\n",
      "/media/prom/apc1/ccohen/mamba_installation/conda/envs/scvi_env/lib/python3.9/site-packages/flax/struct.py:132: FutureWarning: jax.tree_util.register_keypaths is deprecated, and will be removed in a future release. Please use `register_pytree_with_keys()` instead.\n",
      "  jax.tree_util.register_keypaths(data_clz, keypaths)\n",
      "/media/prom/apc1/ccohen/mamba_installation/conda/envs/scvi_env/lib/python3.9/site-packages/flax/struct.py:132: FutureWarning: jax.tree_util.register_keypaths is deprecated, and will be removed in a future release. Please use `register_pytree_with_keys()` instead.\n",
      "  jax.tree_util.register_keypaths(data_clz, keypaths)\n"
     ]
    },
    {
     "name": "stdout",
     "output_type": "stream",
     "text": [
      "Current date and time = 2025-01-07 10:15:29.535873\n",
      "-----\n",
      "anndata     0.9.1\n",
      "scanpy      1.9.3\n",
      "-----\n",
      "PIL                         9.4.0\n",
      "absl                        NA\n",
      "aiohttp                     3.9.5\n",
      "aiosignal                   1.3.1\n",
      "annotated_types             0.5.0\n",
      "anyio                       NA\n",
      "arrow                       1.2.3\n",
      "asttokens                   NA\n",
      "async_timeout               4.0.3\n",
      "attr                        23.1.0\n",
      "attrs                       23.1.0\n",
      "babel                       2.14.0\n",
      "backcall                    0.2.0\n",
      "backoff                     2.2.1\n",
      "brotli                      NA\n",
      "bs4                         4.12.2\n",
      "certifi                     2024.07.04\n",
      "cffi                        1.15.1\n",
      "charset_normalizer          3.2.0\n",
      "chex                        0.1.83\n",
      "click                       8.1.5\n",
      "cloudpickle                 3.0.0\n",
      "colorama                    0.4.6\n",
      "comm                        0.1.3\n",
      "contextlib2                 NA\n",
      "croniter                    NA\n",
      "cycler                      0.10.0\n",
      "cython_runtime              NA\n",
      "cytoolz                     0.12.3\n",
      "dask                        2024.5.1\n",
      "dateutil                    2.8.2\n",
      "debugpy                     1.6.7\n",
      "decorator                   5.1.1\n",
      "deepdiff                    6.3.1\n",
      "defusedxml                  0.7.1\n",
      "dill                        0.3.8\n",
      "docrep                      0.3.2\n",
      "dot_parser                  NA\n",
      "executing                   1.2.0\n",
      "fastapi                     0.103.2\n",
      "fastjsonschema              NA\n",
      "filelock                    3.12.2\n",
      "flax                        0.6.1\n",
      "fqdn                        NA\n",
      "frozenlist                  1.4.1\n",
      "fsspec                      2023.6.0\n",
      "future                      0.18.3\n",
      "gmpy2                       2.1.2\n",
      "google                      NA\n",
      "h5py                        3.9.0\n",
      "html5lib                    1.1\n",
      "hyperopt                    0.2.7\n",
      "idna                        3.4\n",
      "igraph                      0.10.5\n",
      "importlib_resources         NA\n",
      "ipykernel                   6.24.0\n",
      "ipywidgets                  8.1.3\n",
      "isoduration                 NA\n",
      "jax                         0.4.13\n",
      "jaxlib                      0.4.12\n",
      "jedi                        0.18.2\n",
      "jinja2                      3.1.2\n",
      "joblib                      1.3.0\n",
      "json5                       0.9.25\n",
      "jsonpointer                 3.0.0\n",
      "jsonschema                  4.18.3\n",
      "jsonschema_specifications   NA\n",
      "jupyter_events              0.10.0\n",
      "jupyter_server              2.14.1\n",
      "jupyterlab_server           2.27.2\n",
      "kiwisolver                  1.4.4\n",
      "leidenalg                   0.10.0\n",
      "lightning                   2.0.8\n",
      "lightning_cloud             NA\n",
      "lightning_fabric            2.0.4\n",
      "lightning_utilities         0.9.0\n",
      "llvmlite                    0.40.1\n",
      "lz4                         4.3.3\n",
      "markupsafe                  2.1.3\n",
      "matplotlib                  3.7.2\n",
      "matplotlib_inline           0.1.6\n",
      "ml_collections              NA\n",
      "ml_dtypes                   0.2.0\n",
      "mpl_toolkits                NA\n",
      "mpmath                      1.3.0\n",
      "msgpack                     1.0.5\n",
      "mudata                      0.2.3\n",
      "multidict                   6.0.5\n",
      "multipart                   0.0.6\n",
      "multipledispatch            0.6.0\n",
      "natsort                     8.4.0\n",
      "nbformat                    5.10.4\n",
      "networkx                    3.1\n",
      "numba                       0.57.1\n",
      "numexpr                     2.10.0\n",
      "numpy                       1.24.4\n",
      "numpyro                     0.12.1\n",
      "nvfuser                     NA\n",
      "opt_einsum                  v3.3.0\n",
      "optax                       0.1.5\n",
      "ordered_set                 4.1.0\n",
      "orjson                      3.9.2\n",
      "overrides                   NA\n",
      "packaging                   23.1\n",
      "pandas                      2.2.2\n",
      "parso                       0.8.3\n",
      "past                        0.18.3\n",
      "patsy                       0.5.3\n",
      "pexpect                     4.8.0\n",
      "pickleshare                 0.7.5\n",
      "pkg_resources               NA\n",
      "platformdirs                3.8.1\n",
      "prometheus_client           NA\n",
      "prompt_toolkit              3.0.39\n",
      "psutil                      5.9.5\n",
      "ptyprocess                  0.7.0\n",
      "pure_eval                   0.2.2\n",
      "py4j                        0.10.9.7\n",
      "pyarrow                     16.1.0\n",
      "pydantic                    2.8.2\n",
      "pydantic_core               2.20.1\n",
      "pydev_ipython               NA\n",
      "pydevconsole                NA\n",
      "pydevd                      2.9.5\n",
      "pydevd_file_utils           NA\n",
      "pydevd_plugins              NA\n",
      "pydevd_tracing              NA\n",
      "pydot                       1.4.2\n",
      "pygments                    2.15.1\n",
      "pyparsing                   3.0.9\n",
      "pyro                        1.8.4+9ed468d\n",
      "pythonjsonlogger            NA\n",
      "pytorch_lightning           2.0.4\n",
      "pytz                        2023.3\n",
      "ray                         2.7.0\n",
      "referencing                 NA\n",
      "requests                    2.31.0\n",
      "rfc3339_validator           0.1.4\n",
      "rfc3986_validator           0.1.1\n",
      "rich                        NA\n",
      "rpds                        NA\n",
      "scipy                       1.11.1\n",
      "scvi                        1.0.2\n",
      "seaborn                     0.12.2\n",
      "send2trash                  NA\n",
      "session_info                1.0.0\n",
      "setproctitle                1.2.2\n",
      "six                         1.16.0\n",
      "sklearn                     1.3.0\n",
      "sniffio                     1.3.0\n",
      "socks                       1.7.1\n",
      "soupsieve                   2.3.2.post1\n",
      "sparse                      0.14.0\n",
      "stack_data                  0.6.2\n",
      "starlette                   0.27.0\n",
      "statsmodels                 0.14.0\n",
      "sympy                       1.12\n",
      "tblib                       3.0.0\n",
      "texttable                   1.6.7\n",
      "threadpoolctl               3.2.0\n",
      "tlz                         0.12.3\n",
      "tomli                       2.0.1\n",
      "toolz                       0.12.0\n",
      "torch                       2.0.1\n",
      "torchmetrics                0.11.4\n",
      "torchvision                 0.15.2\n",
      "tornado                     6.3.2\n",
      "tqdm                        4.65.0\n",
      "traitlets                   5.9.0\n",
      "typing_extensions           NA\n",
      "uri_template                NA\n",
      "urllib3                     1.26.15\n",
      "uvicorn                     0.22.0\n",
      "uvloop                      0.19.0\n",
      "watchfiles                  0.22.0\n",
      "wcwidth                     0.2.6\n",
      "webcolors                   24.6.0\n",
      "webencodings                0.5.1\n",
      "websocket                   1.6.1\n",
      "websockets                  11.0.3\n",
      "xarray                      2023.6.0\n",
      "yaml                        6.0\n",
      "yarl                        1.9.4\n",
      "zipp                        NA\n",
      "zmq                         25.1.0\n",
      "zoneinfo                    NA\n",
      "-----\n",
      "IPython             8.14.0\n",
      "jupyter_client      8.3.0\n",
      "jupyter_core        5.3.1\n",
      "jupyterlab          4.2.3\n",
      "notebook            7.2.1\n",
      "-----\n",
      "Python 3.9.16 | packaged by conda-forge | (main, Feb  1 2023, 21:39:03) [GCC 11.3.0]\n",
      "Linux-6.8.0-49-generic-x86_64-with-glibc2.35\n",
      "-----\n",
      "Session information updated at 2025-01-07 10:15\n"
     ]
    }
   ],
   "source": [
    "# Import dependencies\n",
    "%matplotlib inline\n",
    "import os\n",
    "import numpy as np\n",
    "import pandas as pd\n",
    "import scanpy as sc\n",
    "import scanpy.external as sce\n",
    "import seaborn as sns\n",
    "import anndata\n",
    "import matplotlib.pyplot as plt\n",
    "import yaml\n",
    "import scvi\n",
    "import ray\n",
    "import hyperopt\n",
    "from ray import tune\n",
    "from scvi import autotune\n",
    "\n",
    "# Print date and time:\n",
    "import datetime\n",
    "e = datetime.datetime.now()\n",
    "print (\"Current date and time = %s\" % e)\n",
    "\n",
    "# Set other settings\n",
    "sc.settings.verbosity = 3 # verbosity: errors (0), warnings (1), info (2), hints (3)\n",
    "sc.logging.print_versions()\n",
    "sc.set_figure_params(dpi=150, fontsize=10, dpi_save=600)"
   ]
  },
  {
   "cell_type": "code",
   "execution_count": 2,
   "id": "f993e8a0-c5ef-4ed8-86a6-dc6d5f82b75c",
   "metadata": {},
   "outputs": [
    {
     "name": "stdout",
     "output_type": "stream",
     "text": [
      "20250107_10-15_scVI_on_adipocyte_subset.dir\n"
     ]
    }
   ],
   "source": [
    "# set a working directory\n",
    "wdir = '/media/prom/apc1/ccohen/chromium/analysis/20240711_Achilles/'\n",
    "os.chdir( wdir )\n",
    "\n",
    "# create an output directory with today's date and time\n",
    "year = e.strftime(\"%Y\")\n",
    "month = e.strftime(\"%m\")\n",
    "day = e.strftime(\"%d\")\n",
    "hour = e.strftime('%H')\n",
    "minute = e.strftime('%M')\n",
    "dmyt = f'{year}{month}{day}_{hour}-{minute}'\n",
    "directory = f'{dmyt}_scVI_on_adipocyte_subset.dir'\n",
    "\n",
    "# folder structures\n",
    "RESULTS_FOLDERNAME = f'{directory}/results/'\n",
    "FIGURES_FOLDERNAME = f'{directory}/figures/'\n",
    "\n",
    "if not os.path.exists(RESULTS_FOLDERNAME):\n",
    "    os.makedirs(RESULTS_FOLDERNAME)\n",
    "if not os.path.exists(FIGURES_FOLDERNAME):\n",
    "    os.makedirs(FIGURES_FOLDERNAME)\n",
    "    \n",
    "# Set folder for saving figures into\n",
    "sc.settings.figdir = FIGURES_FOLDERNAME\n",
    "\n",
    "print(directory)"
   ]
  },
  {
   "cell_type": "code",
   "execution_count": 3,
   "id": "0b51e32a-4333-4f52-aebe-275c8a89e1dd",
   "metadata": {},
   "outputs": [
    {
     "data": {
      "text/plain": [
       "'/media/prom/apc1/ccohen/chromium/analysis/20240711_Achilles/data/integrated_objects/20240926_13-58_convert-objects.dir/Achilles_integrated_annotated.h5ad'"
      ]
     },
     "execution_count": 3,
     "metadata": {},
     "output_type": "execute_result"
    }
   ],
   "source": [
    "path = os.path.join(wdir, 'data/integrated_objects/20240926_13-58_convert-objects.dir/Achilles_integrated_annotated.h5ad')\n",
    "path"
   ]
  },
  {
   "cell_type": "markdown",
   "id": "43ca2651-ea75-45b1-ba1a-f63d29672fbb",
   "metadata": {},
   "source": [
    "### Read in adata object\n",
    "This Achilles data object has been integrated using scVI, then taken back into R and annotated."
   ]
  },
  {
   "cell_type": "code",
   "execution_count": 4,
   "id": "e9fe0bb1-9c85-4f64-bc63-5b841aba97a8",
   "metadata": {},
   "outputs": [
    {
     "data": {
      "text/plain": [
       "AnnData object with n_obs × n_vars = 67668 × 61552\n",
       "    obs: 'orig.ident', 'nCount_RNA', 'nFeature_RNA', 'sample', 'sum', 'detected', 'subsets_mito_sum', 'subsets_mito_detected', 'subsets_mito_percent', 'total', 'log10GenesPerUMI', 'patient', 'age', 'sex', 'ethnicity', 'surgical_procedure', 'disease_status', 'anatomical_site', 'affected_side', 'time_to_freezing', 'sequencing_date', 'microanatomical_site', 'seurat_clusters', 'decontX_contamination', 'decontX_clusters', 'sizeFactor', 'scDblFinder.cluster', 'scDblFinder.class', 'scDblFinder.score', 'scDblFinder.weighted', 'scDblFinder.difficulty', 'scDblFinder.cxds_score', 'scDblFinder.mostLikelyOrigin', 'scDblFinder.originAmbiguous', 'nCount_decontXcounts', 'nFeature_decontXcounts', 'nCount_soupX', 'nFeature_soupX', 'patient.seqbatch', 'louvain_soupX_snn_res.0.1', 'louvain_soupX_snn_res.0.2', 'louvain_soupX_snn_res.0.3', 'louvain_soupX_snn_res.0.4', 'louvain_soupX_snn_res.0.5', 'louvain_soupX_snn_res.0.6', 'louvain_soupX_snn_res.0.7', 'louvain_soupX_snn_res.0.8', 'louvain_soupX_snn_res.0.9', 'louvain_soupX_snn_res.1', 'louvain_X_scVI_snn_res.0.1', 'louvain_X_scVI_snn_res.0.2', 'louvain_X_scVI_snn_res.0.3', 'louvain_X_scVI_snn_res.0.4', 'louvain_X_scVI_snn_res.0.5', 'louvain_X_scVI_snn_res.0.6', 'leiden_X_scVI_snn_res.0.1', 'leiden_X_scVI_snn_res.0.2', 'leiden_X_scVI_snn_res.0.3', 'leiden_X_scVI_snn_res.0.4', 'leiden_X_scVI_snn_res.0.5', 'leiden_X_scVI_snn_res.0.6', 'cell_annotation_harmony_0.1', 'cell_annotation_harmony_0.2', 'percent.ribo', 'cell_annotation_scVI_0.2', 'cell_annotation_scVI_0.3'\n",
       "    var: 'rownames(so)'\n",
       "    obsm: 'pca'\n",
       "    layers: 'counts', 'logcounts', 'soupX'"
      ]
     },
     "execution_count": 4,
     "metadata": {},
     "output_type": "execute_result"
    }
   ],
   "source": [
    "adata = sc.read_h5ad(path)\n",
    "adata"
   ]
  },
  {
   "cell_type": "code",
   "execution_count": 5,
   "id": "691f3bbb-54e8-4aa1-b6e9-aaec9cc84cfc",
   "metadata": {},
   "outputs": [],
   "source": [
    "# scvi works with raw counts\n",
    "adata.X = adata.layers['counts'].copy()"
   ]
  },
  {
   "cell_type": "code",
   "execution_count": 8,
   "id": "7eca5dfa-6541-4ae1-8539-0fc7d33c0fda",
   "metadata": {},
   "outputs": [
    {
     "data": {
      "text/plain": [
       "AnnData object with n_obs × n_vars = 3906 × 61552\n",
       "    obs: 'orig.ident', 'nCount_RNA', 'nFeature_RNA', 'sample', 'sum', 'detected', 'subsets_mito_sum', 'subsets_mito_detected', 'subsets_mito_percent', 'total', 'log10GenesPerUMI', 'patient', 'age', 'sex', 'ethnicity', 'surgical_procedure', 'disease_status', 'anatomical_site', 'affected_side', 'time_to_freezing', 'sequencing_date', 'microanatomical_site', 'seurat_clusters', 'decontX_contamination', 'decontX_clusters', 'sizeFactor', 'scDblFinder.cluster', 'scDblFinder.class', 'scDblFinder.score', 'scDblFinder.weighted', 'scDblFinder.difficulty', 'scDblFinder.cxds_score', 'scDblFinder.mostLikelyOrigin', 'scDblFinder.originAmbiguous', 'nCount_decontXcounts', 'nFeature_decontXcounts', 'nCount_soupX', 'nFeature_soupX', 'patient.seqbatch', 'louvain_soupX_snn_res.0.1', 'louvain_soupX_snn_res.0.2', 'louvain_soupX_snn_res.0.3', 'louvain_soupX_snn_res.0.4', 'louvain_soupX_snn_res.0.5', 'louvain_soupX_snn_res.0.6', 'louvain_soupX_snn_res.0.7', 'louvain_soupX_snn_res.0.8', 'louvain_soupX_snn_res.0.9', 'louvain_soupX_snn_res.1', 'louvain_X_scVI_snn_res.0.1', 'louvain_X_scVI_snn_res.0.2', 'louvain_X_scVI_snn_res.0.3', 'louvain_X_scVI_snn_res.0.4', 'louvain_X_scVI_snn_res.0.5', 'louvain_X_scVI_snn_res.0.6', 'leiden_X_scVI_snn_res.0.1', 'leiden_X_scVI_snn_res.0.2', 'leiden_X_scVI_snn_res.0.3', 'leiden_X_scVI_snn_res.0.4', 'leiden_X_scVI_snn_res.0.5', 'leiden_X_scVI_snn_res.0.6', 'cell_annotation_harmony_0.1', 'cell_annotation_harmony_0.2', 'percent.ribo', 'cell_annotation_scVI_0.2', 'cell_annotation_scVI_0.3'\n",
       "    var: 'rownames(so)'\n",
       "    obsm: 'pca'\n",
       "    layers: 'counts', 'logcounts', 'soupX'"
      ]
     },
     "execution_count": 8,
     "metadata": {},
     "output_type": "execute_result"
    }
   ],
   "source": [
    "# subset to adipocytes\n",
    "my_subset = ['Adipocytes']\n",
    "adata_subset = adata[adata.obs['cell_annotation_scVI_0.2'].isin(my_subset)].copy()\n",
    "adata_subset"
   ]
  },
  {
   "cell_type": "code",
   "execution_count": 9,
   "id": "c4d3aa51-d8c7-465f-9d9f-e5472a799b72",
   "metadata": {},
   "outputs": [
    {
     "data": {
      "text/plain": [
       "MSK0785-Ach-Enth_AAAGAACGTAGGTTTC    Adipocytes\n",
       "MSK0785-Ach-Enth_AAAGGGCCACATTACG    Adipocytes\n",
       "MSK0785-Ach-Enth_AACCCAATCAGCATTG    Adipocytes\n",
       "MSK0785-Ach-Enth_AACCTGAGTACCTATG    Adipocytes\n",
       "MSK0785-Ach-Enth_AACGGGACACCGTGGT    Adipocytes\n",
       "                                        ...    \n",
       "MSK1691-ACH-MTJ_TTTGACTTCACGATCA     Adipocytes\n",
       "MSK1691-ACH-MTJ_TTTGATCGTCCAGCAC     Adipocytes\n",
       "MSK1691-ACH-MTJ_TTTGATCGTCTAACGT     Adipocytes\n",
       "MSK1691-ACH-MTJ_TTTGGAGAGGTATAGT     Adipocytes\n",
       "MSK1691-ACH-MTJ_TTTGTTGTCAAGAGTA     Adipocytes\n",
       "Name: cell_annotation_scVI_0.2, Length: 3906, dtype: category\n",
       "Categories (1, object): ['Adipocytes']"
      ]
     },
     "execution_count": 9,
     "metadata": {},
     "output_type": "execute_result"
    }
   ],
   "source": [
    "adata_subset.obs['cell_annotation_scVI_0.2']"
   ]
  },
  {
   "cell_type": "code",
   "execution_count": 10,
   "id": "aa0c07ab-337b-4f86-9e01-cb7e4c00c678",
   "metadata": {},
   "outputs": [],
   "source": [
    "adata_subset.obs_names_make_unique()"
   ]
  },
  {
   "cell_type": "code",
   "execution_count": 11,
   "id": "619fc119-18bf-4ff4-8138-0a537a2503ee",
   "metadata": {},
   "outputs": [
    {
     "name": "stdout",
     "output_type": "stream",
     "text": [
      "If you pass `n_top_genes`, all cutoffs are ignored.\n",
      "extracting highly variable genes\n",
      "--> added\n",
      "    'highly_variable', boolean vector (adata.var)\n",
      "    'highly_variable_rank', float vector (adata.var)\n",
      "    'means', float vector (adata.var)\n",
      "    'variances', float vector (adata.var)\n",
      "    'variances_norm', float vector (adata.var)\n"
     ]
    }
   ],
   "source": [
    "# calculate 2000 hvg and subset to those genes\n",
    "sc.pp.highly_variable_genes(adata_subset, \n",
    "                            n_top_genes= 2000, \n",
    "                            flavor='seurat_v3', \n",
    "                            batch_key='patient.seqbatch',\n",
    "                            subset = True, \n",
    "                           span=1) # increase from default of 0.3 to avoid error"
   ]
  },
  {
   "cell_type": "code",
   "execution_count": 12,
   "id": "93540e11-17d7-44d0-b859-829eaf0ff655",
   "metadata": {},
   "outputs": [
    {
     "data": {
      "text/plain": [
       "AnnData object with n_obs × n_vars = 3906 × 2000\n",
       "    obs: 'orig.ident', 'nCount_RNA', 'nFeature_RNA', 'sample', 'sum', 'detected', 'subsets_mito_sum', 'subsets_mito_detected', 'subsets_mito_percent', 'total', 'log10GenesPerUMI', 'patient', 'age', 'sex', 'ethnicity', 'surgical_procedure', 'disease_status', 'anatomical_site', 'affected_side', 'time_to_freezing', 'sequencing_date', 'microanatomical_site', 'seurat_clusters', 'decontX_contamination', 'decontX_clusters', 'sizeFactor', 'scDblFinder.cluster', 'scDblFinder.class', 'scDblFinder.score', 'scDblFinder.weighted', 'scDblFinder.difficulty', 'scDblFinder.cxds_score', 'scDblFinder.mostLikelyOrigin', 'scDblFinder.originAmbiguous', 'nCount_decontXcounts', 'nFeature_decontXcounts', 'nCount_soupX', 'nFeature_soupX', 'patient.seqbatch', 'louvain_soupX_snn_res.0.1', 'louvain_soupX_snn_res.0.2', 'louvain_soupX_snn_res.0.3', 'louvain_soupX_snn_res.0.4', 'louvain_soupX_snn_res.0.5', 'louvain_soupX_snn_res.0.6', 'louvain_soupX_snn_res.0.7', 'louvain_soupX_snn_res.0.8', 'louvain_soupX_snn_res.0.9', 'louvain_soupX_snn_res.1', 'louvain_X_scVI_snn_res.0.1', 'louvain_X_scVI_snn_res.0.2', 'louvain_X_scVI_snn_res.0.3', 'louvain_X_scVI_snn_res.0.4', 'louvain_X_scVI_snn_res.0.5', 'louvain_X_scVI_snn_res.0.6', 'leiden_X_scVI_snn_res.0.1', 'leiden_X_scVI_snn_res.0.2', 'leiden_X_scVI_snn_res.0.3', 'leiden_X_scVI_snn_res.0.4', 'leiden_X_scVI_snn_res.0.5', 'leiden_X_scVI_snn_res.0.6', 'cell_annotation_harmony_0.1', 'cell_annotation_harmony_0.2', 'percent.ribo', 'cell_annotation_scVI_0.2', 'cell_annotation_scVI_0.3'\n",
       "    var: 'rownames(so)', 'highly_variable', 'highly_variable_rank', 'means', 'variances', 'variances_norm', 'highly_variable_nbatches'\n",
       "    uns: 'hvg'\n",
       "    obsm: 'pca'\n",
       "    layers: 'counts', 'logcounts', 'soupX'"
      ]
     },
     "execution_count": 12,
     "metadata": {},
     "output_type": "execute_result"
    }
   ],
   "source": [
    "adata_subset"
   ]
  },
  {
   "cell_type": "markdown",
   "id": "14b6b655-5a79-40ec-a514-bab78458d64b",
   "metadata": {},
   "source": [
    "### Optimise the scVI model using ray"
   ]
  },
  {
   "cell_type": "code",
   "execution_count": 13,
   "id": "dd5ee224-aed7-4342-8008-15da0513867d",
   "metadata": {},
   "outputs": [
    {
     "name": "stderr",
     "output_type": "stream",
     "text": [
      "/media/prom/apc1/ccohen/mamba_installation/conda/envs/scvi_env/lib/python3.9/site-packages/scvi/data/fields/_layer_field.py:101: UserWarning: Training will be faster when sparse matrix is formatted as CSR. It is safe to cast before model initialization.\n",
      "  _verify_and_correct_data_format(adata, self.attr_name, self.attr_key)\n"
     ]
    },
    {
     "data": {
      "text/html": [
       "<pre style=\"white-space:pre;overflow-x:auto;line-height:normal;font-family:Menlo,'DejaVu Sans Mono',consolas,'Courier New',monospace\">ModelTuner registry for SCVI\n",
       "</pre>\n"
      ],
      "text/plain": [
       "ModelTuner registry for SCVI\n"
      ]
     },
     "metadata": {},
     "output_type": "display_data"
    },
    {
     "data": {
      "text/html": [
       "<pre style=\"white-space:pre;overflow-x:auto;line-height:normal;font-family:Menlo,'DejaVu Sans Mono',consolas,'Courier New',monospace\"><span style=\"font-style: italic\">                  Tunable hyperparameters                  </span>\n",
       "┏━━━━━━━━━━━━━━━━━━━━━━━━━━┳━━━━━━━━━━━━━━━┳━━━━━━━━━━━━━━┓\n",
       "┃<span style=\"font-weight: bold\">      Hyperparameter      </span>┃<span style=\"font-weight: bold\"> Default value </span>┃<span style=\"font-weight: bold\">    Source    </span>┃\n",
       "┡━━━━━━━━━━━━━━━━━━━━━━━━━━╇━━━━━━━━━━━━━━━╇━━━━━━━━━━━━━━┩\n",
       "│<span style=\"color: #0087ff; text-decoration-color: #0087ff\">         n_hidden         </span>│<span style=\"color: #af00d7; text-decoration-color: #af00d7\">      128      </span>│<span style=\"color: #008000; text-decoration-color: #008000\">     VAE      </span>│\n",
       "│<span style=\"color: #0087ff; text-decoration-color: #0087ff\">         n_latent         </span>│<span style=\"color: #af00d7; text-decoration-color: #af00d7\">      10       </span>│<span style=\"color: #008000; text-decoration-color: #008000\">     VAE      </span>│\n",
       "│<span style=\"color: #0087ff; text-decoration-color: #0087ff\">         n_layers         </span>│<span style=\"color: #af00d7; text-decoration-color: #af00d7\">       1       </span>│<span style=\"color: #008000; text-decoration-color: #008000\">     VAE      </span>│\n",
       "│<span style=\"color: #0087ff; text-decoration-color: #0087ff\">       dropout_rate       </span>│<span style=\"color: #af00d7; text-decoration-color: #af00d7\">      0.1      </span>│<span style=\"color: #008000; text-decoration-color: #008000\">     VAE      </span>│\n",
       "│<span style=\"color: #0087ff; text-decoration-color: #0087ff\">        dispersion        </span>│<span style=\"color: #af00d7; text-decoration-color: #af00d7\">     gene      </span>│<span style=\"color: #008000; text-decoration-color: #008000\">     VAE      </span>│\n",
       "│<span style=\"color: #0087ff; text-decoration-color: #0087ff\">     gene_likelihood      </span>│<span style=\"color: #af00d7; text-decoration-color: #af00d7\">     zinb      </span>│<span style=\"color: #008000; text-decoration-color: #008000\">     VAE      </span>│\n",
       "│<span style=\"color: #0087ff; text-decoration-color: #0087ff\">   latent_distribution    </span>│<span style=\"color: #af00d7; text-decoration-color: #af00d7\">    normal     </span>│<span style=\"color: #008000; text-decoration-color: #008000\">     VAE      </span>│\n",
       "│<span style=\"color: #0087ff; text-decoration-color: #0087ff\">    encode_covariates     </span>│<span style=\"color: #af00d7; text-decoration-color: #af00d7\">     False     </span>│<span style=\"color: #008000; text-decoration-color: #008000\">     VAE      </span>│\n",
       "│<span style=\"color: #0087ff; text-decoration-color: #0087ff\"> deeply_inject_covariates </span>│<span style=\"color: #af00d7; text-decoration-color: #af00d7\">     True      </span>│<span style=\"color: #008000; text-decoration-color: #008000\">     VAE      </span>│\n",
       "│<span style=\"color: #0087ff; text-decoration-color: #0087ff\">      use_batch_norm      </span>│<span style=\"color: #af00d7; text-decoration-color: #af00d7\">     both      </span>│<span style=\"color: #008000; text-decoration-color: #008000\">     VAE      </span>│\n",
       "│<span style=\"color: #0087ff; text-decoration-color: #0087ff\">      use_layer_norm      </span>│<span style=\"color: #af00d7; text-decoration-color: #af00d7\">     none      </span>│<span style=\"color: #008000; text-decoration-color: #008000\">     VAE      </span>│\n",
       "│<span style=\"color: #0087ff; text-decoration-color: #0087ff\">        optimizer         </span>│<span style=\"color: #af00d7; text-decoration-color: #af00d7\">     Adam      </span>│<span style=\"color: #008000; text-decoration-color: #008000\"> TrainingPlan </span>│\n",
       "│<span style=\"color: #0087ff; text-decoration-color: #0087ff\">            lr            </span>│<span style=\"color: #af00d7; text-decoration-color: #af00d7\">     0.001     </span>│<span style=\"color: #008000; text-decoration-color: #008000\"> TrainingPlan </span>│\n",
       "│<span style=\"color: #0087ff; text-decoration-color: #0087ff\">       weight_decay       </span>│<span style=\"color: #af00d7; text-decoration-color: #af00d7\">     1e-06     </span>│<span style=\"color: #008000; text-decoration-color: #008000\"> TrainingPlan </span>│\n",
       "│<span style=\"color: #0087ff; text-decoration-color: #0087ff\">           eps            </span>│<span style=\"color: #af00d7; text-decoration-color: #af00d7\">     0.01      </span>│<span style=\"color: #008000; text-decoration-color: #008000\"> TrainingPlan </span>│\n",
       "│<span style=\"color: #0087ff; text-decoration-color: #0087ff\">    n_steps_kl_warmup     </span>│<span style=\"color: #af00d7; text-decoration-color: #af00d7\">     None      </span>│<span style=\"color: #008000; text-decoration-color: #008000\"> TrainingPlan </span>│\n",
       "│<span style=\"color: #0087ff; text-decoration-color: #0087ff\">    n_epochs_kl_warmup    </span>│<span style=\"color: #af00d7; text-decoration-color: #af00d7\">      400      </span>│<span style=\"color: #008000; text-decoration-color: #008000\"> TrainingPlan </span>│\n",
       "│<span style=\"color: #0087ff; text-decoration-color: #0087ff\">   reduce_lr_on_plateau   </span>│<span style=\"color: #af00d7; text-decoration-color: #af00d7\">     False     </span>│<span style=\"color: #008000; text-decoration-color: #008000\"> TrainingPlan </span>│\n",
       "│<span style=\"color: #0087ff; text-decoration-color: #0087ff\">        lr_factor         </span>│<span style=\"color: #af00d7; text-decoration-color: #af00d7\">      0.6      </span>│<span style=\"color: #008000; text-decoration-color: #008000\"> TrainingPlan </span>│\n",
       "│<span style=\"color: #0087ff; text-decoration-color: #0087ff\">       lr_patience        </span>│<span style=\"color: #af00d7; text-decoration-color: #af00d7\">      30       </span>│<span style=\"color: #008000; text-decoration-color: #008000\"> TrainingPlan </span>│\n",
       "│<span style=\"color: #0087ff; text-decoration-color: #0087ff\">       lr_threshold       </span>│<span style=\"color: #af00d7; text-decoration-color: #af00d7\">      0.0      </span>│<span style=\"color: #008000; text-decoration-color: #008000\"> TrainingPlan </span>│\n",
       "│<span style=\"color: #0087ff; text-decoration-color: #0087ff\">          lr_min          </span>│<span style=\"color: #af00d7; text-decoration-color: #af00d7\">       0       </span>│<span style=\"color: #008000; text-decoration-color: #008000\"> TrainingPlan </span>│\n",
       "│<span style=\"color: #0087ff; text-decoration-color: #0087ff\">      max_kl_weight       </span>│<span style=\"color: #af00d7; text-decoration-color: #af00d7\">      1.0      </span>│<span style=\"color: #008000; text-decoration-color: #008000\"> TrainingPlan </span>│\n",
       "│<span style=\"color: #0087ff; text-decoration-color: #0087ff\">      min_kl_weight       </span>│<span style=\"color: #af00d7; text-decoration-color: #af00d7\">      0.0      </span>│<span style=\"color: #008000; text-decoration-color: #008000\"> TrainingPlan </span>│\n",
       "└──────────────────────────┴───────────────┴──────────────┘\n",
       "</pre>\n"
      ],
      "text/plain": [
       "\u001b[3m                  Tunable hyperparameters                  \u001b[0m\n",
       "┏━━━━━━━━━━━━━━━━━━━━━━━━━━┳━━━━━━━━━━━━━━━┳━━━━━━━━━━━━━━┓\n",
       "┃\u001b[1m \u001b[0m\u001b[1m     Hyperparameter     \u001b[0m\u001b[1m \u001b[0m┃\u001b[1m \u001b[0m\u001b[1mDefault value\u001b[0m\u001b[1m \u001b[0m┃\u001b[1m \u001b[0m\u001b[1m   Source   \u001b[0m\u001b[1m \u001b[0m┃\n",
       "┡━━━━━━━━━━━━━━━━━━━━━━━━━━╇━━━━━━━━━━━━━━━╇━━━━━━━━━━━━━━┩\n",
       "│\u001b[38;5;33m \u001b[0m\u001b[38;5;33m        n_hidden        \u001b[0m\u001b[38;5;33m \u001b[0m│\u001b[38;5;128m \u001b[0m\u001b[38;5;128m     128     \u001b[0m\u001b[38;5;128m \u001b[0m│\u001b[32m \u001b[0m\u001b[32m    VAE     \u001b[0m\u001b[32m \u001b[0m│\n",
       "│\u001b[38;5;33m \u001b[0m\u001b[38;5;33m        n_latent        \u001b[0m\u001b[38;5;33m \u001b[0m│\u001b[38;5;128m \u001b[0m\u001b[38;5;128m     10      \u001b[0m\u001b[38;5;128m \u001b[0m│\u001b[32m \u001b[0m\u001b[32m    VAE     \u001b[0m\u001b[32m \u001b[0m│\n",
       "│\u001b[38;5;33m \u001b[0m\u001b[38;5;33m        n_layers        \u001b[0m\u001b[38;5;33m \u001b[0m│\u001b[38;5;128m \u001b[0m\u001b[38;5;128m      1      \u001b[0m\u001b[38;5;128m \u001b[0m│\u001b[32m \u001b[0m\u001b[32m    VAE     \u001b[0m\u001b[32m \u001b[0m│\n",
       "│\u001b[38;5;33m \u001b[0m\u001b[38;5;33m      dropout_rate      \u001b[0m\u001b[38;5;33m \u001b[0m│\u001b[38;5;128m \u001b[0m\u001b[38;5;128m     0.1     \u001b[0m\u001b[38;5;128m \u001b[0m│\u001b[32m \u001b[0m\u001b[32m    VAE     \u001b[0m\u001b[32m \u001b[0m│\n",
       "│\u001b[38;5;33m \u001b[0m\u001b[38;5;33m       dispersion       \u001b[0m\u001b[38;5;33m \u001b[0m│\u001b[38;5;128m \u001b[0m\u001b[38;5;128m    gene     \u001b[0m\u001b[38;5;128m \u001b[0m│\u001b[32m \u001b[0m\u001b[32m    VAE     \u001b[0m\u001b[32m \u001b[0m│\n",
       "│\u001b[38;5;33m \u001b[0m\u001b[38;5;33m    gene_likelihood     \u001b[0m\u001b[38;5;33m \u001b[0m│\u001b[38;5;128m \u001b[0m\u001b[38;5;128m    zinb     \u001b[0m\u001b[38;5;128m \u001b[0m│\u001b[32m \u001b[0m\u001b[32m    VAE     \u001b[0m\u001b[32m \u001b[0m│\n",
       "│\u001b[38;5;33m \u001b[0m\u001b[38;5;33m  latent_distribution   \u001b[0m\u001b[38;5;33m \u001b[0m│\u001b[38;5;128m \u001b[0m\u001b[38;5;128m   normal    \u001b[0m\u001b[38;5;128m \u001b[0m│\u001b[32m \u001b[0m\u001b[32m    VAE     \u001b[0m\u001b[32m \u001b[0m│\n",
       "│\u001b[38;5;33m \u001b[0m\u001b[38;5;33m   encode_covariates    \u001b[0m\u001b[38;5;33m \u001b[0m│\u001b[38;5;128m \u001b[0m\u001b[38;5;128m    False    \u001b[0m\u001b[38;5;128m \u001b[0m│\u001b[32m \u001b[0m\u001b[32m    VAE     \u001b[0m\u001b[32m \u001b[0m│\n",
       "│\u001b[38;5;33m \u001b[0m\u001b[38;5;33mdeeply_inject_covariates\u001b[0m\u001b[38;5;33m \u001b[0m│\u001b[38;5;128m \u001b[0m\u001b[38;5;128m    True     \u001b[0m\u001b[38;5;128m \u001b[0m│\u001b[32m \u001b[0m\u001b[32m    VAE     \u001b[0m\u001b[32m \u001b[0m│\n",
       "│\u001b[38;5;33m \u001b[0m\u001b[38;5;33m     use_batch_norm     \u001b[0m\u001b[38;5;33m \u001b[0m│\u001b[38;5;128m \u001b[0m\u001b[38;5;128m    both     \u001b[0m\u001b[38;5;128m \u001b[0m│\u001b[32m \u001b[0m\u001b[32m    VAE     \u001b[0m\u001b[32m \u001b[0m│\n",
       "│\u001b[38;5;33m \u001b[0m\u001b[38;5;33m     use_layer_norm     \u001b[0m\u001b[38;5;33m \u001b[0m│\u001b[38;5;128m \u001b[0m\u001b[38;5;128m    none     \u001b[0m\u001b[38;5;128m \u001b[0m│\u001b[32m \u001b[0m\u001b[32m    VAE     \u001b[0m\u001b[32m \u001b[0m│\n",
       "│\u001b[38;5;33m \u001b[0m\u001b[38;5;33m       optimizer        \u001b[0m\u001b[38;5;33m \u001b[0m│\u001b[38;5;128m \u001b[0m\u001b[38;5;128m    Adam     \u001b[0m\u001b[38;5;128m \u001b[0m│\u001b[32m \u001b[0m\u001b[32mTrainingPlan\u001b[0m\u001b[32m \u001b[0m│\n",
       "│\u001b[38;5;33m \u001b[0m\u001b[38;5;33m           lr           \u001b[0m\u001b[38;5;33m \u001b[0m│\u001b[38;5;128m \u001b[0m\u001b[38;5;128m    0.001    \u001b[0m\u001b[38;5;128m \u001b[0m│\u001b[32m \u001b[0m\u001b[32mTrainingPlan\u001b[0m\u001b[32m \u001b[0m│\n",
       "│\u001b[38;5;33m \u001b[0m\u001b[38;5;33m      weight_decay      \u001b[0m\u001b[38;5;33m \u001b[0m│\u001b[38;5;128m \u001b[0m\u001b[38;5;128m    1e-06    \u001b[0m\u001b[38;5;128m \u001b[0m│\u001b[32m \u001b[0m\u001b[32mTrainingPlan\u001b[0m\u001b[32m \u001b[0m│\n",
       "│\u001b[38;5;33m \u001b[0m\u001b[38;5;33m          eps           \u001b[0m\u001b[38;5;33m \u001b[0m│\u001b[38;5;128m \u001b[0m\u001b[38;5;128m    0.01     \u001b[0m\u001b[38;5;128m \u001b[0m│\u001b[32m \u001b[0m\u001b[32mTrainingPlan\u001b[0m\u001b[32m \u001b[0m│\n",
       "│\u001b[38;5;33m \u001b[0m\u001b[38;5;33m   n_steps_kl_warmup    \u001b[0m\u001b[38;5;33m \u001b[0m│\u001b[38;5;128m \u001b[0m\u001b[38;5;128m    None     \u001b[0m\u001b[38;5;128m \u001b[0m│\u001b[32m \u001b[0m\u001b[32mTrainingPlan\u001b[0m\u001b[32m \u001b[0m│\n",
       "│\u001b[38;5;33m \u001b[0m\u001b[38;5;33m   n_epochs_kl_warmup   \u001b[0m\u001b[38;5;33m \u001b[0m│\u001b[38;5;128m \u001b[0m\u001b[38;5;128m     400     \u001b[0m\u001b[38;5;128m \u001b[0m│\u001b[32m \u001b[0m\u001b[32mTrainingPlan\u001b[0m\u001b[32m \u001b[0m│\n",
       "│\u001b[38;5;33m \u001b[0m\u001b[38;5;33m  reduce_lr_on_plateau  \u001b[0m\u001b[38;5;33m \u001b[0m│\u001b[38;5;128m \u001b[0m\u001b[38;5;128m    False    \u001b[0m\u001b[38;5;128m \u001b[0m│\u001b[32m \u001b[0m\u001b[32mTrainingPlan\u001b[0m\u001b[32m \u001b[0m│\n",
       "│\u001b[38;5;33m \u001b[0m\u001b[38;5;33m       lr_factor        \u001b[0m\u001b[38;5;33m \u001b[0m│\u001b[38;5;128m \u001b[0m\u001b[38;5;128m     0.6     \u001b[0m\u001b[38;5;128m \u001b[0m│\u001b[32m \u001b[0m\u001b[32mTrainingPlan\u001b[0m\u001b[32m \u001b[0m│\n",
       "│\u001b[38;5;33m \u001b[0m\u001b[38;5;33m      lr_patience       \u001b[0m\u001b[38;5;33m \u001b[0m│\u001b[38;5;128m \u001b[0m\u001b[38;5;128m     30      \u001b[0m\u001b[38;5;128m \u001b[0m│\u001b[32m \u001b[0m\u001b[32mTrainingPlan\u001b[0m\u001b[32m \u001b[0m│\n",
       "│\u001b[38;5;33m \u001b[0m\u001b[38;5;33m      lr_threshold      \u001b[0m\u001b[38;5;33m \u001b[0m│\u001b[38;5;128m \u001b[0m\u001b[38;5;128m     0.0     \u001b[0m\u001b[38;5;128m \u001b[0m│\u001b[32m \u001b[0m\u001b[32mTrainingPlan\u001b[0m\u001b[32m \u001b[0m│\n",
       "│\u001b[38;5;33m \u001b[0m\u001b[38;5;33m         lr_min         \u001b[0m\u001b[38;5;33m \u001b[0m│\u001b[38;5;128m \u001b[0m\u001b[38;5;128m      0      \u001b[0m\u001b[38;5;128m \u001b[0m│\u001b[32m \u001b[0m\u001b[32mTrainingPlan\u001b[0m\u001b[32m \u001b[0m│\n",
       "│\u001b[38;5;33m \u001b[0m\u001b[38;5;33m     max_kl_weight      \u001b[0m\u001b[38;5;33m \u001b[0m│\u001b[38;5;128m \u001b[0m\u001b[38;5;128m     1.0     \u001b[0m\u001b[38;5;128m \u001b[0m│\u001b[32m \u001b[0m\u001b[32mTrainingPlan\u001b[0m\u001b[32m \u001b[0m│\n",
       "│\u001b[38;5;33m \u001b[0m\u001b[38;5;33m     min_kl_weight      \u001b[0m\u001b[38;5;33m \u001b[0m│\u001b[38;5;128m \u001b[0m\u001b[38;5;128m     0.0     \u001b[0m\u001b[38;5;128m \u001b[0m│\u001b[32m \u001b[0m\u001b[32mTrainingPlan\u001b[0m\u001b[32m \u001b[0m│\n",
       "└──────────────────────────┴───────────────┴──────────────┘\n"
      ]
     },
     "metadata": {},
     "output_type": "display_data"
    },
    {
     "data": {
      "text/html": [
       "<pre style=\"white-space:pre;overflow-x:auto;line-height:normal;font-family:Menlo,'DejaVu Sans Mono',consolas,'Courier New',monospace\"><span style=\"font-style: italic\">       Available metrics        </span>\n",
       "┏━━━━━━━━━━━━━━━━━┳━━━━━━━━━━━━┓\n",
       "┃<span style=\"font-weight: bold\">     Metric      </span>┃<span style=\"font-weight: bold\">    Mode    </span>┃\n",
       "┡━━━━━━━━━━━━━━━━━╇━━━━━━━━━━━━┩\n",
       "│<span style=\"color: #0087ff; text-decoration-color: #0087ff\"> validation_loss </span>│<span style=\"color: #af00d7; text-decoration-color: #af00d7\">    min     </span>│\n",
       "└─────────────────┴────────────┘\n",
       "</pre>\n"
      ],
      "text/plain": [
       "\u001b[3m       Available metrics        \u001b[0m\n",
       "┏━━━━━━━━━━━━━━━━━┳━━━━━━━━━━━━┓\n",
       "┃\u001b[1m \u001b[0m\u001b[1m    Metric     \u001b[0m\u001b[1m \u001b[0m┃\u001b[1m \u001b[0m\u001b[1m   Mode   \u001b[0m\u001b[1m \u001b[0m┃\n",
       "┡━━━━━━━━━━━━━━━━━╇━━━━━━━━━━━━┩\n",
       "│\u001b[38;5;33m \u001b[0m\u001b[38;5;33mvalidation_loss\u001b[0m\u001b[38;5;33m \u001b[0m│\u001b[38;5;128m \u001b[0m\u001b[38;5;128m   min    \u001b[0m\u001b[38;5;128m \u001b[0m│\n",
       "└─────────────────┴────────────┘\n"
      ]
     },
     "metadata": {},
     "output_type": "display_data"
    },
    {
     "data": {
      "text/html": [
       "<pre style=\"white-space:pre;overflow-x:auto;line-height:normal;font-family:Menlo,'DejaVu Sans Mono',consolas,'Courier New',monospace\"><span style=\"font-style: italic\">                         Default search space                         </span>\n",
       "┏━━━━━━━━━━━━━━━━┳━━━━━━━━━━━━━━━━━┳━━━━━━━━━━━━━┳━━━━━━━━━━━━━━━━━━━┓\n",
       "┃<span style=\"font-weight: bold\"> Hyperparameter </span>┃<span style=\"font-weight: bold\"> Sample function </span>┃<span style=\"font-weight: bold\">  Arguments  </span>┃<span style=\"font-weight: bold\"> Keyword arguments </span>┃\n",
       "┡━━━━━━━━━━━━━━━━╇━━━━━━━━━━━━━━━━━╇━━━━━━━━━━━━━╇━━━━━━━━━━━━━━━━━━━┩\n",
       "│<span style=\"color: #0087ff; text-decoration-color: #0087ff\">    n_hidden    </span>│<span style=\"color: #af00d7; text-decoration-color: #af00d7\">     choice      </span>│<span style=\"color: #008000; text-decoration-color: #008000\"> [[64, 128]] </span>│<span style=\"color: #ff8700; text-decoration-color: #ff8700\">        {}         </span>│\n",
       "└────────────────┴─────────────────┴─────────────┴───────────────────┘\n",
       "</pre>\n"
      ],
      "text/plain": [
       "\u001b[3m                         Default search space                         \u001b[0m\n",
       "┏━━━━━━━━━━━━━━━━┳━━━━━━━━━━━━━━━━━┳━━━━━━━━━━━━━┳━━━━━━━━━━━━━━━━━━━┓\n",
       "┃\u001b[1m \u001b[0m\u001b[1mHyperparameter\u001b[0m\u001b[1m \u001b[0m┃\u001b[1m \u001b[0m\u001b[1mSample function\u001b[0m\u001b[1m \u001b[0m┃\u001b[1m \u001b[0m\u001b[1m Arguments \u001b[0m\u001b[1m \u001b[0m┃\u001b[1m \u001b[0m\u001b[1mKeyword arguments\u001b[0m\u001b[1m \u001b[0m┃\n",
       "┡━━━━━━━━━━━━━━━━╇━━━━━━━━━━━━━━━━━╇━━━━━━━━━━━━━╇━━━━━━━━━━━━━━━━━━━┩\n",
       "│\u001b[38;5;33m \u001b[0m\u001b[38;5;33m   n_hidden   \u001b[0m\u001b[38;5;33m \u001b[0m│\u001b[38;5;128m \u001b[0m\u001b[38;5;128m    choice     \u001b[0m\u001b[38;5;128m \u001b[0m│\u001b[32m \u001b[0m\u001b[32m[[64, 128]]\u001b[0m\u001b[32m \u001b[0m│\u001b[38;5;208m \u001b[0m\u001b[38;5;208m       {}        \u001b[0m\u001b[38;5;208m \u001b[0m│\n",
       "└────────────────┴─────────────────┴─────────────┴───────────────────┘\n"
      ]
     },
     "metadata": {},
     "output_type": "display_data"
    }
   ],
   "source": [
    "# set up the object and view the available paramaters that can be tuned\n",
    "\n",
    "model_cls = scvi.model.SCVI\n",
    "model_cls.setup_anndata(adata_subset, layer=\"counts\", \n",
    "                        batch_key='patient.seqbatch')\n",
    "\n",
    "scvi_tuner = autotune.ModelTuner(model_cls)\n",
    "scvi_tuner.info()"
   ]
  },
  {
   "cell_type": "code",
   "execution_count": 14,
   "id": "02fedb24-8f0b-4b50-87af-1114b9608693",
   "metadata": {},
   "outputs": [],
   "source": [
    "# specify which variables will be tested\n",
    "search_space = {\n",
    "    \"n_latent\": tune.choice([10, 30, 50]),\n",
    "    \"n_hidden\": tune.choice([60, 128, 256]),\n",
    "    \"n_layers\": tune.choice([1, 2, 3]),\n",
    "    \"lr\": tune.loguniform(1e-4, 1e-2),\n",
    "    \"gene_likelihood\": tune.choice([\"nb\", \"zinb\"])\n",
    "}"
   ]
  },
  {
   "cell_type": "code",
   "execution_count": 15,
   "id": "c75e6fe7-8788-4a28-9556-8273343deb51",
   "metadata": {},
   "outputs": [
    {
     "name": "stderr",
     "output_type": "stream",
     "text": [
      "2025-01-07 10:16:54,744\tINFO worker.py:1633 -- Started a local Ray instance. View the dashboard at \u001b[1m\u001b[32m127.0.0.1:8265 \u001b[39m\u001b[22m\n"
     ]
    },
    {
     "data": {
      "application/vnd.jupyter.widget-view+json": {
       "model_id": "32357721c620450795a76db74a4c39ea",
       "version_major": 2,
       "version_minor": 0
      },
      "text/html": [
       "<div class=\"lm-Widget p-Widget lm-Panel p-Panel jp-Cell-outputWrapper\">\n",
       "    <div style=\"margin-left: 50px;display: flex;flex-direction: row;align-items: center\">\n",
       "        <div class=\"jp-RenderedHTMLCommon\" style=\"display: flex; flex-direction: row;\">\n",
       "  <svg viewBox=\"0 0 567 224\" fill=\"none\" xmlns=\"http://www.w3.org/2000/svg\" style=\"height: 3em;\">\n",
       "    <g clip-path=\"url(#clip0_4338_178347)\">\n",
       "        <path d=\"M341.29 165.561H355.29L330.13 129.051C345.63 123.991 354.21 112.051 354.21 94.2307C354.21 71.3707 338.72 58.1807 311.88 58.1807H271V165.561H283.27V131.661H311.8C314.25 131.661 316.71 131.501 319.01 131.351L341.25 165.561H341.29ZM283.29 119.851V70.0007H311.82C331.3 70.0007 342.34 78.2907 342.34 94.5507C342.34 111.271 331.34 119.861 311.82 119.861L283.29 119.851ZM451.4 138.411L463.4 165.561H476.74L428.74 58.1807H416L367.83 165.561H380.83L392.83 138.411H451.4ZM446.19 126.601H398L422 72.1407L446.24 126.601H446.19ZM526.11 128.741L566.91 58.1807H554.35L519.99 114.181L485.17 58.1807H472.44L514.01 129.181V165.541H526.13V128.741H526.11Z\" fill=\"var(--jp-ui-font-color0)\"/>\n",
       "        <path d=\"M82.35 104.44C84.0187 97.8827 87.8248 92.0678 93.1671 87.9146C98.5094 83.7614 105.083 81.5067 111.85 81.5067C118.617 81.5067 125.191 83.7614 130.533 87.9146C135.875 92.0678 139.681 97.8827 141.35 104.44H163.75C164.476 101.562 165.622 98.8057 167.15 96.2605L127.45 56.5605C121.071 60.3522 113.526 61.6823 106.235 60.3005C98.9443 58.9187 92.4094 54.9203 87.8602 49.0574C83.3109 43.1946 81.0609 35.8714 81.5332 28.4656C82.0056 21.0599 85.1679 14.0819 90.4252 8.8446C95.6824 3.60726 102.672 0.471508 110.08 0.0272655C117.487 -0.416977 124.802 1.86091 130.647 6.4324C136.493 11.0039 140.467 17.5539 141.821 24.8501C143.175 32.1463 141.816 39.6859 138 46.0505L177.69 85.7505C182.31 82.9877 187.58 81.4995 192.962 81.4375C198.345 81.3755 203.648 82.742 208.33 85.3976C213.012 88.0532 216.907 91.9029 219.616 96.5544C222.326 101.206 223.753 106.492 223.753 111.875C223.753 117.258 222.326 122.545 219.616 127.197C216.907 131.848 213.012 135.698 208.33 138.353C203.648 141.009 198.345 142.375 192.962 142.313C187.58 142.251 182.31 140.763 177.69 138L138 177.7C141.808 184.071 143.155 191.614 141.79 198.91C140.424 206.205 136.44 212.75 130.585 217.313C124.731 221.875 117.412 224.141 110.004 223.683C102.596 223.226 95.6103 220.077 90.3621 214.828C85.1139 209.58 81.9647 202.595 81.5072 195.187C81.0497 187.779 83.3154 180.459 87.878 174.605C92.4405 168.751 98.9853 164.766 106.281 163.401C113.576 162.035 121.119 163.383 127.49 167.19L167.19 127.49C165.664 124.941 164.518 122.182 163.79 119.3H141.39C139.721 125.858 135.915 131.673 130.573 135.826C125.231 139.98 118.657 142.234 111.89 142.234C105.123 142.234 98.5494 139.98 93.2071 135.826C87.8648 131.673 84.0587 125.858 82.39 119.3H60C58.1878 126.495 53.8086 132.78 47.6863 136.971C41.5641 141.163 34.1211 142.972 26.7579 142.059C19.3947 141.146 12.6191 137.574 7.70605 132.014C2.79302 126.454 0.0813599 119.29 0.0813599 111.87C0.0813599 104.451 2.79302 97.2871 7.70605 91.7272C12.6191 86.1673 19.3947 82.5947 26.7579 81.6817C34.1211 80.7686 41.5641 82.5781 47.6863 86.7696C53.8086 90.9611 58.1878 97.2456 60 104.44H82.35ZM100.86 204.32C103.407 206.868 106.759 208.453 110.345 208.806C113.93 209.159 117.527 208.258 120.522 206.256C123.517 204.254 125.725 201.276 126.771 197.828C127.816 194.38 127.633 190.677 126.253 187.349C124.874 184.021 122.383 181.274 119.205 179.577C116.027 177.88 112.359 177.337 108.826 178.042C105.293 178.746 102.113 180.654 99.8291 183.44C97.5451 186.226 96.2979 189.718 96.3 193.32C96.2985 195.364 96.7006 197.388 97.4831 199.275C98.2656 201.163 99.4132 202.877 100.86 204.32ZM204.32 122.88C206.868 120.333 208.453 116.981 208.806 113.396C209.159 109.811 208.258 106.214 206.256 103.219C204.254 100.223 201.275 98.0151 197.827 96.97C194.38 95.9249 190.676 96.1077 187.348 97.4873C184.02 98.8669 181.274 101.358 179.577 104.536C177.879 107.714 177.337 111.382 178.041 114.915C178.746 118.448 180.653 121.627 183.439 123.911C186.226 126.195 189.717 127.443 193.32 127.44C195.364 127.443 197.388 127.042 199.275 126.259C201.163 125.476 202.878 124.328 204.32 122.88ZM122.88 19.4205C120.333 16.8729 116.981 15.2876 113.395 14.9347C109.81 14.5817 106.213 15.483 103.218 17.4849C100.223 19.4868 98.0146 22.4654 96.9696 25.9131C95.9245 29.3608 96.1073 33.0642 97.4869 36.3922C98.8665 39.7202 101.358 42.4668 104.535 44.1639C107.713 45.861 111.381 46.4036 114.914 45.6992C118.447 44.9949 121.627 43.0871 123.911 40.301C126.195 37.515 127.442 34.0231 127.44 30.4205C127.44 28.3772 127.038 26.3539 126.255 24.4664C125.473 22.5788 124.326 20.8642 122.88 19.4205ZM19.42 100.86C16.8725 103.408 15.2872 106.76 14.9342 110.345C14.5813 113.93 15.4826 117.527 17.4844 120.522C19.4863 123.518 22.4649 125.726 25.9127 126.771C29.3604 127.816 33.0638 127.633 36.3918 126.254C39.7198 124.874 42.4664 122.383 44.1635 119.205C45.8606 116.027 46.4032 112.359 45.6988 108.826C44.9944 105.293 43.0866 102.114 40.3006 99.8296C37.5145 97.5455 34.0227 96.2983 30.42 96.3005C26.2938 96.3018 22.337 97.9421 19.42 100.86ZM100.86 100.86C98.3125 103.408 96.7272 106.76 96.3742 110.345C96.0213 113.93 96.9226 117.527 98.9244 120.522C100.926 123.518 103.905 125.726 107.353 126.771C110.8 127.816 114.504 127.633 117.832 126.254C121.16 124.874 123.906 122.383 125.604 119.205C127.301 116.027 127.843 112.359 127.139 108.826C126.434 105.293 124.527 102.114 121.741 99.8296C118.955 97.5455 115.463 96.2983 111.86 96.3005C109.817 96.299 107.793 96.701 105.905 97.4835C104.018 98.2661 102.303 99.4136 100.86 100.86Z\" fill=\"#00AEEF\"/>\n",
       "    </g>\n",
       "    <defs>\n",
       "        <clipPath id=\"clip0_4338_178347\">\n",
       "            <rect width=\"566.93\" height=\"223.75\" fill=\"white\"/>\n",
       "        </clipPath>\n",
       "    </defs>\n",
       "  </svg>\n",
       "</div>\n",
       "\n",
       "        <table class=\"jp-RenderedHTMLCommon\" style=\"border-collapse: collapse;color: var(--jp-ui-font-color1);font-size: var(--jp-ui-font-size1);\">\n",
       "    <tr>\n",
       "        <td style=\"text-align: left\"><b>Python version:</b></td>\n",
       "        <td style=\"text-align: left\"><b>3.9.16</b></td>\n",
       "    </tr>\n",
       "    <tr>\n",
       "        <td style=\"text-align: left\"><b>Ray version:</b></td>\n",
       "        <td style=\"text-align: left\"><b>2.7.0</b></td>\n",
       "    </tr>\n",
       "    <tr>\n",
       "    <td style=\"text-align: left\"><b>Dashboard:</b></td>\n",
       "    <td style=\"text-align: left\"><b><a href=\"http://127.0.0.1:8265\" target=\"_blank\">http://127.0.0.1:8265</a></b></td>\n",
       "</tr>\n",
       "\n",
       "</table>\n",
       "\n",
       "    </div>\n",
       "</div>\n"
      ],
      "text/plain": [
       "RayContext(dashboard_url='127.0.0.1:8265', python_version='3.9.16', ray_version='2.7.0', ray_commit='b4bba4717f5ba04ee25580fe8f88eed63ef0c5dc', protocol_version=None)"
      ]
     },
     "execution_count": 15,
     "metadata": {},
     "output_type": "execute_result"
    }
   ],
   "source": [
    "ray.init(log_to_driver=False)"
   ]
  },
  {
   "cell_type": "code",
   "execution_count": 16,
   "id": "a37731f4-a52b-4748-bf3b-4c3d1513edac",
   "metadata": {},
   "outputs": [
    {
     "data": {
      "text/html": [
       "<div class=\"tuneStatus\">\n",
       "  <div style=\"display: flex;flex-direction: row\">\n",
       "    <div style=\"display: flex;flex-direction: column;\">\n",
       "      <h3>Tune Status</h3>\n",
       "      <table>\n",
       "<tbody>\n",
       "<tr><td>Current time:</td><td>2025-01-07 10:18:32</td></tr>\n",
       "<tr><td>Running for: </td><td>00:01:36.23        </td></tr>\n",
       "<tr><td>Memory:      </td><td>41.0/503.5 GiB     </td></tr>\n",
       "</tbody>\n",
       "</table>\n",
       "    </div>\n",
       "    <div class=\"vDivider\"></div>\n",
       "    <div class=\"systemInfo\">\n",
       "      <h3>System Info</h3>\n",
       "      Using AsyncHyperBand: num_stopped=85<br>Bracket: Iter 64.000: None | Iter 32.000: None | Iter 16.000: -706.1358032226562 | Iter 8.000: -727.4777221679688 | Iter 4.000: -765.3992614746094 | Iter 2.000: -830.7921752929688 | Iter 1.000: -1068.6889038085938<br>Logical resource usage: 0/128 CPUs, 1.0/2 GPUs (0.0/1.0 accelerator_type:RTX)\n",
       "    </div>\n",
       "    \n",
       "  </div>\n",
       "  <div class=\"hDivider\"></div>\n",
       "  <div class=\"trialStatus\">\n",
       "    <h3>Trial Status</h3>\n",
       "    <table>\n",
       "<thead>\n",
       "<tr><th>Trial name         </th><th>status    </th><th>loc                 </th><th style=\"text-align: right;\">  n_latent</th><th style=\"text-align: right;\">  n_hidden</th><th style=\"text-align: right;\">  n_layers</th><th style=\"text-align: right;\">         lr</th><th>gene_likelihood  </th><th style=\"text-align: right;\">  validation_loss</th></tr>\n",
       "</thead>\n",
       "<tbody>\n",
       "<tr><td>_trainable_3cfa23fa</td><td>TERMINATED</td><td>163.1.64.158:3636871</td><td style=\"text-align: right;\">        50</td><td style=\"text-align: right;\">       256</td><td style=\"text-align: right;\">         2</td><td style=\"text-align: right;\">0.0076308  </td><td>nb               </td><td style=\"text-align: right;\">          730.406</td></tr>\n",
       "<tr><td>_trainable_5578ed4d</td><td>TERMINATED</td><td>163.1.64.158:3637698</td><td style=\"text-align: right;\">        10</td><td style=\"text-align: right;\">       128</td><td style=\"text-align: right;\">         2</td><td style=\"text-align: right;\">0.00320189 </td><td>zinb             </td><td style=\"text-align: right;\">          751.777</td></tr>\n",
       "<tr><td>_trainable_d2165915</td><td>TERMINATED</td><td>163.1.64.158:3637698</td><td style=\"text-align: right;\">        30</td><td style=\"text-align: right;\">       256</td><td style=\"text-align: right;\">         2</td><td style=\"text-align: right;\">0.00458294 </td><td>nb               </td><td style=\"text-align: right;\">          710.314</td></tr>\n",
       "<tr><td>_trainable_fbc6193c</td><td>TERMINATED</td><td>163.1.64.158:3636871</td><td style=\"text-align: right;\">        30</td><td style=\"text-align: right;\">       128</td><td style=\"text-align: right;\">         1</td><td style=\"text-align: right;\">0.00271074 </td><td>nb               </td><td style=\"text-align: right;\">          681.974</td></tr>\n",
       "<tr><td>_trainable_9942ba95</td><td>TERMINATED</td><td>163.1.64.158:3637698</td><td style=\"text-align: right;\">        30</td><td style=\"text-align: right;\">       128</td><td style=\"text-align: right;\">         2</td><td style=\"text-align: right;\">0.00326642 </td><td>nb               </td><td style=\"text-align: right;\">          785.122</td></tr>\n",
       "<tr><td>_trainable_9cd2c45e</td><td>TERMINATED</td><td>163.1.64.158:3637698</td><td style=\"text-align: right;\">        10</td><td style=\"text-align: right;\">        60</td><td style=\"text-align: right;\">         1</td><td style=\"text-align: right;\">0.000170821</td><td>zinb             </td><td style=\"text-align: right;\">         1252.33 </td></tr>\n",
       "<tr><td>_trainable_f7cfdaed</td><td>TERMINATED</td><td>163.1.64.158:3636871</td><td style=\"text-align: right;\">        10</td><td style=\"text-align: right;\">        60</td><td style=\"text-align: right;\">         3</td><td style=\"text-align: right;\">0.000490284</td><td>nb               </td><td style=\"text-align: right;\">         1567.33 </td></tr>\n",
       "<tr><td>_trainable_5d06ae52</td><td>TERMINATED</td><td>163.1.64.158:3637698</td><td style=\"text-align: right;\">        10</td><td style=\"text-align: right;\">       128</td><td style=\"text-align: right;\">         1</td><td style=\"text-align: right;\">0.000283375</td><td>nb               </td><td style=\"text-align: right;\">         1128.28 </td></tr>\n",
       "<tr><td>_trainable_b196523c</td><td>TERMINATED</td><td>163.1.64.158:3636871</td><td style=\"text-align: right;\">        30</td><td style=\"text-align: right;\">       128</td><td style=\"text-align: right;\">         3</td><td style=\"text-align: right;\">0.00164982 </td><td>nb               </td><td style=\"text-align: right;\">          978.858</td></tr>\n",
       "<tr><td>_trainable_9bc94873</td><td>TERMINATED</td><td>163.1.64.158:3637698</td><td style=\"text-align: right;\">        50</td><td style=\"text-align: right;\">       256</td><td style=\"text-align: right;\">         3</td><td style=\"text-align: right;\">0.00060809 </td><td>zinb             </td><td style=\"text-align: right;\">         1061.94 </td></tr>\n",
       "<tr><td>_trainable_505b98a2</td><td>TERMINATED</td><td>163.1.64.158:3636871</td><td style=\"text-align: right;\">        30</td><td style=\"text-align: right;\">       128</td><td style=\"text-align: right;\">         2</td><td style=\"text-align: right;\">0.000169173</td><td>nb               </td><td style=\"text-align: right;\">         1152.59 </td></tr>\n",
       "<tr><td>_trainable_d014e08e</td><td>TERMINATED</td><td>163.1.64.158:3637698</td><td style=\"text-align: right;\">        50</td><td style=\"text-align: right;\">       128</td><td style=\"text-align: right;\">         3</td><td style=\"text-align: right;\">0.00107064 </td><td>nb               </td><td style=\"text-align: right;\">         1221.08 </td></tr>\n",
       "<tr><td>_trainable_d19ba775</td><td>TERMINATED</td><td>163.1.64.158:3636871</td><td style=\"text-align: right;\">        50</td><td style=\"text-align: right;\">       256</td><td style=\"text-align: right;\">         1</td><td style=\"text-align: right;\">0.000165371</td><td>nb               </td><td style=\"text-align: right;\">         1302.34 </td></tr>\n",
       "<tr><td>_trainable_8c4682bb</td><td>TERMINATED</td><td>163.1.64.158:3636871</td><td style=\"text-align: right;\">        30</td><td style=\"text-align: right;\">       128</td><td style=\"text-align: right;\">         1</td><td style=\"text-align: right;\">0.000409233</td><td>nb               </td><td style=\"text-align: right;\">         1076.31 </td></tr>\n",
       "<tr><td>_trainable_2fb60b65</td><td>TERMINATED</td><td>163.1.64.158:3637698</td><td style=\"text-align: right;\">        10</td><td style=\"text-align: right;\">       256</td><td style=\"text-align: right;\">         3</td><td style=\"text-align: right;\">0.000120605</td><td>nb               </td><td style=\"text-align: right;\">         1403.49 </td></tr>\n",
       "<tr><td>_trainable_c37c5832</td><td>TERMINATED</td><td>163.1.64.158:3637698</td><td style=\"text-align: right;\">        50</td><td style=\"text-align: right;\">       128</td><td style=\"text-align: right;\">         1</td><td style=\"text-align: right;\">0.00024034 </td><td>zinb             </td><td style=\"text-align: right;\">          913.548</td></tr>\n",
       "<tr><td>_trainable_dc4d47be</td><td>TERMINATED</td><td>163.1.64.158:3636871</td><td style=\"text-align: right;\">        30</td><td style=\"text-align: right;\">        60</td><td style=\"text-align: right;\">         1</td><td style=\"text-align: right;\">0.000499938</td><td>nb               </td><td style=\"text-align: right;\">         1373.53 </td></tr>\n",
       "<tr><td>_trainable_851e0f3d</td><td>TERMINATED</td><td>163.1.64.158:3636871</td><td style=\"text-align: right;\">        30</td><td style=\"text-align: right;\">       128</td><td style=\"text-align: right;\">         3</td><td style=\"text-align: right;\">0.000947093</td><td>nb               </td><td style=\"text-align: right;\">          833.541</td></tr>\n",
       "<tr><td>_trainable_dc132fe3</td><td>TERMINATED</td><td>163.1.64.158:3637698</td><td style=\"text-align: right;\">        10</td><td style=\"text-align: right;\">        60</td><td style=\"text-align: right;\">         2</td><td style=\"text-align: right;\">0.000220737</td><td>zinb             </td><td style=\"text-align: right;\">         1416.67 </td></tr>\n",
       "<tr><td>_trainable_8a36832c</td><td>TERMINATED</td><td>163.1.64.158:3637698</td><td style=\"text-align: right;\">        50</td><td style=\"text-align: right;\">       256</td><td style=\"text-align: right;\">         2</td><td style=\"text-align: right;\">0.00179388 </td><td>zinb             </td><td style=\"text-align: right;\">          705.55 </td></tr>\n",
       "<tr><td>_trainable_ce36e4ab</td><td>TERMINATED</td><td>163.1.64.158:3636871</td><td style=\"text-align: right;\">        30</td><td style=\"text-align: right;\">       256</td><td style=\"text-align: right;\">         1</td><td style=\"text-align: right;\">0.00807899 </td><td>nb               </td><td style=\"text-align: right;\">         1248.09 </td></tr>\n",
       "<tr><td>_trainable_7e08f0e4</td><td>TERMINATED</td><td>163.1.64.158:3636871</td><td style=\"text-align: right;\">        30</td><td style=\"text-align: right;\">       256</td><td style=\"text-align: right;\">         2</td><td style=\"text-align: right;\">0.00481827 </td><td>nb               </td><td style=\"text-align: right;\">          787.183</td></tr>\n",
       "<tr><td>_trainable_f5decf44</td><td>TERMINATED</td><td>163.1.64.158:3636871</td><td style=\"text-align: right;\">        30</td><td style=\"text-align: right;\">       256</td><td style=\"text-align: right;\">         1</td><td style=\"text-align: right;\">0.00493564 </td><td>nb               </td><td style=\"text-align: right;\">          750.482</td></tr>\n",
       "<tr><td>_trainable_83d76d17</td><td>TERMINATED</td><td>163.1.64.158:3636871</td><td style=\"text-align: right;\">        30</td><td style=\"text-align: right;\">       256</td><td style=\"text-align: right;\">         2</td><td style=\"text-align: right;\">0.00233623 </td><td>nb               </td><td style=\"text-align: right;\">          842.16 </td></tr>\n",
       "<tr><td>_trainable_a0d3a6ed</td><td>TERMINATED</td><td>163.1.64.158:3636871</td><td style=\"text-align: right;\">        30</td><td style=\"text-align: right;\">       128</td><td style=\"text-align: right;\">         2</td><td style=\"text-align: right;\">0.00542296 </td><td>nb               </td><td style=\"text-align: right;\">         1464.25 </td></tr>\n",
       "<tr><td>_trainable_ac1de51e</td><td>TERMINATED</td><td>163.1.64.158:3636871</td><td style=\"text-align: right;\">        30</td><td style=\"text-align: right;\">       256</td><td style=\"text-align: right;\">         1</td><td style=\"text-align: right;\">0.00934041 </td><td>nb               </td><td style=\"text-align: right;\">         1776.48 </td></tr>\n",
       "<tr><td>_trainable_198e2a68</td><td>TERMINATED</td><td>163.1.64.158:3636871</td><td style=\"text-align: right;\">        30</td><td style=\"text-align: right;\">        60</td><td style=\"text-align: right;\">         1</td><td style=\"text-align: right;\">0.00337455 </td><td>nb               </td><td style=\"text-align: right;\">          808.247</td></tr>\n",
       "<tr><td>_trainable_93baadb4</td><td>TERMINATED</td><td>163.1.64.158:3636871</td><td style=\"text-align: right;\">        30</td><td style=\"text-align: right;\">       128</td><td style=\"text-align: right;\">         2</td><td style=\"text-align: right;\">0.000985706</td><td>nb               </td><td style=\"text-align: right;\">         1070.62 </td></tr>\n",
       "<tr><td>_trainable_322172f1</td><td>TERMINATED</td><td>163.1.64.158:3636871</td><td style=\"text-align: right;\">        30</td><td style=\"text-align: right;\">       256</td><td style=\"text-align: right;\">         2</td><td style=\"text-align: right;\">0.00140809 </td><td>nb               </td><td style=\"text-align: right;\">         1260.89 </td></tr>\n",
       "<tr><td>_trainable_b46f9144</td><td>TERMINATED</td><td>163.1.64.158:3636871</td><td style=\"text-align: right;\">        30</td><td style=\"text-align: right;\">       256</td><td style=\"text-align: right;\">         1</td><td style=\"text-align: right;\">0.0057853  </td><td>zinb             </td><td style=\"text-align: right;\">         1415.81 </td></tr>\n",
       "<tr><td>_trainable_bae28ef6</td><td>TERMINATED</td><td>163.1.64.158:3636871</td><td style=\"text-align: right;\">        30</td><td style=\"text-align: right;\">       128</td><td style=\"text-align: right;\">         2</td><td style=\"text-align: right;\">0.00201729 </td><td>nb               </td><td style=\"text-align: right;\">          831.133</td></tr>\n",
       "<tr><td>_trainable_6512a098</td><td>TERMINATED</td><td>163.1.64.158:3637698</td><td style=\"text-align: right;\">        30</td><td style=\"text-align: right;\">        60</td><td style=\"text-align: right;\">         2</td><td style=\"text-align: right;\">0.0027818  </td><td>nb               </td><td style=\"text-align: right;\">          743.576</td></tr>\n",
       "<tr><td>_trainable_8739c41e</td><td>TERMINATED</td><td>163.1.64.158:3636871</td><td style=\"text-align: right;\">        50</td><td style=\"text-align: right;\">       256</td><td style=\"text-align: right;\">         2</td><td style=\"text-align: right;\">0.000705813</td><td>zinb             </td><td style=\"text-align: right;\">         1221.08 </td></tr>\n",
       "<tr><td>_trainable_991da654</td><td>TERMINATED</td><td>163.1.64.158:3636871</td><td style=\"text-align: right;\">        50</td><td style=\"text-align: right;\">       128</td><td style=\"text-align: right;\">         1</td><td style=\"text-align: right;\">0.00150639 </td><td>zinb             </td><td style=\"text-align: right;\">          689.376</td></tr>\n",
       "<tr><td>_trainable_7b348fa1</td><td>TERMINATED</td><td>163.1.64.158:3637698</td><td style=\"text-align: right;\">        50</td><td style=\"text-align: right;\">       256</td><td style=\"text-align: right;\">         2</td><td style=\"text-align: right;\">0.00345594 </td><td>zinb             </td><td style=\"text-align: right;\">          745.629</td></tr>\n",
       "<tr><td>_trainable_819f3ee9</td><td>TERMINATED</td><td>163.1.64.158:3637698</td><td style=\"text-align: right;\">        50</td><td style=\"text-align: right;\">       128</td><td style=\"text-align: right;\">         1</td><td style=\"text-align: right;\">0.00680813 </td><td>zinb             </td><td style=\"text-align: right;\">          724.104</td></tr>\n",
       "<tr><td>_trainable_44b65218</td><td>TERMINATED</td><td>163.1.64.158:3636871</td><td style=\"text-align: right;\">        50</td><td style=\"text-align: right;\">        60</td><td style=\"text-align: right;\">         2</td><td style=\"text-align: right;\">0.00199086 </td><td>zinb             </td><td style=\"text-align: right;\">         1322.3  </td></tr>\n",
       "<tr><td>_trainable_7d9f5245</td><td>TERMINATED</td><td>163.1.64.158:3636871</td><td style=\"text-align: right;\">        10</td><td style=\"text-align: right;\">       128</td><td style=\"text-align: right;\">         1</td><td style=\"text-align: right;\">0.00118876 </td><td>zinb             </td><td style=\"text-align: right;\">          715.016</td></tr>\n",
       "<tr><td>_trainable_ba17b6ba</td><td>TERMINATED</td><td>163.1.64.158:3637698</td><td style=\"text-align: right;\">        50</td><td style=\"text-align: right;\">       128</td><td style=\"text-align: right;\">         1</td><td style=\"text-align: right;\">0.000756995</td><td>zinb             </td><td style=\"text-align: right;\">          961.479</td></tr>\n",
       "<tr><td>_trainable_46903624</td><td>TERMINATED</td><td>163.1.64.158:3637698</td><td style=\"text-align: right;\">        50</td><td style=\"text-align: right;\">       128</td><td style=\"text-align: right;\">         1</td><td style=\"text-align: right;\">0.00265759 </td><td>zinb             </td><td style=\"text-align: right;\">          688.098</td></tr>\n",
       "<tr><td>_trainable_19d4a88b</td><td>TERMINATED</td><td>163.1.64.158:3636871</td><td style=\"text-align: right;\">        10</td><td style=\"text-align: right;\">       128</td><td style=\"text-align: right;\">         1</td><td style=\"text-align: right;\">0.00141357 </td><td>zinb             </td><td style=\"text-align: right;\">          794.807</td></tr>\n",
       "<tr><td>_trainable_bcc9c253</td><td>TERMINATED</td><td>163.1.64.158:3636871</td><td style=\"text-align: right;\">        50</td><td style=\"text-align: right;\">       128</td><td style=\"text-align: right;\">         1</td><td style=\"text-align: right;\">0.00379557 </td><td>zinb             </td><td style=\"text-align: right;\">          719.703</td></tr>\n",
       "<tr><td>_trainable_7ea40911</td><td>TERMINATED</td><td>163.1.64.158:3637698</td><td style=\"text-align: right;\">        50</td><td style=\"text-align: right;\">       128</td><td style=\"text-align: right;\">         3</td><td style=\"text-align: right;\">0.000441917</td><td>zinb             </td><td style=\"text-align: right;\">         1068.47 </td></tr>\n",
       "<tr><td>_trainable_1ae8eddc</td><td>TERMINATED</td><td>163.1.64.158:3637698</td><td style=\"text-align: right;\">        10</td><td style=\"text-align: right;\">       128</td><td style=\"text-align: right;\">         1</td><td style=\"text-align: right;\">0.00248846 </td><td>zinb             </td><td style=\"text-align: right;\">          706.794</td></tr>\n",
       "<tr><td>_trainable_a82587cd</td><td>TERMINATED</td><td>163.1.64.158:3636871</td><td style=\"text-align: right;\">        50</td><td style=\"text-align: right;\">       128</td><td style=\"text-align: right;\">         1</td><td style=\"text-align: right;\">0.00405009 </td><td>zinb             </td><td style=\"text-align: right;\">          688.821</td></tr>\n",
       "<tr><td>_trainable_4109ed26</td><td>TERMINATED</td><td>163.1.64.158:3637698</td><td style=\"text-align: right;\">        10</td><td style=\"text-align: right;\">       128</td><td style=\"text-align: right;\">         3</td><td style=\"text-align: right;\">0.00285914 </td><td>zinb             </td><td style=\"text-align: right;\">          778.942</td></tr>\n",
       "<tr><td>_trainable_ded72ad6</td><td>TERMINATED</td><td>163.1.64.158:3636871</td><td style=\"text-align: right;\">        50</td><td style=\"text-align: right;\">       128</td><td style=\"text-align: right;\">         1</td><td style=\"text-align: right;\">0.000308016</td><td>nb               </td><td style=\"text-align: right;\">         1206.53 </td></tr>\n",
       "<tr><td>_trainable_6dfe735c</td><td>TERMINATED</td><td>163.1.64.158:3636871</td><td style=\"text-align: right;\">        50</td><td style=\"text-align: right;\">        60</td><td style=\"text-align: right;\">         1</td><td style=\"text-align: right;\">0.00681335 </td><td>zinb             </td><td style=\"text-align: right;\">          738.493</td></tr>\n",
       "<tr><td>_trainable_872062bf</td><td>TERMINATED</td><td>163.1.64.158:3637698</td><td style=\"text-align: right;\">        10</td><td style=\"text-align: right;\">       128</td><td style=\"text-align: right;\">         3</td><td style=\"text-align: right;\">0.00995037 </td><td>nb               </td><td style=\"text-align: right;\">         1562.32 </td></tr>\n",
       "<tr><td>_trainable_9e7b31f9</td><td>TERMINATED</td><td>163.1.64.158:3637698</td><td style=\"text-align: right;\">        50</td><td style=\"text-align: right;\">       128</td><td style=\"text-align: right;\">         1</td><td style=\"text-align: right;\">0.000820033</td><td>zinb             </td><td style=\"text-align: right;\">          736.653</td></tr>\n",
       "<tr><td>_trainable_5c791a05</td><td>TERMINATED</td><td>163.1.64.158:3636871</td><td style=\"text-align: right;\">        30</td><td style=\"text-align: right;\">       128</td><td style=\"text-align: right;\">         1</td><td style=\"text-align: right;\">0.00128259 </td><td>nb               </td><td style=\"text-align: right;\">          787.716</td></tr>\n",
       "<tr><td>_trainable_22a5f3dc</td><td>TERMINATED</td><td>163.1.64.158:3637698</td><td style=\"text-align: right;\">        50</td><td style=\"text-align: right;\">        60</td><td style=\"text-align: right;\">         3</td><td style=\"text-align: right;\">0.0043201  </td><td>nb               </td><td style=\"text-align: right;\">          864.527</td></tr>\n",
       "<tr><td>_trainable_c0be1818</td><td>TERMINATED</td><td>163.1.64.158:3636871</td><td style=\"text-align: right;\">        10</td><td style=\"text-align: right;\">       128</td><td style=\"text-align: right;\">         1</td><td style=\"text-align: right;\">0.00178589 </td><td>zinb             </td><td style=\"text-align: right;\">          703.975</td></tr>\n",
       "<tr><td>_trainable_10ac2008</td><td>TERMINATED</td><td>163.1.64.158:3637698</td><td style=\"text-align: right;\">        30</td><td style=\"text-align: right;\">       128</td><td style=\"text-align: right;\">         1</td><td style=\"text-align: right;\">0.00239356 </td><td>nb               </td><td style=\"text-align: right;\">          807.984</td></tr>\n",
       "<tr><td>_trainable_7af4e703</td><td>TERMINATED</td><td>163.1.64.158:3637698</td><td style=\"text-align: right;\">        50</td><td style=\"text-align: right;\">        60</td><td style=\"text-align: right;\">         1</td><td style=\"text-align: right;\">0.00770064 </td><td>nb               </td><td style=\"text-align: right;\">         1681.85 </td></tr>\n",
       "<tr><td>_trainable_c6967be2</td><td>TERMINATED</td><td>163.1.64.158:3637698</td><td style=\"text-align: right;\">        30</td><td style=\"text-align: right;\">       128</td><td style=\"text-align: right;\">         3</td><td style=\"text-align: right;\">0.000601949</td><td>zinb             </td><td style=\"text-align: right;\">         1222.19 </td></tr>\n",
       "<tr><td>_trainable_2760327c</td><td>TERMINATED</td><td>163.1.64.158:3637698</td><td style=\"text-align: right;\">        30</td><td style=\"text-align: right;\">       128</td><td style=\"text-align: right;\">         1</td><td style=\"text-align: right;\">0.000105095</td><td>nb               </td><td style=\"text-align: right;\">         1281.52 </td></tr>\n",
       "<tr><td>_trainable_92f7f23b</td><td>TERMINATED</td><td>163.1.64.158:3637698</td><td style=\"text-align: right;\">        50</td><td style=\"text-align: right;\">       128</td><td style=\"text-align: right;\">         1</td><td style=\"text-align: right;\">0.000328057</td><td>nb               </td><td style=\"text-align: right;\">          993.759</td></tr>\n",
       "<tr><td>_trainable_14c38671</td><td>TERMINATED</td><td>163.1.64.158:3637698</td><td style=\"text-align: right;\">        30</td><td style=\"text-align: right;\">        60</td><td style=\"text-align: right;\">         1</td><td style=\"text-align: right;\">0.00575768 </td><td>zinb             </td><td style=\"text-align: right;\">          738.848</td></tr>\n",
       "<tr><td>_trainable_3fed53ad</td><td>TERMINATED</td><td>163.1.64.158:3637698</td><td style=\"text-align: right;\">        10</td><td style=\"text-align: right;\">       128</td><td style=\"text-align: right;\">         3</td><td style=\"text-align: right;\">0.00312571 </td><td>nb               </td><td style=\"text-align: right;\">         1319.37 </td></tr>\n",
       "<tr><td>_trainable_0c4c809a</td><td>TERMINATED</td><td>163.1.64.158:3637698</td><td style=\"text-align: right;\">        30</td><td style=\"text-align: right;\">       128</td><td style=\"text-align: right;\">         1</td><td style=\"text-align: right;\">0.00212905 </td><td>zinb             </td><td style=\"text-align: right;\">          735.745</td></tr>\n",
       "<tr><td>_trainable_dd21bcc0</td><td>TERMINATED</td><td>163.1.64.158:3637698</td><td style=\"text-align: right;\">        50</td><td style=\"text-align: right;\">       128</td><td style=\"text-align: right;\">         1</td><td style=\"text-align: right;\">0.00102796 </td><td>nb               </td><td style=\"text-align: right;\">          864.766</td></tr>\n",
       "<tr><td>_trainable_28c9416f</td><td>TERMINATED</td><td>163.1.64.158:3636871</td><td style=\"text-align: right;\">        30</td><td style=\"text-align: right;\">        60</td><td style=\"text-align: right;\">         1</td><td style=\"text-align: right;\">0.000866578</td><td>nb               </td><td style=\"text-align: right;\">         1194.71 </td></tr>\n",
       "<tr><td>_trainable_cee8974a</td><td>TERMINATED</td><td>163.1.64.158:3636871</td><td style=\"text-align: right;\">        30</td><td style=\"text-align: right;\">       256</td><td style=\"text-align: right;\">         3</td><td style=\"text-align: right;\">0.000615626</td><td>zinb             </td><td style=\"text-align: right;\">         1000.65 </td></tr>\n",
       "<tr><td>_trainable_209efb66</td><td>TERMINATED</td><td>163.1.64.158:3637698</td><td style=\"text-align: right;\">        50</td><td style=\"text-align: right;\">       128</td><td style=\"text-align: right;\">         1</td><td style=\"text-align: right;\">0.00891631 </td><td>nb               </td><td style=\"text-align: right;\">         2205.26 </td></tr>\n",
       "<tr><td>_trainable_78a9f42a</td><td>TERMINATED</td><td>163.1.64.158:3637698</td><td style=\"text-align: right;\">        50</td><td style=\"text-align: right;\">       128</td><td style=\"text-align: right;\">         1</td><td style=\"text-align: right;\">0.00397897 </td><td>zinb             </td><td style=\"text-align: right;\">          693.51 </td></tr>\n",
       "<tr><td>_trainable_72258a4d</td><td>TERMINATED</td><td>163.1.64.158:3636871</td><td style=\"text-align: right;\">        50</td><td style=\"text-align: right;\">       128</td><td style=\"text-align: right;\">         1</td><td style=\"text-align: right;\">0.00442036 </td><td>zinb             </td><td style=\"text-align: right;\">          741.319</td></tr>\n",
       "<tr><td>_trainable_94d6ebef</td><td>TERMINATED</td><td>163.1.64.158:3636871</td><td style=\"text-align: right;\">        50</td><td style=\"text-align: right;\">       128</td><td style=\"text-align: right;\">         1</td><td style=\"text-align: right;\">0.00173481 </td><td>zinb             </td><td style=\"text-align: right;\">          688.979</td></tr>\n",
       "<tr><td>_trainable_239d4be2</td><td>TERMINATED</td><td>163.1.64.158:3637698</td><td style=\"text-align: right;\">        50</td><td style=\"text-align: right;\">       128</td><td style=\"text-align: right;\">         1</td><td style=\"text-align: right;\">0.00650937 </td><td>zinb             </td><td style=\"text-align: right;\">          711.147</td></tr>\n",
       "<tr><td>_trainable_e6ad80f3</td><td>TERMINATED</td><td>163.1.64.158:3636871</td><td style=\"text-align: right;\">        50</td><td style=\"text-align: right;\">       128</td><td style=\"text-align: right;\">         1</td><td style=\"text-align: right;\">0.00513186 </td><td>zinb             </td><td style=\"text-align: right;\">          715.198</td></tr>\n",
       "<tr><td>_trainable_6a991dfb</td><td>TERMINATED</td><td>163.1.64.158:3637698</td><td style=\"text-align: right;\">        50</td><td style=\"text-align: right;\">       128</td><td style=\"text-align: right;\">         1</td><td style=\"text-align: right;\">0.00117251 </td><td>zinb             </td><td style=\"text-align: right;\">          734.831</td></tr>\n",
       "<tr><td>_trainable_2df2ab06</td><td>TERMINATED</td><td>163.1.64.158:3636871</td><td style=\"text-align: right;\">        50</td><td style=\"text-align: right;\">       128</td><td style=\"text-align: right;\">         1</td><td style=\"text-align: right;\">0.00297061 </td><td>zinb             </td><td style=\"text-align: right;\">          715.662</td></tr>\n",
       "<tr><td>_trainable_c7e38a53</td><td>TERMINATED</td><td>163.1.64.158:3637698</td><td style=\"text-align: right;\">        50</td><td style=\"text-align: right;\">       128</td><td style=\"text-align: right;\">         1</td><td style=\"text-align: right;\">0.00363323 </td><td>zinb             </td><td style=\"text-align: right;\">          707.933</td></tr>\n",
       "<tr><td>_trainable_789f338a</td><td>TERMINATED</td><td>163.1.64.158:3636871</td><td style=\"text-align: right;\">        50</td><td style=\"text-align: right;\">       128</td><td style=\"text-align: right;\">         1</td><td style=\"text-align: right;\">0.0015629  </td><td>zinb             </td><td style=\"text-align: right;\">          690.845</td></tr>\n",
       "<tr><td>_trainable_4b68f9b7</td><td>TERMINATED</td><td>163.1.64.158:3637698</td><td style=\"text-align: right;\">        50</td><td style=\"text-align: right;\">       256</td><td style=\"text-align: right;\">         2</td><td style=\"text-align: right;\">0.00219018 </td><td>zinb             </td><td style=\"text-align: right;\">          702.122</td></tr>\n",
       "<tr><td>_trainable_59c7f3bb</td><td>TERMINATED</td><td>163.1.64.158:3636871</td><td style=\"text-align: right;\">        30</td><td style=\"text-align: right;\">       128</td><td style=\"text-align: right;\">         1</td><td style=\"text-align: right;\">0.00272603 </td><td>zinb             </td><td style=\"text-align: right;\">          734.35 </td></tr>\n",
       "<tr><td>_trainable_861ad33a</td><td>TERMINATED</td><td>163.1.64.158:3637698</td><td style=\"text-align: right;\">        10</td><td style=\"text-align: right;\">       128</td><td style=\"text-align: right;\">         1</td><td style=\"text-align: right;\">0.00868291 </td><td>zinb             </td><td style=\"text-align: right;\">          703.515</td></tr>\n",
       "<tr><td>_trainable_6e1a0a09</td><td>TERMINATED</td><td>163.1.64.158:3636871</td><td style=\"text-align: right;\">        50</td><td style=\"text-align: right;\">        60</td><td style=\"text-align: right;\">         1</td><td style=\"text-align: right;\">0.0041435  </td><td>zinb             </td><td style=\"text-align: right;\">          764.272</td></tr>\n",
       "<tr><td>_trainable_7ceb71d7</td><td>TERMINATED</td><td>163.1.64.158:3636871</td><td style=\"text-align: right;\">        30</td><td style=\"text-align: right;\">       128</td><td style=\"text-align: right;\">         2</td><td style=\"text-align: right;\">0.00629487 </td><td>nb               </td><td style=\"text-align: right;\">         1117.78 </td></tr>\n",
       "<tr><td>_trainable_19d41702</td><td>TERMINATED</td><td>163.1.64.158:3636871</td><td style=\"text-align: right;\">        50</td><td style=\"text-align: right;\">       256</td><td style=\"text-align: right;\">         3</td><td style=\"text-align: right;\">0.00256582 </td><td>zinb             </td><td style=\"text-align: right;\">          866.521</td></tr>\n",
       "<tr><td>_trainable_8ceb8b82</td><td>TERMINATED</td><td>163.1.64.158:3636871</td><td style=\"text-align: right;\">        10</td><td style=\"text-align: right;\">       128</td><td style=\"text-align: right;\">         1</td><td style=\"text-align: right;\">0.00339245 </td><td>nb               </td><td style=\"text-align: right;\">          784.967</td></tr>\n",
       "<tr><td>_trainable_2ba56413</td><td>TERMINATED</td><td>163.1.64.158:3636871</td><td style=\"text-align: right;\">        30</td><td style=\"text-align: right;\">       128</td><td style=\"text-align: right;\">         1</td><td style=\"text-align: right;\">0.00196804 </td><td>zinb             </td><td style=\"text-align: right;\">          770.405</td></tr>\n",
       "<tr><td>_trainable_5ad21efb</td><td>TERMINATED</td><td>163.1.64.158:3636871</td><td style=\"text-align: right;\">        50</td><td style=\"text-align: right;\">       128</td><td style=\"text-align: right;\">         1</td><td style=\"text-align: right;\">0.00759235 </td><td>nb               </td><td style=\"text-align: right;\">         1159.08 </td></tr>\n",
       "<tr><td>_trainable_4c5497b3</td><td>TERMINATED</td><td>163.1.64.158:3636871</td><td style=\"text-align: right;\">        50</td><td style=\"text-align: right;\">        60</td><td style=\"text-align: right;\">         2</td><td style=\"text-align: right;\">0.0046475  </td><td>zinb             </td><td style=\"text-align: right;\">          734.077</td></tr>\n",
       "<tr><td>_trainable_6e6ba1e1</td><td>TERMINATED</td><td>163.1.64.158:3636871</td><td style=\"text-align: right;\">        30</td><td style=\"text-align: right;\">       256</td><td style=\"text-align: right;\">         1</td><td style=\"text-align: right;\">0.00126472 </td><td>zinb             </td><td style=\"text-align: right;\">          852.703</td></tr>\n",
       "<tr><td>_trainable_a0a7df93</td><td>TERMINATED</td><td>163.1.64.158:3637698</td><td style=\"text-align: right;\">        10</td><td style=\"text-align: right;\">       128</td><td style=\"text-align: right;\">         3</td><td style=\"text-align: right;\">0.00563723 </td><td>nb               </td><td style=\"text-align: right;\">         1086.63 </td></tr>\n",
       "<tr><td>_trainable_dc5198ef</td><td>TERMINATED</td><td>163.1.64.158:3637698</td><td style=\"text-align: right;\">        50</td><td style=\"text-align: right;\">       128</td><td style=\"text-align: right;\">         1</td><td style=\"text-align: right;\">0.00491005 </td><td>zinb             </td><td style=\"text-align: right;\">         1142.03 </td></tr>\n",
       "<tr><td>_trainable_85f22f28</td><td>TERMINATED</td><td>163.1.64.158:3636871</td><td style=\"text-align: right;\">        30</td><td style=\"text-align: right;\">       128</td><td style=\"text-align: right;\">         1</td><td style=\"text-align: right;\">0.00314303 </td><td>nb               </td><td style=\"text-align: right;\">          837.867</td></tr>\n",
       "<tr><td>_trainable_12927bbe</td><td>TERMINATED</td><td>163.1.64.158:3637698</td><td style=\"text-align: right;\">        50</td><td style=\"text-align: right;\">        60</td><td style=\"text-align: right;\">         2</td><td style=\"text-align: right;\">0.00140899 </td><td>zinb             </td><td style=\"text-align: right;\">         1212.01 </td></tr>\n",
       "<tr><td>_trainable_4c6d11f2</td><td>TERMINATED</td><td>163.1.64.158:3636871</td><td style=\"text-align: right;\">        30</td><td style=\"text-align: right;\">       128</td><td style=\"text-align: right;\">         1</td><td style=\"text-align: right;\">0.000920134</td><td>nb               </td><td style=\"text-align: right;\">          944.89 </td></tr>\n",
       "<tr><td>_trainable_f6677594</td><td>TERMINATED</td><td>163.1.64.158:3637698</td><td style=\"text-align: right;\">        50</td><td style=\"text-align: right;\">       256</td><td style=\"text-align: right;\">         3</td><td style=\"text-align: right;\">0.000138521</td><td>zinb             </td><td style=\"text-align: right;\">         1263.96 </td></tr>\n",
       "<tr><td>_trainable_6f592feb</td><td>TERMINATED</td><td>163.1.64.158:3636871</td><td style=\"text-align: right;\">        10</td><td style=\"text-align: right;\">       128</td><td style=\"text-align: right;\">         1</td><td style=\"text-align: right;\">0.00233421 </td><td>nb               </td><td style=\"text-align: right;\">          659.156</td></tr>\n",
       "<tr><td>_trainable_8a913c3a</td><td>TERMINATED</td><td>163.1.64.158:3637698</td><td style=\"text-align: right;\">        30</td><td style=\"text-align: right;\">       128</td><td style=\"text-align: right;\">         1</td><td style=\"text-align: right;\">0.00165638 </td><td>zinb             </td><td style=\"text-align: right;\">          767.912</td></tr>\n",
       "<tr><td>_trainable_afa74e00</td><td>TERMINATED</td><td>163.1.64.158:3637698</td><td style=\"text-align: right;\">        50</td><td style=\"text-align: right;\">       128</td><td style=\"text-align: right;\">         1</td><td style=\"text-align: right;\">0.00375444 </td><td>nb               </td><td style=\"text-align: right;\">          706.136</td></tr>\n",
       "<tr><td>_trainable_203ebfda</td><td>TERMINATED</td><td>163.1.64.158:3637698</td><td style=\"text-align: right;\">        30</td><td style=\"text-align: right;\">        60</td><td style=\"text-align: right;\">         2</td><td style=\"text-align: right;\">0.000670895</td><td>zinb             </td><td style=\"text-align: right;\">         1260.12 </td></tr>\n",
       "<tr><td>_trainable_c165888b</td><td>TERMINATED</td><td>163.1.64.158:3637698</td><td style=\"text-align: right;\">        50</td><td style=\"text-align: right;\">       128</td><td style=\"text-align: right;\">         1</td><td style=\"text-align: right;\">0.00112975 </td><td>zinb             </td><td style=\"text-align: right;\">          780.295</td></tr>\n",
       "<tr><td>_trainable_56441155</td><td>TERMINATED</td><td>163.1.64.158:3637698</td><td style=\"text-align: right;\">        50</td><td style=\"text-align: right;\">       256</td><td style=\"text-align: right;\">         3</td><td style=\"text-align: right;\">0.00273021 </td><td>nb               </td><td style=\"text-align: right;\">         1106.72 </td></tr>\n",
       "<tr><td>_trainable_b3e592c0</td><td>TERMINATED</td><td>163.1.64.158:3637698</td><td style=\"text-align: right;\">        10</td><td style=\"text-align: right;\">       128</td><td style=\"text-align: right;\">         1</td><td style=\"text-align: right;\">0.000370385</td><td>zinb             </td><td style=\"text-align: right;\">          962.741</td></tr>\n",
       "<tr><td>_trainable_5d8100a6</td><td>TERMINATED</td><td>163.1.64.158:3636871</td><td style=\"text-align: right;\">        30</td><td style=\"text-align: right;\">       128</td><td style=\"text-align: right;\">         1</td><td style=\"text-align: right;\">0.00196869 </td><td>nb               </td><td style=\"text-align: right;\">          803.119</td></tr>\n",
       "<tr><td>_trainable_529c002f</td><td>TERMINATED</td><td>163.1.64.158:3637698</td><td style=\"text-align: right;\">        10</td><td style=\"text-align: right;\">       128</td><td style=\"text-align: right;\">         1</td><td style=\"text-align: right;\">0.00055891 </td><td>nb               </td><td style=\"text-align: right;\">         1145    </td></tr>\n",
       "</tbody>\n",
       "</table>\n",
       "  </div>\n",
       "</div>\n",
       "<style>\n",
       ".tuneStatus {\n",
       "  color: var(--jp-ui-font-color1);\n",
       "}\n",
       ".tuneStatus .systemInfo {\n",
       "  display: flex;\n",
       "  flex-direction: column;\n",
       "}\n",
       ".tuneStatus td {\n",
       "  white-space: nowrap;\n",
       "}\n",
       ".tuneStatus .trialStatus {\n",
       "  display: flex;\n",
       "  flex-direction: column;\n",
       "}\n",
       ".tuneStatus h3 {\n",
       "  font-weight: bold;\n",
       "}\n",
       ".tuneStatus .hDivider {\n",
       "  border-bottom-width: var(--jp-border-width);\n",
       "  border-bottom-color: var(--jp-border-color0);\n",
       "  border-bottom-style: solid;\n",
       "}\n",
       ".tuneStatus .vDivider {\n",
       "  border-left-width: var(--jp-border-width);\n",
       "  border-left-color: var(--jp-border-color0);\n",
       "  border-left-style: solid;\n",
       "  margin: 0.5em 1em 0.5em 1em;\n",
       "}\n",
       "</style>\n"
      ],
      "text/plain": [
       "<IPython.core.display.HTML object>"
      ]
     },
     "metadata": {},
     "output_type": "display_data"
    },
    {
     "name": "stderr",
     "output_type": "stream",
     "text": [
      "2025-01-07 10:16:55,834\tINFO tune.py:645 -- [output] This uses the legacy output and progress reporter, as Jupyter notebooks are not supported by the new engine, yet. For more information, please see https://github.com/ray-project/ray/issues/36949\n",
      "2025-01-07 10:18:32,100\tINFO tune.py:1143 -- Total run time: 96.27 seconds (96.21 seconds for the tuning loop).\n"
     ]
    }
   ],
   "source": [
    "# run the optimisation\n",
    "\n",
    "results = scvi_tuner.fit(\n",
    "    adata_subset,\n",
    "    metric=\"validation_loss\",\n",
    "    search_space=search_space,\n",
    "    searcher='hyperopt',\n",
    "    num_samples=100,\n",
    "    max_epochs=30,\n",
    "    resources={\"gpu\": 1}\n",
    ")"
   ]
  },
  {
   "cell_type": "markdown",
   "id": "447128f2-05d2-49d3-9d56-8e1ee83bafdb",
   "metadata": {},
   "source": [
    "We are looking for the parameters that give the lowest validation loss"
   ]
  },
  {
   "cell_type": "code",
   "execution_count": 17,
   "id": "71afdd06-f8e5-4973-bdf0-c6268c478a11",
   "metadata": {},
   "outputs": [
    {
     "name": "stdout",
     "output_type": "stream",
     "text": [
      "{'n_latent': 10, 'n_hidden': 128, 'n_layers': 1, 'gene_likelihood': 'nb'}\n",
      "{'plan_kwargs': {'lr': 0.002334205711593849}}\n"
     ]
    }
   ],
   "source": [
    "print(results.model_kwargs)\n",
    "print(results.train_kwargs)"
   ]
  },
  {
   "cell_type": "code",
   "execution_count": 18,
   "id": "42902532-676a-4ee7-815a-2642a38415bf",
   "metadata": {},
   "outputs": [
    {
     "data": {
      "text/html": [
       "<div>\n",
       "<style scoped>\n",
       "    .dataframe tbody tr th:only-of-type {\n",
       "        vertical-align: middle;\n",
       "    }\n",
       "\n",
       "    .dataframe tbody tr th {\n",
       "        vertical-align: top;\n",
       "    }\n",
       "\n",
       "    .dataframe thead th {\n",
       "        text-align: right;\n",
       "    }\n",
       "</style>\n",
       "<table border=\"1\" class=\"dataframe\">\n",
       "  <thead>\n",
       "    <tr style=\"text-align: right;\">\n",
       "      <th></th>\n",
       "      <th>index</th>\n",
       "      <th>validation_loss</th>\n",
       "      <th>timestamp</th>\n",
       "      <th>done</th>\n",
       "      <th>training_iteration</th>\n",
       "      <th>trial_id</th>\n",
       "      <th>date</th>\n",
       "      <th>time_this_iter_s</th>\n",
       "      <th>time_total_s</th>\n",
       "      <th>pid</th>\n",
       "      <th>...</th>\n",
       "      <th>node_ip</th>\n",
       "      <th>time_since_restore</th>\n",
       "      <th>iterations_since_restore</th>\n",
       "      <th>checkpoint_dir_name</th>\n",
       "      <th>config/n_latent</th>\n",
       "      <th>config/n_hidden</th>\n",
       "      <th>config/n_layers</th>\n",
       "      <th>config/lr</th>\n",
       "      <th>config/gene_likelihood</th>\n",
       "      <th>logdir</th>\n",
       "    </tr>\n",
       "  </thead>\n",
       "  <tbody>\n",
       "    <tr>\n",
       "      <th>0</th>\n",
       "      <td>91</td>\n",
       "      <td>659.156250</td>\n",
       "      <td>1736245111</td>\n",
       "      <td>False</td>\n",
       "      <td>30</td>\n",
       "      <td>6f592feb</td>\n",
       "      <td>2025-01-07_10-18-31</td>\n",
       "      <td>0.176357</td>\n",
       "      <td>5.504879</td>\n",
       "      <td>3636871</td>\n",
       "      <td>...</td>\n",
       "      <td>163.1.64.158</td>\n",
       "      <td>5.504879</td>\n",
       "      <td>30</td>\n",
       "      <td>None</td>\n",
       "      <td>10</td>\n",
       "      <td>128</td>\n",
       "      <td>1</td>\n",
       "      <td>0.002334</td>\n",
       "      <td>nb</td>\n",
       "      <td>6f592feb</td>\n",
       "    </tr>\n",
       "    <tr>\n",
       "      <th>1</th>\n",
       "      <td>3</td>\n",
       "      <td>681.973633</td>\n",
       "      <td>1736245034</td>\n",
       "      <td>False</td>\n",
       "      <td>30</td>\n",
       "      <td>fbc6193c</td>\n",
       "      <td>2025-01-07_10-17-14</td>\n",
       "      <td>0.175863</td>\n",
       "      <td>5.780932</td>\n",
       "      <td>3636871</td>\n",
       "      <td>...</td>\n",
       "      <td>163.1.64.158</td>\n",
       "      <td>5.780932</td>\n",
       "      <td>30</td>\n",
       "      <td>None</td>\n",
       "      <td>30</td>\n",
       "      <td>128</td>\n",
       "      <td>1</td>\n",
       "      <td>0.002711</td>\n",
       "      <td>nb</td>\n",
       "      <td>fbc6193c</td>\n",
       "    </tr>\n",
       "    <tr>\n",
       "      <th>2</th>\n",
       "      <td>39</td>\n",
       "      <td>688.098083</td>\n",
       "      <td>1736245059</td>\n",
       "      <td>False</td>\n",
       "      <td>30</td>\n",
       "      <td>46903624</td>\n",
       "      <td>2025-01-07_10-17-39</td>\n",
       "      <td>0.190105</td>\n",
       "      <td>5.962290</td>\n",
       "      <td>3637698</td>\n",
       "      <td>...</td>\n",
       "      <td>163.1.64.158</td>\n",
       "      <td>5.962290</td>\n",
       "      <td>30</td>\n",
       "      <td>None</td>\n",
       "      <td>50</td>\n",
       "      <td>128</td>\n",
       "      <td>1</td>\n",
       "      <td>0.002658</td>\n",
       "      <td>zinb</td>\n",
       "      <td>46903624</td>\n",
       "    </tr>\n",
       "    <tr>\n",
       "      <th>3</th>\n",
       "      <td>44</td>\n",
       "      <td>688.821045</td>\n",
       "      <td>1736245066</td>\n",
       "      <td>False</td>\n",
       "      <td>30</td>\n",
       "      <td>a82587cd</td>\n",
       "      <td>2025-01-07_10-17-46</td>\n",
       "      <td>0.195047</td>\n",
       "      <td>6.312880</td>\n",
       "      <td>3636871</td>\n",
       "      <td>...</td>\n",
       "      <td>163.1.64.158</td>\n",
       "      <td>6.312880</td>\n",
       "      <td>30</td>\n",
       "      <td>None</td>\n",
       "      <td>50</td>\n",
       "      <td>128</td>\n",
       "      <td>1</td>\n",
       "      <td>0.004050</td>\n",
       "      <td>zinb</td>\n",
       "      <td>a82587cd</td>\n",
       "    </tr>\n",
       "    <tr>\n",
       "      <th>4</th>\n",
       "      <td>67</td>\n",
       "      <td>688.979248</td>\n",
       "      <td>1736245084</td>\n",
       "      <td>False</td>\n",
       "      <td>30</td>\n",
       "      <td>94d6ebef</td>\n",
       "      <td>2025-01-07_10-18-04</td>\n",
       "      <td>0.204799</td>\n",
       "      <td>6.156589</td>\n",
       "      <td>3636871</td>\n",
       "      <td>...</td>\n",
       "      <td>163.1.64.158</td>\n",
       "      <td>6.156589</td>\n",
       "      <td>30</td>\n",
       "      <td>None</td>\n",
       "      <td>50</td>\n",
       "      <td>128</td>\n",
       "      <td>1</td>\n",
       "      <td>0.001735</td>\n",
       "      <td>zinb</td>\n",
       "      <td>94d6ebef</td>\n",
       "    </tr>\n",
       "    <tr>\n",
       "      <th>...</th>\n",
       "      <td>...</td>\n",
       "      <td>...</td>\n",
       "      <td>...</td>\n",
       "      <td>...</td>\n",
       "      <td>...</td>\n",
       "      <td>...</td>\n",
       "      <td>...</td>\n",
       "      <td>...</td>\n",
       "      <td>...</td>\n",
       "      <td>...</td>\n",
       "      <td>...</td>\n",
       "      <td>...</td>\n",
       "      <td>...</td>\n",
       "      <td>...</td>\n",
       "      <td>...</td>\n",
       "      <td>...</td>\n",
       "      <td>...</td>\n",
       "      <td>...</td>\n",
       "      <td>...</td>\n",
       "      <td>...</td>\n",
       "      <td>...</td>\n",
       "    </tr>\n",
       "    <tr>\n",
       "      <th>95</th>\n",
       "      <td>48</td>\n",
       "      <td>1562.323730</td>\n",
       "      <td>1736245067</td>\n",
       "      <td>True</td>\n",
       "      <td>1</td>\n",
       "      <td>872062bf</td>\n",
       "      <td>2025-01-07_10-17-47</td>\n",
       "      <td>0.282389</td>\n",
       "      <td>0.282389</td>\n",
       "      <td>3637698</td>\n",
       "      <td>...</td>\n",
       "      <td>163.1.64.158</td>\n",
       "      <td>0.282389</td>\n",
       "      <td>1</td>\n",
       "      <td>None</td>\n",
       "      <td>10</td>\n",
       "      <td>128</td>\n",
       "      <td>3</td>\n",
       "      <td>0.009950</td>\n",
       "      <td>nb</td>\n",
       "      <td>872062bf</td>\n",
       "    </tr>\n",
       "    <tr>\n",
       "      <th>96</th>\n",
       "      <td>6</td>\n",
       "      <td>1567.325195</td>\n",
       "      <td>1736245035</td>\n",
       "      <td>True</td>\n",
       "      <td>1</td>\n",
       "      <td>f7cfdaed</td>\n",
       "      <td>2025-01-07_10-17-15</td>\n",
       "      <td>0.326658</td>\n",
       "      <td>0.326658</td>\n",
       "      <td>3636871</td>\n",
       "      <td>...</td>\n",
       "      <td>163.1.64.158</td>\n",
       "      <td>0.326658</td>\n",
       "      <td>1</td>\n",
       "      <td>None</td>\n",
       "      <td>10</td>\n",
       "      <td>60</td>\n",
       "      <td>3</td>\n",
       "      <td>0.000490</td>\n",
       "      <td>nb</td>\n",
       "      <td>f7cfdaed</td>\n",
       "    </tr>\n",
       "    <tr>\n",
       "      <th>97</th>\n",
       "      <td>54</td>\n",
       "      <td>1681.850952</td>\n",
       "      <td>1736245070</td>\n",
       "      <td>True</td>\n",
       "      <td>1</td>\n",
       "      <td>7af4e703</td>\n",
       "      <td>2025-01-07_10-17-50</td>\n",
       "      <td>0.272115</td>\n",
       "      <td>0.272115</td>\n",
       "      <td>3637698</td>\n",
       "      <td>...</td>\n",
       "      <td>163.1.64.158</td>\n",
       "      <td>0.272115</td>\n",
       "      <td>1</td>\n",
       "      <td>None</td>\n",
       "      <td>50</td>\n",
       "      <td>60</td>\n",
       "      <td>1</td>\n",
       "      <td>0.007701</td>\n",
       "      <td>nb</td>\n",
       "      <td>7af4e703</td>\n",
       "    </tr>\n",
       "    <tr>\n",
       "      <th>98</th>\n",
       "      <td>25</td>\n",
       "      <td>1776.476807</td>\n",
       "      <td>1736245042</td>\n",
       "      <td>True</td>\n",
       "      <td>1</td>\n",
       "      <td>ac1de51e</td>\n",
       "      <td>2025-01-07_10-17-22</td>\n",
       "      <td>0.237393</td>\n",
       "      <td>0.237393</td>\n",
       "      <td>3636871</td>\n",
       "      <td>...</td>\n",
       "      <td>163.1.64.158</td>\n",
       "      <td>0.237393</td>\n",
       "      <td>1</td>\n",
       "      <td>None</td>\n",
       "      <td>30</td>\n",
       "      <td>256</td>\n",
       "      <td>1</td>\n",
       "      <td>0.009340</td>\n",
       "      <td>nb</td>\n",
       "      <td>ac1de51e</td>\n",
       "    </tr>\n",
       "    <tr>\n",
       "      <th>99</th>\n",
       "      <td>64</td>\n",
       "      <td>2205.264404</td>\n",
       "      <td>1736245076</td>\n",
       "      <td>True</td>\n",
       "      <td>1</td>\n",
       "      <td>209efb66</td>\n",
       "      <td>2025-01-07_10-17-56</td>\n",
       "      <td>0.277455</td>\n",
       "      <td>0.277455</td>\n",
       "      <td>3637698</td>\n",
       "      <td>...</td>\n",
       "      <td>163.1.64.158</td>\n",
       "      <td>0.277455</td>\n",
       "      <td>1</td>\n",
       "      <td>None</td>\n",
       "      <td>50</td>\n",
       "      <td>128</td>\n",
       "      <td>1</td>\n",
       "      <td>0.008916</td>\n",
       "      <td>nb</td>\n",
       "      <td>209efb66</td>\n",
       "    </tr>\n",
       "  </tbody>\n",
       "</table>\n",
       "<p>100 rows × 21 columns</p>\n",
       "</div>"
      ],
      "text/plain": [
       "    index  validation_loss   timestamp   done  training_iteration  trial_id  \\\n",
       "0      91       659.156250  1736245111  False                  30  6f592feb   \n",
       "1       3       681.973633  1736245034  False                  30  fbc6193c   \n",
       "2      39       688.098083  1736245059  False                  30  46903624   \n",
       "3      44       688.821045  1736245066  False                  30  a82587cd   \n",
       "4      67       688.979248  1736245084  False                  30  94d6ebef   \n",
       "..    ...              ...         ...    ...                 ...       ...   \n",
       "95     48      1562.323730  1736245067   True                   1  872062bf   \n",
       "96      6      1567.325195  1736245035   True                   1  f7cfdaed   \n",
       "97     54      1681.850952  1736245070   True                   1  7af4e703   \n",
       "98     25      1776.476807  1736245042   True                   1  ac1de51e   \n",
       "99     64      2205.264404  1736245076   True                   1  209efb66   \n",
       "\n",
       "                   date  time_this_iter_s  time_total_s      pid  ...  \\\n",
       "0   2025-01-07_10-18-31          0.176357      5.504879  3636871  ...   \n",
       "1   2025-01-07_10-17-14          0.175863      5.780932  3636871  ...   \n",
       "2   2025-01-07_10-17-39          0.190105      5.962290  3637698  ...   \n",
       "3   2025-01-07_10-17-46          0.195047      6.312880  3636871  ...   \n",
       "4   2025-01-07_10-18-04          0.204799      6.156589  3636871  ...   \n",
       "..                  ...               ...           ...      ...  ...   \n",
       "95  2025-01-07_10-17-47          0.282389      0.282389  3637698  ...   \n",
       "96  2025-01-07_10-17-15          0.326658      0.326658  3636871  ...   \n",
       "97  2025-01-07_10-17-50          0.272115      0.272115  3637698  ...   \n",
       "98  2025-01-07_10-17-22          0.237393      0.237393  3636871  ...   \n",
       "99  2025-01-07_10-17-56          0.277455      0.277455  3637698  ...   \n",
       "\n",
       "         node_ip time_since_restore  iterations_since_restore  \\\n",
       "0   163.1.64.158           5.504879                        30   \n",
       "1   163.1.64.158           5.780932                        30   \n",
       "2   163.1.64.158           5.962290                        30   \n",
       "3   163.1.64.158           6.312880                        30   \n",
       "4   163.1.64.158           6.156589                        30   \n",
       "..           ...                ...                       ...   \n",
       "95  163.1.64.158           0.282389                         1   \n",
       "96  163.1.64.158           0.326658                         1   \n",
       "97  163.1.64.158           0.272115                         1   \n",
       "98  163.1.64.158           0.237393                         1   \n",
       "99  163.1.64.158           0.277455                         1   \n",
       "\n",
       "    checkpoint_dir_name config/n_latent  config/n_hidden  config/n_layers  \\\n",
       "0                  None              10              128                1   \n",
       "1                  None              30              128                1   \n",
       "2                  None              50              128                1   \n",
       "3                  None              50              128                1   \n",
       "4                  None              50              128                1   \n",
       "..                  ...             ...              ...              ...   \n",
       "95                 None              10              128                3   \n",
       "96                 None              10               60                3   \n",
       "97                 None              50               60                1   \n",
       "98                 None              30              256                1   \n",
       "99                 None              50              128                1   \n",
       "\n",
       "    config/lr  config/gene_likelihood    logdir  \n",
       "0    0.002334                      nb  6f592feb  \n",
       "1    0.002711                      nb  fbc6193c  \n",
       "2    0.002658                    zinb  46903624  \n",
       "3    0.004050                    zinb  a82587cd  \n",
       "4    0.001735                    zinb  94d6ebef  \n",
       "..        ...                     ...       ...  \n",
       "95   0.009950                      nb  872062bf  \n",
       "96   0.000490                      nb  f7cfdaed  \n",
       "97   0.007701                      nb  7af4e703  \n",
       "98   0.009340                      nb  ac1de51e  \n",
       "99   0.008916                      nb  209efb66  \n",
       "\n",
       "[100 rows x 21 columns]"
      ]
     },
     "execution_count": 18,
     "metadata": {},
     "output_type": "execute_result"
    }
   ],
   "source": [
    "df = results.results.get_dataframe()\n",
    "df2 = df.sort_values(by = 'validation_loss').reset_index()\n",
    "df2"
   ]
  },
  {
   "cell_type": "code",
   "execution_count": 19,
   "id": "ced5b7df-529a-4f4f-901d-a9d6a913a781",
   "metadata": {},
   "outputs": [
    {
     "name": "stdout",
     "output_type": "stream",
     "text": [
      "Index of optimal parameters\n"
     ]
    },
    {
     "data": {
      "text/plain": [
       "91"
      ]
     },
     "execution_count": 19,
     "metadata": {},
     "output_type": "execute_result"
    }
   ],
   "source": [
    "print(\"Index of optimal parameters\")\n",
    "row_number = df2['index'][0]\n",
    "row_number"
   ]
  },
  {
   "cell_type": "code",
   "execution_count": 20,
   "id": "1aec946b-767c-4c6f-9b8a-97dbeb9ccd44",
   "metadata": {},
   "outputs": [
    {
     "name": "stdout",
     "output_type": "stream",
     "text": [
      "Optimal parameters\n"
     ]
    },
    {
     "data": {
      "text/plain": [
       "validation_loss                       659.15625\n",
       "timestamp                            1736245111\n",
       "done                                      False\n",
       "training_iteration                           30\n",
       "trial_id                               6f592feb\n",
       "date                        2025-01-07_10-18-31\n",
       "time_this_iter_s                       0.176357\n",
       "time_total_s                           5.504879\n",
       "pid                                     3636871\n",
       "hostname                            BRC-89SJ904\n",
       "node_ip                            163.1.64.158\n",
       "time_since_restore                     5.504879\n",
       "iterations_since_restore                     30\n",
       "checkpoint_dir_name                        None\n",
       "config/n_latent                              10\n",
       "config/n_hidden                             128\n",
       "config/n_layers                               1\n",
       "config/lr                              0.002334\n",
       "config/gene_likelihood                       nb\n",
       "logdir                                 6f592feb\n",
       "Name: 91, dtype: object"
      ]
     },
     "execution_count": 20,
     "metadata": {},
     "output_type": "execute_result"
    }
   ],
   "source": [
    "print(\"Optimal parameters\")\n",
    "df.iloc[row_number]"
   ]
  },
  {
   "cell_type": "code",
   "execution_count": 21,
   "id": "08285b61-f200-478d-9370-664bc1a677de",
   "metadata": {},
   "outputs": [],
   "source": [
    "ray.shutdown()"
   ]
  },
  {
   "cell_type": "markdown",
   "id": "406cf9f9-8b80-4fd6-b694-0b7d879ebb4f",
   "metadata": {},
   "source": [
    "### Run scVI using optimised parameters\n",
    "\n"
   ]
  },
  {
   "cell_type": "code",
   "execution_count": 22,
   "id": "aa654f34-584f-4931-998b-95d253d63383",
   "metadata": {},
   "outputs": [
    {
     "name": "stderr",
     "output_type": "stream",
     "text": [
      "/media/prom/apc1/ccohen/mamba_installation/conda/envs/scvi_env/lib/python3.9/site-packages/scvi/data/fields/_layer_field.py:101: UserWarning: Training will be faster when sparse matrix is formatted as CSR. It is safe to cast before model initialization.\n",
      "  _verify_and_correct_data_format(adata, self.attr_name, self.attr_key)\n"
     ]
    }
   ],
   "source": [
    "# set up the adata object\n",
    "scvi.model.SCVI.setup_anndata(adata_subset,\n",
    "                              layer = 'counts',\n",
    "                              batch_key = \"patient.seqbatch\"\n",
    "                             )"
   ]
  },
  {
   "cell_type": "code",
   "execution_count": 23,
   "id": "86149bbb-0728-4e6a-8801-ae16453ddf3c",
   "metadata": {},
   "outputs": [
    {
     "data": {
      "text/html": [
       "<pre style=\"white-space:pre;overflow-x:auto;line-height:normal;font-family:Menlo,'DejaVu Sans Mono',consolas,'Courier New',monospace\">SCVI Model with the following params: \n",
       "n_hidden: <span style=\"color: #008080; text-decoration-color: #008080; font-weight: bold\">128</span>, n_latent: <span style=\"color: #008080; text-decoration-color: #008080; font-weight: bold\">10</span>, n_layers: <span style=\"color: #008080; text-decoration-color: #008080; font-weight: bold\">1</span>, dropout_rate: <span style=\"color: #008080; text-decoration-color: #008080; font-weight: bold\">0.1</span>, dispersion: gene-batch, gene_likelihood: nb, \n",
       "latent_distribution: normal\n",
       "Training status: Not Trained\n",
       "Model's adata is minified?: <span style=\"color: #ff0000; text-decoration-color: #ff0000; font-style: italic\">False</span>\n",
       "</pre>\n"
      ],
      "text/plain": [
       "SCVI Model with the following params: \n",
       "n_hidden: \u001b[1;36m128\u001b[0m, n_latent: \u001b[1;36m10\u001b[0m, n_layers: \u001b[1;36m1\u001b[0m, dropout_rate: \u001b[1;36m0.1\u001b[0m, dispersion: gene-batch, gene_likelihood: nb, \n",
       "latent_distribution: normal\n",
       "Training status: Not Trained\n",
       "Model's adata is minified?: \u001b[3;91mFalse\u001b[0m\n"
      ]
     },
     "metadata": {},
     "output_type": "display_data"
    },
    {
     "data": {
      "text/plain": []
     },
     "execution_count": 23,
     "metadata": {},
     "output_type": "execute_result"
    }
   ],
   "source": [
    "# set up the scVI model\n",
    "# specify the parameters according to the ray optimisation\n",
    "vae = scvi.model.SCVI(adata_subset,\n",
    "                      n_latent = 10,  \n",
    "                      n_hidden = 128, \n",
    "                      n_layers =  1, \n",
    "                      dropout_rate = 0.1,\n",
    "                      dispersion = 'gene-batch',\n",
    "                     gene_likelihood='nb')\n",
    "\n",
    "vae"
   ]
  },
  {
   "cell_type": "code",
   "execution_count": 24,
   "id": "0286a6c1-049d-4fb2-bd56-82ff07ae2765",
   "metadata": {},
   "outputs": [],
   "source": [
    "# add the parameter for lr\n",
    "kwargs = {'lr': 0.002334}"
   ]
  },
  {
   "cell_type": "code",
   "execution_count": 25,
   "id": "4f9ac202-19a7-42f1-bdfd-d602c8876d7e",
   "metadata": {},
   "outputs": [
    {
     "data": {
      "text/html": [
       "<pre style=\"white-space:pre;overflow-x:auto;line-height:normal;font-family:Menlo,'DejaVu Sans Mono',consolas,'Courier New',monospace\">Anndata setup with scvi-tools version <span style=\"color: #008080; text-decoration-color: #008080; font-weight: bold\">1.0</span>.<span style=\"color: #008080; text-decoration-color: #008080; font-weight: bold\">2</span>.\n",
       "</pre>\n"
      ],
      "text/plain": [
       "Anndata setup with scvi-tools version \u001b[1;36m1.0\u001b[0m.\u001b[1;36m2\u001b[0m.\n"
      ]
     },
     "metadata": {},
     "output_type": "display_data"
    },
    {
     "data": {
      "text/html": [
       "<pre style=\"white-space:pre;overflow-x:auto;line-height:normal;font-family:Menlo,'DejaVu Sans Mono',consolas,'Courier New',monospace\">\n",
       "</pre>\n"
      ],
      "text/plain": [
       "\n"
      ]
     },
     "metadata": {},
     "output_type": "display_data"
    },
    {
     "data": {
      "text/html": [
       "<pre style=\"white-space:pre;overflow-x:auto;line-height:normal;font-family:Menlo,'DejaVu Sans Mono',consolas,'Courier New',monospace\">Setup via `SCVI.setup_anndata` with arguments:\n",
       "</pre>\n"
      ],
      "text/plain": [
       "Setup via `SCVI.setup_anndata` with arguments:\n"
      ]
     },
     "metadata": {},
     "output_type": "display_data"
    },
    {
     "data": {
      "text/html": [
       "<pre style=\"white-space:pre;overflow-x:auto;line-height:normal;font-family:Menlo,'DejaVu Sans Mono',consolas,'Courier New',monospace\"><span style=\"font-weight: bold\">{</span>\n",
       "<span style=\"color: #7fbf7f; text-decoration-color: #7fbf7f\">│   </span><span style=\"color: #008000; text-decoration-color: #008000\">'layer'</span>: <span style=\"color: #008000; text-decoration-color: #008000\">'counts'</span>,\n",
       "<span style=\"color: #7fbf7f; text-decoration-color: #7fbf7f\">│   </span><span style=\"color: #008000; text-decoration-color: #008000\">'batch_key'</span>: <span style=\"color: #008000; text-decoration-color: #008000\">'patient.seqbatch'</span>,\n",
       "<span style=\"color: #7fbf7f; text-decoration-color: #7fbf7f\">│   </span><span style=\"color: #008000; text-decoration-color: #008000\">'labels_key'</span>: <span style=\"color: #800080; text-decoration-color: #800080; font-style: italic\">None</span>,\n",
       "<span style=\"color: #7fbf7f; text-decoration-color: #7fbf7f\">│   </span><span style=\"color: #008000; text-decoration-color: #008000\">'size_factor_key'</span>: <span style=\"color: #800080; text-decoration-color: #800080; font-style: italic\">None</span>,\n",
       "<span style=\"color: #7fbf7f; text-decoration-color: #7fbf7f\">│   </span><span style=\"color: #008000; text-decoration-color: #008000\">'categorical_covariate_keys'</span>: <span style=\"color: #800080; text-decoration-color: #800080; font-style: italic\">None</span>,\n",
       "<span style=\"color: #7fbf7f; text-decoration-color: #7fbf7f\">│   </span><span style=\"color: #008000; text-decoration-color: #008000\">'continuous_covariate_keys'</span>: <span style=\"color: #800080; text-decoration-color: #800080; font-style: italic\">None</span>\n",
       "<span style=\"font-weight: bold\">}</span>\n",
       "</pre>\n"
      ],
      "text/plain": [
       "\u001b[1m{\u001b[0m\n",
       "\u001b[2;32m│   \u001b[0m\u001b[32m'layer'\u001b[0m: \u001b[32m'counts'\u001b[0m,\n",
       "\u001b[2;32m│   \u001b[0m\u001b[32m'batch_key'\u001b[0m: \u001b[32m'patient.seqbatch'\u001b[0m,\n",
       "\u001b[2;32m│   \u001b[0m\u001b[32m'labels_key'\u001b[0m: \u001b[3;35mNone\u001b[0m,\n",
       "\u001b[2;32m│   \u001b[0m\u001b[32m'size_factor_key'\u001b[0m: \u001b[3;35mNone\u001b[0m,\n",
       "\u001b[2;32m│   \u001b[0m\u001b[32m'categorical_covariate_keys'\u001b[0m: \u001b[3;35mNone\u001b[0m,\n",
       "\u001b[2;32m│   \u001b[0m\u001b[32m'continuous_covariate_keys'\u001b[0m: \u001b[3;35mNone\u001b[0m\n",
       "\u001b[1m}\u001b[0m\n"
      ]
     },
     "metadata": {},
     "output_type": "display_data"
    },
    {
     "data": {
      "text/html": [
       "<pre style=\"white-space:pre;overflow-x:auto;line-height:normal;font-family:Menlo,'DejaVu Sans Mono',consolas,'Courier New',monospace\">\n",
       "</pre>\n"
      ],
      "text/plain": [
       "\n"
      ]
     },
     "metadata": {},
     "output_type": "display_data"
    },
    {
     "data": {
      "text/html": [
       "<pre style=\"white-space:pre;overflow-x:auto;line-height:normal;font-family:Menlo,'DejaVu Sans Mono',consolas,'Courier New',monospace\"><span style=\"font-style: italic\">         Summary Statistics         </span>\n",
       "┏━━━━━━━━━━━━━━━━━━━━━━━━━━┳━━━━━━━┓\n",
       "┃<span style=\"font-weight: bold\">     Summary Stat Key     </span>┃<span style=\"font-weight: bold\"> Value </span>┃\n",
       "┡━━━━━━━━━━━━━━━━━━━━━━━━━━╇━━━━━━━┩\n",
       "│<span style=\"color: #0087ff; text-decoration-color: #0087ff\">         n_batch          </span>│<span style=\"color: #af00d7; text-decoration-color: #af00d7\">   8   </span>│\n",
       "│<span style=\"color: #0087ff; text-decoration-color: #0087ff\">         n_cells          </span>│<span style=\"color: #af00d7; text-decoration-color: #af00d7\"> 3906  </span>│\n",
       "│<span style=\"color: #0087ff; text-decoration-color: #0087ff\"> n_extra_categorical_covs </span>│<span style=\"color: #af00d7; text-decoration-color: #af00d7\">   0   </span>│\n",
       "│<span style=\"color: #0087ff; text-decoration-color: #0087ff\"> n_extra_continuous_covs  </span>│<span style=\"color: #af00d7; text-decoration-color: #af00d7\">   0   </span>│\n",
       "│<span style=\"color: #0087ff; text-decoration-color: #0087ff\">         n_labels         </span>│<span style=\"color: #af00d7; text-decoration-color: #af00d7\">   1   </span>│\n",
       "│<span style=\"color: #0087ff; text-decoration-color: #0087ff\">          n_vars          </span>│<span style=\"color: #af00d7; text-decoration-color: #af00d7\"> 2000  </span>│\n",
       "└──────────────────────────┴───────┘\n",
       "</pre>\n"
      ],
      "text/plain": [
       "\u001b[3m         Summary Statistics         \u001b[0m\n",
       "┏━━━━━━━━━━━━━━━━━━━━━━━━━━┳━━━━━━━┓\n",
       "┃\u001b[1m \u001b[0m\u001b[1m    Summary Stat Key    \u001b[0m\u001b[1m \u001b[0m┃\u001b[1m \u001b[0m\u001b[1mValue\u001b[0m\u001b[1m \u001b[0m┃\n",
       "┡━━━━━━━━━━━━━━━━━━━━━━━━━━╇━━━━━━━┩\n",
       "│\u001b[38;5;33m \u001b[0m\u001b[38;5;33m        n_batch         \u001b[0m\u001b[38;5;33m \u001b[0m│\u001b[38;5;128m \u001b[0m\u001b[38;5;128m  8  \u001b[0m\u001b[38;5;128m \u001b[0m│\n",
       "│\u001b[38;5;33m \u001b[0m\u001b[38;5;33m        n_cells         \u001b[0m\u001b[38;5;33m \u001b[0m│\u001b[38;5;128m \u001b[0m\u001b[38;5;128m3906 \u001b[0m\u001b[38;5;128m \u001b[0m│\n",
       "│\u001b[38;5;33m \u001b[0m\u001b[38;5;33mn_extra_categorical_covs\u001b[0m\u001b[38;5;33m \u001b[0m│\u001b[38;5;128m \u001b[0m\u001b[38;5;128m  0  \u001b[0m\u001b[38;5;128m \u001b[0m│\n",
       "│\u001b[38;5;33m \u001b[0m\u001b[38;5;33mn_extra_continuous_covs \u001b[0m\u001b[38;5;33m \u001b[0m│\u001b[38;5;128m \u001b[0m\u001b[38;5;128m  0  \u001b[0m\u001b[38;5;128m \u001b[0m│\n",
       "│\u001b[38;5;33m \u001b[0m\u001b[38;5;33m        n_labels        \u001b[0m\u001b[38;5;33m \u001b[0m│\u001b[38;5;128m \u001b[0m\u001b[38;5;128m  1  \u001b[0m\u001b[38;5;128m \u001b[0m│\n",
       "│\u001b[38;5;33m \u001b[0m\u001b[38;5;33m         n_vars         \u001b[0m\u001b[38;5;33m \u001b[0m│\u001b[38;5;128m \u001b[0m\u001b[38;5;128m2000 \u001b[0m\u001b[38;5;128m \u001b[0m│\n",
       "└──────────────────────────┴───────┘\n"
      ]
     },
     "metadata": {},
     "output_type": "display_data"
    },
    {
     "data": {
      "text/html": [
       "<pre style=\"white-space:pre;overflow-x:auto;line-height:normal;font-family:Menlo,'DejaVu Sans Mono',consolas,'Courier New',monospace\"><span style=\"font-style: italic\">               Data Registry                </span>\n",
       "┏━━━━━━━━━━━━━━┳━━━━━━━━━━━━━━━━━━━━━━━━━━━┓\n",
       "┃<span style=\"font-weight: bold\"> Registry Key </span>┃<span style=\"font-weight: bold\">    scvi-tools Location    </span>┃\n",
       "┡━━━━━━━━━━━━━━╇━━━━━━━━━━━━━━━━━━━━━━━━━━━┩\n",
       "│<span style=\"color: #0087ff; text-decoration-color: #0087ff\">      X       </span>│<span style=\"color: #af00d7; text-decoration-color: #af00d7\">  adata.layers['counts']   </span>│\n",
       "│<span style=\"color: #0087ff; text-decoration-color: #0087ff\">    batch     </span>│<span style=\"color: #af00d7; text-decoration-color: #af00d7\"> adata.obs['_scvi_batch']  </span>│\n",
       "│<span style=\"color: #0087ff; text-decoration-color: #0087ff\">    labels    </span>│<span style=\"color: #af00d7; text-decoration-color: #af00d7\"> adata.obs['_scvi_labels'] </span>│\n",
       "└──────────────┴───────────────────────────┘\n",
       "</pre>\n"
      ],
      "text/plain": [
       "\u001b[3m               Data Registry                \u001b[0m\n",
       "┏━━━━━━━━━━━━━━┳━━━━━━━━━━━━━━━━━━━━━━━━━━━┓\n",
       "┃\u001b[1m \u001b[0m\u001b[1mRegistry Key\u001b[0m\u001b[1m \u001b[0m┃\u001b[1m \u001b[0m\u001b[1m   scvi-tools Location   \u001b[0m\u001b[1m \u001b[0m┃\n",
       "┡━━━━━━━━━━━━━━╇━━━━━━━━━━━━━━━━━━━━━━━━━━━┩\n",
       "│\u001b[38;5;33m \u001b[0m\u001b[38;5;33m     X      \u001b[0m\u001b[38;5;33m \u001b[0m│\u001b[38;5;128m \u001b[0m\u001b[38;5;128m adata.layers['counts']  \u001b[0m\u001b[38;5;128m \u001b[0m│\n",
       "│\u001b[38;5;33m \u001b[0m\u001b[38;5;33m   batch    \u001b[0m\u001b[38;5;33m \u001b[0m│\u001b[38;5;128m \u001b[0m\u001b[38;5;128madata.obs['_scvi_batch'] \u001b[0m\u001b[38;5;128m \u001b[0m│\n",
       "│\u001b[38;5;33m \u001b[0m\u001b[38;5;33m   labels   \u001b[0m\u001b[38;5;33m \u001b[0m│\u001b[38;5;128m \u001b[0m\u001b[38;5;128madata.obs['_scvi_labels']\u001b[0m\u001b[38;5;128m \u001b[0m│\n",
       "└──────────────┴───────────────────────────┘\n"
      ]
     },
     "metadata": {},
     "output_type": "display_data"
    },
    {
     "data": {
      "text/html": [
       "<pre style=\"white-space:pre;overflow-x:auto;line-height:normal;font-family:Menlo,'DejaVu Sans Mono',consolas,'Courier New',monospace\"><span style=\"font-style: italic\">                           batch State Registry                           </span>\n",
       "┏━━━━━━━━━━━━━━━━━━━━━━━━━━━━━━━┳━━━━━━━━━━━━━━━━━━┳━━━━━━━━━━━━━━━━━━━━━┓\n",
       "┃<span style=\"font-weight: bold\">        Source Location        </span>┃<span style=\"font-weight: bold\">    Categories    </span>┃<span style=\"font-weight: bold\"> scvi-tools Encoding </span>┃\n",
       "┡━━━━━━━━━━━━━━━━━━━━━━━━━━━━━━━╇━━━━━━━━━━━━━━━━━━╇━━━━━━━━━━━━━━━━━━━━━┩\n",
       "│<span style=\"color: #0087ff; text-decoration-color: #0087ff\"> adata.obs['patient.seqbatch'] </span>│<span style=\"color: #008000; text-decoration-color: #008000\"> MSK0785_11102021 </span>│<span style=\"color: #af00d7; text-decoration-color: #af00d7\">          0          </span>│\n",
       "│<span style=\"color: #0087ff; text-decoration-color: #0087ff\">                               </span>│<span style=\"color: #008000; text-decoration-color: #008000\"> MSK1250_11102021 </span>│<span style=\"color: #af00d7; text-decoration-color: #af00d7\">          1          </span>│\n",
       "│<span style=\"color: #0087ff; text-decoration-color: #0087ff\">                               </span>│<span style=\"color: #008000; text-decoration-color: #008000\"> MSK1250_20230822 </span>│<span style=\"color: #af00d7; text-decoration-color: #af00d7\">          2          </span>│\n",
       "│<span style=\"color: #0087ff; text-decoration-color: #0087ff\">                               </span>│<span style=\"color: #008000; text-decoration-color: #008000\"> MSK1284_11102021 </span>│<span style=\"color: #af00d7; text-decoration-color: #af00d7\">          3          </span>│\n",
       "│<span style=\"color: #0087ff; text-decoration-color: #0087ff\">                               </span>│<span style=\"color: #008000; text-decoration-color: #008000\"> MSK1556_20220808 </span>│<span style=\"color: #af00d7; text-decoration-color: #af00d7\">          4          </span>│\n",
       "│<span style=\"color: #0087ff; text-decoration-color: #0087ff\">                               </span>│<span style=\"color: #008000; text-decoration-color: #008000\"> MSK1556_20230822 </span>│<span style=\"color: #af00d7; text-decoration-color: #af00d7\">          5          </span>│\n",
       "│<span style=\"color: #0087ff; text-decoration-color: #0087ff\">                               </span>│<span style=\"color: #008000; text-decoration-color: #008000\"> MSK1687_20230822 </span>│<span style=\"color: #af00d7; text-decoration-color: #af00d7\">          6          </span>│\n",
       "│<span style=\"color: #0087ff; text-decoration-color: #0087ff\">                               </span>│<span style=\"color: #008000; text-decoration-color: #008000\"> MSK1691_20230822 </span>│<span style=\"color: #af00d7; text-decoration-color: #af00d7\">          7          </span>│\n",
       "└───────────────────────────────┴──────────────────┴─────────────────────┘\n",
       "</pre>\n"
      ],
      "text/plain": [
       "\u001b[3m                           batch State Registry                           \u001b[0m\n",
       "┏━━━━━━━━━━━━━━━━━━━━━━━━━━━━━━━┳━━━━━━━━━━━━━━━━━━┳━━━━━━━━━━━━━━━━━━━━━┓\n",
       "┃\u001b[1m \u001b[0m\u001b[1m       Source Location       \u001b[0m\u001b[1m \u001b[0m┃\u001b[1m \u001b[0m\u001b[1m   Categories   \u001b[0m\u001b[1m \u001b[0m┃\u001b[1m \u001b[0m\u001b[1mscvi-tools Encoding\u001b[0m\u001b[1m \u001b[0m┃\n",
       "┡━━━━━━━━━━━━━━━━━━━━━━━━━━━━━━━╇━━━━━━━━━━━━━━━━━━╇━━━━━━━━━━━━━━━━━━━━━┩\n",
       "│\u001b[38;5;33m \u001b[0m\u001b[38;5;33madata.obs['patient.seqbatch']\u001b[0m\u001b[38;5;33m \u001b[0m│\u001b[32m \u001b[0m\u001b[32mMSK0785_11102021\u001b[0m\u001b[32m \u001b[0m│\u001b[38;5;128m \u001b[0m\u001b[38;5;128m         0         \u001b[0m\u001b[38;5;128m \u001b[0m│\n",
       "│\u001b[38;5;33m \u001b[0m\u001b[38;5;33m                             \u001b[0m\u001b[38;5;33m \u001b[0m│\u001b[32m \u001b[0m\u001b[32mMSK1250_11102021\u001b[0m\u001b[32m \u001b[0m│\u001b[38;5;128m \u001b[0m\u001b[38;5;128m         1         \u001b[0m\u001b[38;5;128m \u001b[0m│\n",
       "│\u001b[38;5;33m \u001b[0m\u001b[38;5;33m                             \u001b[0m\u001b[38;5;33m \u001b[0m│\u001b[32m \u001b[0m\u001b[32mMSK1250_20230822\u001b[0m\u001b[32m \u001b[0m│\u001b[38;5;128m \u001b[0m\u001b[38;5;128m         2         \u001b[0m\u001b[38;5;128m \u001b[0m│\n",
       "│\u001b[38;5;33m \u001b[0m\u001b[38;5;33m                             \u001b[0m\u001b[38;5;33m \u001b[0m│\u001b[32m \u001b[0m\u001b[32mMSK1284_11102021\u001b[0m\u001b[32m \u001b[0m│\u001b[38;5;128m \u001b[0m\u001b[38;5;128m         3         \u001b[0m\u001b[38;5;128m \u001b[0m│\n",
       "│\u001b[38;5;33m \u001b[0m\u001b[38;5;33m                             \u001b[0m\u001b[38;5;33m \u001b[0m│\u001b[32m \u001b[0m\u001b[32mMSK1556_20220808\u001b[0m\u001b[32m \u001b[0m│\u001b[38;5;128m \u001b[0m\u001b[38;5;128m         4         \u001b[0m\u001b[38;5;128m \u001b[0m│\n",
       "│\u001b[38;5;33m \u001b[0m\u001b[38;5;33m                             \u001b[0m\u001b[38;5;33m \u001b[0m│\u001b[32m \u001b[0m\u001b[32mMSK1556_20230822\u001b[0m\u001b[32m \u001b[0m│\u001b[38;5;128m \u001b[0m\u001b[38;5;128m         5         \u001b[0m\u001b[38;5;128m \u001b[0m│\n",
       "│\u001b[38;5;33m \u001b[0m\u001b[38;5;33m                             \u001b[0m\u001b[38;5;33m \u001b[0m│\u001b[32m \u001b[0m\u001b[32mMSK1687_20230822\u001b[0m\u001b[32m \u001b[0m│\u001b[38;5;128m \u001b[0m\u001b[38;5;128m         6         \u001b[0m\u001b[38;5;128m \u001b[0m│\n",
       "│\u001b[38;5;33m \u001b[0m\u001b[38;5;33m                             \u001b[0m\u001b[38;5;33m \u001b[0m│\u001b[32m \u001b[0m\u001b[32mMSK1691_20230822\u001b[0m\u001b[32m \u001b[0m│\u001b[38;5;128m \u001b[0m\u001b[38;5;128m         7         \u001b[0m\u001b[38;5;128m \u001b[0m│\n",
       "└───────────────────────────────┴──────────────────┴─────────────────────┘\n"
      ]
     },
     "metadata": {},
     "output_type": "display_data"
    },
    {
     "data": {
      "text/html": [
       "<pre style=\"white-space:pre;overflow-x:auto;line-height:normal;font-family:Menlo,'DejaVu Sans Mono',consolas,'Courier New',monospace\"><span style=\"font-style: italic\">                     labels State Registry                      </span>\n",
       "┏━━━━━━━━━━━━━━━━━━━━━━━━━━━┳━━━━━━━━━━━━┳━━━━━━━━━━━━━━━━━━━━━┓\n",
       "┃<span style=\"font-weight: bold\">      Source Location      </span>┃<span style=\"font-weight: bold\"> Categories </span>┃<span style=\"font-weight: bold\"> scvi-tools Encoding </span>┃\n",
       "┡━━━━━━━━━━━━━━━━━━━━━━━━━━━╇━━━━━━━━━━━━╇━━━━━━━━━━━━━━━━━━━━━┩\n",
       "│<span style=\"color: #0087ff; text-decoration-color: #0087ff\"> adata.obs['_scvi_labels'] </span>│<span style=\"color: #008000; text-decoration-color: #008000\">     0      </span>│<span style=\"color: #af00d7; text-decoration-color: #af00d7\">          0          </span>│\n",
       "└───────────────────────────┴────────────┴─────────────────────┘\n",
       "</pre>\n"
      ],
      "text/plain": [
       "\u001b[3m                     labels State Registry                      \u001b[0m\n",
       "┏━━━━━━━━━━━━━━━━━━━━━━━━━━━┳━━━━━━━━━━━━┳━━━━━━━━━━━━━━━━━━━━━┓\n",
       "┃\u001b[1m \u001b[0m\u001b[1m     Source Location     \u001b[0m\u001b[1m \u001b[0m┃\u001b[1m \u001b[0m\u001b[1mCategories\u001b[0m\u001b[1m \u001b[0m┃\u001b[1m \u001b[0m\u001b[1mscvi-tools Encoding\u001b[0m\u001b[1m \u001b[0m┃\n",
       "┡━━━━━━━━━━━━━━━━━━━━━━━━━━━╇━━━━━━━━━━━━╇━━━━━━━━━━━━━━━━━━━━━┩\n",
       "│\u001b[38;5;33m \u001b[0m\u001b[38;5;33madata.obs['_scvi_labels']\u001b[0m\u001b[38;5;33m \u001b[0m│\u001b[32m \u001b[0m\u001b[32m    0     \u001b[0m\u001b[32m \u001b[0m│\u001b[38;5;128m \u001b[0m\u001b[38;5;128m         0         \u001b[0m\u001b[38;5;128m \u001b[0m│\n",
       "└───────────────────────────┴────────────┴─────────────────────┘\n"
      ]
     },
     "metadata": {},
     "output_type": "display_data"
    }
   ],
   "source": [
    " vae.view_anndata_setup(adata_subset) # check the set up looks as expected"
   ]
  },
  {
   "cell_type": "code",
   "execution_count": 26,
   "id": "0e3d4603-64e9-49ea-9712-afc8f7275b7c",
   "metadata": {},
   "outputs": [
    {
     "data": {
      "text/plain": [
       "400"
      ]
     },
     "execution_count": 26,
     "metadata": {},
     "output_type": "execute_result"
    }
   ],
   "source": [
    "# calculate the number of epochs needed which varies according to the cell number\n",
    "max_epochs_scvi = int(np.min([round((20000 / adata_subset.n_obs) * 400), 400])) # must be an integer\n",
    "max_epochs_scvi"
   ]
  },
  {
   "cell_type": "code",
   "execution_count": 27,
   "id": "cc5e3bb0-bca9-4c27-9657-1b883daf9779",
   "metadata": {},
   "outputs": [
    {
     "name": "stderr",
     "output_type": "stream",
     "text": [
      "GPU available: True (cuda), used: True\n",
      "TPU available: False, using: 0 TPU cores\n",
      "IPU available: False, using: 0 IPUs\n",
      "HPU available: False, using: 0 HPUs\n",
      "You are using a CUDA device ('NVIDIA RTX 6000 Ada Generation') that has Tensor Cores. To properly utilize them, you should set `torch.set_float32_matmul_precision('medium' | 'high')` which will trade-off precision for performance. For more details, read https://pytorch.org/docs/stable/generated/torch.set_float32_matmul_precision.html#torch.set_float32_matmul_precision\n",
      "LOCAL_RANK: 0 - CUDA_VISIBLE_DEVICES: [0,1]\n"
     ]
    },
    {
     "name": "stdout",
     "output_type": "stream",
     "text": [
      "Epoch 60/60: 100%|█| 60/60 [00:11<00:00,  5.55it/s, v_num=1, train_loss_step=674"
     ]
    },
    {
     "name": "stderr",
     "output_type": "stream",
     "text": [
      "`Trainer.fit` stopped: `max_epochs=60` reached.\n"
     ]
    },
    {
     "name": "stdout",
     "output_type": "stream",
     "text": [
      "Epoch 60/60: 100%|█| 60/60 [00:11<00:00,  5.40it/s, v_num=1, train_loss_step=674\n"
     ]
    }
   ],
   "source": [
    "# run the training (need the GPU queue here)\n",
    "# updated to 60 epochs due to overfitting\n",
    "vae.train(max_epochs = 60, \n",
    "          train_size = 0.9, \n",
    "          validation_size = 0.1, \n",
    "          accelerator='gpu', \n",
    "          check_val_every_n_epoch=1,\n",
    "          early_stopping=True,\n",
    "          early_stopping_patience=10,\n",
    "          early_stopping_monitor=\"elbo_validation\",\n",
    "          plan_kwargs = kwargs\n",
    "         )"
   ]
  },
  {
   "cell_type": "code",
   "execution_count": 28,
   "id": "0c865e5a-da3f-4dd5-99e0-6b51222c6d00",
   "metadata": {},
   "outputs": [
    {
     "data": {
      "image/png": "[encoded data removed]",
      "text/plain": [
       "<Figure size 600x600 with 1 Axes>"
      ]
     },
     "metadata": {
      "image/png": {
       "height": 548,
       "width": 604
      }
     },
     "output_type": "display_data"
    }
   ],
   "source": [
    "# visualise the results of the training\n",
    "train_test_results = vae.history[\"elbo_train\"]\n",
    "train_test_results[\"elbo_validation\"] = vae.history[\"elbo_validation\"]\n",
    "train_test_results.iloc[10:].plot(logy=True)  # exclude first 10 epochs\n",
    "plt.show()"
   ]
  },
  {
   "cell_type": "code",
   "execution_count": 29,
   "id": "820c246f-ec33-40b6-8e10-fcc33d73a30d",
   "metadata": {},
   "outputs": [
    {
     "data": {
      "image/png": "[encoded data removed]",
      "text/plain": [
       "<Figure size 600x600 with 1 Axes>"
      ]
     },
     "metadata": {
      "image/png": {
       "height": 520,
       "width": 565
      }
     },
     "output_type": "display_data"
    }
   ],
   "source": [
    "y = vae.history['reconstruction_loss_validation']['reconstruction_loss_validation'].min()\n",
    "plt.plot(vae.history['reconstruction_loss_train']['reconstruction_loss_train'], label='train')\n",
    "plt.plot(vae.history['reconstruction_loss_validation']['reconstruction_loss_validation'], label='validation')\n",
    "plt.axhline(y, c = 'k')\n",
    "plt.legend()\n",
    "plt.show()"
   ]
  },
  {
   "cell_type": "code",
   "execution_count": 30,
   "id": "4d125b32-9e30-4041-a530-c62004cf42f6",
   "metadata": {},
   "outputs": [],
   "source": [
    "# save the trained model\n",
    "# in file name use: sample, covariate, nepochs, n_hidden, n_latent, n_layers, dropout rate, dispersion, gene likelihood\n",
    "vae.save(os.path.join(RESULTS_FOLDERNAME, \"Ach_patient.seqbach_60_256_50_1_01_gene-batch_zinb/\"), overwrite=True)"
   ]
  },
  {
   "cell_type": "code",
   "execution_count": 31,
   "id": "0ba9a80e-cc11-475b-835c-f61921a079f4",
   "metadata": {},
   "outputs": [],
   "source": [
    "# Extract latent representation embeddings from your trained model \n",
    "adata_subset.obsm[\"X_scVI\"] = vae.get_latent_representation()"
   ]
  },
  {
   "cell_type": "code",
   "execution_count": 32,
   "id": "65edffab-2ab2-40c1-819d-735f1fa1233a",
   "metadata": {},
   "outputs": [],
   "source": [
    "# save the object\n",
    "adata_subset.write(os.path.join(RESULTS_FOLDERNAME, 'Achilles_scVI.h5ad'))"
   ]
  },
  {
   "cell_type": "code",
   "execution_count": 33,
   "id": "1baba8b1-a719-4b76-982e-0a2fd2f5fa0a",
   "metadata": {},
   "outputs": [],
   "source": [
    "# Save the scVI embeddings as numpy array\n",
    "filename = RESULTS_FOLDERNAME + \"scVI_embeddings\"\n",
    "np.save(filename, adata_subset.obsm['X_scVI'])"
   ]
  },
  {
   "cell_type": "code",
   "execution_count": 34,
   "id": "7fa3ed6f-0080-4775-807a-1732c3ff4457",
   "metadata": {},
   "outputs": [],
   "source": [
    "# Save the metadata\n",
    "filename = RESULTS_FOLDERNAME + \"Achilles_scVI_obs.txt\"\n",
    "adata_subset.obs.to_csv(filename, sep='\\t')"
   ]
  },
  {
   "cell_type": "code",
   "execution_count": null,
   "id": "241ccb32-62ba-4bad-a0c4-1bf699b1065e",
   "metadata": {},
   "outputs": [],
   "source": []
  }
 ],
 "metadata": {
  "kernelspec": {
   "display_name": "scvi_env",
   "language": "python",
   "name": "scvi_env"
  },
  "language_info": {
   "codemirror_mode": {
    "name": "ipython",
    "version": 3
   },
   "file_extension": ".py",
   "mimetype": "text/x-python",
   "name": "python",
   "nbconvert_exporter": "python",
   "pygments_lexer": "ipython3",
   "version": "3.9.16"
  }
 },
 "nbformat": 4,
 "nbformat_minor": 5
}
