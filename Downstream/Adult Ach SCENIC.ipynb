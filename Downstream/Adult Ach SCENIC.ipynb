{
 "cells": [
  {
   "cell_type": "code",
   "execution_count": 1,
   "id": "1adf8e0a",
   "metadata": {
    "scrolled": false
   },
   "outputs": [
    {
     "name": "stderr",
     "output_type": "stream",
     "text": [
      "WARNING: If you miss a compact list, please try `print_header`!\n"
     ]
    },
    {
     "name": "stdout",
     "output_type": "stream",
     "text": [
      "Current date and time = 2024-06-07 09:43:46.337599\n",
      "-----\n",
      "anndata     0.8.0\n",
      "scanpy      1.7.2\n",
      "sinfo       0.3.1\n",
      "-----\n",
      "PIL                 9.4.0\n",
      "anndata             0.8.0\n",
      "anyio               NA\n",
      "attr                22.2.0\n",
      "babel               2.12.1\n",
      "backcall            0.2.0\n",
      "beta_ufunc          NA\n",
      "binom_ufunc         NA\n",
      "boltons             NA\n",
      "bottleneck          1.3.5\n",
      "brotli              NA\n",
      "certifi             2023.07.22\n",
      "cffi                1.15.1\n",
      "charset_normalizer  2.1.1\n",
      "cloudpickle         2.2.1\n",
      "colorama            0.4.6\n",
      "ctxcore             0.2.0\n",
      "cycler              0.10.0\n",
      "cython_runtime      NA\n",
      "cytoolz             0.12.0\n",
      "dask                2022.02.0\n",
      "dateutil            2.8.2\n",
      "debugpy             1.6.3\n",
      "decorator           5.1.1\n",
      "defusedxml          0.7.1\n",
      "dunamai             1.16.0\n",
      "entrypoints         0.4\n",
      "fastjsonschema      NA\n",
      "frozendict          2.3.7\n",
      "fsspec              2023.1.0\n",
      "get_version         3.5.4\n",
      "google              NA\n",
      "h5py                3.7.0\n",
      "idna                3.4\n",
      "igraph              0.10.4\n",
      "importlib_resources NA\n",
      "ipykernel           6.16.2\n",
      "ipython_genutils    0.2.0\n",
      "ipywidgets          8.0.6\n",
      "jedi                0.18.2\n",
      "jinja2              3.1.2\n",
      "joblib              1.2.0\n",
      "json5               NA\n",
      "jsonschema          4.17.3\n",
      "jupyter_server      1.23.4\n",
      "jupyterlab_server   2.22.1\n",
      "kiwisolver          1.4.4\n",
      "legacy_api_wrap     0.0.0\n",
      "llvmlite            0.35.0\n",
      "loompy              3.0.6\n",
      "louvain             0.8.0\n",
      "markupsafe          2.1.1\n",
      "matplotlib          3.5.3\n",
      "mpl_toolkits        NA\n",
      "natsort             8.3.1\n",
      "nbformat            5.8.0\n",
      "nbinom_ufunc        NA\n",
      "networkx            2.7.1\n",
      "numba               0.52.0\n",
      "numexpr             2.8.3\n",
      "numpy               1.20.3\n",
      "numpy_groupies      0.9.20\n",
      "packaging           23.1\n",
      "pandas              1.3.5\n",
      "parso               0.8.3\n",
      "pexpect             4.8.0\n",
      "pickleshare         0.7.5\n",
      "pkg_resources       NA\n",
      "plotly              5.17.0\n",
      "prometheus_client   NA\n",
      "prompt_toolkit      3.0.38\n",
      "psutil              5.9.3\n",
      "ptyprocess          0.7.0\n",
      "pvectorc            NA\n",
      "pyarrow             11.0.0\n",
      "pycparser           2.21\n",
      "pydev_ipython       NA\n",
      "pydevconsole        NA\n",
      "pydevd              2.8.0\n",
      "pydevd_file_utils   NA\n",
      "pydevd_plugins      NA\n",
      "pydevd_tracing      NA\n",
      "pygments            2.15.0\n",
      "pyparsing           3.0.9\n",
      "pyrsistent          NA\n",
      "pyscenic            0.12.1\n",
      "pytz                2023.3\n",
      "requests            2.28.2\n",
      "rfc3339_validator   0.1.4\n",
      "rfc3986_validator   0.1.1\n",
      "scanpy              1.7.2\n",
      "scipy               1.7.3\n",
      "seaborn             0.12.2\n",
      "send2trash          NA\n",
      "setuptools          67.6.1\n",
      "setuptools_scm      NA\n",
      "sinfo               0.3.1\n",
      "six                 1.16.0\n",
      "sklearn             1.0.2\n",
      "sniffio             1.3.0\n",
      "socks               1.7.1\n",
      "sphinxcontrib       NA\n",
      "statsmodels         0.13.2\n",
      "storemagic          NA\n",
      "tables              3.7.0\n",
      "tblib               1.7.0\n",
      "terminado           0.17.1\n",
      "texttable           1.6.7\n",
      "threadpoolctl       3.1.0\n",
      "tlz                 0.12.0\n",
      "toolz               0.12.0\n",
      "tornado             6.2\n",
      "tqdm                4.65.0\n",
      "traitlets           5.9.0\n",
      "typing_extensions   NA\n",
      "unicodedata2        NA\n",
      "urllib3             1.26.15\n",
      "wcwidth             0.2.6\n",
      "websocket           1.5.1\n",
      "yaml                6.0\n",
      "zipp                NA\n",
      "zmq                 24.0.1\n",
      "zstandard           0.18.0\n",
      "-----\n",
      "IPython             7.33.0\n",
      "jupyter_client      7.4.9\n",
      "jupyter_core        4.11.1\n",
      "jupyterlab          3.6.3\n",
      "notebook            6.5.4\n",
      "-----\n",
      "Python 3.7.12 | packaged by conda-forge | (default, Oct 26 2021, 06:08:53) [GCC 9.4.0]\n",
      "Linux-5.15.0-100-generic-x86_64-with-debian-bullseye-sid\n",
      "64 logical CPU cores\n",
      "-----\n",
      "Session information updated at 2024-06-07 09:43\n",
      "\n"
     ]
    }
   ],
   "source": [
    "# Import dependencies\n",
    "import os, glob, re, pickle\n",
    "from functools import partial\n",
    "from collections import OrderedDict\n",
    "import operator as op\n",
    "from cytoolz import compose\n",
    "\n",
    "import numpy as np\n",
    "import pandas as pd\n",
    "import scanpy as sc\n",
    "import scipy as sp\n",
    "import loompy as lp\n",
    "import seaborn as sns\n",
    "import matplotlib as mpl\n",
    "import matplotlib.pyplot as plt\n",
    "import anndata\n",
    "\n",
    "from pyscenic.export import export2loom, add_scenic_metadata\n",
    "from pyscenic.utils import load_motifs\n",
    "from pyscenic.transform import df2regulons\n",
    "from pyscenic.aucell import aucell\n",
    "from pyscenic.binarization import binarize\n",
    "from pyscenic.rss import regulon_specificity_scores\n",
    "from pyscenic.plotting import plot_binarization, plot_rss\n",
    "\n",
    "from IPython.display import HTML, display\n",
    "\n",
    "# Print date and time:\n",
    "import datetime\n",
    "e = datetime.datetime.now()\n",
    "print (\"Current date and time = %s\" % e)\n",
    "\n",
    "wdir = \"/mnt/da8aa2c4-0136-465b-87a2-d12a59afec55/akurjan/analysis/notebooks/adult/\"\n",
    "os.chdir( wdir )\n",
    "\n",
    "# folder structures\n",
    "INPUT_FOLDERNAME = \"annotation/results/\"\n",
    "RESULTS_FOLDERNAME = \"scenic/results/\"\n",
    "FIGURES_FOLDERNAME = \"scenic/figures/\"\n",
    "AUXILLIARIES_FOLDERNAME = \"../../files/auxilliaries/\"\n",
    "\n",
    "if not os.path.exists(RESULTS_FOLDERNAME):\n",
    "    os.makedirs(RESULTS_FOLDERNAME)\n",
    "if not os.path.exists(FIGURES_FOLDERNAME):\n",
    "    os.makedirs(FIGURES_FOLDERNAME)\n",
    "\n",
    "# Set folder for saving figures into\n",
    "sc.settings.figdir = FIGURES_FOLDERNAME\n",
    "\n",
    "# Set other settings\n",
    "sc.settings.verbosity = 3 # verbosity: errors (0), warnings (1), info (2), hints (3)\n",
    "sc.logging.print_versions()\n",
    "sc.set_figure_params(dpi=150, fontsize=10, dpi_save=600)"
   ]
  },
  {
   "cell_type": "code",
   "execution_count": 2,
   "id": "1ee00577",
   "metadata": {},
   "outputs": [],
   "source": [
    "DATASET_ID = \"adult_ach\"\n",
    "\n",
    "ADJACENCIES_FNAME = os.path.join(RESULTS_FOLDERNAME, '{}.adjacencies.tsv'.format(DATASET_ID))\n",
    "MOTIFS_FNAME = os.path.join(RESULTS_FOLDERNAME, '{}.motifs.csv'.format(DATASET_ID))\n",
    "REGULONS_DAT_FNAME = os.path.join(RESULTS_FOLDERNAME, '{}.regulons.dat'.format(DATASET_ID))\n",
    "AUCELL_MTX_FNAME = os.path.join(RESULTS_FOLDERNAME, '{}.auc.csv'.format(DATASET_ID))\n",
    "BIN_MTX_FNAME = os.path.join(RESULTS_FOLDERNAME, '{}.bin.csv'.format(DATASET_ID))\n",
    "THR_FNAME = os.path.join(RESULTS_FOLDERNAME, '{}.thresholds.csv'.format(DATASET_ID))\n",
    "ANNDATA_FNAME = os.path.join(RESULTS_FOLDERNAME, '{}.h5ad'.format(DATASET_ID))\n",
    "LOOM_FNAME = os.path.join(RESULTS_FOLDERNAME, '{}.scenic.loom'.format(DATASET_ID))\n",
    "RES_FNAME = os.path.join(RESULTS_FOLDERNAME, '{}.regulon_mat.csv'.format(DATASET_ID))\n",
    "\n",
    "def savesvg(fname: str, fig, folder: str=FIGURES_FOLDERNAME) -> None:\n",
    "    \"\"\"\n",
    "    Save figure as vector-based SVG image format.\n",
    "    \"\"\"\n",
    "    fig.tight_layout()\n",
    "    fig.savefig(os.path.join(folder, fname), format='svg')"
   ]
  },
  {
   "cell_type": "code",
   "execution_count": null,
   "id": "48071f75",
   "metadata": {},
   "outputs": [],
   "source": [
    "adata = sc.read_h5ad(os.path.join(INPUT_FOLDERNAME, 'adultdev_combined_scANVI.h5ad'))\n",
    "adata.var_names_make_unique()\n",
    "adata"
   ]
  },
  {
   "cell_type": "code",
   "execution_count": null,
   "id": "c2ec2181",
   "metadata": {},
   "outputs": [],
   "source": [
    "adata.obs['grouptype'].value_counts()"
   ]
  },
  {
   "cell_type": "code",
   "execution_count": null,
   "id": "a40503ca",
   "metadata": {},
   "outputs": [],
   "source": [
    "adata = adata[adata.obs['grouptype'] == 'Adult_Quad'].copy()\n",
    "adata"
   ]
  },
  {
   "cell_type": "code",
   "execution_count": null,
   "id": "ca34f40b",
   "metadata": {},
   "outputs": [],
   "source": [
    "sc.pp.filter_genes(adata, min_counts=50, inplace=True)"
   ]
  },
  {
   "cell_type": "code",
   "execution_count": null,
   "id": "4f58813c",
   "metadata": {},
   "outputs": [],
   "source": [
    "print(adata.X[0:10,0:10])\n",
    "adata.layers[\"counts\"] = adata.X.copy()"
   ]
  },
  {
   "cell_type": "code",
   "execution_count": null,
   "id": "d64c9935",
   "metadata": {},
   "outputs": [],
   "source": [
    "sc.pp.normalize_total(adata, target_sum=None, inplace=True)\n",
    "print(adata.X[0:10,0:10])"
   ]
  },
  {
   "cell_type": "code",
   "execution_count": null,
   "id": "affa3d2c",
   "metadata": {},
   "outputs": [],
   "source": [
    "sc.pp.log1p(adata)\n",
    "print(adata.X[0:10, 0:10])\n",
    "adata.layers[\"log1p_norm\"] = adata.X.copy()"
   ]
  },
  {
   "cell_type": "code",
   "execution_count": null,
   "id": "d6c84eab",
   "metadata": {},
   "outputs": [],
   "source": [
    "data = pd.read_csv(os.path.join(INPUT_FOLDERNAME, \"Barcodes_and_celltypes_for_Alina.csv\"), index_col='barcodes')\n",
    "data"
   ]
  },
  {
   "cell_type": "code",
   "execution_count": null,
   "id": "b2e50a7e",
   "metadata": {},
   "outputs": [],
   "source": [
    "matched_data = adata.obs.join(data['cluster_id'], how='inner')\n",
    "matched_data"
   ]
  },
  {
   "cell_type": "code",
   "execution_count": null,
   "id": "ed1f2245",
   "metadata": {},
   "outputs": [],
   "source": [
    "adata.obs.index = adata.obs.index.astype(str)\n",
    "data.index = data.index.astype(str)\n",
    "\n",
    "missing_barcodes = set(data.index) - set(adata.obs.index)\n",
    "if len(missing_barcodes) > 0:\n",
    "    print(\"Warning: Some barcodes from the CSV are not present in the AnnData object.\")\n"
   ]
  },
  {
   "cell_type": "code",
   "execution_count": null,
   "id": "25547e04",
   "metadata": {},
   "outputs": [],
   "source": [
    "adata.obs['annotations_new'] = matched_data['cluster_id']"
   ]
  },
  {
   "cell_type": "code",
   "execution_count": null,
   "id": "10deaa32",
   "metadata": {},
   "outputs": [],
   "source": [
    "sc.pl.umap(adata, color='annotations_new', frameon=False, legend_loc='on data', \n",
    "           legend_fontsize=4,\n",
    "          save=f'{DATASET_ID}_new_annotations.svg'\n",
    "          )"
   ]
  },
  {
   "cell_type": "code",
   "execution_count": null,
   "id": "d651ba8e",
   "metadata": {},
   "outputs": [],
   "source": [
    "adata.obs['annotations_orig_full'] = adata.obs['annotations_orig_full'].apply(lambda x: '_'.join(x.split('_')[2:]) if len(x.split('_')) > 2 else '')"
   ]
  },
  {
   "cell_type": "code",
   "execution_count": null,
   "id": "ccc9cfc6",
   "metadata": {},
   "outputs": [],
   "source": [
    "sc.pl.umap(adata, color='leiden_fibros', frameon=False, legend_loc='on data', legend_fontsize=6,\n",
    "          save=f'{DATASET_ID}_leiden_fibros.svg'\n",
    "          )"
   ]
  },
  {
   "cell_type": "code",
   "execution_count": null,
   "id": "268f2f13",
   "metadata": {},
   "outputs": [],
   "source": [
    "sc.pl.umap(adata, color='tendon_status', frameon=False, legend_loc='on data', legend_fontsize=6,\n",
    "          save=f'{DATASET_ID}_status.svg'\n",
    "          )"
   ]
  },
  {
   "cell_type": "markdown",
   "id": "eea9a023",
   "metadata": {},
   "source": [
    "# Downloading files"
   ]
  },
  {
   "cell_type": "markdown",
   "id": "e3a18184",
   "metadata": {},
   "source": [
    "Pick and download from https://resources.aertslab.org/cistarget/:"
   ]
  },
  {
   "cell_type": "code",
   "execution_count": null,
   "id": "6aef1e39",
   "metadata": {},
   "outputs": [],
   "source": [
    "!wget https://resources.aertslab.org/cistarget/tf_lists/allTFs_hg38.txt"
   ]
  },
  {
   "cell_type": "markdown",
   "id": "3811a518",
   "metadata": {},
   "source": [
    "### v10"
   ]
  },
  {
   "cell_type": "code",
   "execution_count": null,
   "id": "f220c651",
   "metadata": {},
   "outputs": [],
   "source": [
    "!wget https://resources.aertslab.org/cistarget/databases/homo_sapiens/hg38/refseq_r80/mc_v10_clust/gene_based/hg38_10kbp_up_10kbp_down_full_tx_v10_clust.genes_vs_motifs.rankings.feather"
   ]
  },
  {
   "cell_type": "code",
   "execution_count": null,
   "id": "58bb0caf",
   "metadata": {},
   "outputs": [],
   "source": [
    "!wget https://resources.aertslab.org/cistarget/databases/homo_sapiens/hg38/refseq_r80/mc_v10_clust/gene_based/hg38_500bp_up_100bp_down_full_tx_v10_clust.genes_vs_motifs.rankings.feather"
   ]
  },
  {
   "cell_type": "code",
   "execution_count": null,
   "id": "ba7f9391",
   "metadata": {},
   "outputs": [],
   "source": [
    "!wget https://resources.aertslab.org/cistarget/motif2tf/motifs-v10nr_clust-nr.hgnc-m0.001-o0.0.tbl"
   ]
  },
  {
   "cell_type": "code",
   "execution_count": 3,
   "id": "1ed6d815",
   "metadata": {},
   "outputs": [],
   "source": [
    "# transcription factors list from https://github.com/aertslab/SCENICprotocol/blob/master/example/\n",
    "HUMAN_TFS_FNAME = os.path.join(AUXILLIARIES_FOLDERNAME, 'allTFs_hg38.txt')\n",
    "# Ranking databases. Downloaded from cisTargetDB: https://resources.aertslab.org/cistarget/\n",
    "RANKING_DBS_FNAMES = list(map(lambda fn: os.path.join(AUXILLIARIES_FOLDERNAME, fn),\n",
    "                        ['v10/hg38_500bp_up_100bp_down_full_tx_v10_clust.genes_vs_motifs.rankings.feather',\n",
    "                        'v10/hg38_10kbp_up_10kbp_down_full_tx_v10_clust.genes_vs_motifs.rankings.feather']))\n",
    "# Motif annotations. Downloaded from cisTargetDB: https://resources.aertslab.org/cistarget/\n",
    "MOTIF_ANNOTATIONS_FNAME = os.path.join(AUXILLIARIES_FOLDERNAME, 'v10/motifs-v10nr_clust-nr.hgnc-m0.001-o0.0.tbl')"
   ]
  },
  {
   "cell_type": "code",
   "execution_count": 4,
   "id": "d67e3fb1",
   "metadata": {},
   "outputs": [
    {
     "data": {
      "text/plain": [
       "['../../files/auxilliaries/v10/hg38_500bp_up_100bp_down_full_tx_v10_clust.genes_vs_motifs.rankings.feather',\n",
       " '../../files/auxilliaries/v10/hg38_10kbp_up_10kbp_down_full_tx_v10_clust.genes_vs_motifs.rankings.feather']"
      ]
     },
     "execution_count": 4,
     "metadata": {},
     "output_type": "execute_result"
    }
   ],
   "source": [
    "RANKING_DBS_FNAMES"
   ]
  },
  {
   "cell_type": "markdown",
   "id": "0bb07126",
   "metadata": {},
   "source": [
    "# SCENIC Loom File Prep"
   ]
  },
  {
   "cell_type": "code",
   "execution_count": null,
   "id": "bd6fde53",
   "metadata": {},
   "outputs": [],
   "source": [
    "print(adultquad.var_names)\n",
    "print(adultquad.obs_names)"
   ]
  },
  {
   "cell_type": "code",
   "execution_count": null,
   "id": "cc9be3f4",
   "metadata": {},
   "outputs": [],
   "source": [
    "print(adultquad.X[1:5,1:5])\n",
    "print(adultach.X[1:5,1:5])"
   ]
  },
  {
   "cell_type": "code",
   "execution_count": null,
   "id": "403d4025",
   "metadata": {},
   "outputs": [],
   "source": [
    "adatadict = {'adult_quad': adultquad,\n",
    "            'adult_ach': adultach}\n",
    "adatadict"
   ]
  },
  {
   "cell_type": "code",
   "execution_count": null,
   "id": "fbe9300c",
   "metadata": {},
   "outputs": [],
   "source": [
    "for name, adata in adatadict.items():\n",
    "    # create basic row and column attributes for the loom file:\n",
    "    row_attrs = {\n",
    "        \"Gene\": np.array(adata.var_names) ,\n",
    "    }\n",
    "    col_attrs = {\n",
    "        \"CellID\": np.array(adata.obs_names) ,\n",
    "        \"nGene\": np.array( np.sum(adata.X.transpose()>0 , axis=0)).flatten() ,\n",
    "        \"nUMI\": np.array( np.sum(adata.X.transpose() , axis=0)).flatten() ,\n",
    "    }\n",
    "    lp.create(os.path.join(RESULTS_FOLDERNAME, f'{name}.scenic.loom'), adata.X.transpose(), row_attrs, col_attrs)"
   ]
  },
  {
   "cell_type": "markdown",
   "id": "c14da07a",
   "metadata": {},
   "source": [
    "# SCENIC"
   ]
  },
  {
   "cell_type": "markdown",
   "id": "163b73ff",
   "metadata": {},
   "source": [
    "### Checking parameters for AUCELL (step 3)\n",
    "\n",
    "\"It is important to check that most cells have a substantial fraction of expressed/detected genes in the calculation of the AUC. The following histogram gives an idea of the distribution and allows selection of an appropriate threshold. In this plot, a few thresholds are highlighted, with the number of genes selected shown in red text and the corresponding percentile in parentheses).\" \"See the relevant section in the R tutorial (https://scenic.aertslab.org/scenic_paper/tutorials/AUCell.html#build-gene-expression-rankings-for-each-cell) for more information.\"\n",
    "\n",
    "The information obtained from this plot can be used to set appropriate thresholds for filtering out low-quality cells or genes from downstream analysis. For example, cells with very low numbers of detected genes may be considered low-quality and removed from the dataset. Conversely, genes that are detected in only a small number of cells may also be filtered out as potential noise."
   ]
  },
  {
   "cell_type": "code",
   "execution_count": null,
   "id": "bbcc2434",
   "metadata": {
    "scrolled": false
   },
   "outputs": [],
   "source": [
    "for name, adata in adatadict.items():\n",
    "    nGenesDetectedPerCell = pd.DataFrame(np.sum(adata.X>0, axis=1))\n",
    "    nGenesDetectedPerCell = nGenesDetectedPerCell.squeeze()\n",
    "\n",
    "    percentiles = nGenesDetectedPerCell.quantile([0.01, 0.05, 0.10, 0.50, 1])\n",
    "    print(percentiles)\n",
    "\n",
    "    fig, ax = plt.subplots(1, 1, figsize=(8, 5), dpi=150)\n",
    "    sns.distplot(nGenesDetectedPerCell, norm_hist=False, kde=False, bins='fd')\n",
    "    for i,x in enumerate(percentiles):\n",
    "        fig.gca().axvline(x=x, ymin=0,ymax=1, color='red')\n",
    "        ax.text(x=x, y=ax.get_ylim()[1], s=f'{int(x)} ({percentiles.index.values[i]*100}%)', color='red', rotation=30, size='x-small',rotation_mode='anchor' )\n",
    "    ax.set_title('# of genes detected per cell')\n",
    "    ax.set_xlabel('# of genes')\n",
    "    ax.set_ylabel('# of cells')\n",
    "    fig.tight_layout()"
   ]
  },
  {
   "cell_type": "markdown",
   "id": "d7afaf39",
   "metadata": {},
   "source": [
    "The `--auc_threshold` value determines the minimum Area Under the Curve (AUC) score that a gene must have in order to be considered significant. By setting the `--auc_threshold` parameter to a specific value, we control the stringency of the gene signature enrichment analysis. Genes with AUC scores below the threshold are considered non-significant and are excluded from downstream analysis. A lower threshold value will result in more genes being considered significant, while a higher threshold value will result in fewer genes being considered significant. The choice of threshold value will depend on the specific research question and the quality of the data.\n",
    "\n",
    "During the SCENIC workflow, the AUC score is used to assess the enrichment of each gene signature in each cell type or condition. The AUC score reflects the ability of a gene signature to discriminate between the expression profiles of two cell types or conditions. Genes with high AUC scores are considered to be strongly associated with the gene signature and are likely to play an important role in the biological process or pathway represented by the signature.\n",
    "\n",
    "In general, it is recommended to use a threshold that strikes a balance between sensitivity and specificity in identifying significant genes. Setting a low threshold value will result in more genes being identified as significant, but may also increase the risk of false positives. Setting a high threshold value will reduce the number of false positives, but may also lead to false negatives and miss important genes.\n",
    "\n",
    "One approach to selecting an appropriate threshold value is to consider the distribution of AUC scores across all genes in the dataset. If the distribution is bimodal, with one peak representing non-significant genes and another peak representing significant genes, the threshold can be set at the valley between the two peaks. However, if the distribution is unimodal or irregular, other methods can be used.\n",
    "\n",
    "- By using the setting for `--auc_threshold` of 0.05, we see that 507 genes are selected for the rankings based on the plot above."
   ]
  },
  {
   "cell_type": "markdown",
   "id": "5645eb2c",
   "metadata": {},
   "source": [
    "# ALL JOBS COMPUTATIONALLY HEAVY, RUN ON CCB CLUSTER \n",
    "(JUMBO NODE)"
   ]
  },
  {
   "cell_type": "markdown",
   "id": "f3bef1c4",
   "metadata": {},
   "source": [
    "#### STEP 1: Network inference based on GRNBoost2:"
   ]
  },
  {
   "cell_type": "code",
   "execution_count": null,
   "id": "db27a3ed",
   "metadata": {
    "scrolled": true
   },
   "outputs": [],
   "source": [
    "!pyscenic grn {LOOM_FNAME} {HUMAN_TFS_FNAME} \\\n",
    "-o {ADJACENCIES_FNAME} \\\n",
    "--seed 4000 \\\n",
    "--num_workers 40"
   ]
  },
  {
   "cell_type": "markdown",
   "id": "6579aec8",
   "metadata": {},
   "source": [
    "alternative if dask doesn't work:"
   ]
  },
  {
   "cell_type": "code",
   "execution_count": null,
   "id": "142d7363",
   "metadata": {},
   "outputs": [],
   "source": [
    "!arboreto_with_multiprocessing.py {LOOM_FNAME} {HUMAN_TFS_FNAME} \\\n",
    "-o {ADJACENCIES_FNAME} \\\n",
    "--num_workers 8 \\\n",
    "--method grnboost2 \\\n",
    "--seed 4000"
   ]
  },
  {
   "cell_type": "markdown",
   "id": "777016ef",
   "metadata": {},
   "source": [
    "#### STEP2: Regulon prediction (cisTarget):"
   ]
  },
  {
   "cell_type": "code",
   "execution_count": null,
   "id": "f6e24df6",
   "metadata": {},
   "outputs": [],
   "source": [
    "DBS_PARAM = ' '.join(RANKING_DBS_FNAMES)\n",
    "DBS_PARAM"
   ]
  },
  {
   "cell_type": "code",
   "execution_count": null,
   "id": "4462d3a4",
   "metadata": {},
   "outputs": [],
   "source": [
    "!pyscenic ctx {ADJACENCIES_FNAME} {DBS_PARAM}\\\n",
    "--annotations_fname {MOTIF_ANNOTATIONS_FNAME}\\\n",
    "--expression_mtx_fname {LOOM_FNAME}\\\n",
    "--output {MOTIFS_FNAME} \\\n",
    "--auc_threshold 0.05"
   ]
  },
  {
   "cell_type": "markdown",
   "id": "53a2300b",
   "metadata": {},
   "source": [
    "#### STEP3: AUCELL: CHECK APPROPRIATE AUC_THRESHOLD TO SET BEFORE RUNNING (see below)"
   ]
  },
  {
   "cell_type": "code",
   "execution_count": 5,
   "id": "1256bdde",
   "metadata": {},
   "outputs": [],
   "source": [
    "LOOM_FNAME_OUT = os.path.join(RESULTS_FOLDERNAME, '{}_005AUC.scenic.loom'.format(DATASET_ID))"
   ]
  },
  {
   "cell_type": "code",
   "execution_count": 6,
   "id": "7aa1ece8",
   "metadata": {},
   "outputs": [
    {
     "data": {
      "text/plain": [
       "'scenic/results/adult_ach.scenic.loom'"
      ]
     },
     "execution_count": 6,
     "metadata": {},
     "output_type": "execute_result"
    }
   ],
   "source": [
    "LOOM_FNAME"
   ]
  },
  {
   "cell_type": "code",
   "execution_count": null,
   "id": "c003ce0b",
   "metadata": {},
   "outputs": [],
   "source": [
    "!pyscenic aucell {LOOM_FNAME} {MOTIFS_FNAME}\\\n",
    "--output {LOOM_FNAME_OUT}\\\n",
    "--auc_threshold 0.05"
   ]
  },
  {
   "cell_type": "markdown",
   "id": "d00d75f3",
   "metadata": {},
   "source": [
    "# Checking motifs"
   ]
  },
  {
   "cell_type": "code",
   "execution_count": 7,
   "id": "cda52a6c",
   "metadata": {},
   "outputs": [],
   "source": [
    "df_motifs = load_motifs(MOTIFS_FNAME)"
   ]
  },
  {
   "cell_type": "code",
   "execution_count": 8,
   "id": "cd2b6292",
   "metadata": {},
   "outputs": [
    {
     "data": {
      "text/html": [
       "<div>\n",
       "<style scoped>\n",
       "    .dataframe tbody tr th:only-of-type {\n",
       "        vertical-align: middle;\n",
       "    }\n",
       "\n",
       "    .dataframe tbody tr th {\n",
       "        vertical-align: top;\n",
       "    }\n",
       "\n",
       "    .dataframe thead tr th {\n",
       "        text-align: left;\n",
       "    }\n",
       "\n",
       "    .dataframe thead tr:last-of-type th {\n",
       "        text-align: right;\n",
       "    }\n",
       "</style>\n",
       "<table border=\"1\" class=\"dataframe\">\n",
       "  <thead>\n",
       "    <tr>\n",
       "      <th></th>\n",
       "      <th></th>\n",
       "      <th colspan=\"8\" halign=\"left\">Enrichment</th>\n",
       "    </tr>\n",
       "    <tr>\n",
       "      <th></th>\n",
       "      <th></th>\n",
       "      <th>AUC</th>\n",
       "      <th>NES</th>\n",
       "      <th>MotifSimilarityQvalue</th>\n",
       "      <th>OrthologousIdentity</th>\n",
       "      <th>Annotation</th>\n",
       "      <th>Context</th>\n",
       "      <th>TargetGenes</th>\n",
       "      <th>RankAtMax</th>\n",
       "    </tr>\n",
       "    <tr>\n",
       "      <th>TF</th>\n",
       "      <th>MotifID</th>\n",
       "      <th></th>\n",
       "      <th></th>\n",
       "      <th></th>\n",
       "      <th></th>\n",
       "      <th></th>\n",
       "      <th></th>\n",
       "      <th></th>\n",
       "      <th></th>\n",
       "    </tr>\n",
       "  </thead>\n",
       "  <tbody>\n",
       "    <tr>\n",
       "      <th rowspan=\"5\" valign=\"top\">ELF2</th>\n",
       "      <th>taipale_tf_pairs__ETS2_RCCGGAAGTG_HT</th>\n",
       "      <td>0.052467</td>\n",
       "      <td>3.148716</td>\n",
       "      <td>4.198040e-06</td>\n",
       "      <td>1.0</td>\n",
       "      <td>gene is annotated for similar motif jaspar__MA...</td>\n",
       "      <td>(hg38_500bp_up_100bp_down_full_tx_v10_clust.ge...</td>\n",
       "      <td>[(XRCC5, 1.4866481123019786), (RMDN1, 1.035880...</td>\n",
       "      <td>4987</td>\n",
       "    </tr>\n",
       "    <tr>\n",
       "      <th>metacluster_191.2</th>\n",
       "      <td>0.057349</td>\n",
       "      <td>3.837745</td>\n",
       "      <td>2.367950e-08</td>\n",
       "      <td>1.0</td>\n",
       "      <td>gene is annotated for similar motif hocomoco__...</td>\n",
       "      <td>(hg38_500bp_up_100bp_down_full_tx_v10_clust.ge...</td>\n",
       "      <td>[(TMEM167A, 0.8339872165064734), (RMDN1, 1.035...</td>\n",
       "      <td>4860</td>\n",
       "    </tr>\n",
       "    <tr>\n",
       "      <th>metacluster_191.3</th>\n",
       "      <td>0.054995</td>\n",
       "      <td>3.505464</td>\n",
       "      <td>3.144740e-14</td>\n",
       "      <td>1.0</td>\n",
       "      <td>gene is annotated for similar motif taipale_cy...</td>\n",
       "      <td>(hg38_500bp_up_100bp_down_full_tx_v10_clust.ge...</td>\n",
       "      <td>[(TMEM167A, 0.8339872165064734), (NME7, 0.5362...</td>\n",
       "      <td>4989</td>\n",
       "    </tr>\n",
       "    <tr>\n",
       "      <th>hdpi__ELF2</th>\n",
       "      <td>0.057854</td>\n",
       "      <td>3.909000</td>\n",
       "      <td>0.000000e+00</td>\n",
       "      <td>1.0</td>\n",
       "      <td>gene is directly annotated</td>\n",
       "      <td>(hg38_500bp_up_100bp_down_full_tx_v10_clust.ge...</td>\n",
       "      <td>[(XRCC5, 1.4866481123019786), (SLC39A10, 1.233...</td>\n",
       "      <td>4997</td>\n",
       "    </tr>\n",
       "    <tr>\n",
       "      <th>metacluster_138.2</th>\n",
       "      <td>0.055633</td>\n",
       "      <td>3.595539</td>\n",
       "      <td>0.000000e+00</td>\n",
       "      <td>1.0</td>\n",
       "      <td>gene is directly annotated</td>\n",
       "      <td>(hg38_500bp_up_100bp_down_full_tx_v10_clust.ge...</td>\n",
       "      <td>[(CCAR1, 0.570494674774363), (ILF3, 0.80865480...</td>\n",
       "      <td>1054</td>\n",
       "    </tr>\n",
       "  </tbody>\n",
       "</table>\n",
       "</div>"
      ],
      "text/plain": [
       "                                          Enrichment            \\\n",
       "                                                 AUC       NES   \n",
       "TF   MotifID                                                     \n",
       "ELF2 taipale_tf_pairs__ETS2_RCCGGAAGTG_HT   0.052467  3.148716   \n",
       "     metacluster_191.2                      0.057349  3.837745   \n",
       "     metacluster_191.3                      0.054995  3.505464   \n",
       "     hdpi__ELF2                             0.057854  3.909000   \n",
       "     metacluster_138.2                      0.055633  3.595539   \n",
       "\n",
       "                                                                 \\\n",
       "                                          MotifSimilarityQvalue   \n",
       "TF   MotifID                                                      \n",
       "ELF2 taipale_tf_pairs__ETS2_RCCGGAAGTG_HT          4.198040e-06   \n",
       "     metacluster_191.2                             2.367950e-08   \n",
       "     metacluster_191.3                             3.144740e-14   \n",
       "     hdpi__ELF2                                    0.000000e+00   \n",
       "     metacluster_138.2                             0.000000e+00   \n",
       "\n",
       "                                                               \\\n",
       "                                          OrthologousIdentity   \n",
       "TF   MotifID                                                    \n",
       "ELF2 taipale_tf_pairs__ETS2_RCCGGAAGTG_HT                 1.0   \n",
       "     metacluster_191.2                                    1.0   \n",
       "     metacluster_191.3                                    1.0   \n",
       "     hdpi__ELF2                                           1.0   \n",
       "     metacluster_138.2                                    1.0   \n",
       "\n",
       "                                                                                              \\\n",
       "                                                                                  Annotation   \n",
       "TF   MotifID                                                                                   \n",
       "ELF2 taipale_tf_pairs__ETS2_RCCGGAAGTG_HT  gene is annotated for similar motif jaspar__MA...   \n",
       "     metacluster_191.2                     gene is annotated for similar motif hocomoco__...   \n",
       "     metacluster_191.3                     gene is annotated for similar motif taipale_cy...   \n",
       "     hdpi__ELF2                                                   gene is directly annotated   \n",
       "     metacluster_138.2                                            gene is directly annotated   \n",
       "\n",
       "                                                                                              \\\n",
       "                                                                                     Context   \n",
       "TF   MotifID                                                                                   \n",
       "ELF2 taipale_tf_pairs__ETS2_RCCGGAAGTG_HT  (hg38_500bp_up_100bp_down_full_tx_v10_clust.ge...   \n",
       "     metacluster_191.2                     (hg38_500bp_up_100bp_down_full_tx_v10_clust.ge...   \n",
       "     metacluster_191.3                     (hg38_500bp_up_100bp_down_full_tx_v10_clust.ge...   \n",
       "     hdpi__ELF2                            (hg38_500bp_up_100bp_down_full_tx_v10_clust.ge...   \n",
       "     metacluster_138.2                     (hg38_500bp_up_100bp_down_full_tx_v10_clust.ge...   \n",
       "\n",
       "                                                                                              \\\n",
       "                                                                                 TargetGenes   \n",
       "TF   MotifID                                                                                   \n",
       "ELF2 taipale_tf_pairs__ETS2_RCCGGAAGTG_HT  [(XRCC5, 1.4866481123019786), (RMDN1, 1.035880...   \n",
       "     metacluster_191.2                     [(TMEM167A, 0.8339872165064734), (RMDN1, 1.035...   \n",
       "     metacluster_191.3                     [(TMEM167A, 0.8339872165064734), (NME7, 0.5362...   \n",
       "     hdpi__ELF2                            [(XRCC5, 1.4866481123019786), (SLC39A10, 1.233...   \n",
       "     metacluster_138.2                     [(CCAR1, 0.570494674774363), (ILF3, 0.80865480...   \n",
       "\n",
       "                                                     \n",
       "                                          RankAtMax  \n",
       "TF   MotifID                                         \n",
       "ELF2 taipale_tf_pairs__ETS2_RCCGGAAGTG_HT      4987  \n",
       "     metacluster_191.2                         4860  \n",
       "     metacluster_191.3                         4989  \n",
       "     hdpi__ELF2                                4997  \n",
       "     metacluster_138.2                         1054  "
      ]
     },
     "execution_count": 8,
     "metadata": {},
     "output_type": "execute_result"
    }
   ],
   "source": [
    "df_motifs.head()"
   ]
  },
  {
   "cell_type": "code",
   "execution_count": null,
   "id": "37f48cb8",
   "metadata": {},
   "outputs": [],
   "source": [
    "def derive_regulons(motifs, db_names=('hg38__refseq-r80__10kb_up_and_down_tss.mc9nr', \n",
    "                                      'hg38__refseq-r80__500bp_up_and_100bp_down_tss.mc9nr')):\n",
    "    motifs.columns = motifs.columns.droplevel(0)\n",
    "\n",
    "    def contains(*elems):\n",
    "        def f(context):\n",
    "            return any(elem in context for elem in elems)\n",
    "        return f\n",
    "\n",
    "    # For the creation of regulons we only keep the 10-species databases and the activating modules. We also remove the\n",
    "    # enriched motifs for the modules that were created using the method 'weight>50.0%' (because these modules are not part\n",
    "    # of the default settings of modules_from_adjacencies anymore.\n",
    "    motifs = motifs[\n",
    "        np.fromiter(map(compose(op.not_, contains('weight>50.0%')), motifs.Context), dtype=np.bool) & \\\n",
    "        np.fromiter(map(contains(*db_names), motifs.Context), dtype=np.bool) & \\\n",
    "        np.fromiter(map(contains('activating'), motifs.Context), dtype=np.bool)]\n",
    "\n",
    "    # We build regulons only using enriched motifs with a NES of 3.0 or higher; we take only directly annotated TFs or TF annotated\n",
    "    # for an orthologous gene into account; and we only keep regulons with at least 10 genes.\n",
    "    regulons = list(filter(lambda r: len(r) >= 10, df2regulons(motifs[(motifs['NES'] >= 3.0) \n",
    "                                                                      & ((motifs['Annotation'] == 'gene is directly annotated')\n",
    "                                                                        | (motifs['Annotation'].str.startswith('gene is orthologous to')\n",
    "                                                                           & motifs['Annotation'].str.endswith('which is directly annotated for motif')))\n",
    "                                                                     ])))\n",
    "    \n",
    "    # Rename regulons, i.e. remove suffix.\n",
    "    return list(map(lambda r: r.rename(r.transcription_factor), regulons))\n",
    "\n",
    "#regulons = derive_regulons(df_motifs)\n",
    "#len(regulons)"
   ]
  },
  {
   "cell_type": "code",
   "execution_count": 9,
   "id": "116fb97e",
   "metadata": {},
   "outputs": [
    {
     "name": "stdout",
     "output_type": "stream",
     "text": [
      "Create regulons from a dataframe of enriched features.\n",
      "Additional columns saved: []\n"
     ]
    }
   ],
   "source": [
    "regulons = df2regulons(df_motifs)"
   ]
  },
  {
   "cell_type": "code",
   "execution_count": 10,
   "id": "8d011fd0",
   "metadata": {},
   "outputs": [],
   "source": [
    "# Pickle these regulons.\n",
    "with open(REGULONS_DAT_FNAME, 'wb') as f:\n",
    "    pickle.dump(regulons, f)"
   ]
  },
  {
   "cell_type": "markdown",
   "id": "8a50d805",
   "metadata": {},
   "source": [
    "# Visualization of SCENIC's AUC matrix"
   ]
  },
  {
   "cell_type": "code",
   "execution_count": 11,
   "id": "c89dbde3",
   "metadata": {},
   "outputs": [],
   "source": [
    "lf = lp.connect(LOOM_FNAME_OUT, mode='r+', validate=False )\n",
    "auc_mtx = pd.DataFrame( lf.ca.RegulonsAUC, index=lf.ca.CellID)\n",
    "#exprMat = pd.DataFrame( lf[:,:], index=lf.ra.Gene, columns=lf.ca.CellID)\n",
    "regulons = lf.ra.Regulons\n",
    "#res=pd.concat([pd.Series(r.tolist(),index=regulons.dtype.names) for r in regulons],axis=1)\n",
    "#res.columns=lf.row_attrs[\"Gene\"]\n",
    "#res.to_csv(RES_FNAME)\n",
    "lf.close()"
   ]
  },
  {
   "cell_type": "code",
   "execution_count": 12,
   "id": "592db954",
   "metadata": {},
   "outputs": [],
   "source": [
    "# Pickle these regulons.\n",
    "with open(REGULONS_DAT_FNAME, 'wb') as f:\n",
    "    pickle.dump(regulons, f)"
   ]
  },
  {
   "cell_type": "code",
   "execution_count": 13,
   "id": "06947a38",
   "metadata": {},
   "outputs": [
    {
     "data": {
      "text/html": [
       "<div>\n",
       "<style scoped>\n",
       "    .dataframe tbody tr th:only-of-type {\n",
       "        vertical-align: middle;\n",
       "    }\n",
       "\n",
       "    .dataframe tbody tr th {\n",
       "        vertical-align: top;\n",
       "    }\n",
       "\n",
       "    .dataframe thead th {\n",
       "        text-align: right;\n",
       "    }\n",
       "</style>\n",
       "<table border=\"1\" class=\"dataframe\">\n",
       "  <thead>\n",
       "    <tr style=\"text-align: right;\">\n",
       "      <th></th>\n",
       "      <th>ARID3A(+)</th>\n",
       "      <th>ATF4(+)</th>\n",
       "      <th>BCL11B(+)</th>\n",
       "      <th>BPTF(+)</th>\n",
       "      <th>CEBPB(+)</th>\n",
       "      <th>CUX1(+)</th>\n",
       "      <th>DLX5(+)</th>\n",
       "      <th>EBF1(+)</th>\n",
       "      <th>ELF2(+)</th>\n",
       "      <th>EP300(+)</th>\n",
       "      <th>...</th>\n",
       "      <th>TEAD3(+)</th>\n",
       "      <th>TFAP2E(+)</th>\n",
       "      <th>THRB(+)</th>\n",
       "      <th>USF1(+)</th>\n",
       "      <th>VAX2(+)</th>\n",
       "      <th>ZBTB20(+)</th>\n",
       "      <th>ZBTB21(+)</th>\n",
       "      <th>ZEB1(+)</th>\n",
       "      <th>ZNF219(+)</th>\n",
       "      <th>ZNF624(+)</th>\n",
       "    </tr>\n",
       "  </thead>\n",
       "  <tbody>\n",
       "    <tr>\n",
       "      <th>MSK0785-Ach-Enth_AAAGAACGTAGGTTTC</th>\n",
       "      <td>0.000000</td>\n",
       "      <td>0.000000</td>\n",
       "      <td>0.0</td>\n",
       "      <td>0.000000</td>\n",
       "      <td>0.033247</td>\n",
       "      <td>0.082539</td>\n",
       "      <td>0.000000</td>\n",
       "      <td>0.129594</td>\n",
       "      <td>0.068441</td>\n",
       "      <td>0.009010</td>\n",
       "      <td>...</td>\n",
       "      <td>0.000000</td>\n",
       "      <td>0.000000</td>\n",
       "      <td>0.221398</td>\n",
       "      <td>0.043449</td>\n",
       "      <td>0.067897</td>\n",
       "      <td>0.102820</td>\n",
       "      <td>0.014810</td>\n",
       "      <td>0.000000</td>\n",
       "      <td>0.251483</td>\n",
       "      <td>0.000000</td>\n",
       "    </tr>\n",
       "    <tr>\n",
       "      <th>MSK0785-Ach-Enth_AAAGGGCCACATTACG</th>\n",
       "      <td>0.029106</td>\n",
       "      <td>0.000000</td>\n",
       "      <td>0.0</td>\n",
       "      <td>0.060533</td>\n",
       "      <td>0.085826</td>\n",
       "      <td>0.236670</td>\n",
       "      <td>0.000000</td>\n",
       "      <td>0.137093</td>\n",
       "      <td>0.071498</td>\n",
       "      <td>0.007866</td>\n",
       "      <td>...</td>\n",
       "      <td>0.184040</td>\n",
       "      <td>0.000000</td>\n",
       "      <td>0.094044</td>\n",
       "      <td>0.052697</td>\n",
       "      <td>0.000000</td>\n",
       "      <td>0.093838</td>\n",
       "      <td>0.088900</td>\n",
       "      <td>0.243039</td>\n",
       "      <td>0.106038</td>\n",
       "      <td>0.000000</td>\n",
       "    </tr>\n",
       "    <tr>\n",
       "      <th>MSK0785-Ach-Enth_AAAGGGCTCCATCCGT</th>\n",
       "      <td>0.000000</td>\n",
       "      <td>0.000000</td>\n",
       "      <td>0.0</td>\n",
       "      <td>0.000000</td>\n",
       "      <td>0.043835</td>\n",
       "      <td>0.029882</td>\n",
       "      <td>0.038096</td>\n",
       "      <td>0.127833</td>\n",
       "      <td>0.069886</td>\n",
       "      <td>0.025058</td>\n",
       "      <td>...</td>\n",
       "      <td>0.088418</td>\n",
       "      <td>0.273070</td>\n",
       "      <td>0.100106</td>\n",
       "      <td>0.095675</td>\n",
       "      <td>0.094330</td>\n",
       "      <td>0.173972</td>\n",
       "      <td>0.151400</td>\n",
       "      <td>0.255347</td>\n",
       "      <td>0.045339</td>\n",
       "      <td>0.000000</td>\n",
       "    </tr>\n",
       "    <tr>\n",
       "      <th>MSK0785-Ach-Enth_AACCCAATCAGCATTG</th>\n",
       "      <td>0.000000</td>\n",
       "      <td>0.218397</td>\n",
       "      <td>0.0</td>\n",
       "      <td>0.000000</td>\n",
       "      <td>0.060384</td>\n",
       "      <td>0.084834</td>\n",
       "      <td>0.033663</td>\n",
       "      <td>0.120850</td>\n",
       "      <td>0.063248</td>\n",
       "      <td>0.051261</td>\n",
       "      <td>...</td>\n",
       "      <td>0.000000</td>\n",
       "      <td>0.162429</td>\n",
       "      <td>0.048081</td>\n",
       "      <td>0.019169</td>\n",
       "      <td>0.000000</td>\n",
       "      <td>0.196284</td>\n",
       "      <td>0.025216</td>\n",
       "      <td>0.377220</td>\n",
       "      <td>0.080367</td>\n",
       "      <td>0.000000</td>\n",
       "    </tr>\n",
       "    <tr>\n",
       "      <th>MSK0785-Ach-Enth_AACCTGAGTACCTATG</th>\n",
       "      <td>0.000000</td>\n",
       "      <td>0.000000</td>\n",
       "      <td>0.0</td>\n",
       "      <td>0.000000</td>\n",
       "      <td>0.030515</td>\n",
       "      <td>0.142258</td>\n",
       "      <td>0.000000</td>\n",
       "      <td>0.207160</td>\n",
       "      <td>0.069596</td>\n",
       "      <td>0.007695</td>\n",
       "      <td>...</td>\n",
       "      <td>0.000000</td>\n",
       "      <td>0.000000</td>\n",
       "      <td>0.049847</td>\n",
       "      <td>0.068604</td>\n",
       "      <td>0.000000</td>\n",
       "      <td>0.201580</td>\n",
       "      <td>0.111644</td>\n",
       "      <td>0.195621</td>\n",
       "      <td>0.200953</td>\n",
       "      <td>0.000000</td>\n",
       "    </tr>\n",
       "    <tr>\n",
       "      <th>...</th>\n",
       "      <td>...</td>\n",
       "      <td>...</td>\n",
       "      <td>...</td>\n",
       "      <td>...</td>\n",
       "      <td>...</td>\n",
       "      <td>...</td>\n",
       "      <td>...</td>\n",
       "      <td>...</td>\n",
       "      <td>...</td>\n",
       "      <td>...</td>\n",
       "      <td>...</td>\n",
       "      <td>...</td>\n",
       "      <td>...</td>\n",
       "      <td>...</td>\n",
       "      <td>...</td>\n",
       "      <td>...</td>\n",
       "      <td>...</td>\n",
       "      <td>...</td>\n",
       "      <td>...</td>\n",
       "      <td>...</td>\n",
       "      <td>...</td>\n",
       "    </tr>\n",
       "    <tr>\n",
       "      <th>MSK1691-ACH-MTJ_TTTGTTGCAAGGAGTC</th>\n",
       "      <td>0.000000</td>\n",
       "      <td>0.000000</td>\n",
       "      <td>0.0</td>\n",
       "      <td>0.000000</td>\n",
       "      <td>0.042552</td>\n",
       "      <td>0.246822</td>\n",
       "      <td>0.000000</td>\n",
       "      <td>0.045437</td>\n",
       "      <td>0.070900</td>\n",
       "      <td>0.010033</td>\n",
       "      <td>...</td>\n",
       "      <td>0.000000</td>\n",
       "      <td>0.000000</td>\n",
       "      <td>0.105344</td>\n",
       "      <td>0.059625</td>\n",
       "      <td>0.081820</td>\n",
       "      <td>0.309830</td>\n",
       "      <td>0.028602</td>\n",
       "      <td>0.179782</td>\n",
       "      <td>0.123517</td>\n",
       "      <td>0.000000</td>\n",
       "    </tr>\n",
       "    <tr>\n",
       "      <th>MSK1691-ACH-MTJ_TTTGTTGGTAGGGAGG</th>\n",
       "      <td>0.028677</td>\n",
       "      <td>0.000000</td>\n",
       "      <td>0.0</td>\n",
       "      <td>0.000000</td>\n",
       "      <td>0.041366</td>\n",
       "      <td>0.111979</td>\n",
       "      <td>0.000000</td>\n",
       "      <td>0.055277</td>\n",
       "      <td>0.068992</td>\n",
       "      <td>0.012347</td>\n",
       "      <td>...</td>\n",
       "      <td>0.000000</td>\n",
       "      <td>0.000000</td>\n",
       "      <td>0.153190</td>\n",
       "      <td>0.159403</td>\n",
       "      <td>0.000000</td>\n",
       "      <td>0.089402</td>\n",
       "      <td>0.049726</td>\n",
       "      <td>0.000000</td>\n",
       "      <td>0.000000</td>\n",
       "      <td>0.000000</td>\n",
       "    </tr>\n",
       "    <tr>\n",
       "      <th>MSK1691-ACH-MTJ_TTTGTTGGTCCGGCAT</th>\n",
       "      <td>0.000000</td>\n",
       "      <td>0.000000</td>\n",
       "      <td>0.0</td>\n",
       "      <td>0.000000</td>\n",
       "      <td>0.034718</td>\n",
       "      <td>0.163180</td>\n",
       "      <td>0.000000</td>\n",
       "      <td>0.160508</td>\n",
       "      <td>0.081298</td>\n",
       "      <td>0.031439</td>\n",
       "      <td>...</td>\n",
       "      <td>0.000000</td>\n",
       "      <td>0.000000</td>\n",
       "      <td>0.107521</td>\n",
       "      <td>0.010761</td>\n",
       "      <td>0.037732</td>\n",
       "      <td>0.247396</td>\n",
       "      <td>0.014893</td>\n",
       "      <td>0.713579</td>\n",
       "      <td>0.082486</td>\n",
       "      <td>0.000000</td>\n",
       "    </tr>\n",
       "    <tr>\n",
       "      <th>MSK1691-ACH-MTJ_TTTGTTGGTTCCACGG</th>\n",
       "      <td>0.000000</td>\n",
       "      <td>0.045021</td>\n",
       "      <td>0.0</td>\n",
       "      <td>0.000000</td>\n",
       "      <td>0.036241</td>\n",
       "      <td>0.240025</td>\n",
       "      <td>0.000000</td>\n",
       "      <td>0.069997</td>\n",
       "      <td>0.062451</td>\n",
       "      <td>0.000146</td>\n",
       "      <td>...</td>\n",
       "      <td>0.172740</td>\n",
       "      <td>0.000000</td>\n",
       "      <td>0.154308</td>\n",
       "      <td>0.000000</td>\n",
       "      <td>0.033394</td>\n",
       "      <td>0.196990</td>\n",
       "      <td>0.028186</td>\n",
       "      <td>0.258273</td>\n",
       "      <td>0.016137</td>\n",
       "      <td>0.000000</td>\n",
       "    </tr>\n",
       "    <tr>\n",
       "      <th>MSK1691-ACH-MTJ_TTTGTTGTCAAGAGTA</th>\n",
       "      <td>0.000000</td>\n",
       "      <td>0.086864</td>\n",
       "      <td>0.0</td>\n",
       "      <td>0.000000</td>\n",
       "      <td>0.043127</td>\n",
       "      <td>0.111803</td>\n",
       "      <td>0.000000</td>\n",
       "      <td>0.175234</td>\n",
       "      <td>0.069775</td>\n",
       "      <td>0.000000</td>\n",
       "      <td>...</td>\n",
       "      <td>0.000000</td>\n",
       "      <td>0.000000</td>\n",
       "      <td>0.000000</td>\n",
       "      <td>0.029257</td>\n",
       "      <td>0.075464</td>\n",
       "      <td>0.303849</td>\n",
       "      <td>0.072179</td>\n",
       "      <td>0.106840</td>\n",
       "      <td>0.199082</td>\n",
       "      <td>0.011829</td>\n",
       "    </tr>\n",
       "  </tbody>\n",
       "</table>\n",
       "<p>68932 rows × 57 columns</p>\n",
       "</div>"
      ],
      "text/plain": [
       "                                   ARID3A(+)   ATF4(+)  BCL11B(+)   BPTF(+)  \\\n",
       "MSK0785-Ach-Enth_AAAGAACGTAGGTTTC   0.000000  0.000000        0.0  0.000000   \n",
       "MSK0785-Ach-Enth_AAAGGGCCACATTACG   0.029106  0.000000        0.0  0.060533   \n",
       "MSK0785-Ach-Enth_AAAGGGCTCCATCCGT   0.000000  0.000000        0.0  0.000000   \n",
       "MSK0785-Ach-Enth_AACCCAATCAGCATTG   0.000000  0.218397        0.0  0.000000   \n",
       "MSK0785-Ach-Enth_AACCTGAGTACCTATG   0.000000  0.000000        0.0  0.000000   \n",
       "...                                      ...       ...        ...       ...   \n",
       "MSK1691-ACH-MTJ_TTTGTTGCAAGGAGTC    0.000000  0.000000        0.0  0.000000   \n",
       "MSK1691-ACH-MTJ_TTTGTTGGTAGGGAGG    0.028677  0.000000        0.0  0.000000   \n",
       "MSK1691-ACH-MTJ_TTTGTTGGTCCGGCAT    0.000000  0.000000        0.0  0.000000   \n",
       "MSK1691-ACH-MTJ_TTTGTTGGTTCCACGG    0.000000  0.045021        0.0  0.000000   \n",
       "MSK1691-ACH-MTJ_TTTGTTGTCAAGAGTA    0.000000  0.086864        0.0  0.000000   \n",
       "\n",
       "                                   CEBPB(+)   CUX1(+)   DLX5(+)   EBF1(+)  \\\n",
       "MSK0785-Ach-Enth_AAAGAACGTAGGTTTC  0.033247  0.082539  0.000000  0.129594   \n",
       "MSK0785-Ach-Enth_AAAGGGCCACATTACG  0.085826  0.236670  0.000000  0.137093   \n",
       "MSK0785-Ach-Enth_AAAGGGCTCCATCCGT  0.043835  0.029882  0.038096  0.127833   \n",
       "MSK0785-Ach-Enth_AACCCAATCAGCATTG  0.060384  0.084834  0.033663  0.120850   \n",
       "MSK0785-Ach-Enth_AACCTGAGTACCTATG  0.030515  0.142258  0.000000  0.207160   \n",
       "...                                     ...       ...       ...       ...   \n",
       "MSK1691-ACH-MTJ_TTTGTTGCAAGGAGTC   0.042552  0.246822  0.000000  0.045437   \n",
       "MSK1691-ACH-MTJ_TTTGTTGGTAGGGAGG   0.041366  0.111979  0.000000  0.055277   \n",
       "MSK1691-ACH-MTJ_TTTGTTGGTCCGGCAT   0.034718  0.163180  0.000000  0.160508   \n",
       "MSK1691-ACH-MTJ_TTTGTTGGTTCCACGG   0.036241  0.240025  0.000000  0.069997   \n",
       "MSK1691-ACH-MTJ_TTTGTTGTCAAGAGTA   0.043127  0.111803  0.000000  0.175234   \n",
       "\n",
       "                                    ELF2(+)  EP300(+)  ...  TEAD3(+)  \\\n",
       "MSK0785-Ach-Enth_AAAGAACGTAGGTTTC  0.068441  0.009010  ...  0.000000   \n",
       "MSK0785-Ach-Enth_AAAGGGCCACATTACG  0.071498  0.007866  ...  0.184040   \n",
       "MSK0785-Ach-Enth_AAAGGGCTCCATCCGT  0.069886  0.025058  ...  0.088418   \n",
       "MSK0785-Ach-Enth_AACCCAATCAGCATTG  0.063248  0.051261  ...  0.000000   \n",
       "MSK0785-Ach-Enth_AACCTGAGTACCTATG  0.069596  0.007695  ...  0.000000   \n",
       "...                                     ...       ...  ...       ...   \n",
       "MSK1691-ACH-MTJ_TTTGTTGCAAGGAGTC   0.070900  0.010033  ...  0.000000   \n",
       "MSK1691-ACH-MTJ_TTTGTTGGTAGGGAGG   0.068992  0.012347  ...  0.000000   \n",
       "MSK1691-ACH-MTJ_TTTGTTGGTCCGGCAT   0.081298  0.031439  ...  0.000000   \n",
       "MSK1691-ACH-MTJ_TTTGTTGGTTCCACGG   0.062451  0.000146  ...  0.172740   \n",
       "MSK1691-ACH-MTJ_TTTGTTGTCAAGAGTA   0.069775  0.000000  ...  0.000000   \n",
       "\n",
       "                                   TFAP2E(+)   THRB(+)   USF1(+)   VAX2(+)  \\\n",
       "MSK0785-Ach-Enth_AAAGAACGTAGGTTTC   0.000000  0.221398  0.043449  0.067897   \n",
       "MSK0785-Ach-Enth_AAAGGGCCACATTACG   0.000000  0.094044  0.052697  0.000000   \n",
       "MSK0785-Ach-Enth_AAAGGGCTCCATCCGT   0.273070  0.100106  0.095675  0.094330   \n",
       "MSK0785-Ach-Enth_AACCCAATCAGCATTG   0.162429  0.048081  0.019169  0.000000   \n",
       "MSK0785-Ach-Enth_AACCTGAGTACCTATG   0.000000  0.049847  0.068604  0.000000   \n",
       "...                                      ...       ...       ...       ...   \n",
       "MSK1691-ACH-MTJ_TTTGTTGCAAGGAGTC    0.000000  0.105344  0.059625  0.081820   \n",
       "MSK1691-ACH-MTJ_TTTGTTGGTAGGGAGG    0.000000  0.153190  0.159403  0.000000   \n",
       "MSK1691-ACH-MTJ_TTTGTTGGTCCGGCAT    0.000000  0.107521  0.010761  0.037732   \n",
       "MSK1691-ACH-MTJ_TTTGTTGGTTCCACGG    0.000000  0.154308  0.000000  0.033394   \n",
       "MSK1691-ACH-MTJ_TTTGTTGTCAAGAGTA    0.000000  0.000000  0.029257  0.075464   \n",
       "\n",
       "                                   ZBTB20(+)  ZBTB21(+)   ZEB1(+)  ZNF219(+)  \\\n",
       "MSK0785-Ach-Enth_AAAGAACGTAGGTTTC   0.102820   0.014810  0.000000   0.251483   \n",
       "MSK0785-Ach-Enth_AAAGGGCCACATTACG   0.093838   0.088900  0.243039   0.106038   \n",
       "MSK0785-Ach-Enth_AAAGGGCTCCATCCGT   0.173972   0.151400  0.255347   0.045339   \n",
       "MSK0785-Ach-Enth_AACCCAATCAGCATTG   0.196284   0.025216  0.377220   0.080367   \n",
       "MSK0785-Ach-Enth_AACCTGAGTACCTATG   0.201580   0.111644  0.195621   0.200953   \n",
       "...                                      ...        ...       ...        ...   \n",
       "MSK1691-ACH-MTJ_TTTGTTGCAAGGAGTC    0.309830   0.028602  0.179782   0.123517   \n",
       "MSK1691-ACH-MTJ_TTTGTTGGTAGGGAGG    0.089402   0.049726  0.000000   0.000000   \n",
       "MSK1691-ACH-MTJ_TTTGTTGGTCCGGCAT    0.247396   0.014893  0.713579   0.082486   \n",
       "MSK1691-ACH-MTJ_TTTGTTGGTTCCACGG    0.196990   0.028186  0.258273   0.016137   \n",
       "MSK1691-ACH-MTJ_TTTGTTGTCAAGAGTA    0.303849   0.072179  0.106840   0.199082   \n",
       "\n",
       "                                   ZNF624(+)  \n",
       "MSK0785-Ach-Enth_AAAGAACGTAGGTTTC   0.000000  \n",
       "MSK0785-Ach-Enth_AAAGGGCCACATTACG   0.000000  \n",
       "MSK0785-Ach-Enth_AAAGGGCTCCATCCGT   0.000000  \n",
       "MSK0785-Ach-Enth_AACCCAATCAGCATTG   0.000000  \n",
       "MSK0785-Ach-Enth_AACCTGAGTACCTATG   0.000000  \n",
       "...                                      ...  \n",
       "MSK1691-ACH-MTJ_TTTGTTGCAAGGAGTC    0.000000  \n",
       "MSK1691-ACH-MTJ_TTTGTTGGTAGGGAGG    0.000000  \n",
       "MSK1691-ACH-MTJ_TTTGTTGGTCCGGCAT    0.000000  \n",
       "MSK1691-ACH-MTJ_TTTGTTGGTTCCACGG    0.000000  \n",
       "MSK1691-ACH-MTJ_TTTGTTGTCAAGAGTA    0.011829  \n",
       "\n",
       "[68932 rows x 57 columns]"
      ]
     },
     "execution_count": 13,
     "metadata": {},
     "output_type": "execute_result"
    }
   ],
   "source": [
    "auc_mtx"
   ]
  },
  {
   "cell_type": "code",
   "execution_count": null,
   "id": "fdee823a",
   "metadata": {},
   "outputs": [],
   "source": [
    "sns.clustermap(auc_mtx, figsize=(12,12))"
   ]
  },
  {
   "cell_type": "markdown",
   "id": "5d579818",
   "metadata": {},
   "source": [
    "## Regulon Binarization"
   ]
  },
  {
   "cell_type": "code",
   "execution_count": null,
   "id": "c66dbf6a",
   "metadata": {},
   "outputs": [],
   "source": [
    "%%time \n",
    "bin_mtx, thresholds = binarize(auc_mtx)\n",
    "bin_mtx.to_csv(BIN_MTX_FNAME) \n",
    "thresholds.to_frame().rename(columns={0:'threshold'}).to_csv(THR_FNAME)"
   ]
  },
  {
   "cell_type": "code",
   "execution_count": null,
   "id": "5be3a7ce",
   "metadata": {},
   "outputs": [],
   "source": [
    "bin_mtx = pd.read_csv(BIN_MTX_FNAME, index_col=0)\n",
    "thresholds = pd.read_csv(THR_FNAME, index_col=0).threshold"
   ]
  },
  {
   "cell_type": "code",
   "execution_count": null,
   "id": "2e93806a",
   "metadata": {},
   "outputs": [],
   "source": [
    "bin_mtx"
   ]
  },
  {
   "cell_type": "code",
   "execution_count": null,
   "id": "a1c47bc4",
   "metadata": {},
   "outputs": [],
   "source": [
    "thresholds"
   ]
  },
  {
   "cell_type": "code",
   "execution_count": null,
   "id": "86818881",
   "metadata": {},
   "outputs": [],
   "source": [
    "# Create heatmap with binarized regulon activity.\n",
    "def palplot(pal, names, colors=None, size=1):\n",
    "    n = len(pal)\n",
    "    f, ax = plt.subplots(1, 1, figsize=(n * size, size))\n",
    "    ax.imshow(np.arange(n).reshape(1, n),\n",
    "              cmap=mpl.colors.ListedColormap(list(pal)),\n",
    "              interpolation=\"nearest\", aspect=\"auto\")\n",
    "    ax.set_xticks(np.arange(n) - .5)\n",
    "    ax.set_yticks([-.5, .5])\n",
    "    ax.set_xticklabels([])\n",
    "    ax.set_yticklabels([])\n",
    "    colors = n * ['k'] if colors is None else colors\n",
    "    for idx, (name, color) in enumerate(zip(names, colors)):\n",
    "        ax.text(0.0+idx, 0.0, name, color=color, horizontalalignment='center', verticalalignment='center')\n",
    "    return f"
   ]
  },
  {
   "cell_type": "code",
   "execution_count": null,
   "id": "e1560641",
   "metadata": {},
   "outputs": [],
   "source": [
    "adata.uns['annotations_orig_full_colors']"
   ]
  },
  {
   "cell_type": "code",
   "execution_count": null,
   "id": "914e48d9",
   "metadata": {},
   "outputs": [],
   "source": [
    "adata.uns['leiden_fibros_colors']"
   ]
  },
  {
   "cell_type": "code",
   "execution_count": null,
   "id": "45b17066",
   "metadata": {},
   "outputs": [],
   "source": [
    "import matplotlib as mpl\n",
    "#import colorcet as cc\n",
    "\n",
    "cats = sorted(list(set(adata.obs['leiden_fibros'])))\n",
    "colors = sns.color_palette(adata.uns['leiden_fibros_colors'], n_colors=len(cats)) #alt palette = 'bright'\n",
    "colorsd = dict( zip( cats, colors ))\n",
    "colormap = [ colorsd[x] for x in adata.obs['leiden_fibros'] ]\n",
    "\n",
    "cell_id2cell_type_lut =adata.obs['leiden_fibros'].to_dict()\n",
    "bw_palette = sns.xkcd_palette([\"white\", \"black\"])"
   ]
  },
  {
   "cell_type": "code",
   "execution_count": null,
   "id": "b041ab93",
   "metadata": {},
   "outputs": [],
   "source": [
    "sns.set()\n",
    "sns.set_style(\"whitegrid\")\n",
    "fig = palplot(bw_palette, ['OFF', 'ON'], ['k', 'w'])\n",
    "savesvg(f'{DATASET_ID}_legend_on_off.svg', fig)\n",
    "\n",
    "sns.set()\n",
    "sns.set(font_scale=1.0)\n",
    "fig = palplot(colors, cats, size=2.5)\n",
    "savesvg(f'{DATASET_ID}_legend_celltypes_leiden.svg', fig)\n",
    "\n",
    "#sns.set()\n",
    "#sns.set(font_scale=1.0)\n",
    "#fig = palplot(sns.color_palette(COLORS), adata.obs['CellType'].dtype.categories, size=3.0)"
   ]
  },
  {
   "cell_type": "code",
   "execution_count": null,
   "id": "8c50ebdd",
   "metadata": {},
   "outputs": [],
   "source": [
    "# Convert the index of auc_mtx to string, to ensure all operations are on strings\n",
    "auc_mtx.index = auc_mtx.index.map(str)\n",
    "\n",
    "# Map the index to cell types using a Series for better control and avoid implicit MultiIndex conversion\n",
    "cell_types_series = pd.Series(auc_mtx.index.map(cell_id2cell_type_lut), index=auc_mtx.index)\n",
    "\n",
    "# Now map the cell types to colors, handling missing keys properly\n",
    "mapped_colors = cell_types_series.map(lambda x: colorsd.get(x, (1, 1, 1)))  # Using a default color of white for missing keys\n",
    "\n",
    "# Check for any 'default_color' or placeholder (here using white)\n",
    "if (1, 1, 1) in mapped_colors.values:\n",
    "    missing_keys = [index for index, color in mapped_colors.iteritems() if color == (1, 1, 1)]\n",
    "    print(\"Missing keys for these index entries:\", missing_keys)\n"
   ]
  },
  {
   "cell_type": "code",
   "execution_count": null,
   "id": "b34da0eb",
   "metadata": {
    "scrolled": false
   },
   "outputs": [],
   "source": [
    "sns.set()\n",
    "sns.set(font_scale=1.0)\n",
    "sns.set_style(\"ticks\", {\"xtick.minor.size\": 1, \"ytick.minor.size\": 0.1})\n",
    "g = sns.clustermap(bin_mtx.T, \n",
    "               col_colors=mapped_colors,\n",
    "               cmap=bw_palette, figsize=(20,20))\n",
    "g.ax_heatmap.set_xticklabels([])\n",
    "g.ax_heatmap.set_xticks([])\n",
    "g.ax_heatmap.set_xlabel('Cells')\n",
    "g.ax_heatmap.set_ylabel('Regulons')\n",
    "g.ax_col_colors.set_yticks([0.5])\n",
    "g.ax_col_colors.set_yticklabels(['Cell Type'])\n",
    "g.cax.set_visible(False)\n",
    "g.fig.savefig(os.path.join(FIGURES_FOLDERNAME, f'{DATASET_ID}_binarizedregulonheatmap_leidenfibros.jpeg'), format='jpeg')"
   ]
  },
  {
   "cell_type": "code",
   "execution_count": null,
   "id": "e429e01e",
   "metadata": {},
   "outputs": [],
   "source": [
    "cats = sorted(list(set(adata.obs['tendon_status'])))\n",
    "colors = sns.color_palette(adata.uns['tendon_status_colors'], n_colors=len(cats)) #alt palette = 'bright'\n",
    "colorsd = dict( zip( cats, colors ))\n",
    "colormap = [ colorsd[x] for x in adata.obs['tendon_status'] ]\n",
    "\n",
    "cell_id2cell_type_lut =adata.obs['tendon_status'].to_dict()\n",
    "bw_palette = sns.xkcd_palette([\"white\", \"black\"])"
   ]
  },
  {
   "cell_type": "code",
   "execution_count": null,
   "id": "54bad9c6",
   "metadata": {},
   "outputs": [],
   "source": [
    "sns.set()\n",
    "sns.set(font_scale=1.0)\n",
    "fig = palplot(colors, cats, size=2.5)\n",
    "savesvg(f'{DATASET_ID}_legend_tendon_status.svg', fig)"
   ]
  },
  {
   "cell_type": "code",
   "execution_count": null,
   "id": "eb566eca",
   "metadata": {},
   "outputs": [],
   "source": [
    "# Convert the index of auc_mtx to string, to ensure all operations are on strings\n",
    "auc_mtx.index = auc_mtx.index.map(str)\n",
    "\n",
    "# Map the index to cell types using a Series for better control and avoid implicit MultiIndex conversion\n",
    "cell_types_series = pd.Series(auc_mtx.index.map(cell_id2cell_type_lut), index=auc_mtx.index)\n",
    "\n",
    "# Now map the cell types to colors, handling missing keys properly\n",
    "mapped_colors = cell_types_series.map(lambda x: colorsd.get(x, (1, 1, 1)))  # Using a default color of white for missing keys\n",
    "\n",
    "# Check for any 'default_color' or placeholder (here using white)\n",
    "if (1, 1, 1) in mapped_colors.values:\n",
    "    missing_keys = [index for index, color in mapped_colors.iteritems() if color == (1, 1, 1)]\n",
    "    print(\"Missing keys for these index entries:\", missing_keys)"
   ]
  },
  {
   "cell_type": "code",
   "execution_count": null,
   "id": "513b27f4",
   "metadata": {},
   "outputs": [],
   "source": [
    "sns.set()\n",
    "sns.set(font_scale=1.0)\n",
    "sns.set_style(\"ticks\", {\"xtick.minor.size\": 1, \"ytick.minor.size\": 0.1})\n",
    "g = sns.clustermap(bin_mtx.T, \n",
    "               col_colors=mapped_colors,\n",
    "               cmap=bw_palette, figsize=(20,20))\n",
    "g.ax_heatmap.set_xticklabels([])\n",
    "g.ax_heatmap.set_xticks([])\n",
    "g.ax_heatmap.set_xlabel('Cells')\n",
    "g.ax_heatmap.set_ylabel('Regulons')\n",
    "g.ax_col_colors.set_yticks([0.5])\n",
    "g.ax_col_colors.set_yticklabels(['Ruptured'])\n",
    "g.cax.set_visible(False)\n",
    "g.fig.savefig(os.path.join(FIGURES_FOLDERNAME, f'{DATASET_ID}_binarizedregulonheatmap_tendon_status.jpeg'), format='jpeg')"
   ]
  },
  {
   "cell_type": "code",
   "execution_count": null,
   "id": "d5b4a2a2",
   "metadata": {},
   "outputs": [],
   "source": [
    "cats = sorted(list(set(adata.obs['annotations_new'])))\n",
    "colors = sns.color_palette(adata.uns['annotations_new_colors'], n_colors=len(cats)) #alt palette = 'bright'\n",
    "colorsd = dict( zip( cats, colors ))\n",
    "colormap = [ colorsd[x] for x in adata.obs['annotations_new'] ]\n",
    "\n",
    "cell_id2cell_type_lut =adata.obs['annotations_new'].to_dict()\n",
    "bw_palette = sns.xkcd_palette([\"white\", \"black\"])\n",
    "\n",
    "sns.set()\n",
    "sns.set(font_scale=1.0)\n",
    "fig = palplot(colors, cats, size=2.5)\n",
    "savesvg(f'{DATASET_ID}_legend_newannotations.svg', fig)"
   ]
  },
  {
   "cell_type": "code",
   "execution_count": null,
   "id": "40e7d023",
   "metadata": {},
   "outputs": [],
   "source": [
    "sns.set()\n",
    "sns.set(font_scale=1.0)\n",
    "fig = palplot(colors, cats, size=2.5)\n",
    "savesvg(f'{DATASET_ID}_legend_newannotations.svg', fig)"
   ]
  },
  {
   "cell_type": "code",
   "execution_count": null,
   "id": "e3f7ab3f",
   "metadata": {},
   "outputs": [],
   "source": [
    "# Convert the index of auc_mtx to string, to ensure all operations are on strings\n",
    "auc_mtx.index = auc_mtx.index.map(str)\n",
    "\n",
    "# Map the index to cell types using a Series for better control and avoid implicit MultiIndex conversion\n",
    "cell_types_series = pd.Series(auc_mtx.index.map(cell_id2cell_type_lut), index=auc_mtx.index)\n",
    "\n",
    "# Now map the cell types to colors, handling missing keys properly\n",
    "mapped_colors = cell_types_series.map(lambda x: colorsd.get(x, (1, 1, 1)))  # Using a default color of white for missing keys\n",
    "\n",
    "# Check for any 'default_color' or placeholder (here using white)\n",
    "if (1, 1, 1) in mapped_colors.values:\n",
    "    missing_keys = [index for index, color in mapped_colors.iteritems() if color == (1, 1, 1)]\n",
    "    print(\"Missing keys for these index entries:\", missing_keys)"
   ]
  },
  {
   "cell_type": "code",
   "execution_count": null,
   "id": "1df45b73",
   "metadata": {},
   "outputs": [],
   "source": [
    "sns.set()\n",
    "sns.set(font_scale=1.0)\n",
    "sns.set_style(\"ticks\", {\"xtick.minor.size\": 1, \"ytick.minor.size\": 0.1})\n",
    "g = sns.clustermap(bin_mtx.T, \n",
    "               col_colors=mapped_colors,\n",
    "                   #auc_mtx.index.map(cell_id2cell_type_lut).map(colorsd),\n",
    "               cmap=bw_palette, figsize=(20,20))\n",
    "g.ax_heatmap.set_xticklabels([])\n",
    "g.ax_heatmap.set_xticks([])\n",
    "g.ax_heatmap.set_xlabel('Cells')\n",
    "g.ax_heatmap.set_ylabel('Regulons')\n",
    "g.ax_col_colors.set_yticks([0.5])\n",
    "g.ax_col_colors.set_yticklabels(['Cell Type'])\n",
    "g.cax.set_visible(False)\n",
    "g.fig.savefig(os.path.join(FIGURES_FOLDERNAME, f'{DATASET_ID}_binarizedregulonheatmap_NEWannotations.jpeg'), format='jpeg')"
   ]
  },
  {
   "cell_type": "code",
   "execution_count": null,
   "id": "16f65533",
   "metadata": {},
   "outputs": [],
   "source": [
    "## need to half the dataframe!\n",
    "bin_mtx_clustered = bin_mtx.T.copy()\n",
    "bin_mtx_clustered.rename(columns=adata.obs['annotations_new'].to_dict(), inplace=True)\n",
    "# bin_mtx_clustered.iloc[g.dendrogram_row.reordered_ind, g.dendrogram_col.reordered_ind].to_excel(os.path.join(RESULTS_FOLDERNAME, 'Binarized_regulon_activity_1.xlsx'))"
   ]
  },
  {
   "cell_type": "code",
   "execution_count": null,
   "id": "6f54cb4d",
   "metadata": {},
   "outputs": [],
   "source": [
    "bin_mtx_clustered"
   ]
  },
  {
   "cell_type": "code",
   "execution_count": null,
   "id": "3a01c061",
   "metadata": {},
   "outputs": [],
   "source": [
    "bin_mtx_clustered.to_excel(os.path.join(RESULTS_FOLDERNAME, f'{DATASET_ID}_binarized_regulon_activity_newannotations.xlsx'))"
   ]
  },
  {
   "cell_type": "code",
   "execution_count": null,
   "id": "46eaf627",
   "metadata": {},
   "outputs": [],
   "source": [
    "#bin_mtx_clustered_fibro = bin_mtx_clustered.loc[:,['COL3A1hi LUMhi Fibroblasts', 'THBS4hi Fibroblasts', 'FMODhi KERAhi Fibroblasts']]\n",
    "#bin_mtx_clustered_fibro.to_excel(os.path.join(RESULTS_FOLDERNAME, 'Binarized_regulon_activity_fibroblasts2.xlsx'))\n",
    "#bin_mtx_clustered_fibro"
   ]
  },
  {
   "cell_type": "markdown",
   "id": "c5000810",
   "metadata": {},
   "source": [
    "### Clustermap with changing cell colors for grouping similar cells together (optional)"
   ]
  },
  {
   "cell_type": "code",
   "execution_count": null,
   "id": "bcf25d37",
   "metadata": {},
   "outputs": [],
   "source": [
    "# altered_col = sns.color_palette(\n",
    "#     ['#0072b2',\n",
    "#  '#018700',\n",
    "#  '#ffa52f',\n",
    "#  '#97ff00', # fibro A\n",
    "#  '#97ff00',\n",
    "#  '#97ff00',\n",
    "#  '#97ff00',\n",
    "#  '#000000', #grem1 '#b500ff'\n",
    "#  '#FFFFFF', #hsphi\n",
    "#  '#afa5ff',\n",
    "#  '#000000',\n",
    "#  '#00fdcf', #'#9a6900'\n",
    "#  '#d60000',\n",
    "#  '#d3008c',\n",
    "#  '#fdf490',\n",
    "#  '#b500ff'])# '#0072b2'\n",
    "# altered_col\n",
    "\n",
    "# cats = sorted(list(set(adata.obs['CellType'])))\n",
    "# colors = altered_col\n",
    "# colorsd = dict( zip( cats, colors ))\n",
    "# colormap = [ colorsd[x] for x in adata.obs['CellType'] ]"
   ]
  },
  {
   "cell_type": "code",
   "execution_count": null,
   "id": "eecf2918",
   "metadata": {},
   "outputs": [],
   "source": [
    "# sns.set()\n",
    "# sns.set_style(\"whitegrid\")\n",
    "# fig = palplot(bw_palette, ['OFF', 'ON'], ['k', 'w'])\n",
    "# savesvg('legend_on_off.svg', fig)\n",
    "\n",
    "# sns.set()\n",
    "# sns.set(font_scale=1.0)\n",
    "# fig = palplot(colors, cats, size=2.5)\n",
    "# savesvg('legend_celltypes_noUnassigned_fibrogrouped.svg', fig)"
   ]
  },
  {
   "cell_type": "code",
   "execution_count": null,
   "id": "f020f246",
   "metadata": {},
   "outputs": [],
   "source": [
    "# sns.set()\n",
    "# sns.set(font_scale=1.0)\n",
    "# sns.set_style(\"ticks\", {\"xtick.minor.size\": 1, \"ytick.minor.size\": 0.1})\n",
    "# g = sns.clustermap(bin_mtx_sm.T, \n",
    "#                col_colors=auc_mtx_sm.index.map(cell_id2cell_type_lut).map(colorsd),\n",
    "#                cmap=bw_palette, figsize=(20,20))\n",
    "# g.ax_heatmap.set_xticklabels([])\n",
    "# g.ax_heatmap.set_xticks([])\n",
    "# g.ax_heatmap.set_xlabel('Cells')\n",
    "# g.ax_heatmap.set_ylabel('Regulons')\n",
    "# g.ax_col_colors.set_yticks([0.5])\n",
    "# g.ax_col_colors.set_yticklabels(['Cell Type'])\n",
    "# g.cax.set_visible(False)\n",
    "# g.fig.savefig(os.path.join(FIGURES_FOLDERNAME, 'binarizedregulonheatmap_fibrogrouped.png'), format='png')"
   ]
  },
  {
   "cell_type": "markdown",
   "id": "ccbd1813",
   "metadata": {},
   "source": [
    "## Plotting binarization of individual regulons:"
   ]
  },
  {
   "cell_type": "code",
   "execution_count": null,
   "id": "3dcf8c99",
   "metadata": {},
   "outputs": [],
   "source": [
    "# fig, ((ax1, ax2, ax3, ax4), (ax5, ax6, ax7, ax8)) = plt.subplots(2, 4, figsize=(8, 4), dpi=100)\n",
    "\n",
    "# plot_binarization(auc_mtx, 'NR2F2(+)', thresholds['NR2F2(+)'], ax=ax1)\n",
    "# plot_binarization(auc_mtx, 'SPI1(+)', thresholds['SPI1(+)'], ax=ax2)\n",
    "# plot_binarization(auc_mtx, 'HOXD8(+)', thresholds['HOXD8(+)'], ax=ax3)\n",
    "# plot_binarization(auc_mtx, 'ATF3(+)', thresholds['ATF3(+)'], ax=ax4)\n",
    "# plot_binarization(auc_mtx, 'E2F8(+)', thresholds['E2F8(+)'], ax=ax5)\n",
    "# plot_binarization(auc_mtx, 'TLL1(+)', thresholds['TLL1(+)'], ax=ax6)\n",
    "# plot_binarization(auc_mtx, 'PAX3(+)', thresholds['PAX3(+)'], ax=ax7)\n",
    "# plot_binarization(auc_mtx, 'ZNF713(+)', thresholds['ZNF713(+)'], ax=ax8)\n",
    "\n",
    "# plt.tight_layout()"
   ]
  },
  {
   "cell_type": "markdown",
   "id": "e41176ee",
   "metadata": {},
   "source": [
    "## Regulon specificity score (RSS) across predicted cell types"
   ]
  },
  {
   "cell_type": "code",
   "execution_count": null,
   "id": "0a543d0b",
   "metadata": {},
   "outputs": [],
   "source": [
    "filtered_auc_mtx = auc_mtx[auc_mtx.index.isin(adata.obs.index)]\n",
    "filtered_auc_mtx"
   ]
  },
  {
   "cell_type": "code",
   "execution_count": null,
   "id": "f348521e",
   "metadata": {},
   "outputs": [],
   "source": [
    "rss = regulon_specificity_scores(filtered_auc_mtx, adata.obs['annotations_new'])\n",
    "rss"
   ]
  },
  {
   "cell_type": "code",
   "execution_count": null,
   "id": "286b09d9",
   "metadata": {
    "scrolled": false
   },
   "outputs": [],
   "source": [
    "from adjustText import adjust_text\n",
    "\n",
    "cats = sorted(list(set(adata.obs['annotations_new'])))\n",
    "\n",
    "fig = plt.figure(figsize=(14, 20)) #(width, length)\n",
    "for c,num in zip(cats, range(1,len(cats)+1)):\n",
    "    x=rss.T[c]\n",
    "    ax = fig.add_subplot(6,5,num) #(rows, columns)\n",
    "    plot_rss(rss, c, top_n=5, max_n=None, ax=ax)\n",
    "    ax.set_ylim( x.min()-(x.max()-x.min())*0.05 , x.max()+(x.max()-x.min())*0.05 )\n",
    "    for t in ax.texts:\n",
    "        t.set_fontsize(12)\n",
    "    ax.set_ylabel('')\n",
    "    ax.set_xlabel('')\n",
    "    adjust_text(ax.texts, autoalign='xy', ha='right', va='bottom', \n",
    "                arrowprops=dict(arrowstyle='-',color='lightgrey'), precision=0.001 )\n",
    " \n",
    "fig.text(0.5, 0.0, 'Regulon', ha='center', va='center', size='x-large')\n",
    "fig.text(0.00, 0.5, 'Regulon specificity score (RSS)', ha='center', va='center', rotation='vertical', size='x-large')\n",
    "plt.tight_layout()\n",
    "plt.rcParams.update({\n",
    "    'figure.autolayout': True,\n",
    "        'figure.titlesize': 'large' ,\n",
    "        'axes.labelsize': 'medium',\n",
    "        'axes.titlesize':'large',\n",
    "        'xtick.labelsize':'medium',\n",
    "        'ytick.labelsize':'medium'\n",
    "        })\n",
    "plt.show()\n",
    "savesvg(f'{DATASET_ID}_CellTypeRSS_newannot.svg', fig)"
   ]
  },
  {
   "cell_type": "code",
   "execution_count": null,
   "id": "731dd67b",
   "metadata": {},
   "outputs": [],
   "source": [
    "rss2 = regulon_specificity_scores(filtered_auc_mtx, adata.obs['leiden_fibros'])\n",
    "rss2"
   ]
  },
  {
   "cell_type": "code",
   "execution_count": null,
   "id": "186f2d48",
   "metadata": {},
   "outputs": [],
   "source": [
    "cats = sorted(list(set(adata.obs['leiden_fibros'])))\n",
    "\n",
    "fig = plt.figure(figsize=(14, 14)) #(width, length)\n",
    "for c,num in zip(cats, range(1,len(cats)+1)):\n",
    "    x=rss2.T[c]\n",
    "    ax = fig.add_subplot(4,4,num) #(rows, columns)\n",
    "    plot_rss(rss2, c, top_n=5, max_n=None, ax=ax)\n",
    "    ax.set_ylim( x.min()-(x.max()-x.min())*0.05 , x.max()+(x.max()-x.min())*0.05 )\n",
    "    for t in ax.texts:\n",
    "        t.set_fontsize(12)\n",
    "    ax.set_ylabel('')\n",
    "    ax.set_xlabel('')\n",
    "    adjust_text(ax.texts, autoalign='xy', ha='right', va='bottom', \n",
    "                arrowprops=dict(arrowstyle='-',color='lightgrey'), precision=0.001 )\n",
    " \n",
    "fig.text(0.5, 0.0, 'Regulon', ha='center', va='center', size='x-large')\n",
    "fig.text(0.00, 0.5, 'Regulon specificity score (RSS)', ha='center', va='center', rotation='vertical', size='x-large')\n",
    "plt.tight_layout()\n",
    "plt.rcParams.update({\n",
    "    'figure.autolayout': True,\n",
    "        'figure.titlesize': 'large' ,\n",
    "        'axes.labelsize': 'medium',\n",
    "        'axes.titlesize':'large',\n",
    "        'xtick.labelsize':'medium',\n",
    "        'ytick.labelsize':'medium'\n",
    "        })\n",
    "plt.show()\n",
    "savesvg(f'{DATASET_ID}_CellTypeRSS_leidenfibros.svg', fig)"
   ]
  },
  {
   "cell_type": "code",
   "execution_count": null,
   "id": "3fdb64bb",
   "metadata": {},
   "outputs": [],
   "source": [
    "rss.T[c].sort_values(ascending=False)[:5]"
   ]
  },
  {
   "cell_type": "code",
   "execution_count": null,
   "id": "05570283",
   "metadata": {},
   "outputs": [],
   "source": [
    "topreg = []\n",
    "for i,c in enumerate(cats):\n",
    "    topreg.extend(\n",
    "        list(rss.T[c].sort_values(ascending=False)[:10].index)\n",
    "    )\n",
    "topreg = list(set(topreg))"
   ]
  },
  {
   "cell_type": "code",
   "execution_count": null,
   "id": "7895a31a",
   "metadata": {},
   "outputs": [],
   "source": [
    "auc_mtx_Z = pd.DataFrame( index=filtered_auc_mtx.index )\n",
    "for col in list(filtered_auc_mtx.columns):\n",
    "    auc_mtx_Z[ col ] = ( filtered_auc_mtx[col] - filtered_auc_mtx[col].mean()) / filtered_auc_mtx[col].std(ddof=0)\n",
    "#auc_mtx_Z.sort_index(inplace=True)"
   ]
  },
  {
   "cell_type": "code",
   "execution_count": null,
   "id": "520d98bc",
   "metadata": {},
   "outputs": [],
   "source": [
    "sns.set(font_scale=1.2)\n",
    "g = sns.clustermap(auc_mtx_Z[topreg], annot=False,  square=False,  linecolor='gray',\n",
    "    yticklabels=False, xticklabels=True, vmin=-2, vmax=6, row_colors=colormap,\n",
    "    cmap=\"YlGnBu\", figsize=(28,16) )\n",
    "g.cax.set_visible(True)\n",
    "g.ax_heatmap.set_ylabel('')\n",
    "g.ax_heatmap.set_xlabel('')\n",
    "g.fig.savefig(os.path.join(FIGURES_FOLDERNAME, f'{DATASET_ID}_Z-score_heatmap_annotationsnew.png'))"
   ]
  },
  {
   "cell_type": "markdown",
   "id": "2312db47",
   "metadata": {},
   "source": [
    "### Creating a regulon h5ad object"
   ]
  },
  {
   "cell_type": "code",
   "execution_count": null,
   "id": "72681679",
   "metadata": {},
   "outputs": [],
   "source": [
    "#lf = lp.connect(LOOM_FNAME_OUT, mode='r+', validate=False )\n",
    "#auc_mtx = pd.DataFrame( lf.ca.RegulonsAUC, index=lf.ca.CellID)\n",
    "#lf.close()"
   ]
  },
  {
   "cell_type": "code",
   "execution_count": null,
   "id": "925b238a",
   "metadata": {},
   "outputs": [],
   "source": [
    "filtered_auc_mtx"
   ]
  },
  {
   "cell_type": "code",
   "execution_count": null,
   "id": "3cb3f2ba",
   "metadata": {},
   "outputs": [],
   "source": [
    "adata"
   ]
  },
  {
   "cell_type": "code",
   "execution_count": null,
   "id": "e51a77a5",
   "metadata": {},
   "outputs": [],
   "source": [
    "adata_genes = adata.copy()\n",
    "adata_genes.X = adata.layers['log1p_norm'].copy()"
   ]
  },
  {
   "cell_type": "code",
   "execution_count": null,
   "id": "853b19d3",
   "metadata": {},
   "outputs": [],
   "source": [
    "adata=sc.AnnData(filtered_auc_mtx,\n",
    "           obs=adata_genes.obs,uns=adata_genes.uns,obsm=adata_genes.obsm)"
   ]
  },
  {
   "cell_type": "code",
   "execution_count": null,
   "id": "0a0f0e40",
   "metadata": {},
   "outputs": [],
   "source": [
    "adata.var_names_make_unique()\n",
    "adata_genes.var_names_make_unique()"
   ]
  },
  {
   "cell_type": "code",
   "execution_count": null,
   "id": "91500db8",
   "metadata": {},
   "outputs": [],
   "source": [
    "genes=adata_genes.var_names\n",
    "common=genes[genes.isin(np.array(list(map(lambda x: x.split(\"(\")[0],adata.var_names))))]\n",
    "adata=adata[:,common+\"(+)\"]\n",
    "adata_genes=adata_genes[:,common]\n",
    "adata_genes.var\n",
    "adata.layers[\"auc_init\"]=adata.X.copy()\n",
    "weights=adata_genes.X.copy()\n",
    "weights[weights>1]=1\n",
    "adata.X=adata.X*weights.A\n",
    "adata.layers[\"weights\"]=weights\n",
    "adata"
   ]
  },
  {
   "cell_type": "code",
   "execution_count": null,
   "id": "ac2c03b9",
   "metadata": {},
   "outputs": [],
   "source": [
    "df_motifs = load_motifs(MOTIFS_FNAME)\n",
    "regulons = df2regulons(df_motifs)\n",
    "len(regulons)\n",
    "#regulons = derive_regulons(df_motifs)"
   ]
  },
  {
   "cell_type": "code",
   "execution_count": null,
   "id": "b58bcd06",
   "metadata": {},
   "outputs": [],
   "source": [
    "add_scenic_metadata(adata_genes, filtered_auc_mtx, regulons)\n",
    "adata_genes.write_h5ad(ANNDATA_FNAME)"
   ]
  },
  {
   "cell_type": "code",
   "execution_count": null,
   "id": "78383b53",
   "metadata": {
    "scrolled": false
   },
   "outputs": [],
   "source": [
    "adata_genes"
   ]
  },
  {
   "cell_type": "code",
   "execution_count": null,
   "id": "d06e98d8",
   "metadata": {},
   "outputs": [],
   "source": [
    "#data.obsm['_scvi_extra_categorical_covs'] = np.array(regdata.obsm['_scvi_extra_categorical_covs'])\n",
    "#data.obsm['_scvi_extra_continuous_covs'] = np.array(regdata.obsm['_scvi_extra_continuous_covs'])\n",
    "#data.write_loom(\"results/scvi_3207/regulons_3207.loom\", write_obsm_varm=True)"
   ]
  },
  {
   "cell_type": "markdown",
   "id": "e7c67109",
   "metadata": {},
   "source": [
    "## AUCell Clustering based on regulon activity"
   ]
  },
  {
   "cell_type": "code",
   "execution_count": null,
   "id": "dc850f2d",
   "metadata": {},
   "outputs": [],
   "source": [
    "adata_genes = sc.read_h5ad(ANNDATA_FNAME)\n",
    "adata_genes"
   ]
  },
  {
   "cell_type": "code",
   "execution_count": null,
   "id": "0f0d59dc",
   "metadata": {},
   "outputs": [],
   "source": [
    "#embedding_pca_tsne = pd.DataFrame(adata.obsm['X_tsne'], columns=[['X', 'Y']], index=adata.obs_names)\n",
    "umap = pd.DataFrame(adata_genes.obsm['X_umap'], columns=[['X', 'Y']], index=adata.obs_names)"
   ]
  },
  {
   "cell_type": "code",
   "execution_count": null,
   "id": "26ba1182",
   "metadata": {},
   "outputs": [],
   "source": [
    "umap.head()"
   ]
  },
  {
   "cell_type": "code",
   "execution_count": null,
   "id": "dbd8b0f7",
   "metadata": {},
   "outputs": [],
   "source": [
    "pd.DataFrame(adata_genes.obsm['X_aucell'])"
   ]
  },
  {
   "cell_type": "code",
   "execution_count": null,
   "id": "5f0ebe1d",
   "metadata": {},
   "outputs": [],
   "source": [
    "sc.pp.pca(adata_genes)"
   ]
  },
  {
   "cell_type": "code",
   "execution_count": null,
   "id": "9bcbb95c",
   "metadata": {},
   "outputs": [],
   "source": [
    "sc.pp.neighbors(adata_genes, use_rep = 'X_aucell', n_neighbors=50)\n",
    "sc.tl.umap(adata_genes)\n",
    "sc.pl.umap(adata_genes, color='annotations_new')"
   ]
  },
  {
   "cell_type": "code",
   "execution_count": null,
   "id": "dc0f5113",
   "metadata": {},
   "outputs": [],
   "source": [
    "sc.tl.tsne(adata_genes, n_pcs = 50, use_rep = 'X_aucell')"
   ]
  },
  {
   "cell_type": "code",
   "execution_count": null,
   "id": "d0cb33ba",
   "metadata": {},
   "outputs": [],
   "source": [
    "sc.pl.embedding(adata_genes, basis='X_tsne', color='annotations_new', \n",
    "                legend_loc='on data',\n",
    "                frameon=False, legend_fontsize=5, save=f'{DATASET_ID}_tSNE_AUCell.svg')"
   ]
  },
  {
   "cell_type": "code",
   "execution_count": null,
   "id": "fcf534be",
   "metadata": {},
   "outputs": [],
   "source": [
    "sc.pl.embedding(adata_genes, basis='X_tsne', color='annotations_new', \n",
    "                #legend_loc='on data',\n",
    "                frameon=False, #legend_fontsize=5, \n",
    "                save=f'{DATASET_ID}_tSNE_AUCell2.svg'\n",
    "               )"
   ]
  },
  {
   "cell_type": "code",
   "execution_count": null,
   "id": "80e54898",
   "metadata": {},
   "outputs": [],
   "source": [
    "sc.tl.tsne(adata, n_pcs = 50)"
   ]
  },
  {
   "cell_type": "code",
   "execution_count": null,
   "id": "118151cf",
   "metadata": {},
   "outputs": [],
   "source": [
    "sc.pl.umap(adata,color='cell_type',\n",
    "                legend_loc='right margin', \n",
    "                title=\"Cell Type - UMAP\", \n",
    "                show=False, frameon=False)\n",
    "sc.pl.umap(adata_genes,\n",
    "                color='cell_type',\n",
    "                title=\"Cell Type - SCENIC AUCell UMAP\", \n",
    "                legend_loc='right margin', \n",
    "                show=False, frameon=False)\n",
    "savesvg(\"ScenicAUCELLandNormalUMAPs_celltype.svg\", fig)"
   ]
  },
  {
   "cell_type": "code",
   "execution_count": null,
   "id": "653bdc25",
   "metadata": {},
   "outputs": [],
   "source": [
    "#embedding_aucell_tsne = pd.DataFrame(adata_genes.obsm['X_tsne'], columns=[['X', 'Y']], index=adata.obs_names)\n",
    "embedding_aucell_umap = pd.DataFrame(adata_genes.obsm['X_umap'], columns=[['X', 'Y']], index=adata.obs_names)"
   ]
  },
  {
   "cell_type": "code",
   "execution_count": null,
   "id": "238293a5",
   "metadata": {},
   "outputs": [],
   "source": [
    "adata_genes.write_h5ad(ANNDATA_FNAME)"
   ]
  },
  {
   "cell_type": "markdown",
   "id": "93db9a2f",
   "metadata": {},
   "source": [
    "## Z-scoring (Alternative to RSS)\n",
    "To find cell type specific regulators we use a Z score (i.e. the average AUCell score for the cells of a give type are standardized using the overall average AUCell scores and its standard deviation)."
   ]
  },
  {
   "cell_type": "code",
   "execution_count": null,
   "id": "11894ebe",
   "metadata": {},
   "outputs": [],
   "source": [
    "df_obs = adata_genes.obs\n",
    "signature_column_names = list(df_obs.select_dtypes('number').columns)\n",
    "signature_column_names = list(filter(lambda s: s.startswith('Regulon('), signature_column_names))\n",
    "df_scores = df_obs[signature_column_names + ['cell_type']]\n",
    "df_results = ((df_scores.groupby(by='cell_type').mean() - df_obs[signature_column_names].mean())/ df_obs[signature_column_names].std()).stack().reset_index().rename(columns={'level_1': 'regulon', 0:'Z'})\n",
    "df_results['regulon'] = list(map(lambda s: s[8:-1], df_results.regulon))\n",
    "df_results[(df_results.Z >= 3.0)].sort_values('Z', ascending=False).head()"
   ]
  },
  {
   "cell_type": "code",
   "execution_count": null,
   "id": "32b4c084",
   "metadata": {},
   "outputs": [],
   "source": [
    "df_heatmap = pd.pivot_table(data=df_results[df_results.Z >= 1.0].sort_values('Z', ascending=False),\n",
    "                           index='cell_type', columns='regulon', values='Z')\n",
    "#df_heatmap.drop(index='Myocyte', inplace=True) # We leave out Myocyte because many TFs are highly enriched (becuase of small number of cells).\n",
    "fig, ax1 = plt.subplots(1, 1, figsize=(25, 15))\n",
    "sns.heatmap(df_heatmap, ax=ax1, annot=True, fmt=\".1f\", linewidths=.7, cbar=False, square=True, linecolor='gray', \n",
    "            cmap=\"YlGnBu\", annot_kws={\"size\": 6})\n",
    "ax1.set_ylabel('')\n",
    "savesvg('Z-score_regulons_matrixplot_embryonic.svg', fig)"
   ]
  },
  {
   "cell_type": "code",
   "execution_count": null,
   "id": "c08bf44a",
   "metadata": {},
   "outputs": [],
   "source": [
    "df_results.sort_values('Z', ascending=False).groupby(by='cell_type').head(2)"
   ]
  },
  {
   "cell_type": "code",
   "execution_count": null,
   "id": "c0cbff52",
   "metadata": {
    "scrolled": false
   },
   "outputs": [],
   "source": [
    "aucell_adata = sc.AnnData(X=auc_mtx.sort_index())\n",
    "aucell_adata.obs = df_obs\n",
    "names = list(map(op.attrgetter('name'), filter(lambda r: r.score > 3.0, regulons)))\n",
    "sc.pl.stacked_violin(aucell_adata, names, groupby='cell_type',\n",
    "          #save=' - GSE115978 - regulons.svg'\n",
    "                    )"
   ]
  },
  {
   "cell_type": "markdown",
   "id": "f232064b",
   "metadata": {},
   "source": [
    "# Check motifs"
   ]
  },
  {
   "cell_type": "code",
   "execution_count": null,
   "id": "448d0a58",
   "metadata": {},
   "outputs": [],
   "source": [
    "adjacencies = pd.read_csv(ADJACENCIES_FNAME, index_col=False, sep='\\t')\n",
    "adjacencies.head()"
   ]
  },
  {
   "cell_type": "code",
   "execution_count": null,
   "id": "b9e98c3e",
   "metadata": {},
   "outputs": [],
   "source": [
    "#lf = lp.connect(os.path.join(RESULTS_FOLDERNAME, 'devcombined_05AUC.scenic.loom'))\n",
    "lf = lp.connect(LOOM_FNAME_OUT, mode='r+', validate=False ) \n",
    "exprMat = pd.DataFrame( lf[:,:], index=lf.ra.Gene, columns=lf.ca.CellID).T\n",
    "regulons = {}\n",
    "for i,r in pd.DataFrame(lf.ra.Regulons,index=lf.ra.Gene).iteritems():\n",
    "    regulons[i] =  list(r[r==1].index.values)\n",
    "lf.close()"
   ]
  },
  {
   "cell_type": "code",
   "execution_count": null,
   "id": "433be782",
   "metadata": {},
   "outputs": [],
   "source": [
    "regulons['ETV4(+)']"
   ]
  },
  {
   "cell_type": "code",
   "execution_count": null,
   "id": "c0529b9c",
   "metadata": {},
   "outputs": [],
   "source": [
    "from pyscenic.utils import modules_from_adjacencies\n",
    "modules = list(modules_from_adjacencies(adjacencies, exprMat))"
   ]
  },
  {
   "cell_type": "code",
   "execution_count": null,
   "id": "795cb0bd",
   "metadata": {},
   "outputs": [],
   "source": [
    "tf = 'ETV4'\n",
    "tf_mods = [ x for x in modules if x.transcription_factor==tf ]\n",
    "\n",
    "for i,mod in enumerate( tf_mods ):\n",
    "    print( f'{tf} module {str(i)}: {len(mod.genes)} genes' )\n",
    "print( f'{tf} regulon: {len(regulons[tf+\"(+)\"])} genes' )"
   ]
  },
  {
   "cell_type": "code",
   "execution_count": null,
   "id": "72235abd",
   "metadata": {},
   "outputs": [],
   "source": [
    "for i,mod in enumerate( tf_mods ):\n",
    "    with open( os.path.join(RESULTS_FOLDERNAME, tf+'_module_'+str(i)+'.txt'), 'w') as f:\n",
    "        for item in mod.genes:\n",
    "            f.write(\"%s\\n\" % item)\n",
    "            \n",
    "with open( os.path.join(RESULTS_FOLDERNAME, tf+'_regulon.txt'), 'w') as f:\n",
    "    for item in regulons[tf+\"(+)\"]:\n",
    "        f.write(\"%s\\n\" % item)"
   ]
  },
  {
   "cell_type": "markdown",
   "id": "aad76493",
   "metadata": {},
   "source": [
    "## Exporting to SCope\n",
    "https://scope.aertslab.org/#/98d21e95-3a9d-48be-a6e7-32f73f00f30f/*/welcome"
   ]
  },
  {
   "cell_type": "code",
   "execution_count": null,
   "id": "0b854631",
   "metadata": {},
   "outputs": [],
   "source": [
    "adata=sc.read_h5ad(os.path.join(SCVI_FOLDERNAME, '{}.h5ad'.format('combined_scVIintegrated_zinb')))\n",
    "adata"
   ]
  },
  {
   "cell_type": "code",
   "execution_count": null,
   "id": "535d59de",
   "metadata": {},
   "outputs": [],
   "source": [
    "import json\n",
    "import zlib\n",
    "import base64\n",
    "import umap\n",
    "from MulticoreTSNE import MulticoreTSNE as TSNE\n",
    "\n",
    "# scenic output\n",
    "lf = lp.connect(LOOM_FNAME, mode='r+', validate=False )\n",
    "meta = json.loads(zlib.decompress(base64.b64decode( lf.attrs.MetaData )))\n",
    "auc_mtx = pd.DataFrame( lf.ca.RegulonsAUC, index=lf.ca.CellID)\n",
    "regulons = lf.ra.Regulons"
   ]
  },
  {
   "cell_type": "code",
   "execution_count": null,
   "id": "ee168b4b",
   "metadata": {},
   "outputs": [],
   "source": [
    "## If you need to run UMAP or TSNE again:\n",
    "## UMAP\n",
    "# runUmap = umap.UMAP(n_neighbors=10, min_dist=0.4, metric='correlation').fit_transform\n",
    "# dr_umap = runUmap( auc_mtx )\n",
    "# dr_umap = pd.DataFrame(dr_umap, columns=['X', 'Y'], index=auc_mtx.index) #.to_csv( \"results/scvi_3207/scenic_umap.txt\", sep='\\t')\n",
    "\n",
    "## tSNE\n",
    "# tsne = TSNE( n_jobs=20 )\n",
    "# dr_tsne = tsne.fit_transform( auc_mtx )\n",
    "# dr_tsne = pd.DataFrame(dr_tsne, columns=['X', 'Y'], index=auc_mtx.index) #.to_csv( \"results/scvi_3207/scenic_tsne.txt\", sep='\\t')\n",
    "\n",
    "# #dr_umap = pd.read_csv( 'scenic_umap.txt', sep='\\t', header=0, index_col=0 )\n",
    "# #dr_tsne = pd.read_csv( 'scenic_tsne.txt', sep='\\t', header=0, index_col=0 )"
   ]
  },
  {
   "cell_type": "code",
   "execution_count": null,
   "id": "c73a22d4",
   "metadata": {},
   "outputs": [],
   "source": [
    "# Fix regulon objects to display properly\n",
    "auc_mtx.columns = auc_mtx.columns.str.replace('\\(','_(')\n",
    "regulons.dtype.names = tuple( [ x.replace(\"(\",\"_(\") for x in regulons.dtype.names ] )\n",
    "# regulon thresholds\n",
    "rt = meta['regulonThresholds']\n",
    "for i,x in enumerate(rt):\n",
    "    tmp = x.get('regulon').replace(\"(\",\"_(\")\n",
    "    x.update( {'regulon': tmp} )"
   ]
  },
  {
   "cell_type": "code",
   "execution_count": null,
   "id": "390d9e9d",
   "metadata": {},
   "outputs": [],
   "source": [
    "adata.obsm"
   ]
  },
  {
   "cell_type": "code",
   "execution_count": null,
   "id": "2b8e925d",
   "metadata": {},
   "outputs": [],
   "source": [
    "# Concatenate embeddings (tSNE, UMAP, etc.)\n",
    "#tsneDF = pd.DataFrame(adata.obsm['X_tsne'], columns=['_X', '_Y'])\n",
    "\n",
    "Embeddings_X = pd.DataFrame( index=lf.ca.CellID )\n",
    "Embeddings_X = pd.concat( [\n",
    "        #pd.DataFrame(adata.obsm['X_draw_graph_fr'],index=adata.obs.index)[0] , \n",
    "        #pd.DataFrame(adata.obsm['X_diffmap'],index=adata.obs.index)[0] , \n",
    "        #pd.DataFrame(adata.obsm['X_pca_harmony'],index=adata.obs.index)[0] ,\n",
    "        pd.DataFrame(adata.obsm['X_scVI'],index=adata.obs.index)[0] ,\n",
    "        pd.DataFrame(adata.obsm['latent_gene_encoding'],index=adata.obs.index)[0] ,\n",
    "        pd.DataFrame(adata.obsm['X_umap'],index=adata.obs.index)[0] ,\n",
    "        pd.DataFrame(adata.obsm['X_pca'],index=adata.obs.index)[0] ,\n",
    "        #embedding_aucell_tsne['X'] ,\n",
    "        embedding_aucell_umap['X']\n",
    "    ], sort=False, axis=1, join='outer' )\n",
    "Embeddings_X.columns = ['1','2','3','4', '5']"
   ]
  },
  {
   "cell_type": "code",
   "execution_count": null,
   "id": "8142015a",
   "metadata": {},
   "outputs": [],
   "source": [
    "Embeddings_Y = pd.DataFrame( index=lf.ca.CellID )\n",
    "Embeddings_Y = pd.concat( [\n",
    "#         pd.DataFrame(adata.obsm['X_draw_graph_fr'],index=adata.obs.index)[1] , \n",
    "#         pd.DataFrame(adata.obsm['X_diffmap'],index=adata.obs.index)[1] , \n",
    "#         pd.DataFrame(adata.obsm['X_pca_harmony'],index=adata.obs.index)[1] ,\n",
    "        pd.DataFrame(adata.obsm['X_scVI'],index=adata.obs.index)[1] ,\n",
    "        pd.DataFrame(adata.obsm['latent_gene_encoding'],index=adata.obs.index)[1] ,\n",
    "        pd.DataFrame(adata.obsm['X_umap'],index=adata.obs.index)[1] ,\n",
    "        pd.DataFrame(adata.obsm['X_pca'],index=adata.obs.index)[1] ,\n",
    "        #embedding_aucell_tsne['Y'] ,\n",
    "        embedding_aucell_umap['Y']\n",
    "    ], sort=False, axis=1, join='outer' )\n",
    "Embeddings_Y.columns = ['1','2','3','4', '5']"
   ]
  },
  {
   "cell_type": "code",
   "execution_count": null,
   "id": "4bfb8fa5",
   "metadata": {},
   "outputs": [],
   "source": [
    "# Metadata\n",
    "### metadata\n",
    "metaJson = {}\n",
    "\n",
    "metaJson['embeddings'] = [\n",
    "#     {\n",
    "#         \"id\": -1,\n",
    "#         \"name\": f\"Scanpy t-SNE (highly variable genes)\"\n",
    "#     },\n",
    "#     {\n",
    "#         \"id\": 1,\n",
    "#         \"name\": f\"Scanpy Draw Graph (Diffmap base)\"\n",
    "#     },\n",
    "#     {\n",
    "#         \"id\": 2,\n",
    "#         \"name\": f\"Scanpy Diffusion Map\"\n",
    "#     },\n",
    "#     {\n",
    "#         \"id\": 3,\n",
    "#         \"name\": f\"Scanpy PCA Harmony\"\n",
    "#     },\n",
    "    {\n",
    "        \"id\": 1,\n",
    "        \"name\": f\"scVI  (highly variable genes)\"\n",
    "    },\n",
    "    {\n",
    "        \"id\": 2,\n",
    "        \"name\": f\"scVI Latent Gene Encoding\"\n",
    "    },\n",
    "    {\n",
    "        \"id\": 3,\n",
    "        \"name\": f\"Scanpy UMAP  (highly variable genes)\"\n",
    "    },\n",
    "    {\n",
    "        \"id\": 4,\n",
    "        \"name\": \"Scanpy PC1/PC2\"\n",
    "    },\n",
    "#     {\n",
    "#         \"id\": 6,\n",
    "#         \"name\": \"SCENIC AUC t-SNE\"\n",
    "#     },\n",
    "    {\n",
    "        \"id\": 5,\n",
    "        \"name\": \"SCENIC AUC UMAP\"\n",
    "    },\n",
    "]\n",
    "\n",
    "metaJson[\"clusterings\"] = [{\n",
    "            \"id\": 0,\n",
    "            \"group\": \"Scanpy\",\n",
    "            \"name\": \"Scanpy louvain default resolution\",\n",
    "            \"clusters\": [],\n",
    "        }]\n",
    "\n",
    "metaJson[\"metrics\"] = [\n",
    "        {\n",
    "            \"name\": \"nUMI\"\n",
    "        }, {\n",
    "            \"name\": \"nGene\"\n",
    "        }, {\n",
    "            \"name\": \"Percent_mito\"\n",
    "        }\n",
    "]\n",
    "\n",
    "metaJson[\"annotations\"] = [\n",
    "#     {\n",
    "#         \"name\": \"Louvain_0.8\",\n",
    "#         \"values\": list(set( adata.obs['louvain_0.8'].astype(np.str) ))\n",
    "#     },\n",
    "#     {\n",
    "#         \"name\": \"Leiden_0.6\",\n",
    "#         \"values\": list(set( adata.obs['leiden_0.6'].astype(np.str) ))\n",
    "#     },\n",
    "    {\n",
    "        \"name\": \"Cell Type\",\n",
    "        \"values\": list(set( adata.obs['cell_type'].astype(np.str) ))\n",
    "    },\n",
    "    {\n",
    "        \"name\": \"Phase\",\n",
    "        \"values\": list(set(adata.obs['phase'].values))\n",
    "    },\n",
    "    {\n",
    "        \"name\": \"Sex\",\n",
    "        \"values\": list(set(adata.obs['sex'].values))\n",
    "    },\n",
    "    {\n",
    "        \"name\": \"Libbatch\",\n",
    "        \"values\": list(set(adata.obs['libbatch'].values))\n",
    "    },\n",
    "    {\n",
    "        \"name\": \"Samples\",\n",
    "        \"values\": list(set(adata.obs['ident'].values))\n",
    "    }\n",
    "]\n",
    "\n",
    "# SCENIC regulon thresholds:\n",
    "metaJson[\"regulonThresholds\"] = rt\n",
    "\n",
    "for i in range(max(set([int(x) for x in adata.obs['louvain_0.8']])) + 1):\n",
    "    clustDict = {}\n",
    "    clustDict['id'] = i\n",
    "    clustDict['description'] = f'Unannotated Cluster {i + 1}'\n",
    "    metaJson['clusterings'][0]['clusters'].append(clustDict)\n",
    "    \n",
    "clusterings = pd.DataFrame()\n",
    "clusterings[\"0\"] = adata.obs['louvain_0.8'].values.astype(np.int64)"
   ]
  },
  {
   "cell_type": "code",
   "execution_count": null,
   "id": "192c7a5b",
   "metadata": {},
   "outputs": [],
   "source": [
    "def dfToNamedMatrix(df):\n",
    "    arr_ip = [tuple(i) for i in df.values]\n",
    "    dtyp = np.dtype(list(zip(df.dtypes.index, df.dtypes)))\n",
    "    arr = np.array(arr_ip, dtype=dtyp)\n",
    "    return arr"
   ]
  },
  {
   "cell_type": "code",
   "execution_count": null,
   "id": "c0fd6e57",
   "metadata": {},
   "outputs": [],
   "source": [
    "col_attrs = {\n",
    "    \"CellID\": np.array(adata.obs.index),\n",
    "    \"nUMI\": np.array(adata.obs['n_counts'].values),\n",
    "    \"nGene\": np.array(adata.obs['n_genes'].values),\n",
    "    \"Louvain_0.8\": np.array( adata.obs['louvain_0.8'].values ),\n",
    "    \"Leiden_0.6\": np.array( adata.obs['leiden_0.6'].values ),\n",
    "    \"CellType\": np.array(adata.obs['CellType'].values),\n",
    "    \"Sex\": np.array(adata.obs['sex'].values),\n",
    "    \"Sample\": np.array(adata.obs['sample'].values),\n",
    "    \"Phase\": np.array(adata.obs['phase'].values),\n",
    "    \"Libbatch\": np.array(adata.obs['libbatch'].values),\n",
    "    \"Percent_mito\": np.array(adata.obs['pct_counts_mt'].values),\n",
    "    \"Embedding\": dfToNamedMatrix(tsneDF),\n",
    "    \"Embeddings_X\": dfToNamedMatrix(Embeddings_X),\n",
    "    \"Embeddings_Y\": dfToNamedMatrix(Embeddings_Y),\n",
    "    \"RegulonsAUC\": dfToNamedMatrix(auc_mtx),\n",
    "    \"Clusterings\": dfToNamedMatrix(clusterings),\n",
    "    \"ClusterID\": np.array(adata.obs['CellType'].values)\n",
    "}\n",
    "\n",
    "row_attrs = {\n",
    "    \"Gene\": lf.ra.Gene,\n",
    "    \"Regulons\": regulons,\n",
    "}\n",
    "\n",
    "attrs = {\n",
    "    \"title\": \"sampleTitle\",\n",
    "    \"MetaData\": json.dumps(metaJson),\n",
    "    \"Genome\": 'hg38',\n",
    "    \"SCopeTreeL1\": \"\",\n",
    "    \"SCopeTreeL2\": \"\",\n",
    "    \"SCopeTreeL3\": \"\"\n",
    "}\n",
    "\n",
    "# compress the metadata field:\n",
    "attrs['MetaData'] = base64.b64encode(zlib.compress(json.dumps(metaJson).encode('ascii'))).decode('ascii')"
   ]
  },
  {
   "cell_type": "code",
   "execution_count": null,
   "id": "79c84cea",
   "metadata": {},
   "outputs": [],
   "source": [
    "lp.create(\n",
    "    filename = 'cellranger/results/scope_dev20_cr14812.loom' ,\n",
    "    layers=lf[:,:],\n",
    "    row_attrs=row_attrs, \n",
    "    col_attrs=col_attrs, \n",
    "    file_attrs=attrs\n",
    ")\n",
    "lf.close() # close original pyscenic loom file"
   ]
  }
 ],
 "metadata": {
  "kernelspec": {
   "display_name": "Python [conda env:pyscenic_env] *",
   "language": "python",
   "name": "conda-env-pyscenic_env-py"
  },
  "language_info": {
   "codemirror_mode": {
    "name": "ipython",
    "version": 3
   },
   "file_extension": ".py",
   "mimetype": "text/x-python",
   "name": "python",
   "nbconvert_exporter": "python",
   "pygments_lexer": "ipython3",
   "version": "3.7.12"
  }
 },
 "nbformat": 4,
 "nbformat_minor": 5
}
